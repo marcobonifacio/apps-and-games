{
 "cells": [
  {
   "cell_type": "markdown",
   "id": "7416b596-aaad-4523-bb26-c97ee53abaa2",
   "metadata": {},
   "source": [
    "# Bonds #\n",
    "## 24. Treasury Futures Contract ##"
   ]
  },
  {
   "cell_type": "code",
   "execution_count": 1,
   "id": "5254f921-5c2f-4d45-9695-c7564dd9462f",
   "metadata": {
    "tags": []
   },
   "outputs": [],
   "source": [
    "import QuantLib as ql\n",
    "import math\n",
    "import pandas as pd"
   ]
  },
  {
   "cell_type": "code",
   "execution_count": 4,
   "id": "d1d31646-e2ba-489f-b1b0-f85e74a5d306",
   "metadata": {
    "tags": []
   },
   "outputs": [],
   "source": [
    "calc_date = ql.Date(30,11,2015)\n",
    "ql.Settings.instance().evaluationDate = calc_date\n",
    "day_count = ql.ActualActual(ql.ActualActual.Bond)\n",
    "calendar = ql.UnitedStates(ql.UnitedStates.GovernmentBond)\n",
    "bussiness_convention = ql.Following\n",
    "end_of_month = False\n",
    "settlement_days = 0\n",
    "face_amount = 100\n",
    "coupon_frequency = ql.Period(ql.Semiannual)"
   ]
  },
  {
   "cell_type": "markdown",
   "id": "ac88ff0d-62f4-4d98-9412-d4562573f296",
   "metadata": {},
   "source": [
    "### Build Yield Curve ###"
   ]
  },
  {
   "cell_type": "code",
   "execution_count": 5,
   "id": "1797ea87-2a18-4e07-b9f3-a0f25cd58c86",
   "metadata": {
    "tags": []
   },
   "outputs": [],
   "source": [
    "prices = [99.9935,99.9576,99.8119,99.5472,99.8867,\n",
    "          100.0664,99.8711,100.0547,100.3047,100.2266]\n",
    "coupon_rates = [0.0000, 0.0000, 0.0000, 0.0000, 0.00875,\n",
    "                0.0125, 0.01625, 0.02, 0.0225, 0.03]\n",
    "maturity_dates = [ql.Date(24,12,2015), ql.Date(25,2,2016),\n",
    "                  ql.Date(26,5,2016), ql.Date(10,11,2016),\n",
    "                  ql.Date(30,11,2017), ql.Date(15,11,2018),\n",
    "                  ql.Date(30,11,2020), ql.Date(30,11,2022),\n",
    "                  ql.Date(15,11,2025), ql.Date(15,11,2045)]\n",
    "issue_dates = [ql.Date(25,6,2015), ql.Date(27,8,2015),\n",
    "               ql.Date(28,5,2015), ql.Date(12,11,2015),\n",
    "               ql.Date(30,11,2015), ql.Date(16,11,2015),\n",
    "               ql.Date(30,11,2015), ql.Date(30,11,2015),\n",
    "               ql.Date(16,11,2015), ql.Date(16,11,2015)]\n",
    "coupon_frequency = ql.Period(6, ql.Months)\n",
    "bond_helpers = []\n",
    "for coupon, issue_date, maturity_date, price in zip(coupon_rates, issue_dates, maturity_dates, prices):\n",
    "    schedule = ql.Schedule(calc_date, maturity_date, coupon_frequency, calendar, bussiness_convention, \n",
    "                           bussiness_convention, ql.DateGeneration.Backward, False)\n",
    "    helper = ql.FixedRateBondHelper(ql.QuoteHandle(ql.SimpleQuote(price)),\n",
    "                                    settlement_days, face_amount, schedule, [coupon], day_count, bussiness_convention)\n",
    "    bond_helpers.append(helper)"
   ]
  },
  {
   "cell_type": "code",
   "execution_count": 6,
   "id": "114b2df1-33c9-41a9-b519-4e232e91e886",
   "metadata": {
    "tags": []
   },
   "outputs": [
    {
     "data": {
      "text/html": [
       "<div>\n",
       "<style scoped>\n",
       "    .dataframe tbody tr th:only-of-type {\n",
       "        vertical-align: middle;\n",
       "    }\n",
       "\n",
       "    .dataframe tbody tr th {\n",
       "        vertical-align: top;\n",
       "    }\n",
       "\n",
       "    .dataframe thead th {\n",
       "        text-align: right;\n",
       "    }\n",
       "</style>\n",
       "<table border=\"1\" class=\"dataframe\">\n",
       "  <thead>\n",
       "    <tr style=\"text-align: right;\">\n",
       "      <th></th>\n",
       "      <th>Dates</th>\n",
       "      <th>Discount Factors</th>\n",
       "    </tr>\n",
       "  </thead>\n",
       "  <tbody>\n",
       "    <tr>\n",
       "      <th></th>\n",
       "      <td>December 24th, 2015</td>\n",
       "      <td>0.999935</td>\n",
       "    </tr>\n",
       "    <tr>\n",
       "      <th></th>\n",
       "      <td>February 25th, 2016</td>\n",
       "      <td>0.999576</td>\n",
       "    </tr>\n",
       "    <tr>\n",
       "      <th></th>\n",
       "      <td>May 26th, 2016</td>\n",
       "      <td>0.998119</td>\n",
       "    </tr>\n",
       "    <tr>\n",
       "      <th></th>\n",
       "      <td>November 10th, 2016</td>\n",
       "      <td>0.995472</td>\n",
       "    </tr>\n",
       "    <tr>\n",
       "      <th></th>\n",
       "      <td>November 30th, 2017</td>\n",
       "      <td>0.981527</td>\n",
       "    </tr>\n",
       "    <tr>\n",
       "      <th></th>\n",
       "      <td>November 15th, 2018</td>\n",
       "      <td>0.964247</td>\n",
       "    </tr>\n",
       "    <tr>\n",
       "      <th></th>\n",
       "      <td>November 30th, 2020</td>\n",
       "      <td>0.920292</td>\n",
       "    </tr>\n",
       "    <tr>\n",
       "      <th></th>\n",
       "      <td>November 30th, 2022</td>\n",
       "      <td>0.868516</td>\n",
       "    </tr>\n",
       "    <tr>\n",
       "      <th></th>\n",
       "      <td>November 15th, 2025</td>\n",
       "      <td>0.799447</td>\n",
       "    </tr>\n",
       "    <tr>\n",
       "      <th></th>\n",
       "      <td>November 15th, 2045</td>\n",
       "      <td>0.384651</td>\n",
       "    </tr>\n",
       "  </tbody>\n",
       "</table>\n",
       "</div>"
      ],
      "text/plain": [
       "                Dates  Discount Factors\n",
       "  December 24th, 2015          0.999935\n",
       "  February 25th, 2016          0.999576\n",
       "       May 26th, 2016          0.998119\n",
       "  November 10th, 2016          0.995472\n",
       "  November 30th, 2017          0.981527\n",
       "  November 15th, 2018          0.964247\n",
       "  November 30th, 2020          0.920292\n",
       "  November 30th, 2022          0.868516\n",
       "  November 15th, 2025          0.799447\n",
       "  November 15th, 2045          0.384651"
      ]
     },
     "execution_count": 6,
     "metadata": {},
     "output_type": "execute_result"
    }
   ],
   "source": [
    "yield_curve = ql.PiecewiseCubicZero(calc_date, bond_helpers, day_count)\n",
    "yield_curve_handle = ql.YieldTermStructureHandle(yield_curve)\n",
    "discount_factors = [yield_curve.discount(d) for d in maturity_dates]\n",
    "pd.DataFrame(zip(maturity_dates,discount_factors),\n",
    "             columns= [\"Dates\", \"Discount Factors\"],\n",
    "             index=['']*len(maturity_dates))"
   ]
  },
  {
   "cell_type": "markdown",
   "id": "2b3f0821-a229-4de0-87fc-7b0fabc528e9",
   "metadata": {},
   "source": [
    "### Treasury Futures ###"
   ]
  },
  {
   "cell_type": "code",
   "execution_count": 8,
   "id": "66d22bde-f538-4a45-924b-fee418ee4ade",
   "metadata": {
    "tags": []
   },
   "outputs": [],
   "source": [
    "def create_tsy_security(bond_issue_date, bond_maturity_date, coupon_rate,\n",
    "                        coupon_frequency=ql.Period(6, ql.Months),\n",
    "                        day_count=ql.ActualActual(ql.ActualActual.Bond),\n",
    "                        calendar=ql.UnitedStates(ql.UnitedStates.GovernmentBond)):\n",
    "    face_value = 100.\n",
    "    settlement_days = 0\n",
    "    schedule = ql.Schedule(bond_issue_date, bond_maturity_date, coupon_frequency,\n",
    "                           calendar, ql.ModifiedFollowing, ql.ModifiedFollowing,\n",
    "                           ql.DateGeneration.Forward, False)\n",
    "    security = ql.FixedRateBond(settlement_days, face_value, schedule, [coupon_rate], day_count)\n",
    "    return security"
   ]
  },
  {
   "cell_type": "code",
   "execution_count": 9,
   "id": "6cd98c51-f226-4e4e-8efc-44ffd22cbdef",
   "metadata": {
    "tags": []
   },
   "outputs": [],
   "source": [
    "bond_issue_date = calc_date\n",
    "delivery_date = ql.Date(1,12,2015)\n",
    "bond_maturity_date = bond_issue_date + ql.Period(10, ql.Years)\n",
    "day_count = ql.ActualActual(ql.ActualActual.Bond)\n",
    "coupon_frequency = ql.Period(6, ql.Months)\n",
    "coupon_rate = 6/100.\n",
    "deliverable = create_tsy_security(bond_issue_date, bond_maturity_date,\n",
    "                                  coupon_rate, coupon_frequency, day_count,\n",
    "                                  calendar)\n",
    "bond_engine = ql.DiscountingBondEngine(yield_curve_handle)\n",
    "deliverable.setPricingEngine(bond_engine)"
   ]
  },
  {
   "cell_type": "code",
   "execution_count": 10,
   "id": "9bc709e2-cf8c-4700-8aaa-b21e6fc9ba1f",
   "metadata": {
    "tags": []
   },
   "outputs": [
    {
     "name": "stdout",
     "output_type": "stream",
     "text": [
      "Z-Spread = 72bp\n"
     ]
    }
   ],
   "source": [
    "futures_price = 127.0625\n",
    "clean_price = futures_price*yield_curve.discount(delivery_date)\n",
    "zspread = ql.BondFunctions.zSpread(deliverable, clean_price, yield_curve, day_count,\n",
    "                                   ql.Compounded, ql.Semiannual, calc_date)*10000\n",
    "print(\"Z-Spread =%3.0fbp\" % (zspread))"
   ]
  },
  {
   "cell_type": "markdown",
   "id": "1bf539b2-6825-4f16-a324-fddd226f79bb",
   "metadata": {},
   "source": [
    "### Cheapest To Deliver ###"
   ]
  },
  {
   "cell_type": "code",
   "execution_count": 12,
   "id": "3c9c79c3-766f-40e3-8da9-928af98dd2e1",
   "metadata": {
    "tags": []
   },
   "outputs": [
    {
     "name": "stdout",
     "output_type": "stream",
     "text": [
      "Minimum Basis                  = 0.454380\n",
      "Conversion Factor              = 0.791800\n",
      "Coupon                         = 2.125000\n",
      "Maturity                       = June 30th, 2022\n",
      "Price                          = 101.062500\n"
     ]
    }
   ],
   "source": [
    "day_count = ql.ActualActual(ql.ActualActual.Bond)\n",
    "basket = [(1.625, ql.Date(15,8,2022), 97.921875),\n",
    "          (1.625, ql.Date(15,11,2022), 97.671875),\n",
    "          (1.75, ql.Date(30,9,2022), 98.546875),\n",
    "          (1.75, ql.Date(15,5,2023), 97.984375),\n",
    "          (1.875, ql.Date(31,8,2022), 99.375),\n",
    "          (1.875, ql.Date(31,10,2022),99.296875),\n",
    "          (2.0, ql.Date(31,7,2022), 100.265625),\n",
    "          (2.0, ql.Date(15,2,2023), 100.0625),\n",
    "          (2.0, ql.Date(15,2,2025), 98.296875),\n",
    "          (2.0, ql.Date(15,8,2025), 98.09375),\n",
    "          (2.125, ql.Date(30,6,2022), 101.06250),\n",
    "          (2.125, ql.Date(15,5,2025),99.25),\n",
    "          (2.25, ql.Date(15,11,2024),100.546875),\n",
    "          (2.25, ql.Date(15,11,2025),100.375),\n",
    "          (2.375, ql.Date(15,8,2024),101.671875),\n",
    "          (2.5, ql.Date(15,8,2023),103.25),\n",
    "          (2.5, ql.Date(15,5,2024),102.796875),\n",
    "          (2.75, ql.Date(15,11,2023),105.0625),\n",
    "          (2.75, ql.Date(15,2,2024),104.875)]\n",
    "securities = []\n",
    "min_basis = 100\n",
    "min_basis_index = -1\n",
    "for i, b in enumerate(basket):\n",
    "    coupon, maturity, price = b\n",
    "    issue = maturity - ql.Period(10, ql.Years)\n",
    "    s = create_tsy_security(issue,maturity, coupon/100.)\n",
    "    bond_engine = ql.DiscountingBondEngine(yield_curve_handle)\n",
    "    s.setPricingEngine(bond_engine)\n",
    "    cf = ql.BondFunctions.cleanPrice(s, 0.06, day_count, ql.Compounded, ql.Semiannual, calc_date)/100.\n",
    "    adjusted_futures_price = futures_price * cf\n",
    "    basis = price-adjusted_futures_price\n",
    "    if basis< min_basis:\n",
    "        min_basis = basis\n",
    "        min_basis_index = i\n",
    "    securities.append((s,cf))\n",
    "ctd_info = basket[min_basis_index]\n",
    "ctd_bond,ctd_cf = securities[min_basis_index]\n",
    "ctd_price = ctd_info[2]\n",
    "print(\"%-30s = %lf\" % (\"Minimum Basis\", min_basis))\n",
    "print(\"%-30s = %lf\" % (\"Conversion Factor\", ctd_cf))\n",
    "print(\"%-30s = %lf\" % (\"Coupon\", ctd_info[0]))\n",
    "print(\"%-30s = %s\" % (\"Maturity\", ctd_info[1]))\n",
    "print(\"%-30s = %lf\" % (\"Price\", ctd_info[2]))"
   ]
  },
  {
   "cell_type": "code",
   "execution_count": 13,
   "id": "0a3046ef-4ef4-43bb-8192-1665838c884c",
   "metadata": {
    "tags": []
   },
   "outputs": [],
   "source": [
    "futures_maturity_date = ql.Date(21,12,2015)\n",
    "futures = ql.FixedRateBondForward(calc_date, futures_maturity_date,\n",
    "                                  ql.Position.Long, 0.0, settlement_days,\n",
    "                                  day_count, calendar, bussiness_convention,\n",
    "                                  ctd_bond, yield_curve_handle, yield_curve_handle)"
   ]
  },
  {
   "cell_type": "code",
   "execution_count": 16,
   "id": "423ae594-e88b-4f18-9ab1-83e40d1ef7db",
   "metadata": {
    "tags": []
   },
   "outputs": [
    {
     "name": "stdout",
     "output_type": "stream",
     "text": [
      "Model Futures Price            = 127.600384\n",
      "Market Futures Price           = 127.062500\n",
      "Model Adjustment               = 0.537884\n",
      "Implied Yield                  = -5.264%\n",
      "Forward Z-Spread               = 1.4bps\n"
     ]
    }
   ],
   "source": [
    "model_futures_price = futures.cleanForwardPrice()/ctd_cf\n",
    "implied_yield = futures.impliedYield(ctd_price/ctd_cf, futures_price,\n",
    "                                     calc_date, ql.Compounded, day_count).rate()\n",
    "z_spread = ql.BondFunctions.zSpread(ctd_bond, ctd_price, yield_curve,\n",
    "                                    day_count, ql.Compounded, ql.Semiannual, calc_date)\n",
    "print(\"%-30s = %lf\" % (\"Model Futures Price\", model_futures_price))\n",
    "print(\"%-30s = %lf\" % (\"Market Futures Price\", futures_price))\n",
    "print(\"%-30s = %lf\" % (\"Model Adjustment\", model_futures_price-futures_price))\n",
    "print(\"%-30s = %2.3f%%\" % (\"Implied Yield\", implied_yield*100))\n",
    "print(\"%-30s = %2.1fbps\" % (\"Forward Z-Spread\", z_spread*10000))"
   ]
  },
  {
   "cell_type": "code",
   "execution_count": null,
   "id": "774014f0-c11f-4d37-b7bf-c923b9da6d14",
   "metadata": {},
   "outputs": [],
   "source": []
  }
 ],
 "metadata": {
  "kernelspec": {
   "display_name": "Python 3 (ipykernel)",
   "language": "python",
   "name": "python3"
  },
  "language_info": {
   "codemirror_mode": {
    "name": "ipython",
    "version": 3
   },
   "file_extension": ".py",
   "mimetype": "text/x-python",
   "name": "python",
   "nbconvert_exporter": "python",
   "pygments_lexer": "ipython3",
   "version": "3.10.8"
  },
  "widgets": {
   "application/vnd.jupyter.widget-state+json": {
    "state": {},
    "version_major": 2,
    "version_minor": 0
   }
  }
 },
 "nbformat": 4,
 "nbformat_minor": 5
}
