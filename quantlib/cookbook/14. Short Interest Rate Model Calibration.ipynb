{
 "cells": [
  {
   "cell_type": "markdown",
   "id": "171e1378-564d-435a-95f5-d2c433504a47",
   "metadata": {},
   "source": [
    "# Interest-rate models #\n",
    "## 14. Short Interest Rate Model Calibration ##"
   ]
  },
  {
   "cell_type": "code",
   "execution_count": 1,
   "id": "36faacea-950d-4e21-b0d1-1b25c2ed12a7",
   "metadata": {
    "tags": []
   },
   "outputs": [],
   "source": [
    "import QuantLib as ql\n",
    "from collections import namedtuple\n",
    "import math\n",
    "import pandas as pd"
   ]
  },
  {
   "cell_type": "markdown",
   "id": "5f67c5df-8d5e-4121-a688-23663586c860",
   "metadata": {},
   "source": [
    "### Hull-White 1 Factor Model ###"
   ]
  },
  {
   "cell_type": "code",
   "execution_count": 2,
   "id": "568db538-0198-42f8-858a-aa09294e95f5",
   "metadata": {
    "tags": []
   },
   "outputs": [],
   "source": [
    "today = ql.Date(15, ql.February, 2002);\n",
    "settlement= ql.Date(19, ql.February, 2002);\n",
    "ql.Settings.instance().evaluationDate = today;\n",
    "term_structure = ql.YieldTermStructureHandle(ql.FlatForward(settlement, 0.04875825, ql.Actual365Fixed()))\n",
    "index = ql.Euribor1Y(term_structure)"
   ]
  },
  {
   "cell_type": "code",
   "execution_count": 3,
   "id": "7ef8a2b5-f48b-41f8-a661-70f4e8789776",
   "metadata": {
    "tags": []
   },
   "outputs": [],
   "source": [
    "CalibrationData = namedtuple(\"CalibrationData\", \"start, length, volatility\")\n",
    "data = [CalibrationData(1, 5, 0.1148),\n",
    "        CalibrationData(2, 4, 0.1108),\n",
    "        CalibrationData(3, 3, 0.1070),\n",
    "        CalibrationData(4, 2, 0.1021),\n",
    "        CalibrationData(5, 1, 0.1000 )]"
   ]
  },
  {
   "cell_type": "code",
   "execution_count": 4,
   "id": "db53aaad-5677-4d80-abe5-e9811b261b3b",
   "metadata": {
    "tags": []
   },
   "outputs": [],
   "source": [
    "def create_swaption_helpers(data, index, term_structure, engine):\n",
    "    swaptions = []\n",
    "    fixed_leg_tenor = ql.Period(1, ql.Years)\n",
    "    fixed_leg_daycounter = ql.Actual360()\n",
    "    floating_leg_daycounter = ql.Actual360()\n",
    "    for d in data:\n",
    "        vol_handle = ql.QuoteHandle(ql.SimpleQuote(d.volatility))\n",
    "        helper = ql.SwaptionHelper(ql.Period(d.start, ql.Years), \n",
    "                                   ql.Period(d.length, ql.Years),\n",
    "                                   vol_handle, index, fixed_leg_tenor,\n",
    "                                   fixed_leg_daycounter, floating_leg_daycounter,\n",
    "                                   term_structure)\n",
    "        helper.setPricingEngine(engine)\n",
    "        swaptions.append(helper)\n",
    "    return swaptions"
   ]
  },
  {
   "cell_type": "code",
   "execution_count": 5,
   "id": "7fb0be90-a11f-4791-ae9c-1173a49aab32",
   "metadata": {
    "tags": []
   },
   "outputs": [],
   "source": [
    "def calibration_report(swaptions, data):\n",
    "    columns = [\"Model Price\", \"Market Price\", \"Implied Vol\", \"Market Vol\", \"Rel Error Price\", \"Rel Error Vols\"]\n",
    "    report_data = []\n",
    "    cum_err = 0.0\n",
    "    cum_err2 = 0.0\n",
    "    for i, s in enumerate(swaptions):\n",
    "        model_price = s.modelValue()\n",
    "        market_vol = data[i].volatility\n",
    "        black_price = s.blackPrice(market_vol)\n",
    "        rel_error = model_price / black_price - 1.0\n",
    "        implied_vol = s.impliedVolatility(model_price, 1e-5, 50, 0.0, 0.50)\n",
    "        rel_error2 = implied_vol / market_vol - 1.0\n",
    "        cum_err += rel_error * rel_error\n",
    "        cum_err2 += rel_error2 * rel_error2\n",
    "        report_data.append((model_price, black_price, implied_vol, market_vol, rel_error, rel_error2))\n",
    "    print(\"Cumulative Error Price: %7.5f\" % math.sqrt(cum_err))\n",
    "    print(\"Cumulative Error Vols : %7.5f\" % math.sqrt(cum_err2))\n",
    "    return pd.DataFrame(report_data, columns=columns, index=[''] * len(report_data))"
   ]
  },
  {
   "cell_type": "markdown",
   "id": "2d75b472-c693-4ada-83e4-406873e0422e",
   "metadata": {},
   "source": [
    "### Calibration Reversion and Volatility ###"
   ]
  },
  {
   "cell_type": "code",
   "execution_count": 6,
   "id": "65d3e929-01ce-4fc3-85a9-864d6f34b4dd",
   "metadata": {
    "tags": []
   },
   "outputs": [
    {
     "name": "stdout",
     "output_type": "stream",
     "text": [
      "a = 0.04642, sigma = 0.00580\n"
     ]
    }
   ],
   "source": [
    "model = ql.HullWhite(term_structure);\n",
    "engine = ql.JamshidianSwaptionEngine(model)\n",
    "swaptions = create_swaption_helpers(data, index, term_structure, engine)\n",
    "optimization_method = ql.LevenbergMarquardt(1.0e-8, 1.0e-8, 1.0e-8)\n",
    "end_criteria = ql.EndCriteria(10000, 100, 1e-6, 1e-8, 1e-8)\n",
    "model.calibrate(swaptions, optimization_method, end_criteria)\n",
    "a, sigma = model.params()\n",
    "print(\"a = %6.5f, sigma = %6.5f\" % (a, sigma))"
   ]
  },
  {
   "cell_type": "code",
   "execution_count": 7,
   "id": "0e9076b7-3418-4f49-885e-f84a31ebafe5",
   "metadata": {
    "tags": []
   },
   "outputs": [
    {
     "name": "stdout",
     "output_type": "stream",
     "text": [
      "Cumulative Error Price: 0.11583\n",
      "Cumulative Error Vols : 0.11614\n"
     ]
    },
    {
     "data": {
      "text/html": [
       "<div>\n",
       "<style scoped>\n",
       "    .dataframe tbody tr th:only-of-type {\n",
       "        vertical-align: middle;\n",
       "    }\n",
       "\n",
       "    .dataframe tbody tr th {\n",
       "        vertical-align: top;\n",
       "    }\n",
       "\n",
       "    .dataframe thead th {\n",
       "        text-align: right;\n",
       "    }\n",
       "</style>\n",
       "<table border=\"1\" class=\"dataframe\">\n",
       "  <thead>\n",
       "    <tr style=\"text-align: right;\">\n",
       "      <th></th>\n",
       "      <th>Model Price</th>\n",
       "      <th>Market Price</th>\n",
       "      <th>Implied Vol</th>\n",
       "      <th>Market Vol</th>\n",
       "      <th>Rel Error Price</th>\n",
       "      <th>Rel Error Vols</th>\n",
       "    </tr>\n",
       "  </thead>\n",
       "  <tbody>\n",
       "    <tr>\n",
       "      <th></th>\n",
       "      <td>0.008775</td>\n",
       "      <td>0.009485</td>\n",
       "      <td>0.106198</td>\n",
       "      <td>0.1148</td>\n",
       "      <td>-0.074854</td>\n",
       "      <td>-0.074928</td>\n",
       "    </tr>\n",
       "    <tr>\n",
       "      <th></th>\n",
       "      <td>0.009669</td>\n",
       "      <td>0.010078</td>\n",
       "      <td>0.106292</td>\n",
       "      <td>0.1108</td>\n",
       "      <td>-0.040610</td>\n",
       "      <td>-0.040688</td>\n",
       "    </tr>\n",
       "    <tr>\n",
       "      <th></th>\n",
       "      <td>0.008663</td>\n",
       "      <td>0.008716</td>\n",
       "      <td>0.106343</td>\n",
       "      <td>0.1070</td>\n",
       "      <td>-0.006138</td>\n",
       "      <td>-0.006138</td>\n",
       "    </tr>\n",
       "    <tr>\n",
       "      <th></th>\n",
       "      <td>0.006490</td>\n",
       "      <td>0.006226</td>\n",
       "      <td>0.106442</td>\n",
       "      <td>0.1021</td>\n",
       "      <td>0.042367</td>\n",
       "      <td>0.042525</td>\n",
       "    </tr>\n",
       "    <tr>\n",
       "      <th></th>\n",
       "      <td>0.003542</td>\n",
       "      <td>0.003323</td>\n",
       "      <td>0.106612</td>\n",
       "      <td>0.1000</td>\n",
       "      <td>0.065817</td>\n",
       "      <td>0.066122</td>\n",
       "    </tr>\n",
       "  </tbody>\n",
       "</table>\n",
       "</div>"
      ],
      "text/plain": [
       "  Model Price  Market Price  Implied Vol  Market Vol  Rel Error Price   \n",
       "     0.008775      0.009485     0.106198      0.1148        -0.074854  \\\n",
       "     0.009669      0.010078     0.106292      0.1108        -0.040610   \n",
       "     0.008663      0.008716     0.106343      0.1070        -0.006138   \n",
       "     0.006490      0.006226     0.106442      0.1021         0.042367   \n",
       "     0.003542      0.003323     0.106612      0.1000         0.065817   \n",
       "\n",
       "  Rel Error Vols  \n",
       "       -0.074928  \n",
       "       -0.040688  \n",
       "       -0.006138  \n",
       "        0.042525  \n",
       "        0.066122  "
      ]
     },
     "execution_count": 7,
     "metadata": {},
     "output_type": "execute_result"
    }
   ],
   "source": [
    "calibration_report(swaptions, data)"
   ]
  },
  {
   "cell_type": "markdown",
   "id": "4c2272fb-4889-4bf7-b684-069e75f51052",
   "metadata": {},
   "source": [
    "### Calibrating Volatility With Fixed Reversion ###"
   ]
  },
  {
   "cell_type": "code",
   "execution_count": 8,
   "id": "209d4e41-cc8f-41f5-881c-2fcc4ca2c62b",
   "metadata": {
    "tags": []
   },
   "outputs": [
    {
     "name": "stdout",
     "output_type": "stream",
     "text": [
      "a = 0.05000, sigma = 0.00586\n"
     ]
    }
   ],
   "source": [
    "constrained_model = ql.HullWhite(term_structure, 0.05, 0.001);\n",
    "engine = ql.JamshidianSwaptionEngine(constrained_model)\n",
    "swaptions = create_swaption_helpers(data, index, term_structure, engine)\n",
    "optimization_method = ql.LevenbergMarquardt(1.0e-8, 1.0e-8, 1.0e-8)\n",
    "end_criteria = ql.EndCriteria(10000, 100, 1e-6, 1e-8, 1e-8)\n",
    "constrained_model.calibrate(swaptions, optimization_method, end_criteria, ql.NoConstraint(), [], [True, False])\n",
    "a, sigma = constrained_model.params()\n",
    "print(\"a = %6.5f, sigma = %6.5f\" % (a, sigma))"
   ]
  },
  {
   "cell_type": "code",
   "execution_count": 9,
   "id": "b373254c-69d5-4f2e-8148-37425d3b90aa",
   "metadata": {
    "tags": []
   },
   "outputs": [
    {
     "name": "stdout",
     "output_type": "stream",
     "text": [
      "Cumulative Error Price: 0.11584\n",
      "Cumulative Error Vols : 0.11615\n"
     ]
    },
    {
     "data": {
      "text/html": [
       "<div>\n",
       "<style scoped>\n",
       "    .dataframe tbody tr th:only-of-type {\n",
       "        vertical-align: middle;\n",
       "    }\n",
       "\n",
       "    .dataframe tbody tr th {\n",
       "        vertical-align: top;\n",
       "    }\n",
       "\n",
       "    .dataframe thead th {\n",
       "        text-align: right;\n",
       "    }\n",
       "</style>\n",
       "<table border=\"1\" class=\"dataframe\">\n",
       "  <thead>\n",
       "    <tr style=\"text-align: right;\">\n",
       "      <th></th>\n",
       "      <th>Model Price</th>\n",
       "      <th>Market Price</th>\n",
       "      <th>Implied Vol</th>\n",
       "      <th>Market Vol</th>\n",
       "      <th>Rel Error Price</th>\n",
       "      <th>Rel Error Vols</th>\n",
       "    </tr>\n",
       "  </thead>\n",
       "  <tbody>\n",
       "    <tr>\n",
       "      <th></th>\n",
       "      <td>0.008776</td>\n",
       "      <td>0.009485</td>\n",
       "      <td>0.106212</td>\n",
       "      <td>0.1148</td>\n",
       "      <td>-0.074738</td>\n",
       "      <td>-0.074812</td>\n",
       "    </tr>\n",
       "    <tr>\n",
       "      <th></th>\n",
       "      <td>0.009668</td>\n",
       "      <td>0.010078</td>\n",
       "      <td>0.106284</td>\n",
       "      <td>0.1108</td>\n",
       "      <td>-0.040682</td>\n",
       "      <td>-0.040761</td>\n",
       "    </tr>\n",
       "    <tr>\n",
       "      <th></th>\n",
       "      <td>0.008662</td>\n",
       "      <td>0.008716</td>\n",
       "      <td>0.106330</td>\n",
       "      <td>0.1070</td>\n",
       "      <td>-0.006261</td>\n",
       "      <td>-0.006261</td>\n",
       "    </tr>\n",
       "    <tr>\n",
       "      <th></th>\n",
       "      <td>0.006490</td>\n",
       "      <td>0.006226</td>\n",
       "      <td>0.106436</td>\n",
       "      <td>0.1021</td>\n",
       "      <td>0.042311</td>\n",
       "      <td>0.042469</td>\n",
       "    </tr>\n",
       "    <tr>\n",
       "      <th></th>\n",
       "      <td>0.003542</td>\n",
       "      <td>0.003323</td>\n",
       "      <td>0.106625</td>\n",
       "      <td>0.1000</td>\n",
       "      <td>0.065946</td>\n",
       "      <td>0.066252</td>\n",
       "    </tr>\n",
       "  </tbody>\n",
       "</table>\n",
       "</div>"
      ],
      "text/plain": [
       "  Model Price  Market Price  Implied Vol  Market Vol  Rel Error Price   \n",
       "     0.008776      0.009485     0.106212      0.1148        -0.074738  \\\n",
       "     0.009668      0.010078     0.106284      0.1108        -0.040682   \n",
       "     0.008662      0.008716     0.106330      0.1070        -0.006261   \n",
       "     0.006490      0.006226     0.106436      0.1021         0.042311   \n",
       "     0.003542      0.003323     0.106625      0.1000         0.065946   \n",
       "\n",
       "  Rel Error Vols  \n",
       "       -0.074812  \n",
       "       -0.040761  \n",
       "       -0.006261  \n",
       "        0.042469  \n",
       "        0.066252  "
      ]
     },
     "execution_count": 9,
     "metadata": {},
     "output_type": "execute_result"
    }
   ],
   "source": [
    "calibration_report(swaptions, data)"
   ]
  },
  {
   "cell_type": "markdown",
   "id": "38238ec7-dee6-49b7-8ac4-ed749efbb706",
   "metadata": {},
   "source": [
    "### Black Karasinski Model ###"
   ]
  },
  {
   "cell_type": "code",
   "execution_count": 10,
   "id": "a8507cb5-7760-43e0-950b-1d29608d8933",
   "metadata": {
    "tags": []
   },
   "outputs": [
    {
     "name": "stdout",
     "output_type": "stream",
     "text": [
      "a = 0.03949, sigma = 0.11678\n"
     ]
    }
   ],
   "source": [
    "model = ql.BlackKarasinski(term_structure);\n",
    "engine = ql.TreeSwaptionEngine(model, 100)\n",
    "swaptions = create_swaption_helpers(data, index, term_structure, engine)\n",
    "optimization_method = ql.LevenbergMarquardt(1.0e-8, 1.0e-8, 1.0e-8)\n",
    "end_criteria = ql.EndCriteria(10000, 100, 1e-6, 1e-8, 1e-8)\n",
    "model.calibrate(swaptions, optimization_method, end_criteria)\n",
    "a, sigma = model.params()\n",
    "print(\"a = %6.5f, sigma = %6.5f\" % (a, sigma))"
   ]
  },
  {
   "cell_type": "code",
   "execution_count": 11,
   "id": "99718292-fb1a-49ce-8413-c003bcc2bf78",
   "metadata": {
    "tags": []
   },
   "outputs": [
    {
     "name": "stdout",
     "output_type": "stream",
     "text": [
      "Cumulative Error Price: 0.12382\n",
      "Cumulative Error Vols : 0.12415\n"
     ]
    },
    {
     "data": {
      "text/html": [
       "<div>\n",
       "<style scoped>\n",
       "    .dataframe tbody tr th:only-of-type {\n",
       "        vertical-align: middle;\n",
       "    }\n",
       "\n",
       "    .dataframe tbody tr th {\n",
       "        vertical-align: top;\n",
       "    }\n",
       "\n",
       "    .dataframe thead th {\n",
       "        text-align: right;\n",
       "    }\n",
       "</style>\n",
       "<table border=\"1\" class=\"dataframe\">\n",
       "  <thead>\n",
       "    <tr style=\"text-align: right;\">\n",
       "      <th></th>\n",
       "      <th>Model Price</th>\n",
       "      <th>Market Price</th>\n",
       "      <th>Implied Vol</th>\n",
       "      <th>Market Vol</th>\n",
       "      <th>Rel Error Price</th>\n",
       "      <th>Rel Error Vols</th>\n",
       "    </tr>\n",
       "  </thead>\n",
       "  <tbody>\n",
       "    <tr>\n",
       "      <th></th>\n",
       "      <td>0.008702</td>\n",
       "      <td>0.009485</td>\n",
       "      <td>0.105306</td>\n",
       "      <td>0.1148</td>\n",
       "      <td>-0.082623</td>\n",
       "      <td>-0.082704</td>\n",
       "    </tr>\n",
       "    <tr>\n",
       "      <th></th>\n",
       "      <td>0.009669</td>\n",
       "      <td>0.010078</td>\n",
       "      <td>0.106291</td>\n",
       "      <td>0.1108</td>\n",
       "      <td>-0.040617</td>\n",
       "      <td>-0.040695</td>\n",
       "    </tr>\n",
       "    <tr>\n",
       "      <th></th>\n",
       "      <td>0.008670</td>\n",
       "      <td>0.008716</td>\n",
       "      <td>0.106429</td>\n",
       "      <td>0.1070</td>\n",
       "      <td>-0.005334</td>\n",
       "      <td>-0.005334</td>\n",
       "    </tr>\n",
       "    <tr>\n",
       "      <th></th>\n",
       "      <td>0.006502</td>\n",
       "      <td>0.006226</td>\n",
       "      <td>0.106636</td>\n",
       "      <td>0.1021</td>\n",
       "      <td>0.044257</td>\n",
       "      <td>0.044423</td>\n",
       "    </tr>\n",
       "    <tr>\n",
       "      <th></th>\n",
       "      <td>0.003555</td>\n",
       "      <td>0.003323</td>\n",
       "      <td>0.107010</td>\n",
       "      <td>0.1000</td>\n",
       "      <td>0.069778</td>\n",
       "      <td>0.070104</td>\n",
       "    </tr>\n",
       "  </tbody>\n",
       "</table>\n",
       "</div>"
      ],
      "text/plain": [
       "  Model Price  Market Price  Implied Vol  Market Vol  Rel Error Price   \n",
       "     0.008702      0.009485     0.105306      0.1148        -0.082623  \\\n",
       "     0.009669      0.010078     0.106291      0.1108        -0.040617   \n",
       "     0.008670      0.008716     0.106429      0.1070        -0.005334   \n",
       "     0.006502      0.006226     0.106636      0.1021         0.044257   \n",
       "     0.003555      0.003323     0.107010      0.1000         0.069778   \n",
       "\n",
       "  Rel Error Vols  \n",
       "       -0.082704  \n",
       "       -0.040695  \n",
       "       -0.005334  \n",
       "        0.044423  \n",
       "        0.070104  "
      ]
     },
     "execution_count": 11,
     "metadata": {},
     "output_type": "execute_result"
    }
   ],
   "source": [
    "calibration_report(swaptions, data)"
   ]
  },
  {
   "cell_type": "markdown",
   "id": "05dc3afa-a075-4b55-a970-85402a3d2f29",
   "metadata": {},
   "source": [
    "### G2++ Model ###"
   ]
  },
  {
   "cell_type": "code",
   "execution_count": 12,
   "id": "213667fd-6831-422b-9519-b2242d7905b7",
   "metadata": {
    "tags": []
   },
   "outputs": [
    {
     "name": "stdout",
     "output_type": "stream",
     "text": [
      "a = 0.04758, sigma = 0.00305, b = 0.03850, eta = 0.00478, rho = -0.00000 \n"
     ]
    }
   ],
   "source": [
    "model = ql.G2(term_structure);\n",
    "engine = ql.TreeSwaptionEngine(model, 25)\n",
    "# engine = ql.G2SwaptionEngine(model, 10, 400)\n",
    "# engine = ql.FdG2SwaptionEngine(model)\n",
    "swaptions = create_swaption_helpers(data, index, term_structure, engine)\n",
    "optimization_method = ql.LevenbergMarquardt(1.0e-8, 1.0e-8, 1.0e-8)\n",
    "end_criteria = ql.EndCriteria(1000, 100, 1e-6, 1e-8, 1e-8)\n",
    "model.calibrate(swaptions, optimization_method, end_criteria)\n",
    "a, sigma, b, eta, rho = model.params()\n",
    "print(\"a = %6.5f, sigma = %6.5f, b = %6.5f, eta = %6.5f, rho = %6.5f \" % (a, sigma, b, eta, rho))"
   ]
  },
  {
   "cell_type": "code",
   "execution_count": 13,
   "id": "f412bbf3-fcc5-409f-bc9f-f953c0c62d4b",
   "metadata": {
    "tags": []
   },
   "outputs": [
    {
     "name": "stdout",
     "output_type": "stream",
     "text": [
      "Cumulative Error Price: 0.12410\n",
      "Cumulative Error Vols : 0.12442\n"
     ]
    },
    {
     "data": {
      "text/html": [
       "<div>\n",
       "<style scoped>\n",
       "    .dataframe tbody tr th:only-of-type {\n",
       "        vertical-align: middle;\n",
       "    }\n",
       "\n",
       "    .dataframe tbody tr th {\n",
       "        vertical-align: top;\n",
       "    }\n",
       "\n",
       "    .dataframe thead th {\n",
       "        text-align: right;\n",
       "    }\n",
       "</style>\n",
       "<table border=\"1\" class=\"dataframe\">\n",
       "  <thead>\n",
       "    <tr style=\"text-align: right;\">\n",
       "      <th></th>\n",
       "      <th>Model Price</th>\n",
       "      <th>Market Price</th>\n",
       "      <th>Implied Vol</th>\n",
       "      <th>Market Vol</th>\n",
       "      <th>Rel Error Price</th>\n",
       "      <th>Rel Error Vols</th>\n",
       "    </tr>\n",
       "  </thead>\n",
       "  <tbody>\n",
       "    <tr>\n",
       "      <th></th>\n",
       "      <td>0.008696</td>\n",
       "      <td>0.009485</td>\n",
       "      <td>0.105235</td>\n",
       "      <td>0.1148</td>\n",
       "      <td>-0.083235</td>\n",
       "      <td>-0.083316</td>\n",
       "    </tr>\n",
       "    <tr>\n",
       "      <th></th>\n",
       "      <td>0.009671</td>\n",
       "      <td>0.010078</td>\n",
       "      <td>0.106320</td>\n",
       "      <td>0.1108</td>\n",
       "      <td>-0.040359</td>\n",
       "      <td>-0.040437</td>\n",
       "    </tr>\n",
       "    <tr>\n",
       "      <th></th>\n",
       "      <td>0.008666</td>\n",
       "      <td>0.008716</td>\n",
       "      <td>0.106389</td>\n",
       "      <td>0.1070</td>\n",
       "      <td>-0.005712</td>\n",
       "      <td>-0.005712</td>\n",
       "    </tr>\n",
       "    <tr>\n",
       "      <th></th>\n",
       "      <td>0.006500</td>\n",
       "      <td>0.006226</td>\n",
       "      <td>0.106604</td>\n",
       "      <td>0.1021</td>\n",
       "      <td>0.043950</td>\n",
       "      <td>0.044115</td>\n",
       "    </tr>\n",
       "    <tr>\n",
       "      <th></th>\n",
       "      <td>0.003555</td>\n",
       "      <td>0.003323</td>\n",
       "      <td>0.107018</td>\n",
       "      <td>0.1000</td>\n",
       "      <td>0.069858</td>\n",
       "      <td>0.070184</td>\n",
       "    </tr>\n",
       "  </tbody>\n",
       "</table>\n",
       "</div>"
      ],
      "text/plain": [
       "  Model Price  Market Price  Implied Vol  Market Vol  Rel Error Price   \n",
       "     0.008696      0.009485     0.105235      0.1148        -0.083235  \\\n",
       "     0.009671      0.010078     0.106320      0.1108        -0.040359   \n",
       "     0.008666      0.008716     0.106389      0.1070        -0.005712   \n",
       "     0.006500      0.006226     0.106604      0.1021         0.043950   \n",
       "     0.003555      0.003323     0.107018      0.1000         0.069858   \n",
       "\n",
       "  Rel Error Vols  \n",
       "       -0.083316  \n",
       "       -0.040437  \n",
       "       -0.005712  \n",
       "        0.044115  \n",
       "        0.070184  "
      ]
     },
     "execution_count": 13,
     "metadata": {},
     "output_type": "execute_result"
    }
   ],
   "source": [
    "calibration_report(swaptions, data)"
   ]
  },
  {
   "cell_type": "markdown",
   "id": "e94d0802-cb4c-4dec-b0c6-e1ed4d983d38",
   "metadata": {},
   "source": [
    "### Calibrating to Normal Volatilities ###"
   ]
  },
  {
   "cell_type": "code",
   "execution_count": 16,
   "id": "ba2dd86e-82fc-4d5f-9456-5c7053e698cd",
   "metadata": {
    "tags": []
   },
   "outputs": [],
   "source": [
    "def create_swaption_helpers_normal(data, index, term_structure, engine):\n",
    "    swaptions = []\n",
    "    fixed_leg_tenor = ql.Period(1, ql.Years)\n",
    "    fixed_leg_daycounter = ql.Actual360()\n",
    "    floating_leg_daycounter = ql.Actual360()\n",
    "    for d in data:\n",
    "        vol_handle = ql.QuoteHandle(ql.SimpleQuote(d.volatility))\n",
    "        helper= ql.SwaptionHelper(ql.Period(d.start, ql.Years),\n",
    "                                  ql.Period(d.length, ql.Years),\n",
    "                                  vol_handle, index, fixed_leg_tenor,\n",
    "                                  fixed_leg_daycounter, floating_leg_daycounter,\n",
    "                                  term_structure, ql.BlackCalibrationHelper.RelativePriceError,\n",
    "                                  ql.nullDouble(), 1.0, ql.Normal)\n",
    "        helper.setPricingEngine(engine)\n",
    "        swaptions.append(helper)\n",
    "    return swaptions"
   ]
  },
  {
   "cell_type": "code",
   "execution_count": 17,
   "id": "b57fa58d-0188-4832-85f8-ce229f88d1de",
   "metadata": {
    "tags": []
   },
   "outputs": [
    {
     "name": "stdout",
     "output_type": "stream",
     "text": [
      "a = 0.00003, sigma = 0.10459\n"
     ]
    }
   ],
   "source": [
    "model = ql.HullWhite(term_structure);\n",
    "engine = ql.JamshidianSwaptionEngine(model)\n",
    "swaptions = create_swaption_helpers_normal(data, index, term_structure, engine)\n",
    "optimization_method = ql.LevenbergMarquardt(1.0e-8, 1.0e-8, 1.0e-8)\n",
    "end_criteria = ql.EndCriteria(10000, 100, 1e-6, 1e-8, 1e-8)\n",
    "model.calibrate(swaptions, optimization_method, end_criteria)\n",
    "a, sigma = model.params()\n",
    "print(\"a = %6.5f, sigma = %6.5f\" % (a, sigma))"
   ]
  },
  {
   "cell_type": "code",
   "execution_count": null,
   "id": "e4342094-f987-4375-ba7e-e8b6f5713fe3",
   "metadata": {},
   "outputs": [],
   "source": []
  }
 ],
 "metadata": {
  "kernelspec": {
   "display_name": "Python 3 (ipykernel)",
   "language": "python",
   "name": "python3"
  },
  "language_info": {
   "codemirror_mode": {
    "name": "ipython",
    "version": 3
   },
   "file_extension": ".py",
   "mimetype": "text/x-python",
   "name": "python",
   "nbconvert_exporter": "python",
   "pygments_lexer": "ipython3",
   "version": "3.10.8"
  },
  "widgets": {
   "application/vnd.jupyter.widget-state+json": {
    "state": {},
    "version_major": 2,
    "version_minor": 0
   }
  }
 },
 "nbformat": 4,
 "nbformat_minor": 5
}
