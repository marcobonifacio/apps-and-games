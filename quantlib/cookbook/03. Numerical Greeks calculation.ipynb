{
 "cells": [
  {
   "cell_type": "markdown",
   "id": "f8ac2b3f-71cc-4655-a253-e23e0afd7577",
   "metadata": {},
   "source": [
    "# Basics #\n",
    "## 3. Numerical Greeks calculation ##"
   ]
  },
  {
   "cell_type": "markdown",
   "id": "a834f4e1-10ef-4e6d-b18b-4c954d81aa08",
   "metadata": {},
   "source": [
    "### Setup ###"
   ]
  },
  {
   "cell_type": "code",
   "execution_count": 1,
   "id": "b28b7c4e-eb64-4f55-83f8-79adc919cb0b",
   "metadata": {
    "tags": []
   },
   "outputs": [],
   "source": [
    "import QuantLib as ql"
   ]
  },
  {
   "cell_type": "code",
   "execution_count": 2,
   "id": "e18521df-abaf-45b0-9426-3c4799910658",
   "metadata": {
    "tags": []
   },
   "outputs": [],
   "source": [
    "today = ql.Date(8, ql.October, 2014)\n",
    "ql.Settings.instance().evaluationDate = today"
   ]
  },
  {
   "cell_type": "markdown",
   "id": "736244f1-53cf-4608-b066-c52bc94ec52f",
   "metadata": {},
   "source": [
    "### A somewhat exotic option ###"
   ]
  },
  {
   "cell_type": "code",
   "execution_count": 3,
   "id": "5118df08-1dcb-4740-a581-d24f72ce14a8",
   "metadata": {
    "tags": []
   },
   "outputs": [],
   "source": [
    "option = ql.BarrierOption(ql.Barrier.UpIn,\n",
    "                          120.0, # barrier\n",
    "                          0.0, # rebate\n",
    "                          ql.PlainVanillaPayoff(ql.Option.Call, 100.0),\n",
    "                          ql.EuropeanExercise(ql.Date(8, ql.January, 2015)))"
   ]
  },
  {
   "cell_type": "code",
   "execution_count": 4,
   "id": "1e2113f4-942c-4d8a-9ada-d962314ce7b5",
   "metadata": {
    "tags": []
   },
   "outputs": [],
   "source": [
    "u = ql.SimpleQuote(100.0)\n",
    "r = ql.SimpleQuote(0.01)\n",
    "sigma = ql.SimpleQuote(0.20)"
   ]
  },
  {
   "cell_type": "code",
   "execution_count": 5,
   "id": "3d3b0098-9592-44ad-9cfd-06d0fb16002b",
   "metadata": {
    "tags": []
   },
   "outputs": [],
   "source": [
    "riskFreeCurve = ql.FlatForward(0, ql.TARGET(), ql.QuoteHandle(r),ql.Actual360())\n",
    "volatility = ql.BlackConstantVol(0, ql.TARGET(), ql.QuoteHandle(sigma), ql.Actual360())"
   ]
  },
  {
   "cell_type": "code",
   "execution_count": 6,
   "id": "acf562cc-c624-437b-a272-76f7d7500f38",
   "metadata": {
    "tags": []
   },
   "outputs": [],
   "source": [
    "process = ql.BlackScholesProcess(ql.QuoteHandle(u),\n",
    "                                 ql.YieldTermStructureHandle(riskFreeCurve),\n",
    "                                 ql.BlackVolTermStructureHandle(volatility))"
   ]
  },
  {
   "cell_type": "code",
   "execution_count": 7,
   "id": "31eae4a7-eec8-4d55-8416-6540f9e244a7",
   "metadata": {
    "tags": []
   },
   "outputs": [],
   "source": [
    "option.setPricingEngine(ql.AnalyticBarrierEngine(process))"
   ]
  },
  {
   "cell_type": "code",
   "execution_count": 8,
   "id": "e0217bea-2be2-4668-862b-9c28d6ad8de5",
   "metadata": {
    "tags": []
   },
   "outputs": [
    {
     "name": "stdout",
     "output_type": "stream",
     "text": [
      "1.3657980739109867\n"
     ]
    }
   ],
   "source": [
    "print(option.NPV())"
   ]
  },
  {
   "cell_type": "code",
   "execution_count": 9,
   "id": "899fffb2-0397-4b81-904f-37ca06008ae8",
   "metadata": {
    "tags": []
   },
   "outputs": [
    {
     "ename": "RuntimeError",
     "evalue": "delta not provided",
     "output_type": "error",
     "traceback": [
      "\u001b[1;31m---------------------------------------------------------------------------\u001b[0m",
      "\u001b[1;31mRuntimeError\u001b[0m                              Traceback (most recent call last)",
      "Cell \u001b[1;32mIn[9], line 1\u001b[0m\n\u001b[1;32m----> 1\u001b[0m \u001b[38;5;28mprint\u001b[39m(\u001b[43moption\u001b[49m\u001b[38;5;241;43m.\u001b[39;49m\u001b[43mdelta\u001b[49m\u001b[43m(\u001b[49m\u001b[43m)\u001b[49m)\n",
      "File \u001b[1;32m~\\Miniforge3\\envs\\work\\lib\\site-packages\\QuantLib\\QuantLib.py:16178\u001b[0m, in \u001b[0;36mOneAssetOption.delta\u001b[1;34m(self)\u001b[0m\n\u001b[0;32m  16176\u001b[0m \u001b[38;5;28;01mdef\u001b[39;00m \u001b[38;5;21mdelta\u001b[39m(\u001b[38;5;28mself\u001b[39m):\n\u001b[0;32m  16177\u001b[0m \u001b[38;5;250m    \u001b[39m\u001b[38;5;124mr\u001b[39m\u001b[38;5;124;03m\"\"\"delta(OneAssetOption self) -> Real\"\"\"\u001b[39;00m\n\u001b[1;32m> 16178\u001b[0m     \u001b[38;5;28;01mreturn\u001b[39;00m \u001b[43m_QuantLib\u001b[49m\u001b[38;5;241;43m.\u001b[39;49m\u001b[43mOneAssetOption_delta\u001b[49m\u001b[43m(\u001b[49m\u001b[38;5;28;43mself\u001b[39;49m\u001b[43m)\u001b[49m\n",
      "\u001b[1;31mRuntimeError\u001b[0m: delta not provided"
     ]
    }
   ],
   "source": [
    "print(option.delta())"
   ]
  },
  {
   "cell_type": "code",
   "execution_count": 10,
   "id": "edf18239-c37b-401f-8803-107a773b0bdd",
   "metadata": {
    "tags": []
   },
   "outputs": [],
   "source": [
    "u0 = u.value()\n",
    "h = 0.01"
   ]
  },
  {
   "cell_type": "code",
   "execution_count": 11,
   "id": "fb2f43e4-45a4-42a0-8dc1-2fe3d99d301c",
   "metadata": {
    "tags": []
   },
   "outputs": [
    {
     "name": "stdout",
     "output_type": "stream",
     "text": [
      "1.3657980739109867\n"
     ]
    }
   ],
   "source": [
    "P0 = option.NPV()\n",
    "print(P0)"
   ]
  },
  {
   "cell_type": "code",
   "execution_count": 12,
   "id": "9bf9339b-d73c-423d-bbaa-9692ebbc9f41",
   "metadata": {
    "tags": []
   },
   "outputs": [
    {
     "name": "stdout",
     "output_type": "stream",
     "text": [
      "1.3688112201958083\n"
     ]
    }
   ],
   "source": [
    "u.setValue(u0+h)\n",
    "P_plus = option.NPV()\n",
    "print(P_plus)"
   ]
  },
  {
   "cell_type": "code",
   "execution_count": 13,
   "id": "724df7f7-765d-4a74-bd35-c1c2bf486843",
   "metadata": {
    "tags": []
   },
   "outputs": [
    {
     "name": "stdout",
     "output_type": "stream",
     "text": [
      "1.3627900998610207\n"
     ]
    }
   ],
   "source": [
    "u.setValue(u0-h)\n",
    "P_minus = option.NPV()\n",
    "print(P_minus)"
   ]
  },
  {
   "cell_type": "code",
   "execution_count": 14,
   "id": "8c1ae847-08ae-4659-b211-e4fabdf302bd",
   "metadata": {
    "tags": []
   },
   "outputs": [],
   "source": [
    "u.setValue(u0)"
   ]
  },
  {
   "cell_type": "code",
   "execution_count": 15,
   "id": "fede1c5b-7084-4d34-94cb-d235e9d87bc5",
   "metadata": {
    "tags": []
   },
   "outputs": [
    {
     "name": "stdout",
     "output_type": "stream",
     "text": [
      "0.3010560167393761\n",
      "0.05172234855521651\n"
     ]
    }
   ],
   "source": [
    "Delta = (P_plus - P_minus) / (2 * h)\n",
    "Gamma = (P_plus - 2 * P0 + P_minus) / (h * h)\n",
    "print(Delta)\n",
    "print(Gamma)"
   ]
  },
  {
   "cell_type": "code",
   "execution_count": 16,
   "id": "caa23019-ecc2-47dd-951a-9daba7607e68",
   "metadata": {
    "tags": []
   },
   "outputs": [
    {
     "name": "stdout",
     "output_type": "stream",
     "text": [
      "6.531038494277386\n"
     ]
    }
   ],
   "source": [
    "r0 = r.value()\n",
    "h = 0.0001\n",
    "r.setValue(r0 + h)\n",
    "P_plus = option.NPV()\n",
    "r.setValue(r0)\n",
    "Rho = (P_plus - P0) / h\n",
    "print(Rho)"
   ]
  },
  {
   "cell_type": "code",
   "execution_count": 17,
   "id": "5e85c741-81d5-402f-84f1-504e30c58413",
   "metadata": {
    "tags": []
   },
   "outputs": [
    {
     "name": "stdout",
     "output_type": "stream",
     "text": [
      "26.52519924198904\n"
     ]
    }
   ],
   "source": [
    "sigma0 = sigma.value()\n",
    "h = 0.0001\n",
    "sigma.setValue(sigma0 + h)\n",
    "P_plus = option.NPV()\n",
    "sigma.setValue(sigma0)\n",
    "Vega = (P_plus - P0) / h\n",
    "print(Vega)"
   ]
  },
  {
   "cell_type": "code",
   "execution_count": 18,
   "id": "955d968d-cf4c-461d-8250-b5f828d7b36a",
   "metadata": {
    "tags": []
   },
   "outputs": [
    {
     "name": "stdout",
     "output_type": "stream",
     "text": [
      "-10.770888399441302\n"
     ]
    }
   ],
   "source": [
    "ql.Settings.instance().evaluationDate = today + 1\n",
    "P1 = option.NPV()\n",
    "h = 1 / 365\n",
    "Theta = (P1 - P0) / h\n",
    "print(Theta)"
   ]
  },
  {
   "cell_type": "code",
   "execution_count": null,
   "id": "896d3a5c-f933-431b-a0f2-996540519abf",
   "metadata": {},
   "outputs": [],
   "source": []
  }
 ],
 "metadata": {
  "kernelspec": {
   "display_name": "Python 3 (ipykernel)",
   "language": "python",
   "name": "python3"
  },
  "language_info": {
   "codemirror_mode": {
    "name": "ipython",
    "version": 3
   },
   "file_extension": ".py",
   "mimetype": "text/x-python",
   "name": "python",
   "nbconvert_exporter": "python",
   "pygments_lexer": "ipython3",
   "version": "3.10.8"
  },
  "widgets": {
   "application/vnd.jupyter.widget-state+json": {
    "state": {},
    "version_major": 2,
    "version_minor": 0
   }
  }
 },
 "nbformat": 4,
 "nbformat_minor": 5
}
