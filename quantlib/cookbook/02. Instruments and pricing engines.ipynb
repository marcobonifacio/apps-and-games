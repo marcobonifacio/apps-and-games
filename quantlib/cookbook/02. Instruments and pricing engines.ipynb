{
 "cells": [
  {
   "cell_type": "markdown",
   "id": "0da74379-576e-421e-8573-bb9be9e289b9",
   "metadata": {},
   "source": [
    "# Basics #\n",
    "## 2. Instruments and pricing engines ##"
   ]
  },
  {
   "cell_type": "markdown",
   "id": "20b97b1e-1dee-41bc-a539-89343e46f0cb",
   "metadata": {},
   "source": [
    "### Setup ###"
   ]
  },
  {
   "cell_type": "code",
   "execution_count": 1,
   "id": "decc648a-7d22-4a6f-a932-f61faa9800b9",
   "metadata": {
    "tags": []
   },
   "outputs": [],
   "source": [
    "import QuantLib as ql"
   ]
  },
  {
   "cell_type": "code",
   "execution_count": 2,
   "id": "f729a96e-d615-4b8d-9526-0e112c067041",
   "metadata": {
    "tags": []
   },
   "outputs": [],
   "source": [
    "today = ql.Date(7, ql.March, 2014)\n",
    "ql.Settings.instance().evaluationDate = today"
   ]
  },
  {
   "cell_type": "markdown",
   "id": "7ce54e12-a7cd-4d0b-9ab7-4d7fb989b26e",
   "metadata": {},
   "source": [
    "### The instrument ###"
   ]
  },
  {
   "cell_type": "code",
   "execution_count": 3,
   "id": "3bf8bdbb-a753-4ce0-a7ea-4f76cc61e450",
   "metadata": {
    "tags": []
   },
   "outputs": [],
   "source": [
    "option = ql.EuropeanOption(ql.PlainVanillaPayoff(ql.Option.Call, 100.0), \n",
    "                           ql.EuropeanExercise(ql.Date(7, ql.June, 2014)))"
   ]
  },
  {
   "cell_type": "markdown",
   "id": "63fd8184-8744-4602-afac-451dd4c73ded",
   "metadata": {},
   "source": [
    "### First pricing method: analytic Black-Scholes formula ###"
   ]
  },
  {
   "cell_type": "code",
   "execution_count": 4,
   "id": "4dbc20e5-4b8f-4562-a9df-60c026fc7cab",
   "metadata": {
    "tags": []
   },
   "outputs": [],
   "source": [
    "u = ql.SimpleQuote(100.0)\n",
    "r = ql.SimpleQuote(0.01)\n",
    "sigma = ql.SimpleQuote(0.20)"
   ]
  },
  {
   "cell_type": "code",
   "execution_count": 5,
   "id": "443f416b-763c-43b3-9e6b-891fd59bc345",
   "metadata": {
    "tags": []
   },
   "outputs": [],
   "source": [
    "riskFreeCurve = ql.FlatForward(0, ql.TARGET(), ql.QuoteHandle(r), ql.Actual360())\n",
    "volatility = ql.BlackConstantVol(0, ql.TARGET(), ql.QuoteHandle(sigma), ql.Actual360())"
   ]
  },
  {
   "cell_type": "code",
   "execution_count": 6,
   "id": "7ddd3628-56d5-4e0b-a9be-55f11900531f",
   "metadata": {
    "tags": []
   },
   "outputs": [],
   "source": [
    "process = ql.BlackScholesProcess(ql.QuoteHandle(u), \n",
    "                                 ql.YieldTermStructureHandle(riskFreeCurve), \n",
    "                                 ql.BlackVolTermStructureHandle(volatility))"
   ]
  },
  {
   "cell_type": "code",
   "execution_count": 7,
   "id": "fdfcdef9-8d97-4c8f-ab69-568a3b8a3285",
   "metadata": {
    "tags": []
   },
   "outputs": [],
   "source": [
    "engine = ql.AnalyticEuropeanEngine(process)"
   ]
  },
  {
   "cell_type": "code",
   "execution_count": 8,
   "id": "fe97ca71-de2a-4177-b840-988e40022fdb",
   "metadata": {
    "tags": []
   },
   "outputs": [],
   "source": [
    "option.setPricingEngine(engine)"
   ]
  },
  {
   "cell_type": "code",
   "execution_count": 9,
   "id": "17b90dc7-da4a-4428-ad2b-f5a857cecb9e",
   "metadata": {
    "tags": []
   },
   "outputs": [
    {
     "name": "stdout",
     "output_type": "stream",
     "text": [
      "4.155543462156206\n"
     ]
    }
   ],
   "source": [
    "print(option.NPV())"
   ]
  },
  {
   "cell_type": "code",
   "execution_count": 10,
   "id": "f2316e89-528a-44ad-a2d6-fbe9d1a086ff",
   "metadata": {
    "tags": []
   },
   "outputs": [
    {
     "name": "stdout",
     "output_type": "stream",
     "text": [
      "0.5302223303784392\n",
      "0.03934493301271913\n",
      "20.109632428723106\n"
     ]
    }
   ],
   "source": [
    "print(option.delta())\n",
    "print(option.gamma())\n",
    "print(option.vega())"
   ]
  },
  {
   "cell_type": "markdown",
   "id": "5ab57f03-bd4a-44b3-8d37-bae0ec1ac733",
   "metadata": {},
   "source": [
    "### Market changes ###"
   ]
  },
  {
   "cell_type": "code",
   "execution_count": 11,
   "id": "10f7554a-52be-4648-a51a-78d4f018a5cf",
   "metadata": {
    "tags": []
   },
   "outputs": [
    {
     "name": "stdout",
     "output_type": "stream",
     "text": [
      "7.27556357927846\n"
     ]
    }
   ],
   "source": [
    "u.setValue(105.0)\n",
    "print(option.NPV())"
   ]
  },
  {
   "cell_type": "code",
   "execution_count": 12,
   "id": "0601f7f6-e9fe-4d5a-ab90-ec1bec0a6a9f",
   "metadata": {
    "tags": []
   },
   "outputs": [],
   "source": [
    "import matplotlib.pyplot as plot\n",
    "import numpy\n",
    "from IPython.display import display"
   ]
  },
  {
   "cell_type": "code",
   "execution_count": 13,
   "id": "b0a0dfd6-367c-446b-b8e0-b4d1801b66c6",
   "metadata": {
    "tags": []
   },
   "outputs": [
    {
     "data": {
      "image/png": "[encoded data removed]",
      "text/plain": [
       "<Figure size 640x480 with 1 Axes>"
      ]
     },
     "metadata": {},
     "output_type": "display_data"
    }
   ],
   "source": [
    "f, ax = plot.subplots()\n",
    "xs = numpy.linspace(80.0, 120.0, 400)\n",
    "ys = []\n",
    "for x in xs:\n",
    "    u.setValue(x)\n",
    "    ys.append(option.NPV())\n",
    "ax.set_title('Option value')\n",
    "_ = ax.plot(xs, ys)"
   ]
  },
  {
   "cell_type": "code",
   "execution_count": 14,
   "id": "abbfea2a-6c8a-4a75-8a67-67218a9731de",
   "metadata": {
    "tags": []
   },
   "outputs": [],
   "source": [
    "u.setValue(105.0)\n",
    "r.setValue(0.01)\n",
    "sigma.setValue(0.20)"
   ]
  },
  {
   "cell_type": "code",
   "execution_count": 15,
   "id": "51d88d7c-c020-4dcf-a96f-f82f16ebbbad",
   "metadata": {
    "tags": []
   },
   "outputs": [
    {
     "name": "stdout",
     "output_type": "stream",
     "text": [
      "7.27556357927846\n"
     ]
    }
   ],
   "source": [
    "print(option.NPV())"
   ]
  },
  {
   "cell_type": "code",
   "execution_count": 16,
   "id": "7e2fa7ba-00d8-42de-bece-326f9962c496",
   "metadata": {
    "tags": []
   },
   "outputs": [],
   "source": [
    "r.setValue(0.03)"
   ]
  },
  {
   "cell_type": "code",
   "execution_count": 17,
   "id": "b8cab822-8a2b-47ca-a603-eab340ebbac3",
   "metadata": {
    "tags": []
   },
   "outputs": [
    {
     "name": "stdout",
     "output_type": "stream",
     "text": [
      "7.624029148527754\n"
     ]
    }
   ],
   "source": [
    "print(option.NPV())"
   ]
  },
  {
   "cell_type": "code",
   "execution_count": 18,
   "id": "138da057-415b-434d-b073-3180be140a56",
   "metadata": {
    "tags": []
   },
   "outputs": [],
   "source": [
    "sigma.setValue(0.25)"
   ]
  },
  {
   "cell_type": "code",
   "execution_count": 19,
   "id": "1cb2058d-80db-4bba-a710-1b4ceda42ed8",
   "metadata": {
    "tags": []
   },
   "outputs": [
    {
     "name": "stdout",
     "output_type": "stream",
     "text": [
      "8.531296969971573\n"
     ]
    }
   ],
   "source": [
    "print(option.NPV())"
   ]
  },
  {
   "cell_type": "markdown",
   "id": "f2d7dd0d-3018-4dd5-9e48-11146d458cac",
   "metadata": {},
   "source": [
    "### Date changes ###"
   ]
  },
  {
   "cell_type": "code",
   "execution_count": 20,
   "id": "b2647aa0-8b6d-4e14-b51e-b4d9465e2aa6",
   "metadata": {
    "tags": []
   },
   "outputs": [
    {
     "name": "stdout",
     "output_type": "stream",
     "text": [
      "7.27556357927846\n"
     ]
    }
   ],
   "source": [
    "u.setValue(105.0)\n",
    "r.setValue(0.01)\n",
    "sigma.setValue(0.20)\n",
    "print(option.NPV())"
   ]
  },
  {
   "cell_type": "code",
   "execution_count": 21,
   "id": "ad7bd5d2-113c-4fb2-8d13-12c6b54a7e56",
   "metadata": {
    "tags": []
   },
   "outputs": [],
   "source": [
    "ql.Settings.instance().evaluationDate = ql.Date(7, ql.April, 2014)"
   ]
  },
  {
   "cell_type": "code",
   "execution_count": 22,
   "id": "a46deede-a31c-4d16-bbf2-a5d20e922244",
   "metadata": {
    "tags": []
   },
   "outputs": [
    {
     "name": "stdout",
     "output_type": "stream",
     "text": [
      "6.560073820974377\n"
     ]
    }
   ],
   "source": [
    "print(option.NPV())"
   ]
  },
  {
   "cell_type": "code",
   "execution_count": 23,
   "id": "6d8f4d58-5315-4354-809c-12bf32abc427",
   "metadata": {
    "tags": []
   },
   "outputs": [
    {
     "data": {
      "image/png": "[encoded data removed]",
      "text/plain": [
       "<Figure size 640x480 with 1 Axes>"
      ]
     },
     "metadata": {},
     "output_type": "display_data"
    }
   ],
   "source": [
    "ys = []\n",
    "for x in xs:\n",
    "    u.setValue(x)\n",
    "    ys.append(option.NPV())\n",
    "ax.plot(xs, ys, '--')\n",
    "display(f)"
   ]
  },
  {
   "cell_type": "code",
   "execution_count": 24,
   "id": "468ae0ff-b504-4038-825c-5d490ea3428a",
   "metadata": {
    "tags": []
   },
   "outputs": [],
   "source": [
    "ql.Settings.instance().evaluationDate = ql.Date(7, ql.June, 2014)"
   ]
  },
  {
   "cell_type": "code",
   "execution_count": 25,
   "id": "cd5db204-a462-4094-9b8d-3387732990a6",
   "metadata": {
    "tags": []
   },
   "outputs": [
    {
     "name": "stdout",
     "output_type": "stream",
     "text": [
      "0.0\n"
     ]
    }
   ],
   "source": [
    "print(option.NPV())"
   ]
  },
  {
   "cell_type": "markdown",
   "id": "b2514446-de1d-48c2-acf9-155b07fad19b",
   "metadata": {},
   "source": [
    "### Other pricing methods ###"
   ]
  },
  {
   "cell_type": "code",
   "execution_count": 26,
   "id": "03aa489b-cdb0-4301-a127-7f7a2bc41698",
   "metadata": {
    "tags": []
   },
   "outputs": [],
   "source": [
    "ql.Settings.instance().evaluationDate = today\n",
    "u.setValue(105.0)\n",
    "r.setValue(0.01)\n",
    "sigma.setValue(0.20)"
   ]
  },
  {
   "cell_type": "code",
   "execution_count": 27,
   "id": "d64c95ec-33db-4c79-9f50-1c883547a4cb",
   "metadata": {
    "tags": []
   },
   "outputs": [
    {
     "name": "stdout",
     "output_type": "stream",
     "text": [
      "7.27556357927846\n"
     ]
    }
   ],
   "source": [
    "print(option.NPV())"
   ]
  },
  {
   "cell_type": "code",
   "execution_count": 28,
   "id": "198c2ffb-f165-402f-8dd1-1299634bdda7",
   "metadata": {
    "tags": []
   },
   "outputs": [],
   "source": [
    "model = ql.HestonModel(ql.HestonProcess(ql.YieldTermStructureHandle(riskFreeCurve),\n",
    "                                        ql.YieldTermStructureHandle(ql.FlatForward(0, ql.TARGET(), 0.0, ql.Actual360())),\n",
    "                                        ql.QuoteHandle(u), 0.04, 0.1, 0.01, 0.05, -0.75))"
   ]
  },
  {
   "cell_type": "code",
   "execution_count": 29,
   "id": "8ea6c754-d9dc-4feb-b35e-f9faa8c3bcc8",
   "metadata": {
    "tags": []
   },
   "outputs": [],
   "source": [
    "engine = ql.AnalyticHestonEngine(model)\n",
    "option.setPricingEngine(engine)"
   ]
  },
  {
   "cell_type": "code",
   "execution_count": 30,
   "id": "99c43d68-a345-45b0-8131-7918b2ff5202",
   "metadata": {
    "tags": []
   },
   "outputs": [
    {
     "name": "stdout",
     "output_type": "stream",
     "text": [
      "7.295356086978643\n"
     ]
    }
   ],
   "source": [
    "print(option.NPV())"
   ]
  },
  {
   "cell_type": "markdown",
   "id": "26a6633d-2841-4466-ba9f-4b9e8e795d1c",
   "metadata": {},
   "source": [
    "### Lazy recalculation ###"
   ]
  },
  {
   "cell_type": "code",
   "execution_count": 31,
   "id": "294bedd3-89d7-49f8-b1a3-8445c6b7ab17",
   "metadata": {
    "tags": []
   },
   "outputs": [],
   "source": [
    "engine = ql.MCEuropeanEngine(process, \"PseudoRandom\", timeSteps=20, requiredSamples=250000)\n",
    "option.setPricingEngine(engine)"
   ]
  },
  {
   "cell_type": "code",
   "execution_count": 32,
   "id": "04485d81-f8a3-42d2-8aa0-0904dbe30261",
   "metadata": {
    "tags": []
   },
   "outputs": [
    {
     "name": "stdout",
     "output_type": "stream",
     "text": [
      "7.2715337086092395\n",
      "CPU times: total: 1.92 s\n",
      "Wall time: 1.97 s\n"
     ]
    }
   ],
   "source": [
    "%time print(option.NPV())"
   ]
  },
  {
   "cell_type": "code",
   "execution_count": 33,
   "id": "e4b65791-2766-458d-aaac-63cedb1ba1a9",
   "metadata": {
    "tags": []
   },
   "outputs": [
    {
     "name": "stdout",
     "output_type": "stream",
     "text": [
      "7.2715337086092395\n",
      "CPU times: total: 0 ns\n",
      "Wall time: 1e+03 µs\n"
     ]
    }
   ],
   "source": [
    "%time print(option.NPV())"
   ]
  },
  {
   "cell_type": "code",
   "execution_count": 34,
   "id": "a62d863b-86ad-42c2-9fc5-f62a51541a07",
   "metadata": {
    "tags": []
   },
   "outputs": [],
   "source": [
    "u.setValue(104.0)"
   ]
  },
  {
   "cell_type": "code",
   "execution_count": 35,
   "id": "e2c6a367-1b0b-4355-8bea-76a336d3b058",
   "metadata": {
    "tags": []
   },
   "outputs": [
    {
     "name": "stdout",
     "output_type": "stream",
     "text": [
      "6.607295537390783\n",
      "CPU times: total: 1.95 s\n",
      "Wall time: 1.99 s\n"
     ]
    }
   ],
   "source": [
    "%time print(option.NPV())"
   ]
  },
  {
   "cell_type": "code",
   "execution_count": null,
   "id": "068166ec-183d-484b-bf6a-3c8fb364bba4",
   "metadata": {},
   "outputs": [],
   "source": []
  }
 ],
 "metadata": {
  "kernelspec": {
   "display_name": "Python 3 (ipykernel)",
   "language": "python",
   "name": "python3"
  },
  "language_info": {
   "codemirror_mode": {
    "name": "ipython",
    "version": 3
   },
   "file_extension": ".py",
   "mimetype": "text/x-python",
   "name": "python",
   "nbconvert_exporter": "python",
   "pygments_lexer": "ipython3",
   "version": "3.10.8"
  },
  "widgets": {
   "application/vnd.jupyter.widget-state+json": {
    "state": {},
    "version_major": 2,
    "version_minor": 0
   }
  }
 },
 "nbformat": 4,
 "nbformat_minor": 5
}
