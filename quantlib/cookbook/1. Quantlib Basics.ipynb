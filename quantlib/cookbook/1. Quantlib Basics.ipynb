{
 "cells": [
  {
   "cell_type": "markdown",
   "id": "5c69246b-e598-4304-9612-74808e1a4b3d",
   "metadata": {},
   "source": [
    "# Basics #\n",
    "## 1. Quantlib Basics ##"
   ]
  },
  {
   "cell_type": "code",
   "execution_count": 3,
   "id": "f1f8df5a-98d5-448a-84cd-1a54a98e86c7",
   "metadata": {
    "tags": []
   },
   "outputs": [],
   "source": [
    "import QuantLib as ql"
   ]
  },
  {
   "cell_type": "markdown",
   "id": "c0a16d87-caeb-4b49-bc92-efcf9464e482",
   "metadata": {},
   "source": [
    "### Date Class ###"
   ]
  },
  {
   "cell_type": "code",
   "execution_count": 4,
   "id": "b2405bd1-7f97-492a-8daa-51ce317f4f70",
   "metadata": {
    "tags": []
   },
   "outputs": [
    {
     "name": "stdout",
     "output_type": "stream",
     "text": [
      "March 31st, 2015\n"
     ]
    }
   ],
   "source": [
    "date = ql.Date(31, 3, 2015)\n",
    "print(date)"
   ]
  },
  {
   "cell_type": "code",
   "execution_count": 6,
   "id": "050c833b-b3d8-414e-8463-8491ae7cf71a",
   "metadata": {
    "tags": []
   },
   "outputs": [
    {
     "name": "stdout",
     "output_type": "stream",
     "text": [
      "3-31-2015\n"
     ]
    }
   ],
   "source": [
    "print(f'{date.month()}-{date.dayOfMonth()}-{date.year()}')"
   ]
  },
  {
   "cell_type": "code",
   "execution_count": 8,
   "id": "b7a87a02-b142-4fc5-895d-c77987e462d5",
   "metadata": {
    "tags": []
   },
   "outputs": [
    {
     "data": {
      "text/plain": [
       "True"
      ]
     },
     "execution_count": 8,
     "metadata": {},
     "output_type": "execute_result"
    }
   ],
   "source": [
    "date.weekday() == ql.Tuesday"
   ]
  },
  {
   "cell_type": "code",
   "execution_count": 9,
   "id": "f4e7f1f5-3f8f-4216-a691-20dc04634851",
   "metadata": {
    "tags": []
   },
   "outputs": [
    {
     "name": "stdout",
     "output_type": "stream",
     "text": [
      "Add a day :  April 1st, 2015\n",
      "Subtract a day :  March 30th, 2015\n",
      "Add a week :  April 7th, 2015\n",
      "Add a month :  April 30th, 2015\n",
      "Add a year :  March 31st, 2016\n"
     ]
    }
   ],
   "source": [
    "print(\"Add a day : \", date + 1)\n",
    "print(\"Subtract a day : \", date - 1)\n",
    "print(\"Add a week : \", date + ql.Period(1, ql.Weeks))\n",
    "print(\"Add a month : \", date + ql.Period(1, ql.Months))\n",
    "print(\"Add a year : \", date + ql.Period(1, ql.Years))"
   ]
  },
  {
   "cell_type": "code",
   "execution_count": 10,
   "id": "19e4af0f-7faa-4609-835a-ced2ddba2c88",
   "metadata": {
    "tags": []
   },
   "outputs": [
    {
     "name": "stdout",
     "output_type": "stream",
     "text": [
      "True\n",
      "True\n",
      "True\n",
      "True\n"
     ]
    }
   ],
   "source": [
    "print(date == ql.Date(31, 3, 2015))\n",
    "print(date > ql.Date(30, 3, 2015))\n",
    "print(date < ql.Date(1, 4, 2015))\n",
    "print(date != ql.Date(1, 4, 2015))"
   ]
  },
  {
   "cell_type": "markdown",
   "id": "70ea8669-e879-41b3-902e-9145664afc8a",
   "metadata": {},
   "source": [
    "### Calendar Class ###"
   ]
  },
  {
   "cell_type": "code",
   "execution_count": 15,
   "id": "b7da8eb5-3dbf-4d19-a485-290754bc1b45",
   "metadata": {
    "tags": []
   },
   "outputs": [
    {
     "name": "stdout",
     "output_type": "stream",
     "text": [
      "Add 60 days: May 30th, 2015\n",
      "Add 60 business days in US: June 24th, 2015\n",
      "Add 60 business days in Italy: June 26th, 2015\n"
     ]
    }
   ],
   "source": [
    "date = ql.Date(31, 3, 2015)\n",
    "us_calendar = ql.UnitedStates(ql.UnitedStates.FederalReserve)\n",
    "italy_calendar = ql.Italy()\n",
    "period = ql.Period(60, ql.Days)\n",
    "raw_date = date + period\n",
    "us_date = us_calendar.advance(date, period)\n",
    "italy_date = italy_calendar.advance(date, period)\n",
    "print(\"Add 60 days:\", raw_date)\n",
    "print(\"Add 60 business days in US:\", us_date)\n",
    "print(\"Add 60 business days in Italy:\", italy_date)"
   ]
  },
  {
   "cell_type": "code",
   "execution_count": 16,
   "id": "ea051364-6447-499e-a51e-a02d3cc9dca6",
   "metadata": {
    "tags": []
   },
   "outputs": [
    {
     "name": "stdout",
     "output_type": "stream",
     "text": [
      "Business days US: 60\n",
      "Business days Italy: 60\n"
     ]
    }
   ],
   "source": [
    "us_busdays = us_calendar.businessDaysBetween(date, us_date)\n",
    "italy_busdays = italy_calendar.businessDaysBetween(date, italy_date)\n",
    "print(\"Business days US:\", us_busdays)\n",
    "print(\"Business days Italy:\", italy_busdays)"
   ]
  },
  {
   "cell_type": "code",
   "execution_count": 18,
   "id": "a4c9287a-de79-46d3-bd70-6461837e83aa",
   "metadata": {
    "tags": []
   },
   "outputs": [
    {
     "name": "stdout",
     "output_type": "stream",
     "text": [
      "Add 60 business days in US-Italy: June 29th, 2015\n",
      "Business days US-Italy: 60\n"
     ]
    }
   ],
   "source": [
    "joint_calendar = ql.JointCalendar(us_calendar, italy_calendar)\n",
    "joint_date = joint_calendar.advance(date, period)\n",
    "joint_busdays = joint_calendar.businessDaysBetween(date, joint_date)\n",
    "print(\"Add 60 business days in US-Italy:\", joint_date)\n",
    "print(\"Business days US-Italy:\", joint_busdays)"
   ]
  },
  {
   "cell_type": "markdown",
   "id": "6ad6202e-7e0d-455e-a4ea-e41b77221b45",
   "metadata": {},
   "source": [
    "### Schedule Class ###"
   ]
  },
  {
   "cell_type": "code",
   "execution_count": 19,
   "id": "dfbfc6bc-98cd-468b-90ad-8b9eb084a894",
   "metadata": {
    "tags": []
   },
   "outputs": [
    {
     "name": "stdout",
     "output_type": "stream",
     "text": [
      "1 January 2nd, 2015\n",
      "2 February 2nd, 2015\n",
      "3 March 2nd, 2015\n",
      "4 April 1st, 2015\n",
      "5 May 1st, 2015\n",
      "6 June 1st, 2015\n",
      "7 July 1st, 2015\n",
      "8 August 3rd, 2015\n",
      "9 September 1st, 2015\n",
      "10 October 1st, 2015\n",
      "11 November 2nd, 2015\n",
      "12 December 1st, 2015\n",
      "13 January 4th, 2016\n"
     ]
    }
   ],
   "source": [
    "effective_date = ql.Date(1, 1, 2015)\n",
    "termination_date = ql.Date(1, 1, 2016)\n",
    "tenor = ql.Period(ql.Monthly)\n",
    "calendar = ql.UnitedStates(ql.UnitedStates.FederalReserve)\n",
    "business_convention = ql.Following\n",
    "termination_business_convention = ql.Following\n",
    "date_generation = ql.DateGeneration.Forward\n",
    "end_of_month = False\n",
    "schedule = ql.Schedule(effective_date,\n",
    "                       termination_date,\n",
    "                       tenor,\n",
    "                       calendar,\n",
    "                       business_convention,\n",
    "                       termination_business_convention,\n",
    "                       date_generation,\n",
    "                       end_of_month)\n",
    "for i, d in enumerate(schedule):\n",
    "    print(i+1, d)"
   ]
  },
  {
   "cell_type": "code",
   "execution_count": 20,
   "id": "801fd05b-7198-4a69-abca-704f3882c3ef",
   "metadata": {
    "tags": []
   },
   "outputs": [
    {
     "name": "stdout",
     "output_type": "stream",
     "text": [
      "1 January 2nd, 2015\n",
      "2 January 15th, 2015\n",
      "3 February 2nd, 2015\n",
      "4 March 2nd, 2015\n",
      "5 April 1st, 2015\n",
      "6 May 1st, 2015\n",
      "7 June 1st, 2015\n",
      "8 July 1st, 2015\n",
      "9 August 3rd, 2015\n",
      "10 September 1st, 2015\n",
      "11 October 1st, 2015\n",
      "12 November 2nd, 2015\n",
      "13 December 1st, 2015\n",
      "14 January 4th, 2016\n"
     ]
    }
   ],
   "source": [
    "# short stub in the front\n",
    "effective_date = ql.Date(1, 1, 2015)\n",
    "termination_date = ql.Date(1, 1, 2016)\n",
    "first_date = ql.Date(15, 1, 2015)\n",
    "date_generation = ql.DateGeneration.Backward\n",
    "schedule = ql.Schedule(effective_date,\n",
    "                       termination_date,\n",
    "                       tenor,\n",
    "                       calendar,\n",
    "                       business_convention,\n",
    "                       termination_business_convention,\n",
    "                       date_generation,\n",
    "                       end_of_month,\n",
    "                       first_date)\n",
    "for i, d in enumerate(schedule):\n",
    "    print(i+1, d)"
   ]
  },
  {
   "cell_type": "code",
   "execution_count": 22,
   "id": "d1c55fba-7d12-4e33-b1d3-28d87bc2f27e",
   "metadata": {
    "tags": []
   },
   "outputs": [
    {
     "name": "stdout",
     "output_type": "stream",
     "text": [
      "1 January 2nd, 2015\n",
      "2 February 2nd, 2015\n",
      "3 March 2nd, 2015\n",
      "4 April 1st, 2015\n",
      "5 May 1st, 2015\n",
      "6 June 1st, 2015\n",
      "7 July 1st, 2015\n",
      "8 August 3rd, 2015\n",
      "9 September 1st, 2015\n",
      "10 October 1st, 2015\n",
      "11 November 2nd, 2015\n",
      "12 December 1st, 2015\n",
      "13 December 15th, 2015\n",
      "14 January 4th, 2016\n"
     ]
    }
   ],
   "source": [
    "# short stub at the back\n",
    "effective_date = ql.Date(1, 1, 2015)\n",
    "termination_date = ql.Date(1, 1, 2016)\n",
    "penultimate_date = ql.Date(15, 12, 2015)\n",
    "date_generation = ql.DateGeneration.Forward\n",
    "schedule = ql.Schedule(effective_date,\n",
    "                       termination_date,\n",
    "                       tenor,\n",
    "                       calendar,\n",
    "                       business_convention,\n",
    "                       termination_business_convention,\n",
    "                       date_generation,\n",
    "                       end_of_month,\n",
    "                       ql.Date(),\n",
    "                       penultimate_date)\n",
    "for i, d in enumerate(schedule):\n",
    "    print(i+1, d)"
   ]
  },
  {
   "cell_type": "code",
   "execution_count": 23,
   "id": "09755bf4-dd1f-4f2b-a8e0-09dc63ba99d1",
   "metadata": {
    "tags": []
   },
   "outputs": [
    {
     "name": "stdout",
     "output_type": "stream",
     "text": [
      "1 December 15th, 2014\n",
      "2 February 2nd, 2015\n",
      "3 March 2nd, 2015\n",
      "4 April 1st, 2015\n",
      "5 May 1st, 2015\n",
      "6 June 1st, 2015\n",
      "7 July 1st, 2015\n",
      "8 August 3rd, 2015\n",
      "9 September 1st, 2015\n",
      "10 October 1st, 2015\n",
      "11 November 2nd, 2015\n",
      "12 December 1st, 2015\n",
      "13 January 4th, 2016\n"
     ]
    }
   ],
   "source": [
    "# long stub in the front\n",
    "effective_date = ql.Date(15, 12, 2014)\n",
    "termination_date = ql.Date(1, 1, 2016)\n",
    "first_date = ql.Date(1, 2, 2015)\n",
    "date_generation = ql.DateGeneration.Backward\n",
    "schedule = ql.Schedule(effective_date,\n",
    "                       termination_date,\n",
    "                       tenor,\n",
    "                       calendar,\n",
    "                       business_convention,\n",
    "                       termination_business_convention,\n",
    "                       date_generation,\n",
    "                       end_of_month,\n",
    "                       first_date)\n",
    "for i, d in enumerate(schedule):\n",
    "    print(i+1, d)"
   ]
  },
  {
   "cell_type": "code",
   "execution_count": 24,
   "id": "521d1116-959d-4c33-9855-9babfe7da865",
   "metadata": {
    "tags": []
   },
   "outputs": [
    {
     "name": "stdout",
     "output_type": "stream",
     "text": [
      "1 January 2nd, 2015\n",
      "2 February 2nd, 2015\n",
      "3 March 2nd, 2015\n",
      "4 April 1st, 2015\n",
      "5 May 1st, 2015\n",
      "6 June 1st, 2015\n",
      "7 July 1st, 2015\n",
      "8 August 3rd, 2015\n",
      "9 September 1st, 2015\n",
      "10 October 1st, 2015\n",
      "11 November 2nd, 2015\n",
      "12 December 1st, 2015\n",
      "13 January 15th, 2016\n"
     ]
    }
   ],
   "source": [
    "# long stub at the back\n",
    "effective_date = ql.Date(1, 1, 2015)\n",
    "termination_date = ql.Date(15, 1, 2016)\n",
    "penultimate_date = ql.Date(1, 12, 2015)\n",
    "date_generation = ql.DateGeneration.Forward\n",
    "schedule = ql.Schedule(effective_date,\n",
    "                       termination_date,\n",
    "                       tenor,\n",
    "                       calendar,\n",
    "                       business_convention,\n",
    "                       termination_business_convention,\n",
    "                       date_generation,\n",
    "                       end_of_month,\n",
    "                       ql.Date(),\n",
    "                       penultimate_date)\n",
    "for i, d in enumerate(schedule):\n",
    "    print(i+1, d)"
   ]
  },
  {
   "cell_type": "code",
   "execution_count": 25,
   "id": "50ea96c0-d278-4ec6-93b4-3d9ac155ea39",
   "metadata": {
    "tags": []
   },
   "outputs": [
    {
     "name": "stdout",
     "output_type": "stream",
     "text": [
      "1 January 2nd, 2015\n",
      "2 February 2nd, 2015\n",
      "3 March 2nd, 2015\n",
      "4 April 1st, 2015\n",
      "5 May 1st, 2015\n",
      "6 June 1st, 2015\n",
      "7 July 1st, 2015\n",
      "8 August 3rd, 2015\n",
      "9 September 1st, 2015\n",
      "10 October 1st, 2015\n",
      "11 November 2nd, 2015\n",
      "12 December 1st, 2015\n",
      "13 January 4th, 2016\n"
     ]
    }
   ],
   "source": [
    "dates = [ql.Date(2,1,2015), ql.Date(2, 2,2015),\n",
    "         ql.Date(2,3,2015), ql.Date(1,4,2015),\n",
    "         ql.Date(1,5,2015), ql.Date(1,6,2015),\n",
    "         ql.Date(1,7,2015), ql.Date(3,8,2015),\n",
    "         ql.Date(1,9,2015), ql.Date(1,10,2015),\n",
    "         ql.Date(2,11,2015), ql.Date(1,12,2015),\n",
    "         ql.Date(4,1,2016)]\n",
    "rolling_convention = ql.Following\n",
    "schedule = ql.Schedule(dates, calendar, rolling_convention)\n",
    "for i, d in enumerate(schedule):\n",
    "    print(i+1, d)"
   ]
  },
  {
   "cell_type": "markdown",
   "id": "560a0384-8bfa-4271-ae4e-6a54f25538db",
   "metadata": {},
   "source": [
    "### Interest Rate ###"
   ]
  },
  {
   "cell_type": "code",
   "execution_count": 34,
   "id": "d8d98dbb-c5ca-4209-b029-d649de98727d",
   "metadata": {
    "tags": []
   },
   "outputs": [],
   "source": [
    "annual_rate = 0.05\n",
    "day_count = ql.ActualActual(ql.ActualActual.Historical)\n",
    "compound_type = ql.Compounded\n",
    "frequency = ql.Annual\n",
    "interest_rate = ql.InterestRate(annual_rate,\n",
    "                                day_count,\n",
    "                                compound_type,\n",
    "                                frequency)"
   ]
  },
  {
   "cell_type": "code",
   "execution_count": 35,
   "id": "ce0e0d75-1162-45d2-a8fa-85188f271066",
   "metadata": {
    "tags": []
   },
   "outputs": [
    {
     "name": "stdout",
     "output_type": "stream",
     "text": [
      "1.1025\n",
      "1.1025\n"
     ]
    }
   ],
   "source": [
    "t = 2.0\n",
    "print(interest_rate.compoundFactor(t))\n",
    "print((1+annual_rate)*(1.0+annual_rate))"
   ]
  },
  {
   "cell_type": "code",
   "execution_count": 36,
   "id": "7028c1b1-a3a3-4cdc-aa73-51242c87c8bc",
   "metadata": {
    "tags": []
   },
   "outputs": [
    {
     "name": "stdout",
     "output_type": "stream",
     "text": [
      "0.9070294784580498\n",
      "0.9070294784580498\n"
     ]
    }
   ],
   "source": [
    "print(interest_rate.discountFactor(t))\n",
    "print(1.0/interest_rate.compoundFactor(t))"
   ]
  },
  {
   "cell_type": "code",
   "execution_count": 37,
   "id": "5daf1e09-7126-46e9-8942-b0989060615f",
   "metadata": {
    "tags": []
   },
   "outputs": [
    {
     "name": "stdout",
     "output_type": "stream",
     "text": [
      "0.04939015319191986\n"
     ]
    }
   ],
   "source": [
    "new_frequency = ql.Semiannual\n",
    "new_interest_rate = interest_rate.equivalentRate(compound_type, new_frequency, t)\n",
    "new_annual_rate = new_interest_rate.rate()\n",
    "print(new_annual_rate)"
   ]
  },
  {
   "cell_type": "code",
   "execution_count": 38,
   "id": "eb1e90cc-14f0-43d2-b464-856bd85ca8b4",
   "metadata": {
    "tags": []
   },
   "outputs": [
    {
     "name": "stdout",
     "output_type": "stream",
     "text": [
      "0.9070294784580498\n",
      "0.9070294784580495\n"
     ]
    }
   ],
   "source": [
    "print(interest_rate.discountFactor(t))\n",
    "print(new_interest_rate.discountFactor(t))"
   ]
  },
  {
   "cell_type": "code",
   "execution_count": null,
   "id": "5989f441-7122-457b-9f8c-18e98ee59bdf",
   "metadata": {},
   "outputs": [],
   "source": []
  }
 ],
 "metadata": {
  "kernelspec": {
   "display_name": "Python 3 (ipykernel)",
   "language": "python",
   "name": "python3"
  },
  "language_info": {
   "codemirror_mode": {
    "name": "ipython",
    "version": 3
   },
   "file_extension": ".py",
   "mimetype": "text/x-python",
   "name": "python",
   "nbconvert_exporter": "python",
   "pygments_lexer": "ipython3",
   "version": "3.10.8"
  }
 },
 "nbformat": 4,
 "nbformat_minor": 5
}
