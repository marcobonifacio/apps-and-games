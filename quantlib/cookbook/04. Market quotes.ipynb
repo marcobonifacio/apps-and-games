{
 "cells": [
  {
   "cell_type": "markdown",
   "id": "256b5fe5-be2b-4e2e-a4e1-179cabe8955c",
   "metadata": {},
   "source": [
    "# Basics #\n",
    "## 4. Market quotes ##"
   ]
  },
  {
   "cell_type": "code",
   "execution_count": 1,
   "id": "11ffc1a1-78d2-4755-8e86-5273428e6be3",
   "metadata": {
    "tags": []
   },
   "outputs": [],
   "source": [
    "import matplotlib.pyplot as plot\n",
    "import numpy"
   ]
  },
  {
   "cell_type": "code",
   "execution_count": 2,
   "id": "f615030f-1b48-427c-98be-81f3b82cd7cc",
   "metadata": {
    "tags": []
   },
   "outputs": [],
   "source": [
    "import QuantLib as ql"
   ]
  },
  {
   "cell_type": "code",
   "execution_count": 3,
   "id": "c42af5f7-03fe-46ec-b42a-ba44ee656b91",
   "metadata": {
    "tags": []
   },
   "outputs": [],
   "source": [
    "today = ql.Date(17, ql.October, 2016)\n",
    "ql.Settings.instance().evaluationDate = today"
   ]
  },
  {
   "cell_type": "markdown",
   "id": "7204585f-5a15-4544-9382-b833daba34ba",
   "metadata": {},
   "source": [
    "### Setting the stage ###"
   ]
  },
  {
   "cell_type": "code",
   "execution_count": 4,
   "id": "04bae949-24a9-4f93-a8d1-1e7b4260c133",
   "metadata": {
    "tags": []
   },
   "outputs": [],
   "source": [
    "data = [ (2, 0.02), (4, 0.0225), (6, 0.025), (8, 0.0275),\n",
    "        (10, 0.03), (12, 0.0325), (14, 0.035), (16, 0.0375),\n",
    "        (18, 0.04), (20, 0.0425), (22, 0.045), (24, 0.0475),\n",
    "        (26, 0.05), (28, 0.0525), (30, 0.055)]"
   ]
  },
  {
   "cell_type": "code",
   "execution_count": 5,
   "id": "b7c010fd-ed0c-4629-9da0-002031e1dd14",
   "metadata": {
    "tags": []
   },
   "outputs": [],
   "source": [
    "calendar = ql.TARGET()\n",
    "settlement = calendar.advance(today, 3, ql.Days)\n",
    "quotes = []\n",
    "helpers = []\n",
    "for length, coupon in data:\n",
    "    maturity = calendar.advance(settlement, length, ql.Years)\n",
    "    schedule = ql.Schedule(settlement, maturity, ql.Period(ql.Annual),\n",
    "                           calendar, ql.ModifiedFollowing, ql.ModifiedFollowing,\n",
    "                           ql.DateGeneration.Backward, False)\n",
    "    quote = ql.SimpleQuote(100.0)\n",
    "    quotes.append(quote)\n",
    "    helpers.append(ql.FixedRateBondHelper(ql.QuoteHandle(quote), 3, 100,\n",
    "                                          schedule, [coupon], ql.SimpleDayCounter(),\n",
    "                                          ql.ModifiedFollowing))\n",
    "curve = ql.FittedBondDiscountCurve(0, calendar, helpers,\n",
    "                                   ql.SimpleDayCounter(), ql.NelsonSiegelFitting())"
   ]
  },
  {
   "cell_type": "code",
   "execution_count": 6,
   "id": "37eb9d79-96dd-49a7-9d2c-d2e05b57c241",
   "metadata": {
    "tags": []
   },
   "outputs": [
    {
     "data": {
      "image/png": "[encoded data removed]",
      "text/plain": [
       "<Figure size 640x480 with 1 Axes>"
      ]
     },
     "metadata": {},
     "output_type": "display_data"
    }
   ],
   "source": [
    "sample_times = numpy.linspace(0.0, 30.0, 301)\n",
    "sample_discounts = [curve.discount(t) for t in sample_times]\n",
    "f, ax = plot.subplots()\n",
    "ax.set_ylim(0.0, 1.0)\n",
    "_ = ax.plot(sample_times, sample_discounts)"
   ]
  },
  {
   "cell_type": "code",
   "execution_count": 7,
   "id": "2cd908e1-fab1-4ff1-9ecd-6b9c71963cfd",
   "metadata": {
    "tags": []
   },
   "outputs": [
    {
     "name": "stdout",
     "output_type": "stream",
     "text": [
      "105.77449622178025\n"
     ]
    }
   ],
   "source": [
    "schedule = ql.Schedule(today, calendar.advance(today, 15, ql.Years),\n",
    "                       ql.Period(ql.Semiannual), calendar,\n",
    "                       ql.ModifiedFollowing, ql.ModifiedFollowing,\n",
    "                       ql.DateGeneration.Backward, False)\n",
    "bond = ql.FixedRateBond(3, 100.0, schedule, [0.04], ql.Actual360())\n",
    "bond.setPricingEngine(ql.DiscountingBondEngine(ql.YieldTermStructureHandle(curve)))\n",
    "print(bond.cleanPrice())"
   ]
  },
  {
   "cell_type": "markdown",
   "id": "7f063851-263f-49f4-9d51-83a8bdcede0b",
   "metadata": {},
   "source": [
    "### “It looked like a good idea at the time” ###"
   ]
  },
  {
   "cell_type": "code",
   "execution_count": 8,
   "id": "43ff2d02-4e67-4333-9e8f-e053baad9bd5",
   "metadata": {
    "tags": []
   },
   "outputs": [],
   "source": [
    "prices = []\n",
    "def print_price():\n",
    "    p = bond.cleanPrice()\n",
    "    prices.append(p)\n",
    "    print(p)\n",
    "o = ql.Observer(print_price)\n",
    "o.registerWith(bond)"
   ]
  },
  {
   "cell_type": "code",
   "execution_count": 9,
   "id": "2e82e613-eef7-41e9-83c0-47255587fa1d",
   "metadata": {
    "tags": []
   },
   "outputs": [
    {
     "name": "stdout",
     "output_type": "stream",
     "text": [
      "105.77449622178025\n",
      "105.86560413454633\n"
     ]
    }
   ],
   "source": [
    "quotes[2].setValue(101.0)"
   ]
  },
  {
   "cell_type": "code",
   "execution_count": 10,
   "id": "12627ddc-ce8d-4d87-afc2-34b4224ad032",
   "metadata": {
    "tags": []
   },
   "outputs": [
    {
     "name": "stdout",
     "output_type": "stream",
     "text": [
      "105.86560413454633\n",
      "105.77449629935997\n"
     ]
    }
   ],
   "source": [
    "quotes[2].setValue(100.0)"
   ]
  },
  {
   "cell_type": "code",
   "execution_count": 11,
   "id": "8df9d01f-749e-434d-b0a7-178fc063d174",
   "metadata": {
    "tags": []
   },
   "outputs": [
    {
     "name": "stdout",
     "output_type": "stream",
     "text": [
      "105.77449629935997\n",
      "105.28388431734797\n",
      "105.28388431734797\n",
      "105.21862908937854\n",
      "105.21862908937854\n",
      "105.31959061782912\n",
      "105.31959061782912\n",
      "105.4878665199256\n",
      "105.4878665199256\n",
      "105.68032069984417\n",
      "105.68032069984417\n",
      "105.87580395370706\n",
      "105.87580395370706\n",
      "106.06201712895626\n",
      "106.06201712895626\n",
      "106.23044640303691\n",
      "106.23044640303691\n",
      "106.37409225296702\n",
      "106.37409225296702\n",
      "106.48708840964723\n",
      "106.48708840964723\n",
      "106.56505206560037\n",
      "106.56505206560037\n",
      "106.60570725304025\n",
      "106.60570725304025\n",
      "106.60980189619876\n",
      "106.60980189619876\n",
      "106.58011141886773\n",
      "106.58011141886773\n",
      "106.52070693410052\n"
     ]
    }
   ],
   "source": [
    "prices = []\n",
    "for q in quotes:\n",
    "    q.setValue(101.0)"
   ]
  },
  {
   "cell_type": "code",
   "execution_count": 12,
   "id": "882b6904-b467-41be-8530-dbc47e7978cb",
   "metadata": {
    "tags": []
   },
   "outputs": [
    {
     "data": {
      "image/png": "[encoded data removed]",
      "text/plain": [
       "<Figure size 640x480 with 1 Axes>"
      ]
     },
     "metadata": {},
     "output_type": "display_data"
    }
   ],
   "source": [
    "unique_prices = prices[::2] + prices[-1::]\n",
    "_ = plot.plot(unique_prices, '-')"
   ]
  },
  {
   "cell_type": "code",
   "execution_count": 13,
   "id": "a18ca87d-68b1-4f85-ba0c-c156d5d40bc9",
   "metadata": {
    "tags": []
   },
   "outputs": [],
   "source": [
    "bond.freeze()"
   ]
  },
  {
   "cell_type": "code",
   "execution_count": 14,
   "id": "8db582e3-05a5-4274-b46b-a54a58fc1aa0",
   "metadata": {
    "tags": []
   },
   "outputs": [],
   "source": [
    "for q in quotes:\n",
    "    q.setValue(101.5)"
   ]
  },
  {
   "cell_type": "code",
   "execution_count": 15,
   "id": "2023f935-5040-4548-835d-7c1bc7666761",
   "metadata": {
    "tags": []
   },
   "outputs": [
    {
     "name": "stdout",
     "output_type": "stream",
     "text": [
      "106.8583936144757\n"
     ]
    }
   ],
   "source": [
    "bond.unfreeze()"
   ]
  },
  {
   "cell_type": "markdown",
   "id": "5ae6c33b-925e-4c28-a304-bb04d432fc71",
   "metadata": {},
   "source": [
    "### Pull, don’t push ###"
   ]
  },
  {
   "cell_type": "code",
   "execution_count": 16,
   "id": "74ee7818-066e-4a2b-9c19-b3da68d08dbf",
   "metadata": {
    "tags": []
   },
   "outputs": [],
   "source": [
    "del o"
   ]
  },
  {
   "cell_type": "code",
   "execution_count": 17,
   "id": "2807c6cd-2c0b-4a89-a026-c2694f9051f3",
   "metadata": {
    "tags": []
   },
   "outputs": [],
   "source": [
    "flag = {}\n",
    "flag['status'] = 'down'\n",
    "def set_flag():\n",
    "    flag['status'] = 'up'\n",
    "o = ql.Observer(set_flag)\n",
    "o.registerWith(bond)"
   ]
  },
  {
   "cell_type": "code",
   "execution_count": 18,
   "id": "c2646632-56c1-412c-9aa8-6e8c1bc4ed2a",
   "metadata": {
    "tags": []
   },
   "outputs": [
    {
     "name": "stdout",
     "output_type": "stream",
     "text": [
      "{'status': 'down'}\n"
     ]
    }
   ],
   "source": [
    "print(flag)"
   ]
  },
  {
   "cell_type": "code",
   "execution_count": 19,
   "id": "0d6daaec-ab6d-4edd-8183-671b1454ee18",
   "metadata": {
    "tags": []
   },
   "outputs": [],
   "source": [
    "for q in quotes:\n",
    "    q.setValue(100.0)"
   ]
  },
  {
   "cell_type": "code",
   "execution_count": 20,
   "id": "6f7dfce5-82ed-4339-acf0-b633c7b147a2",
   "metadata": {
    "tags": []
   },
   "outputs": [
    {
     "name": "stdout",
     "output_type": "stream",
     "text": [
      "{'status': 'up'}\n"
     ]
    }
   ],
   "source": [
    "print(flag)"
   ]
  },
  {
   "cell_type": "code",
   "execution_count": 21,
   "id": "78cc6148-c7f1-4bce-9db6-cc0c3a7f829d",
   "metadata": {
    "tags": []
   },
   "outputs": [
    {
     "data": {
      "text/plain": [
       "105.77449621996125"
      ]
     },
     "execution_count": 21,
     "metadata": {},
     "output_type": "execute_result"
    }
   ],
   "source": [
    "bond.cleanPrice()"
   ]
  },
  {
   "cell_type": "code",
   "execution_count": 22,
   "id": "1c8071ed-0d45-42f5-aedb-4cef4de8b762",
   "metadata": {
    "tags": []
   },
   "outputs": [],
   "source": [
    "del o"
   ]
  },
  {
   "cell_type": "code",
   "execution_count": 23,
   "id": "edc5d4db-f866-43d9-9b2f-fcccf0f2eea4",
   "metadata": {
    "tags": []
   },
   "outputs": [],
   "source": [
    "for q in quotes:\n",
    "    q.setValue(101.0)"
   ]
  },
  {
   "cell_type": "code",
   "execution_count": 24,
   "id": "ca4fa09e-4559-4a08-b754-631fbe11f842",
   "metadata": {
    "tags": []
   },
   "outputs": [
    {
     "data": {
      "text/plain": [
       "106.5207070764094"
      ]
     },
     "execution_count": 24,
     "metadata": {},
     "output_type": "execute_result"
    }
   ],
   "source": [
    "bond.cleanPrice()"
   ]
  },
  {
   "cell_type": "code",
   "execution_count": null,
   "id": "7b99ca17-0bce-4fa9-8b28-c78d7156cdb6",
   "metadata": {},
   "outputs": [],
   "source": []
  }
 ],
 "metadata": {
  "kernelspec": {
   "display_name": "Python 3 (ipykernel)",
   "language": "python",
   "name": "python3"
  },
  "language_info": {
   "codemirror_mode": {
    "name": "ipython",
    "version": 3
   },
   "file_extension": ".py",
   "mimetype": "text/x-python",
   "name": "python",
   "nbconvert_exporter": "python",
   "pygments_lexer": "ipython3",
   "version": "3.10.8"
  },
  "widgets": {
   "application/vnd.jupyter.widget-state+json": {
    "state": {},
    "version_major": 2,
    "version_minor": 0
   }
  }
 },
 "nbformat": 4,
 "nbformat_minor": 5
}
