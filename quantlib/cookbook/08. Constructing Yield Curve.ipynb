{
 "cells": [
  {
   "cell_type": "markdown",
   "id": "1de44237-8bcd-4291-96bb-14619f606c7f",
   "metadata": {},
   "source": [
    "# Interest-rate curves #\n",
    "## 8.Constructing Yield Curve ##"
   ]
  },
  {
   "cell_type": "code",
   "execution_count": 1,
   "id": "75d45134-4468-407f-ad5c-b6fa017d2498",
   "metadata": {
    "tags": []
   },
   "outputs": [],
   "source": [
    "import QuantLib as ql\n",
    "import pandas as pd\n",
    "import numpy as np\n",
    "import matplotlib.pyplot as plt"
   ]
  },
  {
   "cell_type": "code",
   "execution_count": 2,
   "id": "a7039b37-fbed-4693-8caa-c58c7e0b8153",
   "metadata": {
    "tags": []
   },
   "outputs": [
    {
     "data": {
      "text/html": [
       "<div>\n",
       "<style scoped>\n",
       "    .dataframe tbody tr th:only-of-type {\n",
       "        vertical-align: middle;\n",
       "    }\n",
       "\n",
       "    .dataframe tbody tr th {\n",
       "        vertical-align: top;\n",
       "    }\n",
       "\n",
       "    .dataframe thead th {\n",
       "        text-align: right;\n",
       "    }\n",
       "</style>\n",
       "<table border=\"1\" class=\"dataframe\">\n",
       "  <thead>\n",
       "    <tr style=\"text-align: right;\">\n",
       "      <th></th>\n",
       "      <th>Maturities</th>\n",
       "      <th>Curve</th>\n",
       "    </tr>\n",
       "  </thead>\n",
       "  <tbody>\n",
       "    <tr>\n",
       "      <th></th>\n",
       "      <td>6M</td>\n",
       "      <td>5.25</td>\n",
       "    </tr>\n",
       "    <tr>\n",
       "      <th></th>\n",
       "      <td>12M</td>\n",
       "      <td>5.50</td>\n",
       "    </tr>\n",
       "    <tr>\n",
       "      <th></th>\n",
       "      <td>18M</td>\n",
       "      <td>5.75</td>\n",
       "    </tr>\n",
       "    <tr>\n",
       "      <th></th>\n",
       "      <td>24M</td>\n",
       "      <td>6.00</td>\n",
       "    </tr>\n",
       "    <tr>\n",
       "      <th></th>\n",
       "      <td>30M</td>\n",
       "      <td>6.25</td>\n",
       "    </tr>\n",
       "    <tr>\n",
       "      <th></th>\n",
       "      <td>36M</td>\n",
       "      <td>6.50</td>\n",
       "    </tr>\n",
       "    <tr>\n",
       "      <th></th>\n",
       "      <td>42M</td>\n",
       "      <td>6.75</td>\n",
       "    </tr>\n",
       "    <tr>\n",
       "      <th></th>\n",
       "      <td>48M</td>\n",
       "      <td>6.80</td>\n",
       "    </tr>\n",
       "    <tr>\n",
       "      <th></th>\n",
       "      <td>54M</td>\n",
       "      <td>7.00</td>\n",
       "    </tr>\n",
       "    <tr>\n",
       "      <th></th>\n",
       "      <td>60M</td>\n",
       "      <td>7.10</td>\n",
       "    </tr>\n",
       "    <tr>\n",
       "      <th></th>\n",
       "      <td>66M</td>\n",
       "      <td>7.15</td>\n",
       "    </tr>\n",
       "    <tr>\n",
       "      <th></th>\n",
       "      <td>72M</td>\n",
       "      <td>7.20</td>\n",
       "    </tr>\n",
       "    <tr>\n",
       "      <th></th>\n",
       "      <td>78M</td>\n",
       "      <td>7.30</td>\n",
       "    </tr>\n",
       "    <tr>\n",
       "      <th></th>\n",
       "      <td>84M</td>\n",
       "      <td>7.35</td>\n",
       "    </tr>\n",
       "    <tr>\n",
       "      <th></th>\n",
       "      <td>90M</td>\n",
       "      <td>7.40</td>\n",
       "    </tr>\n",
       "    <tr>\n",
       "      <th></th>\n",
       "      <td>96M</td>\n",
       "      <td>7.50</td>\n",
       "    </tr>\n",
       "    <tr>\n",
       "      <th></th>\n",
       "      <td>102M</td>\n",
       "      <td>7.60</td>\n",
       "    </tr>\n",
       "    <tr>\n",
       "      <th></th>\n",
       "      <td>108M</td>\n",
       "      <td>7.60</td>\n",
       "    </tr>\n",
       "    <tr>\n",
       "      <th></th>\n",
       "      <td>114M</td>\n",
       "      <td>7.70</td>\n",
       "    </tr>\n",
       "    <tr>\n",
       "      <th></th>\n",
       "      <td>120M</td>\n",
       "      <td>7.80</td>\n",
       "    </tr>\n",
       "  </tbody>\n",
       "</table>\n",
       "</div>"
      ],
      "text/plain": [
       " Maturities  Curve\n",
       "         6M   5.25\n",
       "        12M   5.50\n",
       "        18M   5.75\n",
       "        24M   6.00\n",
       "        30M   6.25\n",
       "        36M   6.50\n",
       "        42M   6.75\n",
       "        48M   6.80\n",
       "        54M   7.00\n",
       "        60M   7.10\n",
       "        66M   7.15\n",
       "        72M   7.20\n",
       "        78M   7.30\n",
       "        84M   7.35\n",
       "        90M   7.40\n",
       "        96M   7.50\n",
       "       102M   7.60\n",
       "       108M   7.60\n",
       "       114M   7.70\n",
       "       120M   7.80"
      ]
     },
     "execution_count": 2,
     "metadata": {},
     "output_type": "execute_result"
    }
   ],
   "source": [
    "depo_maturities = [ql.Period(6, ql.Months), ql.Period(12, ql.Months)]\n",
    "depo_rates = [5.25, 5.5]\n",
    "# Bond rates\n",
    "bond_maturities = [ql.Period(6 * i, ql.Months) for i in range(3, 21)]\n",
    "bond_rates = [5.75, 6.0, 6.25, 6.5, 6.75, 6.80, 7.00, 7.1, 7.15,\n",
    "              7.2, 7.3, 7.35, 7.4, 7.5, 7.6, 7.6, 7.7, 7.8]\n",
    "maturities = depo_maturities + bond_maturities\n",
    "rates = depo_rates + bond_rates\n",
    "pd.DataFrame(list(zip(maturities, rates)),\n",
    "             columns=[\"Maturities\",\"Curve\"],\n",
    "             index=[''] * len(rates))"
   ]
  },
  {
   "cell_type": "code",
   "execution_count": 3,
   "id": "c0b1bfde-4cfa-48b5-94c0-0588ae016f47",
   "metadata": {
    "tags": []
   },
   "outputs": [],
   "source": [
    "calc_date = ql.Date(15, 1, 2015)\n",
    "ql.Settings.instance().evaluationDate = calc_date\n",
    "calendar = ql.UnitedStates(ql.UnitedStates.GovernmentBond)\n",
    "business_convention = ql.Unadjusted\n",
    "day_count = ql.Thirty360(ql.Thirty360.USA)\n",
    "end_of_month = True\n",
    "settlement_days = 0\n",
    "face_amount = 100\n",
    "coupon_frequency = ql.Period(ql.Semiannual)\n",
    "settlement_days = 0"
   ]
  },
  {
   "cell_type": "code",
   "execution_count": 4,
   "id": "82f8f465-92a5-4bf4-b710-341251837a42",
   "metadata": {
    "tags": []
   },
   "outputs": [],
   "source": [
    "depo_helpers = [ql.DepositRateHelper(ql.QuoteHandle(ql.SimpleQuote(r / 100.0)),\n",
    "                                     m, settlement_days, calendar, business_convention,\n",
    "                                     end_of_month, day_count)\n",
    "                for r, m in zip(depo_rates, depo_maturities)]"
   ]
  },
  {
   "cell_type": "code",
   "execution_count": 5,
   "id": "1c6168cf-2a6d-4584-ba2c-656e6a6a7a15",
   "metadata": {
    "tags": []
   },
   "outputs": [],
   "source": [
    "bond_helpers = []\n",
    "for r, m in zip(bond_rates, bond_maturities):\n",
    "    termination_date = calc_date + m\n",
    "    schedule = ql.Schedule(calc_date, termination_date, coupon_frequency,\n",
    "                           calendar, business_convention, business_convention,\n",
    "                           ql.DateGeneration.Backward, end_of_month)\n",
    "bond_helper = ql.FixedRateBondHelper(ql.QuoteHandle(ql.SimpleQuote(face_amount)),\n",
    "                                     settlement_days, face_amount, schedule, [r / 100.0],\n",
    "                                     day_count, business_convention)\n",
    "bond_helpers.append(bond_helper)"
   ]
  },
  {
   "cell_type": "code",
   "execution_count": 6,
   "id": "a81d396c-9d26-4992-944f-5fd32a5aa84c",
   "metadata": {
    "tags": []
   },
   "outputs": [],
   "source": [
    "rate_helpers = depo_helpers + bond_helpers"
   ]
  },
  {
   "cell_type": "code",
   "execution_count": 7,
   "id": "b798b1c3-6cf7-4e82-99c3-a7c1b2987763",
   "metadata": {
    "tags": []
   },
   "outputs": [],
   "source": [
    "def get_spot_rates(yieldcurve, day_count,\n",
    "                   calendar=ql.UnitedStates(ql.UnitedStates.GovernmentBond), \n",
    "                   months=121):\n",
    "    spots = []\n",
    "    tenors = []\n",
    "    ref_date = yieldcurve.referenceDate()\n",
    "    calc_date = ref_date\n",
    "    for month in range(0, months):\n",
    "        yrs = month / 12.0\n",
    "        d = calendar.advance(ref_date, ql.Period(month, ql.Months))\n",
    "        compounding = ql.Compounded\n",
    "        freq = ql.Semiannual\n",
    "        zero_rate = yieldcurve.zeroRate(yrs, compounding, freq)\n",
    "        tenors.append(yrs)\n",
    "        eq_rate = zero_rate.equivalentRate(day_count, compounding, \n",
    "                                           freq, calc_date, d).rate()\n",
    "        spots.append(100 * eq_rate)\n",
    "    return pd.DataFrame(list(zip(tenors, spots)),\n",
    "                        columns=[\"Maturities\", \"Curve\"],\n",
    "                        index=[''] * len(tenors))"
   ]
  },
  {
   "cell_type": "code",
   "execution_count": 8,
   "id": "c57958be-e0fd-4a97-b1a7-32029f5609fe",
   "metadata": {
    "tags": []
   },
   "outputs": [],
   "source": [
    "yc_logcubicdiscount = ql.PiecewiseLogCubicDiscount(calc_date, rate_helpers, day_count)"
   ]
  },
  {
   "cell_type": "code",
   "execution_count": 9,
   "id": "3ed5b928-62fb-4956-9d28-44462312ff84",
   "metadata": {
    "tags": []
   },
   "outputs": [
    {
     "data": {
      "text/html": [
       "<div>\n",
       "<style scoped>\n",
       "    .dataframe tbody tr th:only-of-type {\n",
       "        vertical-align: middle;\n",
       "    }\n",
       "\n",
       "    .dataframe tbody tr th {\n",
       "        vertical-align: top;\n",
       "    }\n",
       "\n",
       "    .dataframe thead th {\n",
       "        text-align: right;\n",
       "    }\n",
       "</style>\n",
       "<table border=\"1\" class=\"dataframe\">\n",
       "  <thead>\n",
       "    <tr style=\"text-align: right;\">\n",
       "      <th></th>\n",
       "      <th>Maturities</th>\n",
       "      <th>Curve</th>\n",
       "    </tr>\n",
       "  </thead>\n",
       "  <tbody>\n",
       "    <tr>\n",
       "      <th></th>\n",
       "      <td>9.666667</td>\n",
       "      <td>8.062294</td>\n",
       "    </tr>\n",
       "    <tr>\n",
       "      <th></th>\n",
       "      <td>9.750000</td>\n",
       "      <td>8.076474</td>\n",
       "    </tr>\n",
       "    <tr>\n",
       "      <th></th>\n",
       "      <td>9.833333</td>\n",
       "      <td>8.090433</td>\n",
       "    </tr>\n",
       "    <tr>\n",
       "      <th></th>\n",
       "      <td>9.916667</td>\n",
       "      <td>8.104168</td>\n",
       "    </tr>\n",
       "    <tr>\n",
       "      <th></th>\n",
       "      <td>10.000000</td>\n",
       "      <td>8.117682</td>\n",
       "    </tr>\n",
       "  </tbody>\n",
       "</table>\n",
       "</div>"
      ],
      "text/plain": [
       "  Maturities     Curve\n",
       "    9.666667  8.062294\n",
       "    9.750000  8.076474\n",
       "    9.833333  8.090433\n",
       "    9.916667  8.104168\n",
       "   10.000000  8.117682"
      ]
     },
     "execution_count": 9,
     "metadata": {},
     "output_type": "execute_result"
    }
   ],
   "source": [
    "splcd = get_spot_rates(yc_logcubicdiscount, day_count)\n",
    "splcd.tail()"
   ]
  },
  {
   "cell_type": "code",
   "execution_count": 10,
   "id": "8ad4bbc8-cbc9-4133-a5e9-40eac6ab0be7",
   "metadata": {
    "tags": []
   },
   "outputs": [
    {
     "data": {
      "text/html": [
       "<div>\n",
       "<style scoped>\n",
       "    .dataframe tbody tr th:only-of-type {\n",
       "        vertical-align: middle;\n",
       "    }\n",
       "\n",
       "    .dataframe tbody tr th {\n",
       "        vertical-align: top;\n",
       "    }\n",
       "\n",
       "    .dataframe thead th {\n",
       "        text-align: right;\n",
       "    }\n",
       "</style>\n",
       "<table border=\"1\" class=\"dataframe\">\n",
       "  <thead>\n",
       "    <tr style=\"text-align: right;\">\n",
       "      <th></th>\n",
       "      <th>Maturities</th>\n",
       "      <th>Curve</th>\n",
       "    </tr>\n",
       "  </thead>\n",
       "  <tbody>\n",
       "    <tr>\n",
       "      <th></th>\n",
       "      <td>9.666667</td>\n",
       "      <td>8.098887</td>\n",
       "    </tr>\n",
       "    <tr>\n",
       "      <th></th>\n",
       "      <td>9.750000</td>\n",
       "      <td>8.124753</td>\n",
       "    </tr>\n",
       "    <tr>\n",
       "      <th></th>\n",
       "      <td>9.833333</td>\n",
       "      <td>8.150621</td>\n",
       "    </tr>\n",
       "    <tr>\n",
       "      <th></th>\n",
       "      <td>9.916667</td>\n",
       "      <td>8.176493</td>\n",
       "    </tr>\n",
       "    <tr>\n",
       "      <th></th>\n",
       "      <td>10.000000</td>\n",
       "      <td>8.202367</td>\n",
       "    </tr>\n",
       "  </tbody>\n",
       "</table>\n",
       "</div>"
      ],
      "text/plain": [
       "  Maturities     Curve\n",
       "    9.666667  8.098887\n",
       "    9.750000  8.124753\n",
       "    9.833333  8.150621\n",
       "    9.916667  8.176493\n",
       "   10.000000  8.202367"
      ]
     },
     "execution_count": 10,
     "metadata": {},
     "output_type": "execute_result"
    }
   ],
   "source": [
    "yc_linearzero = ql.PiecewiseLinearZero(calc_date, rate_helpers, day_count)\n",
    "yc_cubiczero = ql.PiecewiseCubicZero(calc_date, rate_helpers, day_count)\n",
    "splz = get_spot_rates(yc_linearzero, day_count)\n",
    "spcz = get_spot_rates(yc_cubiczero, day_count)\n",
    "splz.tail()"
   ]
  },
  {
   "cell_type": "code",
   "execution_count": 11,
   "id": "8c283df0-18a0-4a76-a837-2f3942b8436d",
   "metadata": {
    "tags": []
   },
   "outputs": [
    {
     "data": {
      "image/png": "[encoded data removed]",
      "text/plain": [
       "<Figure size 640x480 with 1 Axes>"
      ]
     },
     "metadata": {},
     "output_type": "display_data"
    }
   ],
   "source": [
    "plt.plot(splcd[\"Maturities\"].to_numpy(), splcd[\"Curve\"].to_numpy(), '.', label=\"LogCubicDiscount\");\n",
    "plt.plot(splz[\"Maturities\"].to_numpy(), splz[\"Curve\"].to_numpy(), '--', label=\"LinearZero\");\n",
    "plt.plot(spcz[\"Maturities\"].to_numpy() ,spcz[\"Curve\"].to_numpy(), label=\"CubicZero\");\n",
    "plt.xlabel(\"Months\", size=12)\n",
    "plt.ylabel(\"Zero Rate\", size=12)\n",
    "plt.xlim(0.5,10)\n",
    "plt.ylim([5.25,8])\n",
    "plt.legend(loc=0);"
   ]
  },
  {
   "cell_type": "code",
   "execution_count": null,
   "id": "d984ca61-7361-4cd1-915e-d6a74a8d4b80",
   "metadata": {},
   "outputs": [],
   "source": []
  }
 ],
 "metadata": {
  "kernelspec": {
   "display_name": "Python 3 (ipykernel)",
   "language": "python",
   "name": "python3"
  },
  "language_info": {
   "codemirror_mode": {
    "name": "ipython",
    "version": 3
   },
   "file_extension": ".py",
   "mimetype": "text/x-python",
   "name": "python",
   "nbconvert_exporter": "python",
   "pygments_lexer": "ipython3",
   "version": "3.10.8"
  },
  "widgets": {
   "application/vnd.jupyter.widget-state+json": {
    "state": {},
    "version_major": 2,
    "version_minor": 0
   }
  }
 },
 "nbformat": 4,
 "nbformat_minor": 5
}
