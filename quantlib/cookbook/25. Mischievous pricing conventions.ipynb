{
 "cells": [
  {
   "cell_type": "markdown",
   "id": "8f8a1260-cc14-4185-8a13-5f85673532e3",
   "metadata": {},
   "source": [
    "# Bonds #\n",
    "## 25. Mischievous pricing conventions ##"
   ]
  },
  {
   "cell_type": "code",
   "execution_count": 1,
   "id": "d73c151b-6dda-4f63-a6d1-04e5df0cc16e",
   "metadata": {
    "tags": []
   },
   "outputs": [],
   "source": [
    "import QuantLib as ql\n",
    "import pandas as pd"
   ]
  },
  {
   "cell_type": "code",
   "execution_count": 7,
   "id": "6c80b500-2bf2-4e3d-8bd0-48d3e871dae7",
   "metadata": {
    "tags": []
   },
   "outputs": [],
   "source": [
    "today = ql.Date(5, ql.January, 2010)\n",
    "ql.Settings.instance().evaluationDate = today\n",
    "discounting_curve = ql.RelinkableYieldTermStructureHandle()\n",
    "forecasting_curve = ql.RelinkableYieldTermStructureHandle()\n",
    "index = ql.USDLibor(ql.Period(3, ql.Months), forecasting_curve)\n",
    "settlement_days = 0\n",
    "calendar = ql.NullCalendar()\n",
    "face_amount = 100.0\n",
    "schedule = ql.Schedule(today, today + ql.Period(4, ql.Years),\n",
    "                       ql.Period(3, ql.Months), calendar,\n",
    "                       ql.Unadjusted, ql.Unadjusted,\n",
    "                       ql.DateGeneration.Forward, False)\n",
    "bond = ql.FloatingRateBond(settlement_days, face_amount, schedule,\n",
    "                           index, ql.Thirty360(ql.Thirty360.BondBasis), ql.Unadjusted, fixingDays = 0)\n",
    "bond.setPricingEngine(ql.DiscountingBondEngine(discounting_curve))"
   ]
  },
  {
   "cell_type": "code",
   "execution_count": 8,
   "id": "76e81702-2fbe-47a6-8037-eab54e294b37",
   "metadata": {
    "tags": []
   },
   "outputs": [],
   "source": [
    "flat_rate = ql.FlatForward(today, 0.10, ql.Thirty360(ql.Thirty360.BondBasis), ql.Compounded, ql.Quarterly)\n",
    "forecasting_curve.linkTo(flat_rate)\n",
    "discounting_curve.linkTo(flat_rate)"
   ]
  },
  {
   "cell_type": "code",
   "execution_count": 9,
   "id": "49f18e6c-ae8b-406a-bdca-ca2b3bb7962e",
   "metadata": {
    "tags": []
   },
   "outputs": [
    {
     "name": "stdout",
     "output_type": "stream",
     "text": [
      "99.5433545426823\n"
     ]
    }
   ],
   "source": [
    "print(bond.cleanPrice())"
   ]
  },
  {
   "cell_type": "markdown",
   "id": "0a37b5c8-4467-445d-aeb9-3c005ef061bc",
   "metadata": {},
   "source": [
    "## What is happening here? ##"
   ]
  },
  {
   "cell_type": "code",
   "execution_count": 10,
   "id": "37107b4f-52e6-4f63-808a-c773c0e450fa",
   "metadata": {
    "tags": []
   },
   "outputs": [
    {
     "name": "stdout",
     "output_type": "stream",
     "text": [
      "30/360 (Bond Basis) day counter\n",
      "30/360 (Bond Basis) day counter\n",
      "Actual/360 day counter\n"
     ]
    }
   ],
   "source": [
    "print(flat_rate.dayCounter())\n",
    "print(ql.as_coupon(bond.cashflows()[0]).dayCounter())\n",
    "print(index.dayCounter())"
   ]
  },
  {
   "cell_type": "code",
   "execution_count": 11,
   "id": "939d1de9-80c6-4aa7-9b33-c2c0fbb5ffd2",
   "metadata": {
    "tags": []
   },
   "outputs": [
    {
     "data": {
      "text/html": [
       "<div>\n",
       "<style scoped>\n",
       "    .dataframe tbody tr th:only-of-type {\n",
       "        vertical-align: middle;\n",
       "    }\n",
       "\n",
       "    .dataframe tbody tr th {\n",
       "        vertical-align: top;\n",
       "    }\n",
       "\n",
       "    .dataframe thead th {\n",
       "        text-align: right;\n",
       "    }\n",
       "</style>\n",
       "<table border=\"1\" class=\"dataframe\">\n",
       "  <thead>\n",
       "    <tr style=\"text-align: right;\">\n",
       "      <th></th>\n",
       "      <th>Date</th>\n",
       "      <th>Rate</th>\n",
       "      <th>Accrual period</th>\n",
       "    </tr>\n",
       "  </thead>\n",
       "  <tbody>\n",
       "    <tr>\n",
       "      <th>1</th>\n",
       "      <td>April 5th, 2010</td>\n",
       "      <td>0.100014</td>\n",
       "      <td>0.25</td>\n",
       "    </tr>\n",
       "    <tr>\n",
       "      <th>2</th>\n",
       "      <td>July 5th, 2010</td>\n",
       "      <td>0.098901</td>\n",
       "      <td>0.25</td>\n",
       "    </tr>\n",
       "    <tr>\n",
       "      <th>3</th>\n",
       "      <td>October 5th, 2010</td>\n",
       "      <td>0.097826</td>\n",
       "      <td>0.25</td>\n",
       "    </tr>\n",
       "    <tr>\n",
       "      <th>4</th>\n",
       "      <td>January 5th, 2011</td>\n",
       "      <td>0.097826</td>\n",
       "      <td>0.25</td>\n",
       "    </tr>\n",
       "    <tr>\n",
       "      <th>5</th>\n",
       "      <td>April 5th, 2011</td>\n",
       "      <td>0.100000</td>\n",
       "      <td>0.25</td>\n",
       "    </tr>\n",
       "    <tr>\n",
       "      <th>6</th>\n",
       "      <td>July 5th, 2011</td>\n",
       "      <td>0.098901</td>\n",
       "      <td>0.25</td>\n",
       "    </tr>\n",
       "    <tr>\n",
       "      <th>7</th>\n",
       "      <td>October 5th, 2011</td>\n",
       "      <td>0.097826</td>\n",
       "      <td>0.25</td>\n",
       "    </tr>\n",
       "    <tr>\n",
       "      <th>8</th>\n",
       "      <td>January 5th, 2012</td>\n",
       "      <td>0.097899</td>\n",
       "      <td>0.25</td>\n",
       "    </tr>\n",
       "    <tr>\n",
       "      <th>9</th>\n",
       "      <td>April 5th, 2012</td>\n",
       "      <td>0.098952</td>\n",
       "      <td>0.25</td>\n",
       "    </tr>\n",
       "    <tr>\n",
       "      <th>10</th>\n",
       "      <td>July 5th, 2012</td>\n",
       "      <td>0.098849</td>\n",
       "      <td>0.25</td>\n",
       "    </tr>\n",
       "    <tr>\n",
       "      <th>11</th>\n",
       "      <td>October 5th, 2012</td>\n",
       "      <td>0.097826</td>\n",
       "      <td>0.25</td>\n",
       "    </tr>\n",
       "    <tr>\n",
       "      <th>12</th>\n",
       "      <td>January 5th, 2013</td>\n",
       "      <td>0.097826</td>\n",
       "      <td>0.25</td>\n",
       "    </tr>\n",
       "    <tr>\n",
       "      <th>13</th>\n",
       "      <td>April 5th, 2013</td>\n",
       "      <td>0.100014</td>\n",
       "      <td>0.25</td>\n",
       "    </tr>\n",
       "    <tr>\n",
       "      <th>14</th>\n",
       "      <td>July 5th, 2013</td>\n",
       "      <td>0.098901</td>\n",
       "      <td>0.25</td>\n",
       "    </tr>\n",
       "    <tr>\n",
       "      <th>15</th>\n",
       "      <td>October 5th, 2013</td>\n",
       "      <td>0.097826</td>\n",
       "      <td>0.25</td>\n",
       "    </tr>\n",
       "    <tr>\n",
       "      <th>16</th>\n",
       "      <td>January 5th, 2014</td>\n",
       "      <td>0.097826</td>\n",
       "      <td>0.25</td>\n",
       "    </tr>\n",
       "  </tbody>\n",
       "</table>\n",
       "</div>"
      ],
      "text/plain": [
       "                 Date      Rate  Accrual period\n",
       "1     April 5th, 2010  0.100014            0.25\n",
       "2      July 5th, 2010  0.098901            0.25\n",
       "3   October 5th, 2010  0.097826            0.25\n",
       "4   January 5th, 2011  0.097826            0.25\n",
       "5     April 5th, 2011  0.100000            0.25\n",
       "6      July 5th, 2011  0.098901            0.25\n",
       "7   October 5th, 2011  0.097826            0.25\n",
       "8   January 5th, 2012  0.097899            0.25\n",
       "9     April 5th, 2012  0.098952            0.25\n",
       "10     July 5th, 2012  0.098849            0.25\n",
       "11  October 5th, 2012  0.097826            0.25\n",
       "12  January 5th, 2013  0.097826            0.25\n",
       "13    April 5th, 2013  0.100014            0.25\n",
       "14     July 5th, 2013  0.098901            0.25\n",
       "15  October 5th, 2013  0.097826            0.25\n",
       "16  January 5th, 2014  0.097826            0.25"
      ]
     },
     "execution_count": 11,
     "metadata": {},
     "output_type": "execute_result"
    }
   ],
   "source": [
    "coupons = [ql.as_coupon(c) for c in bond.cashflows()[:-1]]\n",
    "pd.DataFrame([(c.date(), c.rate(), c.accrualPeriod()) for c in coupons ],\n",
    "             columns=('Date', 'Rate', 'Accrual period'),\n",
    "             index=range(1,len(coupons)+1))"
   ]
  },
  {
   "cell_type": "markdown",
   "id": "fdff9624-6c60-4b3c-bff6-bff216e40450",
   "metadata": {},
   "source": [
    "### The importance of being consistent ###"
   ]
  },
  {
   "cell_type": "code",
   "execution_count": 12,
   "id": "7ef99083-83c6-4213-8468-52cea9409dae",
   "metadata": {
    "tags": []
   },
   "outputs": [],
   "source": [
    "bond = ql.FloatingRateBond(settlement_days, face_amount, schedule, index, \n",
    "                           ql.Actual360(), ql.Unadjusted, fixingDays = 0)\n",
    "bond.setPricingEngine(ql.DiscountingBondEngine(discounting_curve))"
   ]
  },
  {
   "cell_type": "code",
   "execution_count": 13,
   "id": "75a45749-1d47-4c2e-b8f4-755334781634",
   "metadata": {
    "tags": []
   },
   "outputs": [],
   "source": [
    "flat_rate_2 = ql.FlatForward(today, 0.10, ql.Actual360(), ql.Compounded, ql.Quarterly)\n",
    "forecasting_curve.linkTo(flat_rate_2)\n",
    "discounting_curve.linkTo(flat_rate_2)"
   ]
  },
  {
   "cell_type": "code",
   "execution_count": 14,
   "id": "2c13a9af-552f-4274-8860-a214be4b5438",
   "metadata": {
    "tags": []
   },
   "outputs": [
    {
     "name": "stdout",
     "output_type": "stream",
     "text": [
      "100.00117521248728\n"
     ]
    }
   ],
   "source": [
    "print(bond.cleanPrice())"
   ]
  },
  {
   "cell_type": "code",
   "execution_count": 15,
   "id": "eaa48d06-c441-4a7b-8d7d-c257dbe32b14",
   "metadata": {
    "tags": []
   },
   "outputs": [
    {
     "data": {
      "text/html": [
       "<div>\n",
       "<style scoped>\n",
       "    .dataframe tbody tr th:only-of-type {\n",
       "        vertical-align: middle;\n",
       "    }\n",
       "\n",
       "    .dataframe tbody tr th {\n",
       "        vertical-align: top;\n",
       "    }\n",
       "\n",
       "    .dataframe thead th {\n",
       "        text-align: right;\n",
       "    }\n",
       "</style>\n",
       "<table border=\"1\" class=\"dataframe\">\n",
       "  <thead>\n",
       "    <tr style=\"text-align: right;\">\n",
       "      <th></th>\n",
       "      <th>Date</th>\n",
       "      <th>Rate</th>\n",
       "      <th>Accrual period</th>\n",
       "    </tr>\n",
       "  </thead>\n",
       "  <tbody>\n",
       "    <tr>\n",
       "      <th>1</th>\n",
       "      <td>April 5th, 2010</td>\n",
       "      <td>0.100014</td>\n",
       "      <td>0.250000</td>\n",
       "    </tr>\n",
       "    <tr>\n",
       "      <th>2</th>\n",
       "      <td>July 5th, 2010</td>\n",
       "      <td>0.100014</td>\n",
       "      <td>0.252778</td>\n",
       "    </tr>\n",
       "    <tr>\n",
       "      <th>3</th>\n",
       "      <td>October 5th, 2010</td>\n",
       "      <td>0.100028</td>\n",
       "      <td>0.255556</td>\n",
       "    </tr>\n",
       "    <tr>\n",
       "      <th>4</th>\n",
       "      <td>January 5th, 2011</td>\n",
       "      <td>0.100028</td>\n",
       "      <td>0.255556</td>\n",
       "    </tr>\n",
       "    <tr>\n",
       "      <th>5</th>\n",
       "      <td>April 5th, 2011</td>\n",
       "      <td>0.100000</td>\n",
       "      <td>0.250000</td>\n",
       "    </tr>\n",
       "    <tr>\n",
       "      <th>6</th>\n",
       "      <td>July 5th, 2011</td>\n",
       "      <td>0.100014</td>\n",
       "      <td>0.252778</td>\n",
       "    </tr>\n",
       "    <tr>\n",
       "      <th>7</th>\n",
       "      <td>October 5th, 2011</td>\n",
       "      <td>0.100028</td>\n",
       "      <td>0.255556</td>\n",
       "    </tr>\n",
       "    <tr>\n",
       "      <th>8</th>\n",
       "      <td>January 5th, 2012</td>\n",
       "      <td>0.100055</td>\n",
       "      <td>0.255556</td>\n",
       "    </tr>\n",
       "    <tr>\n",
       "      <th>9</th>\n",
       "      <td>April 5th, 2012</td>\n",
       "      <td>0.100041</td>\n",
       "      <td>0.252778</td>\n",
       "    </tr>\n",
       "    <tr>\n",
       "      <th>10</th>\n",
       "      <td>July 5th, 2012</td>\n",
       "      <td>0.099986</td>\n",
       "      <td>0.252778</td>\n",
       "    </tr>\n",
       "    <tr>\n",
       "      <th>11</th>\n",
       "      <td>October 5th, 2012</td>\n",
       "      <td>0.100028</td>\n",
       "      <td>0.255556</td>\n",
       "    </tr>\n",
       "    <tr>\n",
       "      <th>12</th>\n",
       "      <td>January 5th, 2013</td>\n",
       "      <td>0.100028</td>\n",
       "      <td>0.255556</td>\n",
       "    </tr>\n",
       "    <tr>\n",
       "      <th>13</th>\n",
       "      <td>April 5th, 2013</td>\n",
       "      <td>0.100014</td>\n",
       "      <td>0.250000</td>\n",
       "    </tr>\n",
       "    <tr>\n",
       "      <th>14</th>\n",
       "      <td>July 5th, 2013</td>\n",
       "      <td>0.100014</td>\n",
       "      <td>0.252778</td>\n",
       "    </tr>\n",
       "    <tr>\n",
       "      <th>15</th>\n",
       "      <td>October 5th, 2013</td>\n",
       "      <td>0.100028</td>\n",
       "      <td>0.255556</td>\n",
       "    </tr>\n",
       "    <tr>\n",
       "      <th>16</th>\n",
       "      <td>January 5th, 2014</td>\n",
       "      <td>0.100028</td>\n",
       "      <td>0.255556</td>\n",
       "    </tr>\n",
       "  </tbody>\n",
       "</table>\n",
       "</div>"
      ],
      "text/plain": [
       "                 Date      Rate  Accrual period\n",
       "1     April 5th, 2010  0.100014        0.250000\n",
       "2      July 5th, 2010  0.100014        0.252778\n",
       "3   October 5th, 2010  0.100028        0.255556\n",
       "4   January 5th, 2011  0.100028        0.255556\n",
       "5     April 5th, 2011  0.100000        0.250000\n",
       "6      July 5th, 2011  0.100014        0.252778\n",
       "7   October 5th, 2011  0.100028        0.255556\n",
       "8   January 5th, 2012  0.100055        0.255556\n",
       "9     April 5th, 2012  0.100041        0.252778\n",
       "10     July 5th, 2012  0.099986        0.252778\n",
       "11  October 5th, 2012  0.100028        0.255556\n",
       "12  January 5th, 2013  0.100028        0.255556\n",
       "13    April 5th, 2013  0.100014        0.250000\n",
       "14     July 5th, 2013  0.100014        0.252778\n",
       "15  October 5th, 2013  0.100028        0.255556\n",
       "16  January 5th, 2014  0.100028        0.255556"
      ]
     },
     "execution_count": 15,
     "metadata": {},
     "output_type": "execute_result"
    }
   ],
   "source": [
    "coupons = [ql.as_coupon(c) for c in bond.cashflows()[:-1]]\n",
    "pd.DataFrame([(c.date(), c.rate(), c.accrualPeriod()) for c in coupons ],\n",
    "             columns=('Date', 'Rate', 'Accrual period'),\n",
    "             index=range(1,len(coupons)+1))"
   ]
  },
  {
   "cell_type": "code",
   "execution_count": 17,
   "id": "beb02f20-bc13-4531-8799-8b8e8a5a4ad5",
   "metadata": {
    "tags": []
   },
   "outputs": [],
   "source": [
    "index = ql.IborIndex('Mock Libor', ql.Period(3, ql.Months), 0, ql.USDCurrency(),\n",
    "                     ql.NullCalendar(), ql.Unadjusted, False, ql.Thirty360(ql.Thirty360.BondBasis),\n",
    "                     forecasting_curve)\n",
    "bond = ql.FloatingRateBond(settlement_days, face_amount, schedule, index, ql.Thirty360(ql.Thirty360.BondBasis),\n",
    "                           ql.Unadjusted, fixingDays = 0)\n",
    "bond.setPricingEngine(ql.DiscountingBondEngine(discounting_curve))"
   ]
  },
  {
   "cell_type": "code",
   "execution_count": 18,
   "id": "c810a616-c284-418c-a604-701dc11b83e6",
   "metadata": {
    "tags": []
   },
   "outputs": [],
   "source": [
    "forecasting_curve.linkTo(flat_rate)\n",
    "discounting_curve.linkTo(flat_rate)"
   ]
  },
  {
   "cell_type": "code",
   "execution_count": 19,
   "id": "057eb982-5389-4bd1-b0a5-ffca83fc80d3",
   "metadata": {
    "tags": []
   },
   "outputs": [
    {
     "name": "stdout",
     "output_type": "stream",
     "text": [
      "100.00000000000001\n"
     ]
    }
   ],
   "source": [
    "print(bond.cleanPrice())"
   ]
  },
  {
   "cell_type": "code",
   "execution_count": 20,
   "id": "334a7735-448c-4bcd-b1c0-b9eca7ab52ab",
   "metadata": {
    "tags": []
   },
   "outputs": [
    {
     "data": {
      "text/html": [
       "<div>\n",
       "<style scoped>\n",
       "    .dataframe tbody tr th:only-of-type {\n",
       "        vertical-align: middle;\n",
       "    }\n",
       "\n",
       "    .dataframe tbody tr th {\n",
       "        vertical-align: top;\n",
       "    }\n",
       "\n",
       "    .dataframe thead th {\n",
       "        text-align: right;\n",
       "    }\n",
       "</style>\n",
       "<table border=\"1\" class=\"dataframe\">\n",
       "  <thead>\n",
       "    <tr style=\"text-align: right;\">\n",
       "      <th></th>\n",
       "      <th>Date</th>\n",
       "      <th>Rate</th>\n",
       "      <th>Accrual period</th>\n",
       "    </tr>\n",
       "  </thead>\n",
       "  <tbody>\n",
       "    <tr>\n",
       "      <th>1</th>\n",
       "      <td>April 5th, 2010</td>\n",
       "      <td>0.1</td>\n",
       "      <td>0.25</td>\n",
       "    </tr>\n",
       "    <tr>\n",
       "      <th>2</th>\n",
       "      <td>July 5th, 2010</td>\n",
       "      <td>0.1</td>\n",
       "      <td>0.25</td>\n",
       "    </tr>\n",
       "    <tr>\n",
       "      <th>3</th>\n",
       "      <td>October 5th, 2010</td>\n",
       "      <td>0.1</td>\n",
       "      <td>0.25</td>\n",
       "    </tr>\n",
       "    <tr>\n",
       "      <th>4</th>\n",
       "      <td>January 5th, 2011</td>\n",
       "      <td>0.1</td>\n",
       "      <td>0.25</td>\n",
       "    </tr>\n",
       "    <tr>\n",
       "      <th>5</th>\n",
       "      <td>April 5th, 2011</td>\n",
       "      <td>0.1</td>\n",
       "      <td>0.25</td>\n",
       "    </tr>\n",
       "    <tr>\n",
       "      <th>6</th>\n",
       "      <td>July 5th, 2011</td>\n",
       "      <td>0.1</td>\n",
       "      <td>0.25</td>\n",
       "    </tr>\n",
       "    <tr>\n",
       "      <th>7</th>\n",
       "      <td>October 5th, 2011</td>\n",
       "      <td>0.1</td>\n",
       "      <td>0.25</td>\n",
       "    </tr>\n",
       "    <tr>\n",
       "      <th>8</th>\n",
       "      <td>January 5th, 2012</td>\n",
       "      <td>0.1</td>\n",
       "      <td>0.25</td>\n",
       "    </tr>\n",
       "    <tr>\n",
       "      <th>9</th>\n",
       "      <td>April 5th, 2012</td>\n",
       "      <td>0.1</td>\n",
       "      <td>0.25</td>\n",
       "    </tr>\n",
       "    <tr>\n",
       "      <th>10</th>\n",
       "      <td>July 5th, 2012</td>\n",
       "      <td>0.1</td>\n",
       "      <td>0.25</td>\n",
       "    </tr>\n",
       "    <tr>\n",
       "      <th>11</th>\n",
       "      <td>October 5th, 2012</td>\n",
       "      <td>0.1</td>\n",
       "      <td>0.25</td>\n",
       "    </tr>\n",
       "    <tr>\n",
       "      <th>12</th>\n",
       "      <td>January 5th, 2013</td>\n",
       "      <td>0.1</td>\n",
       "      <td>0.25</td>\n",
       "    </tr>\n",
       "    <tr>\n",
       "      <th>13</th>\n",
       "      <td>April 5th, 2013</td>\n",
       "      <td>0.1</td>\n",
       "      <td>0.25</td>\n",
       "    </tr>\n",
       "    <tr>\n",
       "      <th>14</th>\n",
       "      <td>July 5th, 2013</td>\n",
       "      <td>0.1</td>\n",
       "      <td>0.25</td>\n",
       "    </tr>\n",
       "    <tr>\n",
       "      <th>15</th>\n",
       "      <td>October 5th, 2013</td>\n",
       "      <td>0.1</td>\n",
       "      <td>0.25</td>\n",
       "    </tr>\n",
       "    <tr>\n",
       "      <th>16</th>\n",
       "      <td>January 5th, 2014</td>\n",
       "      <td>0.1</td>\n",
       "      <td>0.25</td>\n",
       "    </tr>\n",
       "  </tbody>\n",
       "</table>\n",
       "</div>"
      ],
      "text/plain": [
       "                 Date  Rate  Accrual period\n",
       "1     April 5th, 2010   0.1            0.25\n",
       "2      July 5th, 2010   0.1            0.25\n",
       "3   October 5th, 2010   0.1            0.25\n",
       "4   January 5th, 2011   0.1            0.25\n",
       "5     April 5th, 2011   0.1            0.25\n",
       "6      July 5th, 2011   0.1            0.25\n",
       "7   October 5th, 2011   0.1            0.25\n",
       "8   January 5th, 2012   0.1            0.25\n",
       "9     April 5th, 2012   0.1            0.25\n",
       "10     July 5th, 2012   0.1            0.25\n",
       "11  October 5th, 2012   0.1            0.25\n",
       "12  January 5th, 2013   0.1            0.25\n",
       "13    April 5th, 2013   0.1            0.25\n",
       "14     July 5th, 2013   0.1            0.25\n",
       "15  October 5th, 2013   0.1            0.25\n",
       "16  January 5th, 2014   0.1            0.25"
      ]
     },
     "execution_count": 20,
     "metadata": {},
     "output_type": "execute_result"
    }
   ],
   "source": [
    "coupons = [ql.as_coupon(c) for c in bond.cashflows()[:-1]]\n",
    "pd.DataFrame([(c.date(), c.rate(), c.accrualPeriod()) for c in coupons ],\n",
    "             columns=('Date', 'Rate', 'Accrual period'),\n",
    "             index=range(1,len(coupons)+1))"
   ]
  },
  {
   "cell_type": "code",
   "execution_count": null,
   "id": "d040bf78-b4b0-488f-8e08-a27df16cfa85",
   "metadata": {},
   "outputs": [],
   "source": []
  }
 ],
 "metadata": {
  "kernelspec": {
   "display_name": "Python 3 (ipykernel)",
   "language": "python",
   "name": "python3"
  },
  "language_info": {
   "codemirror_mode": {
    "name": "ipython",
    "version": 3
   },
   "file_extension": ".py",
   "mimetype": "text/x-python",
   "name": "python",
   "nbconvert_exporter": "python",
   "pygments_lexer": "ipython3",
   "version": "3.10.8"
  },
  "widgets": {
   "application/vnd.jupyter.widget-state+json": {
    "state": {},
    "version_major": 2,
    "version_minor": 0
   }
  }
 },
 "nbformat": 4,
 "nbformat_minor": 5
}
