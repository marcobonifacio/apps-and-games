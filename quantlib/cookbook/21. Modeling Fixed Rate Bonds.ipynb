{
 "cells": [
  {
   "cell_type": "markdown",
   "id": "8d9778d3-fdc1-4381-afb9-e466e57bcb7b",
   "metadata": {},
   "source": [
    "# Bonds #\n",
    "## 21. Modeling Fixed Rate Bonds ##"
   ]
  },
  {
   "cell_type": "code",
   "execution_count": 1,
   "id": "6120d31c-0a14-46f9-935b-5a2b83760dc6",
   "metadata": {
    "tags": []
   },
   "outputs": [
    {
     "data": {
      "text/plain": [
       "105.27653992490681"
      ]
     },
     "execution_count": 1,
     "metadata": {},
     "output_type": "execute_result"
    }
   ],
   "source": [
    "3/pow(1+0.005, 0.5) + (100 + 3)/(1+0.007)"
   ]
  },
  {
   "cell_type": "code",
   "execution_count": 2,
   "id": "e645e057-7c50-43b6-9ce4-094da0dd9e81",
   "metadata": {
    "tags": []
   },
   "outputs": [],
   "source": [
    "import QuantLib as ql"
   ]
  },
  {
   "cell_type": "code",
   "execution_count": 3,
   "id": "d3a0c5c1-1194-4000-ad16-1b5d1d9f2ee5",
   "metadata": {
    "tags": []
   },
   "outputs": [],
   "source": [
    "calc_date = ql.Date(15, 1, 2015)\n",
    "ql.Settings.instance().evaluationDate = calc_date\n",
    "spot_dates = [ql.Date(15, 1, 2015), ql.Date(15, 7, 2015), ql.Date(15, 1, 2016)]\n",
    "spot_rates = [0.0, 0.005, 0.007]\n",
    "day_count = ql.Thirty360(ql.Thirty360.USA)\n",
    "calendar = ql.UnitedStates(ql.UnitedStates.GovernmentBond)\n",
    "interpolation = ql.Linear()\n",
    "compounding = ql.Compounded\n",
    "compounding_frequency = ql.Annual\n",
    "spot_curve = ql.ZeroCurve(spot_dates, spot_rates, day_count, calendar,\n",
    "                          interpolation, compounding, compounding_frequency)\n",
    "spot_curve_handle = ql.YieldTermStructureHandle(spot_curve)"
   ]
  },
  {
   "cell_type": "code",
   "execution_count": 4,
   "id": "de52746c-123d-4052-b7fd-24e3ab83e810",
   "metadata": {
    "tags": []
   },
   "outputs": [],
   "source": [
    "issue_date = ql.Date(15, 1, 2015)\n",
    "maturity_date = ql.Date(15, 1, 2016)\n",
    "tenor = ql.Period(ql.Semiannual)\n",
    "calendar = ql.UnitedStates(ql.UnitedStates.GovernmentBond)\n",
    "business_convention = ql.Unadjusted\n",
    "date_generation = ql.DateGeneration.Backward\n",
    "month_end = False\n",
    "schedule = ql.Schedule (issue_date, maturity_date, tenor,\n",
    "                        calendar, business_convention,\n",
    "                        business_convention, date_generation, month_end)"
   ]
  },
  {
   "cell_type": "code",
   "execution_count": 5,
   "id": "b1653ff8-888d-49c2-92f7-2127ff668646",
   "metadata": {
    "tags": []
   },
   "outputs": [
    {
     "data": {
      "text/plain": [
       "[Date(15,1,2015), Date(15,7,2015), Date(15,1,2016)]"
      ]
     },
     "execution_count": 5,
     "metadata": {},
     "output_type": "execute_result"
    }
   ],
   "source": [
    "list(schedule)"
   ]
  },
  {
   "cell_type": "code",
   "execution_count": 6,
   "id": "db8ee1aa-7544-4d70-935a-58cda8a35596",
   "metadata": {
    "tags": []
   },
   "outputs": [],
   "source": [
    "coupon_rate = .06\n",
    "coupons = [coupon_rate]\n",
    "settlement_days = 0\n",
    "face_value = 100\n",
    "fixed_rate_bond = ql.FixedRateBond(settlement_days, face_value,\n",
    "                                   schedule, coupons, day_count)"
   ]
  },
  {
   "cell_type": "code",
   "execution_count": 7,
   "id": "40952920-baf2-4aad-99fe-134eaf9b40f3",
   "metadata": {
    "tags": []
   },
   "outputs": [],
   "source": [
    "bond_engine = ql.DiscountingBondEngine(spot_curve_handle)\n",
    "fixed_rate_bond.setPricingEngine(bond_engine)"
   ]
  },
  {
   "cell_type": "code",
   "execution_count": 8,
   "id": "a3763553-3501-45c5-8331-12d643499b5d",
   "metadata": {
    "tags": []
   },
   "outputs": [
    {
     "data": {
      "text/plain": [
       "105.27653992490683"
      ]
     },
     "execution_count": 8,
     "metadata": {},
     "output_type": "execute_result"
    }
   ],
   "source": [
    "fixed_rate_bond.NPV()"
   ]
  },
  {
   "cell_type": "code",
   "execution_count": 9,
   "id": "dd62fa90-ec66-4f00-9399-754001b38eb6",
   "metadata": {
    "tags": []
   },
   "outputs": [
    {
     "data": {
      "text/plain": [
       "105.27653992490683"
      ]
     },
     "execution_count": 9,
     "metadata": {},
     "output_type": "execute_result"
    }
   ],
   "source": [
    "fixed_rate_bond.cleanPrice()"
   ]
  },
  {
   "cell_type": "code",
   "execution_count": 10,
   "id": "2e506e72-6f4a-40bf-bd89-bebcde17727b",
   "metadata": {
    "tags": []
   },
   "outputs": [
    {
     "data": {
      "text/plain": [
       "0.0"
      ]
     },
     "execution_count": 10,
     "metadata": {},
     "output_type": "execute_result"
    }
   ],
   "source": [
    "fixed_rate_bond.accruedAmount()"
   ]
  },
  {
   "cell_type": "code",
   "execution_count": 11,
   "id": "a9c53115-0008-4ee1-a5f1-1a9840c35aed",
   "metadata": {
    "tags": []
   },
   "outputs": [
    {
     "data": {
      "text/plain": [
       "105.27653992490683"
      ]
     },
     "execution_count": 11,
     "metadata": {},
     "output_type": "execute_result"
    }
   ],
   "source": [
    "fixed_rate_bond.dirtyPrice()"
   ]
  },
  {
   "cell_type": "code",
   "execution_count": 12,
   "id": "837def77-ec2b-4455-8fb0-26c45022bd01",
   "metadata": {
    "tags": []
   },
   "outputs": [
    {
     "data": {
      "text/plain": [
       "0.006971154634952549"
      ]
     },
     "execution_count": 12,
     "metadata": {},
     "output_type": "execute_result"
    }
   ],
   "source": [
    "fixed_rate_bond.bondYield(day_count, compounding, compounding_frequency)"
   ]
  },
  {
   "cell_type": "code",
   "execution_count": null,
   "id": "e27bb5da-639b-47b6-938a-f196b336f13d",
   "metadata": {},
   "outputs": [],
   "source": []
  }
 ],
 "metadata": {
  "kernelspec": {
   "display_name": "Python 3 (ipykernel)",
   "language": "python",
   "name": "python3"
  },
  "language_info": {
   "codemirror_mode": {
    "name": "ipython",
    "version": 3
   },
   "file_extension": ".py",
   "mimetype": "text/x-python",
   "name": "python",
   "nbconvert_exporter": "python",
   "pygments_lexer": "ipython3",
   "version": "3.10.8"
  },
  "widgets": {
   "application/vnd.jupyter.widget-state+json": {
    "state": {},
    "version_major": 2,
    "version_minor": 0
   }
  }
 },
 "nbformat": 4,
 "nbformat_minor": 5
}
