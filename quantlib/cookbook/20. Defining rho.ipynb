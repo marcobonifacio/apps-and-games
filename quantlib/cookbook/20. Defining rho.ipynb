{
 "cells": [
  {
   "cell_type": "markdown",
   "id": "41dfea99-8e71-4d4f-b892-06d73cfdae29",
   "metadata": {},
   "source": [
    "# Equity models #\n",
    "## 20. Defining rho for the Black process ##"
   ]
  },
  {
   "cell_type": "code",
   "execution_count": 1,
   "id": "74634858-2431-41b0-8076-304d6c7d1b22",
   "metadata": {
    "tags": []
   },
   "outputs": [],
   "source": [
    "import QuantLib as ql"
   ]
  },
  {
   "cell_type": "code",
   "execution_count": 2,
   "id": "6c9afa13-b67b-4c64-943c-95320cde0fa2",
   "metadata": {
    "tags": []
   },
   "outputs": [],
   "source": [
    "today = ql.Date(24,12,2016)\n",
    "ql.Settings.instance().evaluationDate = today"
   ]
  },
  {
   "cell_type": "code",
   "execution_count": 4,
   "id": "8ec25121-d3e1-411d-9c32-679c60a484e6",
   "metadata": {
    "tags": []
   },
   "outputs": [],
   "source": [
    "u = ql.SimpleQuote(100.0)\n",
    "r = ql.SimpleQuote(0.01)\n",
    "sigma = ql.SimpleQuote(0.20)\n",
    "risk_free_curve = ql.FlatForward(today, ql.QuoteHandle(r), ql.Actual360())\n",
    "volatility = ql.BlackConstantVol(today, ql.TARGET(), ql.QuoteHandle(sigma), ql.Actual360())"
   ]
  },
  {
   "cell_type": "code",
   "execution_count": 5,
   "id": "33615ff6-879d-4f94-8d09-e5c4b40c589d",
   "metadata": {
    "tags": []
   },
   "outputs": [
    {
     "name": "stdout",
     "output_type": "stream",
     "text": [
      "0.0\n"
     ]
    }
   ],
   "source": [
    "process_1 = ql.BlackScholesProcess(ql.QuoteHandle(u),\n",
    "                                   ql.YieldTermStructureHandle(risk_free_curve),\n",
    "                                   ql.BlackVolTermStructureHandle(volatility))\n",
    "print(process_1.dividendYield().zeroRate(1.0, ql.Continuous).rate())"
   ]
  },
  {
   "cell_type": "code",
   "execution_count": 6,
   "id": "a19659b8-d1a4-4f99-98c5-8a6f35e9885c",
   "metadata": {
    "tags": []
   },
   "outputs": [
    {
     "name": "stdout",
     "output_type": "stream",
     "text": [
      "0.009999999999999893\n",
      "0.009999999999999893\n"
     ]
    }
   ],
   "source": [
    "process_2 = ql.BlackProcess(ql.QuoteHandle(u),\n",
    "                            ql.YieldTermStructureHandle(risk_free_curve),\n",
    "                            ql.BlackVolTermStructureHandle(volatility))\n",
    "print(process_2.riskFreeRate().zeroRate(1.0, ql.Continuous).rate())\n",
    "print(process_2.dividendYield().zeroRate(1.0, ql.Continuous).rate())"
   ]
  },
  {
   "cell_type": "code",
   "execution_count": 7,
   "id": "58a6c2fb-e9a8-4fa7-898a-85ef97a3d28d",
   "metadata": {
    "tags": []
   },
   "outputs": [
    {
     "name": "stdout",
     "output_type": "stream",
     "text": [
      "4.337597216336533\n"
     ]
    }
   ],
   "source": [
    "option_1 = ql.EuropeanOption(ql.PlainVanillaPayoff(ql.Option.Call, 100.0),\n",
    "                             ql.EuropeanExercise(today+100))\n",
    "option_1.setPricingEngine(ql.AnalyticEuropeanEngine(process_1))\n",
    "print(option_1.NPV())"
   ]
  },
  {
   "cell_type": "code",
   "execution_count": 8,
   "id": "0d571e6d-2b81-4c77-b946-2d1479a3a4c8",
   "metadata": {
    "tags": []
   },
   "outputs": [
    {
     "name": "stdout",
     "output_type": "stream",
     "text": [
      "4.191615257389808\n"
     ]
    }
   ],
   "source": [
    "option_2 = ql.EuropeanOption(ql.PlainVanillaPayoff(ql.Option.Call, 100.0),\n",
    "                             ql.EuropeanExercise(today+100))\n",
    "option_2.setPricingEngine(ql.AnalyticEuropeanEngine(process_2))\n",
    "print(option_2.NPV())"
   ]
  },
  {
   "cell_type": "code",
   "execution_count": 9,
   "id": "2421aed9-07c8-4eff-9fa5-0e787ddffd7e",
   "metadata": {
    "tags": []
   },
   "outputs": [],
   "source": [
    "def greek(option, quote, dx):\n",
    "    x0 = quote.value()\n",
    "    quote.setValue(x0+dx)\n",
    "    P_u = option.NPV()\n",
    "    quote.setValue(x0-dx)\n",
    "    P_d = option.NPV()\n",
    "    quote.setValue(x0)\n",
    "    return (P_u-P_d)/(2*dx)"
   ]
  },
  {
   "cell_type": "code",
   "execution_count": 10,
   "id": "1e6856b4-af4c-4190-b098-17900d05b019",
   "metadata": {
    "tags": []
   },
   "outputs": [
    {
     "name": "stdout",
     "output_type": "stream",
     "text": [
      "0.5315063340142601\n",
      "0.531506323010289\n"
     ]
    }
   ],
   "source": [
    "print(option_1.delta())\n",
    "print(greek(option_1, u, 0.01))"
   ]
  },
  {
   "cell_type": "code",
   "execution_count": 11,
   "id": "e4244fa2-14b2-4474-9141-31a55e40d0aa",
   "metadata": {
    "tags": []
   },
   "outputs": [
    {
     "name": "stdout",
     "output_type": "stream",
     "text": [
      "0.5195711146255227\n",
      "0.5195711052036867\n"
     ]
    }
   ],
   "source": [
    "print(option_2.delta())\n",
    "print(greek(option_2, u, 0.01))"
   ]
  },
  {
   "cell_type": "code",
   "execution_count": 12,
   "id": "e575eb61-152c-43d7-b204-cb24ef22d38f",
   "metadata": {
    "tags": []
   },
   "outputs": [
    {
     "name": "stdout",
     "output_type": "stream",
     "text": [
      "20.96050033373808\n",
      "20.960499909565833\n"
     ]
    }
   ],
   "source": [
    "print(option_1.vega())\n",
    "print(greek(option_1, sigma, 0.001))"
   ]
  },
  {
   "cell_type": "code",
   "execution_count": 13,
   "id": "4ea43879-badf-41cd-8889-f31833477c8c",
   "metadata": {
    "tags": []
   },
   "outputs": [
    {
     "name": "stdout",
     "output_type": "stream",
     "text": [
      "20.938677847075486\n",
      "20.938677605407463\n"
     ]
    }
   ],
   "source": [
    "print(option_2.vega())\n",
    "print(greek(option_2, sigma, 0.001))"
   ]
  },
  {
   "cell_type": "code",
   "execution_count": 14,
   "id": "3c1dffe6-d19e-4b4a-9c9b-a63ab712b5dc",
   "metadata": {
    "tags": []
   },
   "outputs": [
    {
     "name": "stdout",
     "output_type": "stream",
     "text": [
      "13.559176718080407\n",
      "13.55917453385036\n"
     ]
    }
   ],
   "source": [
    "print(option_1.rho())\n",
    "print(greek(option_1, r, 0.001))"
   ]
  },
  {
   "cell_type": "code",
   "execution_count": 15,
   "id": "388acabe-0df4-475c-ad04-2b3a491f584a",
   "metadata": {
    "tags": []
   },
   "outputs": [
    {
     "name": "stdout",
     "output_type": "stream",
     "text": [
      "13.268193390322908\n",
      "-1.1643375864700545\n"
     ]
    }
   ],
   "source": [
    "print(option_2.rho())\n",
    "print(greek(option_2, r, 0.001))"
   ]
  },
  {
   "cell_type": "code",
   "execution_count": 16,
   "id": "56607466-c8c7-463f-ada4-0532961e5d58",
   "metadata": {
    "tags": []
   },
   "outputs": [
    {
     "name": "stdout",
     "output_type": "stream",
     "text": [
      "-1.1643375714971693\n",
      "-1.1643375864700545\n"
     ]
    }
   ],
   "source": [
    "print(option_2.rho() + option_2.dividendRho())\n",
    "print(greek(option_2, r, 0.001))"
   ]
  },
  {
   "cell_type": "code",
   "execution_count": 17,
   "id": "5793dd56-918f-4baa-a78d-7d4f1f4b7a10",
   "metadata": {
    "tags": []
   },
   "outputs": [],
   "source": [
    "process_3 = ql.BlackScholesMertonProcess(ql.QuoteHandle(u),\n",
    "                                         ql.YieldTermStructureHandle(risk_free_curve),\n",
    "                                         ql.YieldTermStructureHandle(risk_free_curve),\n",
    "                                         ql.BlackVolTermStructureHandle(volatility))\n",
    "option_3 = ql.EuropeanOption(ql.PlainVanillaPayoff(ql.Option.Call, 100.0),\n",
    "                             ql.EuropeanExercise(today+100))\n",
    "option_3.setPricingEngine(ql.AnalyticEuropeanEngine(process_3))"
   ]
  },
  {
   "cell_type": "code",
   "execution_count": 19,
   "id": "ba13fb7b-a063-4983-bc30-e18dd35ce9fc",
   "metadata": {
    "tags": []
   },
   "outputs": [
    {
     "name": "stdout",
     "output_type": "stream",
     "text": [
      "0.5195711146255227\n",
      "0.5195711052036867\n"
     ]
    }
   ],
   "source": [
    "print(option_3.delta())\n",
    "print(greek(option_3, u, 0.01))"
   ]
  },
  {
   "cell_type": "code",
   "execution_count": 20,
   "id": "058157e5-fe8b-4cb2-a89a-9fa5a0cf5231",
   "metadata": {
    "tags": []
   },
   "outputs": [
    {
     "name": "stdout",
     "output_type": "stream",
     "text": [
      "13.268193390322908\n",
      "-1.1643375864700545\n",
      "-1.1643375714971693\n"
     ]
    }
   ],
   "source": [
    "print(option_3.rho())\n",
    "print(greek(option_3, r, 0.001))\n",
    "print(option_3.rho() + option_3.dividendRho())"
   ]
  },
  {
   "cell_type": "code",
   "execution_count": null,
   "id": "e773eadb-a7a1-436f-937b-81cfdc929e24",
   "metadata": {},
   "outputs": [],
   "source": []
  }
 ],
 "metadata": {
  "kernelspec": {
   "display_name": "Python 3 (ipykernel)",
   "language": "python",
   "name": "python3"
  },
  "language_info": {
   "codemirror_mode": {
    "name": "ipython",
    "version": 3
   },
   "file_extension": ".py",
   "mimetype": "text/x-python",
   "name": "python",
   "nbconvert_exporter": "python",
   "pygments_lexer": "ipython3",
   "version": "3.10.8"
  },
  "widgets": {
   "application/vnd.jupyter.widget-state+json": {
    "state": {},
    "version_major": 2,
    "version_minor": 0
   }
  }
 },
 "nbformat": 4,
 "nbformat_minor": 5
}
