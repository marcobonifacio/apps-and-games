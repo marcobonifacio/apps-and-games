{
 "cells": [
  {
   "cell_type": "markdown",
   "id": "9eaf8a20-0587-4ac2-9bb2-fe20cd5e8067",
   "metadata": {},
   "source": [
    "# Bonds #\n",
    "## 22. Modeling Callable Bonds ##"
   ]
  },
  {
   "cell_type": "code",
   "execution_count": 2,
   "id": "690651ae-36c0-4867-ae94-a543862537d7",
   "metadata": {
    "tags": []
   },
   "outputs": [],
   "source": [
    "import QuantLib as ql\n",
    "import numpy as np\n",
    "import matplotlib.pyplot as plt\n",
    "calc_date = ql.Date(16,8,2016)\n",
    "ql.Settings.instance().evaluationDate = calc_date"
   ]
  },
  {
   "cell_type": "code",
   "execution_count": 3,
   "id": "96e41ed4-a479-41eb-b31f-27fc5f8ada68",
   "metadata": {
    "tags": []
   },
   "outputs": [],
   "source": [
    "day_count = ql.ActualActual(ql.ActualActual.Bond)\n",
    "rate = 0.035\n",
    "ts = ql.FlatForward(calc_date, rate, day_count, ql.Compounded, ql.Semiannual)\n",
    "ts_handle = ql.YieldTermStructureHandle(ts)"
   ]
  },
  {
   "cell_type": "code",
   "execution_count": 5,
   "id": "795ab117-02b3-4468-8815-5db3978f21ba",
   "metadata": {
    "tags": []
   },
   "outputs": [],
   "source": [
    "callability_schedule = ql.CallabilitySchedule()\n",
    "call_price = 100.0\n",
    "call_date = ql.Date(15,ql.September,2016);\n",
    "null_calendar = ql.NullCalendar();\n",
    "for i in range(0,24):\n",
    "    callability_price = ql.BondPrice(call_price, ql.BondPrice.Clean)\n",
    "    callability_schedule.append(ql.Callability(callability_price, ql.Callability.Call, call_date))\n",
    "    call_date = null_calendar.advance(call_date, 3, ql.Months)"
   ]
  },
  {
   "cell_type": "code",
   "execution_count": 7,
   "id": "ddb1d3d7-2cd8-481a-80ae-1da3b27f8743",
   "metadata": {
    "tags": []
   },
   "outputs": [],
   "source": [
    "issue_date = ql.Date(16,ql.September,2014)\n",
    "maturity_date = ql.Date(15,ql.September,2022)\n",
    "calendar = ql.UnitedStates(ql.UnitedStates.GovernmentBond)\n",
    "tenor = ql.Period(ql.Quarterly)\n",
    "accrual_convention = ql.Unadjusted\n",
    "schedule = ql.Schedule(issue_date, maturity_date, tenor,\n",
    "                       calendar, accrual_convention,\n",
    "                       accrual_convention,\n",
    "                       ql.DateGeneration.Backward, False)"
   ]
  },
  {
   "cell_type": "code",
   "execution_count": 8,
   "id": "98cc6d0a-eca5-4a51-8e99-a40b8f33e390",
   "metadata": {
    "tags": []
   },
   "outputs": [],
   "source": [
    "settlement_days = 3\n",
    "face_amount = 100\n",
    "accrual_daycount = ql.ActualActual(ql.ActualActual.Bond)\n",
    "coupon = 0.025\n",
    "bond = ql.CallableFixedRateBond(settlement_days, face_amount,\n",
    "                                schedule, [coupon], accrual_daycount,\n",
    "                                ql.Following, face_amount, issue_date,\n",
    "                                callability_schedule)"
   ]
  },
  {
   "cell_type": "code",
   "execution_count": 9,
   "id": "81dfa70a-b91e-4237-98d4-ff3d32d096e8",
   "metadata": {
    "tags": []
   },
   "outputs": [],
   "source": [
    "def value_bond(a, s, grid_points, bond):\n",
    "    model = ql.HullWhite(ts_handle, a, s)\n",
    "    engine = ql.TreeCallableFixedRateBondEngine(model, grid_points)\n",
    "    bond.setPricingEngine(engine)\n",
    "    return bond"
   ]
  },
  {
   "cell_type": "code",
   "execution_count": 10,
   "id": "5b3aae3f-8191-479c-8848-9d2e59601cb8",
   "metadata": {
    "tags": []
   },
   "outputs": [
    {
     "name": "stdout",
     "output_type": "stream",
     "text": [
      "Bond price:  68.31810243227723\n"
     ]
    }
   ],
   "source": [
    "value_bond(0.03, 0.12, 40, bond)\n",
    "print(\"Bond price: \",bond.cleanPrice())"
   ]
  },
  {
   "cell_type": "code",
   "execution_count": 11,
   "id": "abbc0c1b-7124-4ae0-b9e2-858751070cf0",
   "metadata": {
    "tags": []
   },
   "outputs": [],
   "source": [
    "sigmas = np.arange(0.001, 0.15, 0.001)\n",
    "prices = [value_bond(0.03, s, 40, bond).cleanPrice() for s in sigmas]"
   ]
  },
  {
   "cell_type": "code",
   "execution_count": 13,
   "id": "75596e72-ff93-41f1-a368-addfaa14c0c5",
   "metadata": {
    "tags": []
   },
   "outputs": [
    {
     "data": {
      "image/png": "[encoded data removed]",
      "text/plain": [
       "<Figure size 640x480 with 1 Axes>"
      ]
     },
     "metadata": {},
     "output_type": "display_data"
    }
   ],
   "source": [
    "plt.plot(sigmas, prices);\n",
    "plt.xlabel(\"Sigma\", size=12);\n",
    "plt.ylabel(\"Price\", size=12);"
   ]
  },
  {
   "cell_type": "code",
   "execution_count": 14,
   "id": "53e3806e-4895-4748-b9ed-74d8265ca13e",
   "metadata": {
    "tags": []
   },
   "outputs": [
    {
     "name": "stdout",
     "output_type": "stream",
     "text": [
      "December 15th, 2014   0.6181318681318659\n",
      "March 16th, 2015   0.6250000000000089\n",
      "June 15th, 2015   0.6250000000000089\n",
      "September 15th, 2015   0.6250000000000089\n",
      "December 15th, 2015   0.6250000000000089\n",
      "March 15th, 2016   0.6250000000000089\n",
      "June 15th, 2016   0.6250000000000089\n",
      "September 15th, 2016   0.6250000000000089\n",
      "December 15th, 2016   0.6250000000000089\n",
      "March 15th, 2017   0.6250000000000089\n",
      "June 15th, 2017   0.6250000000000089\n",
      "September 15th, 2017   0.6250000000000089\n",
      "December 15th, 2017   0.6250000000000089\n",
      "March 15th, 2018   0.6250000000000089\n",
      "June 15th, 2018   0.6250000000000089\n",
      "September 17th, 2018   0.6250000000000089\n",
      "December 17th, 2018   0.6250000000000089\n",
      "March 15th, 2019   0.6250000000000089\n",
      "June 17th, 2019   0.6250000000000089\n",
      "September 16th, 2019   0.6250000000000089\n",
      "December 16th, 2019   0.6250000000000089\n",
      "March 16th, 2020   0.6250000000000089\n",
      "June 15th, 2020   0.6250000000000089\n",
      "September 15th, 2020   0.6250000000000089\n",
      "December 15th, 2020   0.6250000000000089\n",
      "March 15th, 2021   0.6250000000000089\n",
      "June 15th, 2021   0.6250000000000089\n",
      "September 15th, 2021   0.6250000000000089\n",
      "December 15th, 2021   0.6250000000000089\n",
      "March 15th, 2022   0.6250000000000089\n",
      "June 15th, 2022   0.6250000000000089\n",
      "September 15th, 2022   0.6250000000000089\n",
      "September 15th, 2022   100.0\n"
     ]
    }
   ],
   "source": [
    "for c in bond.cashflows():\n",
    "    print(c.date(), \" \", c.amount())"
   ]
  },
  {
   "cell_type": "code",
   "execution_count": null,
   "id": "8e79b7c1-ac5f-4a13-b428-2aa04d8e3f5a",
   "metadata": {},
   "outputs": [],
   "source": []
  }
 ],
 "metadata": {
  "kernelspec": {
   "display_name": "Python 3 (ipykernel)",
   "language": "python",
   "name": "python3"
  },
  "language_info": {
   "codemirror_mode": {
    "name": "ipython",
    "version": 3
   },
   "file_extension": ".py",
   "mimetype": "text/x-python",
   "name": "python",
   "nbconvert_exporter": "python",
   "pygments_lexer": "ipython3",
   "version": "3.10.8"
  },
  "widgets": {
   "application/vnd.jupyter.widget-state+json": {
    "state": {},
    "version_major": 2,
    "version_minor": 0
   }
  }
 },
 "nbformat": 4,
 "nbformat_minor": 5
}
