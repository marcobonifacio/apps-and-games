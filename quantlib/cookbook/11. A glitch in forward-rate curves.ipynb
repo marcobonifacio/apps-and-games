{
 "cells": [
  {
   "cell_type": "markdown",
   "id": "d1d0946c-2efb-42ac-9a79-57043b465d51",
   "metadata": {},
   "source": [
    "# Interest-rate curves #\n",
    "## 11. A glitch in forward-rate curves ##"
   ]
  },
  {
   "cell_type": "code",
   "execution_count": 7,
   "id": "9152b422-95e4-4b82-8c34-da48019e2537",
   "metadata": {
    "tags": []
   },
   "outputs": [],
   "source": [
    "import pandas as pd\n",
    "import QuantLib as ql\n",
    "import matplotlib.pyplot as plt\n",
    "import numpy"
   ]
  },
  {
   "cell_type": "code",
   "execution_count": 2,
   "id": "5a32fe8b-55ed-475a-87d6-8a6eaa953478",
   "metadata": {
    "tags": []
   },
   "outputs": [],
   "source": [
    "today = ql.Date(24, ql.August, 2015)\n",
    "ql.Settings.instance().evaluationDate = today"
   ]
  },
  {
   "cell_type": "markdown",
   "id": "75d056cc-a1b2-416a-bba1-2ffbf4f4b251",
   "metadata": {},
   "source": [
    "### The statement of the case ###"
   ]
  },
  {
   "cell_type": "code",
   "execution_count": 3,
   "id": "31a50ed0-d855-4dbe-b582-ef92beb8a934",
   "metadata": {
    "tags": []
   },
   "outputs": [],
   "source": [
    "dates = [today] + [today + ql.Period(i, ql.Years) for i in [1, 2, 3, 5, 10, 20]]\n",
    "forwards = [0.01, 0.03, 0.02, 0.025, 0.035, 0.05, 0.04]\n",
    "curve = ql.ForwardCurve(dates, forwards, ql.Actual360())"
   ]
  },
  {
   "cell_type": "code",
   "execution_count": 4,
   "id": "90b99dd4-3247-4f46-bc82-b196b39ce3b8",
   "metadata": {
    "tags": []
   },
   "outputs": [
    {
     "data": {
      "text/html": [
       "<div>\n",
       "<style scoped>\n",
       "    .dataframe tbody tr th:only-of-type {\n",
       "        vertical-align: middle;\n",
       "    }\n",
       "\n",
       "    .dataframe tbody tr th {\n",
       "        vertical-align: top;\n",
       "    }\n",
       "\n",
       "    .dataframe thead th {\n",
       "        text-align: right;\n",
       "    }\n",
       "</style>\n",
       "<table border=\"1\" class=\"dataframe\">\n",
       "  <thead>\n",
       "    <tr style=\"text-align: right;\">\n",
       "      <th></th>\n",
       "      <th>date</th>\n",
       "      <th>rate</th>\n",
       "    </tr>\n",
       "  </thead>\n",
       "  <tbody>\n",
       "    <tr>\n",
       "      <th></th>\n",
       "      <td>August 24th, 2015</td>\n",
       "      <td>0.010</td>\n",
       "    </tr>\n",
       "    <tr>\n",
       "      <th></th>\n",
       "      <td>August 24th, 2016</td>\n",
       "      <td>0.030</td>\n",
       "    </tr>\n",
       "    <tr>\n",
       "      <th></th>\n",
       "      <td>August 24th, 2017</td>\n",
       "      <td>0.020</td>\n",
       "    </tr>\n",
       "    <tr>\n",
       "      <th></th>\n",
       "      <td>August 24th, 2018</td>\n",
       "      <td>0.025</td>\n",
       "    </tr>\n",
       "    <tr>\n",
       "      <th></th>\n",
       "      <td>August 24th, 2020</td>\n",
       "      <td>0.035</td>\n",
       "    </tr>\n",
       "    <tr>\n",
       "      <th></th>\n",
       "      <td>August 24th, 2025</td>\n",
       "      <td>0.050</td>\n",
       "    </tr>\n",
       "    <tr>\n",
       "      <th></th>\n",
       "      <td>August 24th, 2035</td>\n",
       "      <td>0.040</td>\n",
       "    </tr>\n",
       "  </tbody>\n",
       "</table>\n",
       "</div>"
      ],
      "text/plain": [
       "               date   rate\n",
       "  August 24th, 2015  0.010\n",
       "  August 24th, 2016  0.030\n",
       "  August 24th, 2017  0.020\n",
       "  August 24th, 2018  0.025\n",
       "  August 24th, 2020  0.035\n",
       "  August 24th, 2025  0.050\n",
       "  August 24th, 2035  0.040"
      ]
     },
     "execution_count": 4,
     "metadata": {},
     "output_type": "execute_result"
    }
   ],
   "source": [
    "pd.DataFrame(list(curve.nodes()),\n",
    "             columns = ('date', 'rate'),\n",
    "             index = ['']*len(dates))"
   ]
  },
  {
   "cell_type": "code",
   "execution_count": 5,
   "id": "0099a0e1-4171-4dc8-b3cb-eeb7a3fc8025",
   "metadata": {
    "tags": []
   },
   "outputs": [
    {
     "name": "stdout",
     "output_type": "stream",
     "text": [
      "August 24th, 2019\n",
      "3.500000 % Actual/360 continuous compounding\n"
     ]
    }
   ],
   "source": [
    "d = today + ql.Period(4, ql.Years)\n",
    "print(d)\n",
    "print(curve.forwardRate(d, d, curve.dayCounter(), ql.Continuous))"
   ]
  },
  {
   "cell_type": "code",
   "execution_count": 8,
   "id": "954630e8-c0a6-43b8-9c03-84974d65a0c7",
   "metadata": {
    "tags": []
   },
   "outputs": [
    {
     "data": {
      "image/png": "[encoded data removed]",
      "text/plain": [
       "<Figure size 640x480 with 1 Axes>"
      ]
     },
     "metadata": {},
     "output_type": "display_data"
    }
   ],
   "source": [
    "sample_times = numpy.linspace(0.0, 20.0, 401)\n",
    "sample_rates = [curve.forwardRate(t, t, ql.Continuous).rate() for t in sample_times]\n",
    "f, ax = plt.subplots()\n",
    "ax.set_ylim(0.0, 0.06)\n",
    "_ = ax.plot(sample_times, sample_rates)"
   ]
  },
  {
   "cell_type": "code",
   "execution_count": 10,
   "id": "139dedb5-7763-482e-b046-df34dba112af",
   "metadata": {
    "tags": []
   },
   "outputs": [
    {
     "data": {
      "text/html": [
       "<div>\n",
       "<style scoped>\n",
       "    .dataframe tbody tr th:only-of-type {\n",
       "        vertical-align: middle;\n",
       "    }\n",
       "\n",
       "    .dataframe tbody tr th {\n",
       "        vertical-align: top;\n",
       "    }\n",
       "\n",
       "    .dataframe thead th {\n",
       "        text-align: right;\n",
       "    }\n",
       "</style>\n",
       "<table border=\"1\" class=\"dataframe\">\n",
       "  <thead>\n",
       "    <tr style=\"text-align: right;\">\n",
       "      <th></th>\n",
       "      <th>date</th>\n",
       "      <th>expected</th>\n",
       "      <th>retrieved</th>\n",
       "    </tr>\n",
       "  </thead>\n",
       "  <tbody>\n",
       "    <tr>\n",
       "      <th></th>\n",
       "      <td>August 24th, 2015</td>\n",
       "      <td>0.010</td>\n",
       "      <td>0.0300</td>\n",
       "    </tr>\n",
       "    <tr>\n",
       "      <th></th>\n",
       "      <td>August 24th, 2016</td>\n",
       "      <td>0.030</td>\n",
       "      <td>0.0250</td>\n",
       "    </tr>\n",
       "    <tr>\n",
       "      <th></th>\n",
       "      <td>August 24th, 2017</td>\n",
       "      <td>0.020</td>\n",
       "      <td>0.0225</td>\n",
       "    </tr>\n",
       "    <tr>\n",
       "      <th></th>\n",
       "      <td>August 24th, 2018</td>\n",
       "      <td>0.025</td>\n",
       "      <td>0.0300</td>\n",
       "    </tr>\n",
       "    <tr>\n",
       "      <th></th>\n",
       "      <td>August 24th, 2020</td>\n",
       "      <td>0.035</td>\n",
       "      <td>0.0425</td>\n",
       "    </tr>\n",
       "    <tr>\n",
       "      <th></th>\n",
       "      <td>August 24th, 2025</td>\n",
       "      <td>0.050</td>\n",
       "      <td>0.0450</td>\n",
       "    </tr>\n",
       "    <tr>\n",
       "      <th></th>\n",
       "      <td>August 24th, 2035</td>\n",
       "      <td>0.040</td>\n",
       "      <td>0.0400</td>\n",
       "    </tr>\n",
       "  </tbody>\n",
       "</table>\n",
       "</div>"
      ],
      "text/plain": [
       "               date  expected  retrieved\n",
       "  August 24th, 2015     0.010     0.0300\n",
       "  August 24th, 2016     0.030     0.0250\n",
       "  August 24th, 2017     0.020     0.0225\n",
       "  August 24th, 2018     0.025     0.0300\n",
       "  August 24th, 2020     0.035     0.0425\n",
       "  August 24th, 2025     0.050     0.0450\n",
       "  August 24th, 2035     0.040     0.0400"
      ]
     },
     "execution_count": 10,
     "metadata": {},
     "output_type": "execute_result"
    }
   ],
   "source": [
    "dates, expected = zip(*curve.nodes())\n",
    "rates = [curve.forwardRate(d, d, curve.dayCounter(), ql.Continuous).rate() for d in dates]\n",
    "pd.DataFrame(zip(dates, expected, rates),\n",
    "             columns = ('date', 'expected', 'retrieved'),\n",
    "             index = [''] * len(dates))"
   ]
  },
  {
   "cell_type": "code",
   "execution_count": 11,
   "id": "546154e3-e46a-4f8f-a4a7-a05f202b9452",
   "metadata": {
    "tags": []
   },
   "outputs": [
    {
     "data": {
      "image/png": "[encoded data removed]",
      "text/plain": [
       "<Figure size 640x480 with 1 Axes>"
      ]
     },
     "metadata": {},
     "output_type": "display_data"
    }
   ],
   "source": [
    "node_times = [curve.dayCounter().yearFraction(today, d) for d in dates]\n",
    "ax.plot(node_times, rates, 'o', color='red')\n",
    "display(f)"
   ]
  },
  {
   "cell_type": "code",
   "execution_count": null,
   "id": "44702144-6d35-44cc-a753-809b224ef6c2",
   "metadata": {},
   "outputs": [],
   "source": []
  }
 ],
 "metadata": {
  "kernelspec": {
   "display_name": "Python 3 (ipykernel)",
   "language": "python",
   "name": "python3"
  },
  "language_info": {
   "codemirror_mode": {
    "name": "ipython",
    "version": 3
   },
   "file_extension": ".py",
   "mimetype": "text/x-python",
   "name": "python",
   "nbconvert_exporter": "python",
   "pygments_lexer": "ipython3",
   "version": "3.10.8"
  },
  "widgets": {
   "application/vnd.jupyter.widget-state+json": {
    "state": {},
    "version_major": 2,
    "version_minor": 0
   }
  }
 },
 "nbformat": 4,
 "nbformat_minor": 5
}
