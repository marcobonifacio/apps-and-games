{
 "cells": [
  {
   "cell_type": "markdown",
   "id": "5c3dbc8d-3bb4-4c57-b76d-4bdd153c0155",
   "metadata": {},
   "source": [
    "# Interest-rate models #\n",
    "## 15. Par versus indexed coupons ##"
   ]
  },
  {
   "cell_type": "code",
   "execution_count": 1,
   "id": "213db08a-78ac-4be5-894b-90ebec035b09",
   "metadata": {
    "tags": []
   },
   "outputs": [],
   "source": [
    "import QuantLib as ql\n",
    "import pandas as pd\n",
    "today = ql.Date(7, ql.January, 2013)\n",
    "ql.Settings.instance().evaluationDate = today"
   ]
  },
  {
   "cell_type": "code",
   "execution_count": 2,
   "id": "9b3b7dee-f4fc-4e53-b64b-784dd0d60e6d",
   "metadata": {
    "tags": []
   },
   "outputs": [],
   "source": [
    "dates, forwards = zip(*[(ql.Date(7,1,2013), 0.03613672438543303),\n",
    "                        (ql.Date(8,4,2013), 0.03613672438543303),\n",
    "                        (ql.Date(8,7,2013), 0.033849133719219514),\n",
    "                        (ql.Date(7,1,2014), 0.03573931373272106),\n",
    "                        (ql.Date(7,7,2014), 0.03445303757052511)])\n",
    "libor_curve = ql.ForwardCurve(dates, forwards, ql.Actual365Fixed())"
   ]
  },
  {
   "cell_type": "code",
   "execution_count": 3,
   "id": "738f5097-9b77-4bb8-948c-baa0c4da971b",
   "metadata": {
    "tags": []
   },
   "outputs": [],
   "source": [
    "index = ql.GBPLibor(ql.Period(6, ql.Months),\n",
    "                    ql.YieldTermStructureHandle(libor_curve))\n",
    "calendar = index.fixingCalendar()\n",
    "nominal = 1000000\n",
    "length = 1\n",
    "maturity = calendar.advance(today, length, ql.Years)\n",
    "adjustment = index.businessDayConvention()\n",
    "schedule = ql.Schedule(today, maturity,\n",
    "                       index.tenor(), calendar,\n",
    "                       adjustment, adjustment,\n",
    "                       ql.DateGeneration.Backward, False)\n",
    "floating_leg = ql.IborLeg([nominal], schedule, index, index.dayCounter())"
   ]
  },
  {
   "cell_type": "code",
   "execution_count": 4,
   "id": "867ade79-4a48-4115-b943-8961ff05c1fd",
   "metadata": {
    "tags": []
   },
   "outputs": [
    {
     "data": {
      "text/html": [
       "<div>\n",
       "<style scoped>\n",
       "    .dataframe tbody tr th:only-of-type {\n",
       "        vertical-align: middle;\n",
       "    }\n",
       "\n",
       "    .dataframe tbody tr th {\n",
       "        vertical-align: top;\n",
       "    }\n",
       "\n",
       "    .dataframe thead th {\n",
       "        text-align: right;\n",
       "    }\n",
       "</style>\n",
       "<table border=\"1\" class=\"dataframe\">\n",
       "  <thead>\n",
       "    <tr style=\"text-align: right;\">\n",
       "      <th></th>\n",
       "      <th>fixing date</th>\n",
       "      <th>index fixing</th>\n",
       "      <th>start date</th>\n",
       "      <th>end date</th>\n",
       "      <th>days</th>\n",
       "      <th>accrual period</th>\n",
       "      <th>amount</th>\n",
       "    </tr>\n",
       "  </thead>\n",
       "  <tbody>\n",
       "    <tr>\n",
       "      <th>0</th>\n",
       "      <td>January 7th, 2013</td>\n",
       "      <td>0.035300</td>\n",
       "      <td>January 7th, 2013</td>\n",
       "      <td>July 8th, 2013</td>\n",
       "      <td>182</td>\n",
       "      <td>0.49863</td>\n",
       "      <td>17601.643836</td>\n",
       "    </tr>\n",
       "    <tr>\n",
       "      <th>1</th>\n",
       "      <td>July 8th, 2013</td>\n",
       "      <td>0.036056</td>\n",
       "      <td>July 8th, 2013</td>\n",
       "      <td>January 7th, 2014</td>\n",
       "      <td>183</td>\n",
       "      <td>0.50137</td>\n",
       "      <td>18077.435629</td>\n",
       "    </tr>\n",
       "  </tbody>\n",
       "</table>\n",
       "</div>"
      ],
      "text/plain": [
       "         fixing date  index fixing         start date           end date days   \n",
       "0  January 7th, 2013      0.035300  January 7th, 2013     July 8th, 2013  182  \\\n",
       "1     July 8th, 2013      0.036056     July 8th, 2013  January 7th, 2014  183   \n",
       "\n",
       "  accrual period        amount  \n",
       "0        0.49863  17601.643836  \n",
       "1        0.50137  18077.435629  "
      ]
     },
     "execution_count": 4,
     "metadata": {},
     "output_type": "execute_result"
    }
   ],
   "source": [
    "df = pd.DataFrame()\n",
    "dates = list(schedule)\n",
    "df['fixing date'] = dates[:-1]\n",
    "df['index fixing'] = [index.fixing(d) for d in df['fixing date']]\n",
    "df['start date'] = dates[:-1]\n",
    "df['end date'] = dates[1:]\n",
    "df['days'] = df['end date'] - df['start date']\n",
    "df['accrual period'] = df['days'] / 365\n",
    "df['amount'] = df['index fixing'] * nominal * df['accrual period']\n",
    "df"
   ]
  },
  {
   "cell_type": "code",
   "execution_count": 6,
   "id": "84ae49e3-1d8d-4d2a-9fb3-89c3c9579f60",
   "metadata": {
    "tags": []
   },
   "outputs": [
    {
     "data": {
      "text/html": [
       "<div>\n",
       "<style scoped>\n",
       "    .dataframe tbody tr th:only-of-type {\n",
       "        vertical-align: middle;\n",
       "    }\n",
       "\n",
       "    .dataframe tbody tr th {\n",
       "        vertical-align: top;\n",
       "    }\n",
       "\n",
       "    .dataframe thead th {\n",
       "        text-align: right;\n",
       "    }\n",
       "</style>\n",
       "<table border=\"1\" class=\"dataframe\">\n",
       "  <thead>\n",
       "    <tr style=\"text-align: right;\">\n",
       "      <th></th>\n",
       "      <th>amount</th>\n",
       "      <th>rate</th>\n",
       "    </tr>\n",
       "  </thead>\n",
       "  <tbody>\n",
       "    <tr>\n",
       "      <th>0</th>\n",
       "      <td>17601.643836</td>\n",
       "      <td>0.035300</td>\n",
       "    </tr>\n",
       "    <tr>\n",
       "      <th>1</th>\n",
       "      <td>18080.116395</td>\n",
       "      <td>0.036061</td>\n",
       "    </tr>\n",
       "  </tbody>\n",
       "</table>\n",
       "</div>"
      ],
      "text/plain": [
       "         amount      rate\n",
       "0  17601.643836  0.035300\n",
       "1  18080.116395  0.036061"
      ]
     },
     "execution_count": 6,
     "metadata": {},
     "output_type": "execute_result"
    }
   ],
   "source": [
    "df2 = pd.DataFrame({'amount': [c.amount() for c in floating_leg],\n",
    "                    'rate': [ql.as_coupon(c).rate() for c in floating_leg]})\n",
    "df2"
   ]
  },
  {
   "cell_type": "code",
   "execution_count": 7,
   "id": "c64f22ea-b8c7-4366-a029-820a1a50c1ef",
   "metadata": {
    "tags": []
   },
   "outputs": [
    {
     "name": "stdout",
     "output_type": "stream",
     "text": [
      "July 8th, 2013\n",
      "0.036056087457623655\n"
     ]
    }
   ],
   "source": [
    "coupon = ql.as_floating_rate_coupon(floating_leg[1])\n",
    "print(coupon.fixingDate())\n",
    "print(index.fixing(coupon.fixingDate()))"
   ]
  },
  {
   "cell_type": "code",
   "execution_count": 9,
   "id": "9e647754-ca70-46a7-990d-756b90747cf1",
   "metadata": {
    "tags": []
   },
   "outputs": [
    {
     "name": "stdout",
     "output_type": "stream",
     "text": [
      "July 8th, 2013\n",
      "January 8th, 2014\n"
     ]
    }
   ],
   "source": [
    "startDate = index.valueDate(coupon.fixingDate())\n",
    "endDate = index.maturityDate(startDate)\n",
    "print(startDate)\n",
    "print(endDate)"
   ]
  },
  {
   "cell_type": "code",
   "execution_count": 10,
   "id": "d5b0b62b-a552-49e1-a49e-d122b0f981c5",
   "metadata": {
    "tags": []
   },
   "outputs": [
    {
     "name": "stdout",
     "output_type": "stream",
     "text": [
      "3.605609 % Actual/365 (Fixed) simple compounding\n"
     ]
    }
   ],
   "source": [
    "print(libor_curve.forwardRate(startDate, endDate, coupon.dayCounter(), ql.Simple))"
   ]
  },
  {
   "cell_type": "code",
   "execution_count": 11,
   "id": "4f6583cc-2818-4467-bb40-4aada0331bc3",
   "metadata": {
    "tags": []
   },
   "outputs": [
    {
     "name": "stdout",
     "output_type": "stream",
     "text": [
      "July 8th, 2013\n",
      "January 7th, 2014\n"
     ]
    }
   ],
   "source": [
    "couponStart = coupon.accrualStartDate()\n",
    "couponEnd = coupon.accrualEndDate()\n",
    "print(couponStart)\n",
    "print(couponEnd)"
   ]
  },
  {
   "cell_type": "code",
   "execution_count": 12,
   "id": "a3d9aa32-376b-49f6-bf54-c4ea4f18e614",
   "metadata": {
    "tags": []
   },
   "outputs": [
    {
     "name": "stdout",
     "output_type": "stream",
     "text": [
      "3.606143 % Actual/365 (Fixed) simple compounding\n"
     ]
    }
   ],
   "source": [
    "print(libor_curve.forwardRate(couponStart, couponEnd, coupon.dayCounter(), ql.Simple))"
   ]
  },
  {
   "cell_type": "code",
   "execution_count": 13,
   "id": "eb8090e2-a6ee-45a1-9d39-8dd73e75e064",
   "metadata": {
    "tags": []
   },
   "outputs": [
    {
     "data": {
      "text/plain": [
       "0.0360614343399347"
      ]
     },
     "execution_count": 13,
     "metadata": {},
     "output_type": "execute_result"
    }
   ],
   "source": [
    "coupon.rate()"
   ]
  },
  {
   "cell_type": "code",
   "execution_count": 14,
   "id": "a6f19974-a957-411f-8579-f33aa08f1fc1",
   "metadata": {
    "tags": []
   },
   "outputs": [
    {
     "data": {
      "text/plain": [
       "18080.116395090554"
      ]
     },
     "execution_count": 14,
     "metadata": {},
     "output_type": "execute_result"
    }
   ],
   "source": [
    "coupon.rate() * nominal * coupon.accrualPeriod()"
   ]
  },
  {
   "cell_type": "code",
   "execution_count": 15,
   "id": "dd2ef485-a6ef-47af-bb38-cba0dddbca56",
   "metadata": {
    "tags": []
   },
   "outputs": [
    {
     "data": {
      "text/plain": [
       "18080.11639509055"
      ]
     },
     "execution_count": 15,
     "metadata": {},
     "output_type": "execute_result"
    }
   ],
   "source": [
    "coupon.amount()"
   ]
  },
  {
   "cell_type": "code",
   "execution_count": null,
   "id": "92e457e8-3f14-4e24-bd3d-f2d794adfd52",
   "metadata": {},
   "outputs": [],
   "source": []
  }
 ],
 "metadata": {
  "kernelspec": {
   "display_name": "Python 3 (ipykernel)",
   "language": "python",
   "name": "python3"
  },
  "language_info": {
   "codemirror_mode": {
    "name": "ipython",
    "version": 3
   },
   "file_extension": ".py",
   "mimetype": "text/x-python",
   "name": "python",
   "nbconvert_exporter": "python",
   "pygments_lexer": "ipython3",
   "version": "3.10.8"
  },
  "widgets": {
   "application/vnd.jupyter.widget-state+json": {
    "state": {},
    "version_major": 2,
    "version_minor": 0
   }
  }
 },
 "nbformat": 4,
 "nbformat_minor": 5
}
