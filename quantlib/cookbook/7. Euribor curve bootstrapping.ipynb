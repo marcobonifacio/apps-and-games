{
 "cells": [
  {
   "cell_type": "markdown",
   "id": "0aca9b41-b4cb-4478-a803-87dad28abd65",
   "metadata": {},
   "source": [
    "# Interest-rate curves #\n",
    "## 7. Euribor curve bootstrapping ##"
   ]
  },
  {
   "cell_type": "code",
   "execution_count": 1,
   "id": "8b800886-c25f-4734-ab6f-fa8d433a03a5",
   "metadata": {
    "tags": []
   },
   "outputs": [],
   "source": [
    "import math\n",
    "import numpy\n",
    "import datetime\n",
    "import matplotlib.pyplot as plot"
   ]
  },
  {
   "cell_type": "code",
   "execution_count": 2,
   "id": "6beca1b6-fd79-4c4d-a678-d8f39feb1f83",
   "metadata": {
    "tags": []
   },
   "outputs": [],
   "source": [
    "import QuantLib as ql"
   ]
  },
  {
   "cell_type": "code",
   "execution_count": 3,
   "id": "8a6c9cb0-b1c9-45b0-906e-7fa1737d7a8c",
   "metadata": {
    "tags": []
   },
   "outputs": [],
   "source": [
    "today = ql.Date(11, ql.December, 2012)\n",
    "ql.Settings.instance().evaluationDate = today"
   ]
  },
  {
   "cell_type": "markdown",
   "id": "28df2592-148d-46e3-b6f2-cbd3e98104fa",
   "metadata": {},
   "source": [
    "### Discounting curve ###"
   ]
  },
  {
   "cell_type": "code",
   "execution_count": 4,
   "id": "bd4e665c-9e5f-4556-be1b-0d53355d35a2",
   "metadata": {
    "tags": []
   },
   "outputs": [],
   "source": [
    "eonia = ql.Eonia()"
   ]
  },
  {
   "cell_type": "code",
   "execution_count": 5,
   "id": "7316cc49-e368-4ff2-ac6c-97b2f141b76a",
   "metadata": {
    "tags": []
   },
   "outputs": [],
   "source": [
    "helpers = [ql.DepositRateHelper(ql.QuoteHandle(ql.SimpleQuote(rate / 100)),\n",
    "                                ql.Period(1, ql.Days), fixingDays,\n",
    "                                ql.TARGET(), ql.Following, False, ql.Actual360())\n",
    "           for rate, fixingDays in [(0.04, 0), (0.04, 1), (0.04, 2)]]"
   ]
  },
  {
   "cell_type": "code",
   "execution_count": 6,
   "id": "01b85c90-7da3-45be-877a-fb34480f4929",
   "metadata": {
    "tags": []
   },
   "outputs": [],
   "source": [
    "helpers += [ql.OISRateHelper(2, ql.Period(*tenor),\n",
    "                             ql.QuoteHandle(ql.SimpleQuote(rate / 100)), eonia)\n",
    "            for rate, tenor in [(0.070, (1, ql.Weeks)), (0.069, (2, ql.Weeks)),\n",
    "                                (0.078, (3, ql.Weeks)), (0.074, (1, ql.Months))]]"
   ]
  },
  {
   "cell_type": "code",
   "execution_count": 7,
   "id": "a7361be2-c045-4318-aa7b-a4c82e262e3c",
   "metadata": {
    "tags": []
   },
   "outputs": [],
   "source": [
    "helpers += [ql.DatedOISRateHelper(start_date, end_date,\n",
    "                                  ql.QuoteHandle(ql.SimpleQuote(rate / 100)), eonia)\n",
    "            for rate, start_date, end_date in [\n",
    "                (0.046, ql.Date(16, ql.January, 2013), ql.Date(13, ql.February, 2013)),\n",
    "                (0.016, ql.Date(13, ql.February, 2013), ql.Date(13, ql.March, 2013)),\n",
    "                (-0.007, ql.Date(13, ql.March, 2013), ql.Date(10, ql.April, 2013)),\n",
    "                (-0.013, ql.Date(10, ql.April, 2013), ql.Date(8, ql.May, 2013)),\n",
    "                (-0.014, ql.Date(8, ql.May, 2013), ql.Date(12, ql.June, 2013))]]"
   ]
  },
  {
   "cell_type": "code",
   "execution_count": 8,
   "id": "960ef338-0bbd-4c7e-b3b6-0a30e619ff9a",
   "metadata": {
    "tags": []
   },
   "outputs": [],
   "source": [
    "helpers += [ql.OISRateHelper(2, ql.Period(*tenor),\n",
    "            ql.QuoteHandle(ql.SimpleQuote(rate / 100)), eonia)\n",
    "            for rate, tenor in [(0.002, (15, ql.Months)), (0.008, (18, ql.Months)),\n",
    "                                (0.021, (21, ql.Months)), (0.036, (2, ql.Years)),\n",
    "                                (0.127, (3, ql.Years)), (0.274, (4, ql.Years)),\n",
    "                                (0.456, (5, ql.Years)), (0.647, (6, ql.Years)),\n",
    "                                (0.827, (7, ql.Years)), (0.996, (8, ql.Years)),\n",
    "                                (1.147, (9, ql.Years)), (1.280, (10, ql.Years)),\n",
    "                                (1.404, (11, ql.Years)), (1.516, (12, ql.Years)),\n",
    "                                (1.764, (15, ql.Years)), (1.939, (20, ql.Years)),\n",
    "                                (2.003, (25, ql.Years)), (2.038, (30, ql.Years))]]"
   ]
  },
  {
   "cell_type": "code",
   "execution_count": 10,
   "id": "7f921722-234f-4ca7-a0f0-cd0f0a175e8f",
   "metadata": {
    "tags": []
   },
   "outputs": [],
   "source": [
    "jumps = [ql.QuoteHandle(ql.SimpleQuote(math.exp(-J * 2.0 / 360))) for J in [0.00102, 0.00086]]\n",
    "jump_dates = [ql.Date(31, ql.December, 2012), ql.Date(31, ql.December, 2013)]"
   ]
  },
  {
   "cell_type": "code",
   "execution_count": 11,
   "id": "9cc39e5c-40b2-4e94-8b92-8bcf7bf81514",
   "metadata": {
    "tags": []
   },
   "outputs": [],
   "source": [
    "eonia_curve = ql.PiecewiseLogCubicDiscount(2, ql.TARGET(), helpers, ql.Actual365Fixed(), jumps, jump_dates)\n",
    "eonia_curve.enableExtrapolation()"
   ]
  },
  {
   "cell_type": "markdown",
   "id": "41cacdf4-2627-4435-be67-1fcade9d2328",
   "metadata": {},
   "source": [
    "### 6-months Euribor ###"
   ]
  },
  {
   "cell_type": "code",
   "execution_count": 12,
   "id": "5619ff5f-db45-48a8-b457-a65082c55f10",
   "metadata": {
    "tags": []
   },
   "outputs": [],
   "source": [
    "helpers = [ql.DepositRateHelper(ql.QuoteHandle(ql.SimpleQuote(0.312 / 100)), \n",
    "                                ql.Period(6, ql.Months), 3, ql.TARGET(), ql.Following, False, ql.Actual360()) ]"
   ]
  },
  {
   "cell_type": "code",
   "execution_count": 13,
   "id": "deb207e6-dd5d-4a3a-a228-038ce73a1259",
   "metadata": {
    "tags": []
   },
   "outputs": [],
   "source": [
    "euribor6m = ql.Euribor6M()"
   ]
  },
  {
   "cell_type": "code",
   "execution_count": 14,
   "id": "596efc48-f676-4f97-a550-2e6f3ad69a49",
   "metadata": {
    "tags": []
   },
   "outputs": [],
   "source": [
    "helpers += [ql.FraRateHelper(ql.QuoteHandle(ql.SimpleQuote(rate / 100)),\n",
    "                             start, euribor6m)\n",
    "            for rate, start in [(0.293, 1), (0.272, 2), (0.260, 3),\n",
    "                                (0.256, 4), (0.252, 5), (0.248, 6),\n",
    "                                (0.254, 7), (0.261, 8), (0.267, 9),\n",
    "                                (0.279, 10), (0.291, 11), (0.303, 12),\n",
    "                                (0.318, 13), (0.335, 14), (0.352, 15),\n",
    "                                (0.371, 16), (0.389, 17), (0.409, 18)]]"
   ]
  },
  {
   "cell_type": "code",
   "execution_count": 15,
   "id": "5abc6831-4a9c-457e-bd65-af4ff59f8265",
   "metadata": {
    "tags": []
   },
   "outputs": [],
   "source": [
    "discount_curve = ql.RelinkableYieldTermStructureHandle()\n",
    "discount_curve.linkTo(eonia_curve)"
   ]
  },
  {
   "cell_type": "code",
   "execution_count": 16,
   "id": "097b721b-f657-4ecc-8c37-d769c410f758",
   "metadata": {
    "tags": []
   },
   "outputs": [],
   "source": [
    "helpers += [ql.SwapRateHelper(ql.QuoteHandle(ql.SimpleQuote(rate / 100)),\n",
    "                              ql.Period(tenor, ql.Years), ql.TARGET(),\n",
    "                              ql.Annual, ql.Unadjusted,\n",
    "                              ql.Thirty360(ql.Thirty360.BondBasis),\n",
    "                              euribor6m, ql.QuoteHandle(), ql.Period(0, ql.Days),\n",
    "                              discount_curve)\n",
    "            for rate, tenor in [(0.424, 3), (0.576, 4), (0.762, 5),\n",
    "                                (0.954, 6), (1.135, 7), (1.303, 8),\n",
    "                                (1.452, 9), (1.584, 10), (1.809, 12),\n",
    "                                (2.037, 15), (2.187, 20), (2.234, 25),\n",
    "                                (2.256, 30), (2.295, 35), (2.348, 40),\n",
    "                                (2.421, 50), (2.463, 60)] ]"
   ]
  },
  {
   "cell_type": "code",
   "execution_count": 17,
   "id": "f7fe0190-a638-4542-a959-1448fd3e68cb",
   "metadata": {
    "tags": []
   },
   "outputs": [],
   "source": [
    "euribor6m_curve = ql.PiecewiseLogCubicDiscount(2, ql.TARGET(), helpers, ql.Actual365Fixed())\n",
    "euribor6m_curve.enableExtrapolation()"
   ]
  },
  {
   "cell_type": "code",
   "execution_count": 19,
   "id": "44f30931-a29f-48d9-8954-d558c41f79a4",
   "metadata": {
    "tags": []
   },
   "outputs": [
    {
     "data": {
      "image/png": "[encoded data removed]",
      "text/plain": [
       "<Figure size 640x480 with 1 Axes>"
      ]
     },
     "metadata": {},
     "output_type": "display_data"
    }
   ],
   "source": [
    "spot = euribor6m_curve.referenceDate()\n",
    "dates = [spot + ql.Period(i, ql.Months) for i in range(0, 60 * 12 + 1)]\n",
    "rates = [euribor6m_curve.forwardRate(d, euribor6m.maturityDate(d),\n",
    "                                     ql.Actual360(), ql.Simple).rate() for d in dates ]\n",
    "plot.plot([datetime.date(d.year(), d.month(), d.dayOfMonth()) for d in dates], rates, '-');"
   ]
  },
  {
   "cell_type": "code",
   "execution_count": 20,
   "id": "a4ef7284-15c4-4212-b7a6-be0b0132a9c4",
   "metadata": {
    "tags": []
   },
   "outputs": [
    {
     "data": {
      "image/png": "[encoded data removed]",
      "text/plain": [
       "<Figure size 640x480 with 1 Axes>"
      ]
     },
     "metadata": {},
     "output_type": "display_data"
    }
   ],
   "source": [
    "dates = [spot + ql.Period(i, ql.Weeks) for i in range(0, 52 * 4 + 1)]\n",
    "rates = [euribor6m_curve.forwardRate(d, euribor6m.maturityDate(d), \n",
    "                                     ql.Actual360(), ql.Simple).rate() for d in dates ]\n",
    "plot.plot([datetime.date(d.year(), d.month(), d.dayOfMonth()) for d in dates], rates, '-');"
   ]
  },
  {
   "cell_type": "markdown",
   "id": "ee5ab5d2-200d-4751-9af1-e57115c617c3",
   "metadata": {},
   "source": [
    "### Synthetic deposits ###"
   ]
  },
  {
   "cell_type": "code",
   "execution_count": null,
   "id": "8738957c-18d6-46b1-9db5-a59c96a2658d",
   "metadata": {},
   "outputs": [],
   "source": []
  }
 ],
 "metadata": {
  "kernelspec": {
   "display_name": "Python 3 (ipykernel)",
   "language": "python",
   "name": "python3"
  },
  "language_info": {
   "codemirror_mode": {
    "name": "ipython",
    "version": 3
   },
   "file_extension": ".py",
   "mimetype": "text/x-python",
   "name": "python",
   "nbconvert_exporter": "python",
   "pygments_lexer": "ipython3",
   "version": "3.10.8"
  }
 },
 "nbformat": 4,
 "nbformat_minor": 5
}
