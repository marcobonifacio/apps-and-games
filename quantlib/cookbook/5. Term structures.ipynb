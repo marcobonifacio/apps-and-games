{
 "cells": [
  {
   "cell_type": "markdown",
   "id": "bb210fd0-fd0e-4ae3-a2c9-6c71b4533be8",
   "metadata": {},
   "source": [
    "# Interest-rate curves #\n",
    "## 5. Term structures and their reference dates ##"
   ]
  },
  {
   "cell_type": "markdown",
   "id": "66702d21-6597-4503-bcb9-a6e4a25ebea4",
   "metadata": {},
   "source": [
    "### Setup ###"
   ]
  },
  {
   "cell_type": "code",
   "execution_count": 1,
   "id": "fa4529c5-aada-4160-b5d0-0f647ca80370",
   "metadata": {
    "tags": []
   },
   "outputs": [],
   "source": [
    "import QuantLib as ql"
   ]
  },
  {
   "cell_type": "code",
   "execution_count": 2,
   "id": "b6735c33-9668-4522-b29c-7f2751d382e2",
   "metadata": {
    "tags": []
   },
   "outputs": [],
   "source": [
    "ql.Settings.instance().evaluationDate = ql.Date(3, ql.October, 2014)"
   ]
  },
  {
   "cell_type": "markdown",
   "id": "05f47dec-2c5b-4533-a11d-907b7b4c21f4",
   "metadata": {},
   "source": [
    "### Specifying the reference date of a term structure ###"
   ]
  },
  {
   "cell_type": "code",
   "execution_count": 7,
   "id": "415786d2-7f38-48d4-a72a-6537e8fb0fe3",
   "metadata": {
    "tags": []
   },
   "outputs": [],
   "source": [
    "helpers = [ql.SwapRateHelper(ql.QuoteHandle(ql.SimpleQuote(rate / 100.0)),\n",
    "                             ql.Period(*tenor), ql.TARGET(), ql.Annual, \n",
    "                             ql.Unadjusted, ql.Thirty360(ql.Thirty360.European), \n",
    "                             ql.Euribor6M())\n",
    "           for tenor, rate in [((2, ql.Years), 0.201),\n",
    "                               ((3, ql.Years), 0.258),\n",
    "                               ((5, ql.Years), 0.464),\n",
    "                               ((10, ql.Years), 1.151),\n",
    "                               ((15, ql.Years), 1.588)]]"
   ]
  },
  {
   "cell_type": "code",
   "execution_count": 8,
   "id": "ab1d15c7-2364-4ed3-a090-6ff6729d99c9",
   "metadata": {
    "tags": []
   },
   "outputs": [],
   "source": [
    "curve1 = ql.PiecewiseFlatForward(0, ql.TARGET(), helpers, ql.Actual360())"
   ]
  },
  {
   "cell_type": "code",
   "execution_count": 9,
   "id": "f1891a19-8dcc-423e-9c89-b86af9ebbad9",
   "metadata": {
    "tags": []
   },
   "outputs": [],
   "source": [
    "dates, rates = zip(*curve1.nodes())"
   ]
  },
  {
   "cell_type": "code",
   "execution_count": 12,
   "id": "212d6df1-5001-4ca2-a63e-cdf784ed2e47",
   "metadata": {
    "tags": []
   },
   "outputs": [
    {
     "data": {
      "text/plain": [
       "[(Date(3,10,2014), 0.0019777694879293093),\n",
       " (Date(7,10,2016), 0.0019777694879293093),\n",
       " (Date(9,10,2017), 0.0036475517704509294),\n",
       " (Date(7,10,2019), 0.007660760701876805),\n",
       " (Date(7,10,2024), 0.018414773669420893),\n",
       " (Date(8,10,2029), 0.025311634328221498)]"
      ]
     },
     "execution_count": 12,
     "metadata": {},
     "output_type": "execute_result"
    }
   ],
   "source": [
    "list(zip(dates, rates))"
   ]
  },
  {
   "cell_type": "code",
   "execution_count": 13,
   "id": "b90dd11e-2239-44da-b323-2b8ffc5c6ffb",
   "metadata": {
    "tags": []
   },
   "outputs": [],
   "source": [
    "curve2 = ql.ForwardCurve(dates, rates, ql.Actual360())"
   ]
  },
  {
   "cell_type": "code",
   "execution_count": 14,
   "id": "498097b5-3ab7-4b5a-80a3-f5bad0df74ed",
   "metadata": {
    "tags": []
   },
   "outputs": [
    {
     "name": "stdout",
     "output_type": "stream",
     "text": [
      "October 3rd, 2014 to October 8th, 2029\n",
      "October 3rd, 2014 to October 8th, 2029\n"
     ]
    }
   ],
   "source": [
    "print(curve1.referenceDate(), 'to', curve1.maxDate())\n",
    "print(curve2.referenceDate(), 'to', curve2.maxDate())"
   ]
  },
  {
   "cell_type": "code",
   "execution_count": 15,
   "id": "ab0b7121-60a1-40c9-8fb9-6265b3f4e260",
   "metadata": {
    "tags": []
   },
   "outputs": [
    {
     "name": "stdout",
     "output_type": "stream",
     "text": [
      "0.452196 % Actual/360 continuous compounding\n",
      "0.452196 % Actual/360 continuous compounding\n"
     ]
    }
   ],
   "source": [
    "print(curve1.zeroRate(5.0, ql.Continuous))\n",
    "print(curve2.zeroRate(5.0, ql.Continuous))"
   ]
  },
  {
   "cell_type": "code",
   "execution_count": 16,
   "id": "acad917c-3cee-4ad4-9a45-bd655c55a830",
   "metadata": {
    "tags": []
   },
   "outputs": [
    {
     "name": "stdout",
     "output_type": "stream",
     "text": [
      "0.452196 % Actual/360 continuous compounding\n",
      "0.452196 % Actual/360 continuous compounding\n"
     ]
    }
   ],
   "source": [
    "print(curve1.zeroRate(ql.Date(7, ql.September, 2019), ql.Actual360(), ql.Continuous))\n",
    "print(curve2.zeroRate(ql.Date(7, ql.September, 2019), ql.Actual360(), ql.Continuous))"
   ]
  },
  {
   "cell_type": "code",
   "execution_count": 17,
   "id": "f4bccd80-595e-459f-b988-97ce873bc9aa",
   "metadata": {
    "tags": []
   },
   "outputs": [],
   "source": [
    "import matplotlib.pyplot as plot\n",
    "import numpy"
   ]
  },
  {
   "cell_type": "code",
   "execution_count": 19,
   "id": "55ea2e93-e477-4804-a3ac-764b6e17d861",
   "metadata": {
    "tags": []
   },
   "outputs": [
    {
     "data": {
      "image/png": "[encoded data removed]",
      "text/plain": [
       "<Figure size 640x480 with 1 Axes>"
      ]
     },
     "metadata": {},
     "output_type": "display_data"
    }
   ],
   "source": [
    "times = numpy.linspace(0.0, 15.0, 400)\n",
    "rates = [curve1.zeroRate(t, ql.Continuous).rate() for t in times]\n",
    "plot.plot(times, rates);"
   ]
  },
  {
   "cell_type": "markdown",
   "id": "3df8b6b1-7726-4462-b0fd-d7d00c6bdc04",
   "metadata": {},
   "source": [
    "### Moving the evaluation date ###"
   ]
  },
  {
   "cell_type": "code",
   "execution_count": 20,
   "id": "39d8bf86-9ef8-4e8a-a89e-233aaf9f62b0",
   "metadata": {
    "tags": []
   },
   "outputs": [],
   "source": [
    "ql.Settings.instance().evaluationDate = ql.Date(19, ql.September, 2014)"
   ]
  },
  {
   "cell_type": "code",
   "execution_count": 21,
   "id": "432ad3f8-dcf3-45c9-96b0-5c6b57a9946b",
   "metadata": {
    "tags": []
   },
   "outputs": [
    {
     "name": "stdout",
     "output_type": "stream",
     "text": [
      "September 19th, 2014 to September 24th, 2029\n",
      "October 3rd, 2014 to October 8th, 2029\n"
     ]
    }
   ],
   "source": [
    "print(curve1.referenceDate(), 'to', curve1.maxDate())\n",
    "print(curve2.referenceDate(), 'to', curve2.maxDate())"
   ]
  },
  {
   "cell_type": "code",
   "execution_count": 22,
   "id": "48c1f16a-59b9-40a8-8184-01cd59d8ad50",
   "metadata": {
    "tags": []
   },
   "outputs": [
    {
     "name": "stdout",
     "output_type": "stream",
     "text": [
      "0.452196 % Actual/360 continuous compounding\n",
      "0.452196 % Actual/360 continuous compounding\n"
     ]
    }
   ],
   "source": [
    "print(curve1.zeroRate(5.0, ql.Continuous))\n",
    "print(curve2.zeroRate(5.0, ql.Continuous))"
   ]
  },
  {
   "cell_type": "code",
   "execution_count": 23,
   "id": "b8a6eb4e-bfc2-4e24-8d38-5e88c070e026",
   "metadata": {
    "tags": []
   },
   "outputs": [
    {
     "name": "stdout",
     "output_type": "stream",
     "text": [
      "0.454618 % Actual/360 continuous compounding\n",
      "0.452196 % Actual/360 continuous compounding\n"
     ]
    }
   ],
   "source": [
    "print(curve1.zeroRate(ql.Date(7, ql.September, 2019), ql.Actual360(), ql.Continuous))\n",
    "print(curve2.zeroRate(ql.Date(7, ql.September, 2019), ql.Actual360(), ql.Continuous))"
   ]
  },
  {
   "cell_type": "markdown",
   "id": "b24aa20c-3873-4e17-aa67-08426d8dc0df",
   "metadata": {},
   "source": [
    "### Notifications ###"
   ]
  },
  {
   "cell_type": "code",
   "execution_count": 25,
   "id": "597f73c9-7b00-416f-af19-6ee5473c185d",
   "metadata": {
    "tags": []
   },
   "outputs": [],
   "source": [
    "def make_observer(i):\n",
    "    def say():\n",
    "        s = f\"Observer {i} notified\"\n",
    "        print('-'*len(s))\n",
    "        print(s)\n",
    "        print('-'*len(s))\n",
    "    return ql.Observer(say)\n",
    "obs1 = make_observer(1)\n",
    "obs2 = make_observer(2)"
   ]
  },
  {
   "cell_type": "code",
   "execution_count": 26,
   "id": "8697ad07-fa90-4e76-8919-abfec1869cb6",
   "metadata": {
    "tags": []
   },
   "outputs": [],
   "source": [
    "q1 = ql.SimpleQuote(1.0)\n",
    "obs1.registerWith(q1)\n",
    "q2 = ql.SimpleQuote(2.0)\n",
    "obs2.registerWith(q2)\n",
    "q3 = ql.SimpleQuote(3.0)\n",
    "obs1.registerWith(q3)\n",
    "obs2.registerWith(q3)"
   ]
  },
  {
   "cell_type": "code",
   "execution_count": 27,
   "id": "90c57356-3461-4554-b4cd-a5b8147b509d",
   "metadata": {
    "tags": []
   },
   "outputs": [
    {
     "name": "stdout",
     "output_type": "stream",
     "text": [
      "-------------------\n",
      "Observer 1 notified\n",
      "-------------------\n"
     ]
    }
   ],
   "source": [
    "q1.setValue(1.5)"
   ]
  },
  {
   "cell_type": "code",
   "execution_count": 28,
   "id": "28c1be5f-aac8-4e69-99a6-ba4540a4a8d4",
   "metadata": {
    "tags": []
   },
   "outputs": [
    {
     "name": "stdout",
     "output_type": "stream",
     "text": [
      "-------------------\n",
      "Observer 2 notified\n",
      "-------------------\n"
     ]
    }
   ],
   "source": [
    "q2.setValue(1.9)"
   ]
  },
  {
   "cell_type": "code",
   "execution_count": 29,
   "id": "916d386c-d698-4fa1-8eaf-75e957334c79",
   "metadata": {
    "tags": []
   },
   "outputs": [
    {
     "name": "stdout",
     "output_type": "stream",
     "text": [
      "-------------------\n",
      "Observer 2 notified\n",
      "-------------------\n",
      "-------------------\n",
      "Observer 1 notified\n",
      "-------------------\n"
     ]
    }
   ],
   "source": [
    "q3.setValue(3.1)"
   ]
  },
  {
   "cell_type": "code",
   "execution_count": 30,
   "id": "ce8627ba-5087-4b97-a24e-c0d0403cf484",
   "metadata": {
    "tags": []
   },
   "outputs": [],
   "source": [
    "obs1.registerWith(curve1)\n",
    "obs2.registerWith(curve2)"
   ]
  },
  {
   "cell_type": "code",
   "execution_count": 31,
   "id": "e3550f54-31fc-41e3-9a2f-7fbe4267705c",
   "metadata": {
    "tags": []
   },
   "outputs": [
    {
     "name": "stdout",
     "output_type": "stream",
     "text": [
      "-------------------\n",
      "Observer 1 notified\n",
      "-------------------\n"
     ]
    }
   ],
   "source": [
    "ql.Settings.instance().evaluationDate = ql.Date(23, ql.September, 2014)"
   ]
  },
  {
   "cell_type": "code",
   "execution_count": null,
   "id": "05424553-1d9d-4e5d-b174-09e1fae50886",
   "metadata": {},
   "outputs": [],
   "source": []
  }
 ],
 "metadata": {
  "kernelspec": {
   "display_name": "Python 3 (ipykernel)",
   "language": "python",
   "name": "python3"
  },
  "language_info": {
   "codemirror_mode": {
    "name": "ipython",
    "version": 3
   },
   "file_extension": ".py",
   "mimetype": "text/x-python",
   "name": "python",
   "nbconvert_exporter": "python",
   "pygments_lexer": "ipython3",
   "version": "3.10.8"
  }
 },
 "nbformat": 4,
 "nbformat_minor": 5
}
