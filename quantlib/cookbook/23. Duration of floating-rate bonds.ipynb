{
 "cells": [
  {
   "cell_type": "markdown",
   "id": "49f7bbd6-5ddb-42c9-b317-ae5331d547af",
   "metadata": {},
   "source": [
    "# Bonds #\n",
    "## 23. Duration of floating-rate bonds ##"
   ]
  },
  {
   "cell_type": "code",
   "execution_count": 1,
   "id": "2a49427a-e22f-4157-beef-b19f0a6ada53",
   "metadata": {
    "tags": []
   },
   "outputs": [],
   "source": [
    "import QuantLib as ql\n",
    "import pandas as pd"
   ]
  },
  {
   "cell_type": "code",
   "execution_count": 2,
   "id": "88ffea49-212b-49f7-b150-7ebbdfefbb9d",
   "metadata": {
    "tags": []
   },
   "outputs": [],
   "source": [
    "today = ql.Date(8,ql.October,2014)\n",
    "ql.Settings.instance().evaluationDate = today"
   ]
  },
  {
   "cell_type": "markdown",
   "id": "55c98f29-2893-4f5a-996b-0f6f17731a03",
   "metadata": {},
   "source": [
    "### The problem ###"
   ]
  },
  {
   "cell_type": "code",
   "execution_count": 3,
   "id": "f54e961e-3a67-4b37-8247-377a9701eef5",
   "metadata": {
    "tags": []
   },
   "outputs": [],
   "source": [
    "forecast_curve = ql.RelinkableYieldTermStructureHandle()\n",
    "forecast_curve.linkTo(ql.FlatForward(today, 0.002, ql.Actual360(), ql.Compounded, ql.Semiannual))"
   ]
  },
  {
   "cell_type": "code",
   "execution_count": 5,
   "id": "4b29ff75-156a-4b0f-85a5-31228f030de7",
   "metadata": {
    "tags": []
   },
   "outputs": [],
   "source": [
    "index = ql.Euribor6M(forecast_curve)\n",
    "index.addFixing(ql.Date(6,ql.August,2014), 0.002)"
   ]
  },
  {
   "cell_type": "code",
   "execution_count": 6,
   "id": "b799b863-7075-47be-9dfc-0aa6fd2f49f6",
   "metadata": {
    "tags": []
   },
   "outputs": [],
   "source": [
    "issueDate = ql.Date(8,ql.August,2014)\n",
    "maturityDate = ql.Date(8,ql.August,2019)\n",
    "schedule = ql.Schedule(issueDate, maturityDate,\n",
    "                       ql.Period(ql.Semiannual), ql.TARGET(), ql.Following, ql.Following,\n",
    "                       ql.DateGeneration.Backward, False)\n",
    "bond = ql.FloatingRateBond(settlementDays = 3, faceAmount = 100, schedule = schedule,\n",
    "                           index = index, paymentDayCounter = ql.Actual360())"
   ]
  },
  {
   "cell_type": "code",
   "execution_count": 7,
   "id": "785cf770-e5b6-4a34-8845-5c5129d6537b",
   "metadata": {
    "tags": []
   },
   "outputs": [
    {
     "data": {
      "text/html": [
       "<div>\n",
       "<style scoped>\n",
       "    .dataframe tbody tr th:only-of-type {\n",
       "        vertical-align: middle;\n",
       "    }\n",
       "\n",
       "    .dataframe tbody tr th {\n",
       "        vertical-align: top;\n",
       "    }\n",
       "\n",
       "    .dataframe thead th {\n",
       "        text-align: right;\n",
       "    }\n",
       "</style>\n",
       "<table border=\"1\" class=\"dataframe\">\n",
       "  <thead>\n",
       "    <tr style=\"text-align: right;\">\n",
       "      <th></th>\n",
       "      <th>date</th>\n",
       "      <th>amount</th>\n",
       "    </tr>\n",
       "  </thead>\n",
       "  <tbody>\n",
       "    <tr>\n",
       "      <th>1</th>\n",
       "      <td>February 9th, 2015</td>\n",
       "      <td>0.102778</td>\n",
       "    </tr>\n",
       "    <tr>\n",
       "      <th>2</th>\n",
       "      <td>August 10th, 2015</td>\n",
       "      <td>0.101112</td>\n",
       "    </tr>\n",
       "    <tr>\n",
       "      <th>3</th>\n",
       "      <td>February 8th, 2016</td>\n",
       "      <td>0.101112</td>\n",
       "    </tr>\n",
       "    <tr>\n",
       "      <th>4</th>\n",
       "      <td>August 8th, 2016</td>\n",
       "      <td>0.101112</td>\n",
       "    </tr>\n",
       "    <tr>\n",
       "      <th>5</th>\n",
       "      <td>February 8th, 2017</td>\n",
       "      <td>0.102223</td>\n",
       "    </tr>\n",
       "    <tr>\n",
       "      <th>6</th>\n",
       "      <td>August 8th, 2017</td>\n",
       "      <td>0.100556</td>\n",
       "    </tr>\n",
       "    <tr>\n",
       "      <th>7</th>\n",
       "      <td>February 8th, 2018</td>\n",
       "      <td>0.102223</td>\n",
       "    </tr>\n",
       "    <tr>\n",
       "      <th>8</th>\n",
       "      <td>August 8th, 2018</td>\n",
       "      <td>0.100556</td>\n",
       "    </tr>\n",
       "    <tr>\n",
       "      <th>9</th>\n",
       "      <td>February 8th, 2019</td>\n",
       "      <td>0.102223</td>\n",
       "    </tr>\n",
       "    <tr>\n",
       "      <th>10</th>\n",
       "      <td>August 8th, 2019</td>\n",
       "      <td>0.100556</td>\n",
       "    </tr>\n",
       "    <tr>\n",
       "      <th>11</th>\n",
       "      <td>August 8th, 2019</td>\n",
       "      <td>100.000000</td>\n",
       "    </tr>\n",
       "  </tbody>\n",
       "</table>\n",
       "</div>"
      ],
      "text/plain": [
       "                  date      amount\n",
       "1   February 9th, 2015    0.102778\n",
       "2    August 10th, 2015    0.101112\n",
       "3   February 8th, 2016    0.101112\n",
       "4     August 8th, 2016    0.101112\n",
       "5   February 8th, 2017    0.102223\n",
       "6     August 8th, 2017    0.100556\n",
       "7   February 8th, 2018    0.102223\n",
       "8     August 8th, 2018    0.100556\n",
       "9   February 8th, 2019    0.102223\n",
       "10    August 8th, 2019    0.100556\n",
       "11    August 8th, 2019  100.000000"
      ]
     },
     "execution_count": 7,
     "metadata": {},
     "output_type": "execute_result"
    }
   ],
   "source": [
    "dates = [c.date() for c in bond.cashflows()]\n",
    "cfs = [c.amount() for c in bond.cashflows()]\n",
    "pd.DataFrame(zip(dates, cfs),\n",
    "             columns = ('date','amount'),\n",
    "             index = range(1,len(dates)+1))"
   ]
  },
  {
   "cell_type": "code",
   "execution_count": 8,
   "id": "8f70b37b-c64f-463a-af3e-ea47161e181b",
   "metadata": {
    "tags": []
   },
   "outputs": [
    {
     "name": "stdout",
     "output_type": "stream",
     "text": [
      "4.8609591731332165\n"
     ]
    }
   ],
   "source": [
    "y = ql.InterestRate(0.002, ql.Actual360(), ql.Compounded, ql.Semiannual)\n",
    "print(ql.BondFunctions.duration(bond, y, ql.Duration.Modified))"
   ]
  },
  {
   "cell_type": "markdown",
   "id": "15b8fc84-0b20-4510-b30b-8dd35b639848",
   "metadata": {},
   "source": [
    "### What happened? ###"
   ]
  },
  {
   "cell_type": "code",
   "execution_count": 9,
   "id": "334dc232-b0b9-4660-b29e-0d409c9440d1",
   "metadata": {
    "tags": []
   },
   "outputs": [
    {
     "name": "stdout",
     "output_type": "stream",
     "text": [
      "100.03665363580889\n"
     ]
    }
   ],
   "source": [
    "y = ql.SimpleQuote(0.002)\n",
    "yield_curve = ql.FlatForward(bond.settlementDate(), ql.QuoteHandle(y),\n",
    "                             ql.Actual360(), ql.Compounded, ql.Semiannual)\n",
    "dates = [c.date() for c in bond.cashflows()]\n",
    "cfs = [c.amount() for c in bond.cashflows()]\n",
    "discounts = [yield_curve.discount(d) for d in dates]\n",
    "P = sum(cf*b for cf,b in zip(cfs,discounts))\n",
    "print(P)"
   ]
  },
  {
   "cell_type": "code",
   "execution_count": 10,
   "id": "1b5a8851-4da2-4b4a-bf3b-3ad530ce432f",
   "metadata": {
    "tags": []
   },
   "outputs": [
    {
     "name": "stdout",
     "output_type": "stream",
     "text": [
      "100.03665363580889\n"
     ]
    }
   ],
   "source": [
    "bond.setPricingEngine(ql.DiscountingBondEngine(ql.YieldTermStructureHandle(yield_curve)))\n",
    "print(bond.dirtyPrice())"
   ]
  },
  {
   "cell_type": "code",
   "execution_count": 11,
   "id": "9f2e482c-2b5b-485f-aa28-7a435b5b4be9",
   "metadata": {
    "tags": []
   },
   "outputs": [
    {
     "name": "stdout",
     "output_type": "stream",
     "text": [
      "100.03179102561501\n",
      "100.0415165074028\n"
     ]
    }
   ],
   "source": [
    "dy = 1e-5\n",
    "y.setValue(0.002 + dy)\n",
    "cfs_p = [c.amount() for c in bond.cashflows()]\n",
    "discounts_p = [yield_curve.discount(d) for d in dates]\n",
    "P_p = sum(cf*b for cf,b in zip(cfs_p,discounts_p))\n",
    "print(P_p)\n",
    "y.setValue(0.002 - dy)\n",
    "cfs_m = [c.amount() for c in bond.cashflows()]\n",
    "discounts_m = [yield_curve.discount(d) for d in dates]\n",
    "P_m = sum(cf*b for cf,b in zip(cfs_m,discounts_m))\n",
    "print(P_m)\n",
    "y.setValue(0.002)"
   ]
  },
  {
   "cell_type": "code",
   "execution_count": 12,
   "id": "2e3d5f29-4858-4263-a759-2b28f4589166",
   "metadata": {
    "tags": []
   },
   "outputs": [
    {
     "name": "stdout",
     "output_type": "stream",
     "text": [
      "4.8609591756253225\n"
     ]
    }
   ],
   "source": [
    "print(-(1/P)*(P_p - P_m)/(2*dy))"
   ]
  },
  {
   "cell_type": "code",
   "execution_count": 13,
   "id": "a2b7c3b4-3c3b-47cd-800b-2c241b867f7c",
   "metadata": {
    "tags": []
   },
   "outputs": [
    {
     "data": {
      "text/html": [
       "<div>\n",
       "<style scoped>\n",
       "    .dataframe tbody tr th:only-of-type {\n",
       "        vertical-align: middle;\n",
       "    }\n",
       "\n",
       "    .dataframe tbody tr th {\n",
       "        vertical-align: top;\n",
       "    }\n",
       "\n",
       "    .dataframe thead th {\n",
       "        text-align: right;\n",
       "    }\n",
       "</style>\n",
       "<table border=\"1\" class=\"dataframe\">\n",
       "  <thead>\n",
       "    <tr style=\"text-align: right;\">\n",
       "      <th></th>\n",
       "      <th>date</th>\n",
       "      <th>amount</th>\n",
       "      <th>discounts</th>\n",
       "      <th>amount (+)</th>\n",
       "      <th>discounts (+)</th>\n",
       "      <th>amount (-)</th>\n",
       "      <th>discounts (-)</th>\n",
       "    </tr>\n",
       "  </thead>\n",
       "  <tbody>\n",
       "    <tr>\n",
       "      <th>1</th>\n",
       "      <td>February 9th, 2015</td>\n",
       "      <td>0.102778</td>\n",
       "      <td>0.999339</td>\n",
       "      <td>0.102778</td>\n",
       "      <td>0.999336</td>\n",
       "      <td>0.102778</td>\n",
       "      <td>0.999343</td>\n",
       "    </tr>\n",
       "    <tr>\n",
       "      <th>2</th>\n",
       "      <td>August 10th, 2015</td>\n",
       "      <td>0.101112</td>\n",
       "      <td>0.998330</td>\n",
       "      <td>0.101112</td>\n",
       "      <td>0.998322</td>\n",
       "      <td>0.101112</td>\n",
       "      <td>0.998338</td>\n",
       "    </tr>\n",
       "    <tr>\n",
       "      <th>3</th>\n",
       "      <td>February 8th, 2016</td>\n",
       "      <td>0.101112</td>\n",
       "      <td>0.997322</td>\n",
       "      <td>0.101112</td>\n",
       "      <td>0.997308</td>\n",
       "      <td>0.101112</td>\n",
       "      <td>0.997335</td>\n",
       "    </tr>\n",
       "    <tr>\n",
       "      <th>4</th>\n",
       "      <td>August 8th, 2016</td>\n",
       "      <td>0.101112</td>\n",
       "      <td>0.996314</td>\n",
       "      <td>0.101112</td>\n",
       "      <td>0.996296</td>\n",
       "      <td>0.101112</td>\n",
       "      <td>0.996333</td>\n",
       "    </tr>\n",
       "    <tr>\n",
       "      <th>5</th>\n",
       "      <td>February 8th, 2017</td>\n",
       "      <td>0.102223</td>\n",
       "      <td>0.995297</td>\n",
       "      <td>0.102223</td>\n",
       "      <td>0.995273</td>\n",
       "      <td>0.102223</td>\n",
       "      <td>0.995320</td>\n",
       "    </tr>\n",
       "    <tr>\n",
       "      <th>6</th>\n",
       "      <td>August 8th, 2017</td>\n",
       "      <td>0.100556</td>\n",
       "      <td>0.994297</td>\n",
       "      <td>0.100556</td>\n",
       "      <td>0.994269</td>\n",
       "      <td>0.100556</td>\n",
       "      <td>0.994325</td>\n",
       "    </tr>\n",
       "    <tr>\n",
       "      <th>7</th>\n",
       "      <td>February 8th, 2018</td>\n",
       "      <td>0.102223</td>\n",
       "      <td>0.993282</td>\n",
       "      <td>0.102223</td>\n",
       "      <td>0.993248</td>\n",
       "      <td>0.102223</td>\n",
       "      <td>0.993315</td>\n",
       "    </tr>\n",
       "    <tr>\n",
       "      <th>8</th>\n",
       "      <td>August 8th, 2018</td>\n",
       "      <td>0.100556</td>\n",
       "      <td>0.992284</td>\n",
       "      <td>0.100556</td>\n",
       "      <td>0.992245</td>\n",
       "      <td>0.100556</td>\n",
       "      <td>0.992322</td>\n",
       "    </tr>\n",
       "    <tr>\n",
       "      <th>9</th>\n",
       "      <td>February 8th, 2019</td>\n",
       "      <td>0.102223</td>\n",
       "      <td>0.991270</td>\n",
       "      <td>0.102223</td>\n",
       "      <td>0.991227</td>\n",
       "      <td>0.102223</td>\n",
       "      <td>0.991314</td>\n",
       "    </tr>\n",
       "    <tr>\n",
       "      <th>10</th>\n",
       "      <td>August 8th, 2019</td>\n",
       "      <td>0.100556</td>\n",
       "      <td>0.990275</td>\n",
       "      <td>0.100556</td>\n",
       "      <td>0.990226</td>\n",
       "      <td>0.100556</td>\n",
       "      <td>0.990323</td>\n",
       "    </tr>\n",
       "    <tr>\n",
       "      <th>11</th>\n",
       "      <td>August 8th, 2019</td>\n",
       "      <td>100.000000</td>\n",
       "      <td>0.990275</td>\n",
       "      <td>100.000000</td>\n",
       "      <td>0.990226</td>\n",
       "      <td>100.000000</td>\n",
       "      <td>0.990323</td>\n",
       "    </tr>\n",
       "  </tbody>\n",
       "</table>\n",
       "</div>"
      ],
      "text/plain": [
       "                  date      amount  discounts  amount (+)  discounts (+)   \n",
       "1   February 9th, 2015    0.102778   0.999339    0.102778       0.999336  \\\n",
       "2    August 10th, 2015    0.101112   0.998330    0.101112       0.998322   \n",
       "3   February 8th, 2016    0.101112   0.997322    0.101112       0.997308   \n",
       "4     August 8th, 2016    0.101112   0.996314    0.101112       0.996296   \n",
       "5   February 8th, 2017    0.102223   0.995297    0.102223       0.995273   \n",
       "6     August 8th, 2017    0.100556   0.994297    0.100556       0.994269   \n",
       "7   February 8th, 2018    0.102223   0.993282    0.102223       0.993248   \n",
       "8     August 8th, 2018    0.100556   0.992284    0.100556       0.992245   \n",
       "9   February 8th, 2019    0.102223   0.991270    0.102223       0.991227   \n",
       "10    August 8th, 2019    0.100556   0.990275    0.100556       0.990226   \n",
       "11    August 8th, 2019  100.000000   0.990275  100.000000       0.990226   \n",
       "\n",
       "    amount (-)  discounts (-)  \n",
       "1     0.102778       0.999343  \n",
       "2     0.101112       0.998338  \n",
       "3     0.101112       0.997335  \n",
       "4     0.101112       0.996333  \n",
       "5     0.102223       0.995320  \n",
       "6     0.100556       0.994325  \n",
       "7     0.102223       0.993315  \n",
       "8     0.100556       0.992322  \n",
       "9     0.102223       0.991314  \n",
       "10    0.100556       0.990323  \n",
       "11  100.000000       0.990323  "
      ]
     },
     "execution_count": 13,
     "metadata": {},
     "output_type": "execute_result"
    }
   ],
   "source": [
    "pd.DataFrame(zip(dates, cfs, discounts, cfs_p, discounts_p, cfs_m, discounts_m),\n",
    "             columns = ('date','amount','discounts', 'amount (+)','discounts (+)','amount (-)','discounts (-)',),\n",
    "             index = range(1,len(dates)+1))"
   ]
  },
  {
   "cell_type": "markdown",
   "id": "180ac7ef-d91b-4fe8-bb3e-8eb6ffff3a09",
   "metadata": {},
   "source": [
    "### The solution ###"
   ]
  },
  {
   "cell_type": "code",
   "execution_count": 14,
   "id": "80fd1216-e32a-40cc-9a35-8982f9daf377",
   "metadata": {
    "tags": []
   },
   "outputs": [],
   "source": [
    "forecast_curve.linkTo(yield_curve)"
   ]
  },
  {
   "cell_type": "code",
   "execution_count": 15,
   "id": "3d64d718-fc37-4c24-856c-365f15366833",
   "metadata": {
    "tags": []
   },
   "outputs": [
    {
     "name": "stdout",
     "output_type": "stream",
     "text": [
      "100.03632329080955\n",
      "100.03698398354918\n"
     ]
    }
   ],
   "source": [
    "y.setValue(0.002 + dy)\n",
    "P_p = bond.dirtyPrice()\n",
    "cfs_p = [c.amount() for c in bond.cashflows()]\n",
    "discounts_p = [ yield_curve.discount(d) for d in dates ]\n",
    "print(P_p)\n",
    "y.setValue(0.002 - dy)\n",
    "P_m = bond.dirtyPrice()\n",
    "cfs_m = [c.amount() for c in bond.cashflows()]\n",
    "discounts_m = [yield_curve.discount(d) for d in dates]\n",
    "print(P_m)\n",
    "y.setValue(0.002)"
   ]
  },
  {
   "cell_type": "code",
   "execution_count": 16,
   "id": "e4f30195-bafa-452e-8bb5-93a894f82217",
   "metadata": {
    "tags": []
   },
   "outputs": [
    {
     "data": {
      "text/html": [
       "<div>\n",
       "<style scoped>\n",
       "    .dataframe tbody tr th:only-of-type {\n",
       "        vertical-align: middle;\n",
       "    }\n",
       "\n",
       "    .dataframe tbody tr th {\n",
       "        vertical-align: top;\n",
       "    }\n",
       "\n",
       "    .dataframe thead th {\n",
       "        text-align: right;\n",
       "    }\n",
       "</style>\n",
       "<table border=\"1\" class=\"dataframe\">\n",
       "  <thead>\n",
       "    <tr style=\"text-align: right;\">\n",
       "      <th></th>\n",
       "      <th>date</th>\n",
       "      <th>amount</th>\n",
       "      <th>discounts</th>\n",
       "      <th>amount (+)</th>\n",
       "      <th>discounts (+)</th>\n",
       "      <th>amount (-)</th>\n",
       "      <th>discounts (-)</th>\n",
       "    </tr>\n",
       "  </thead>\n",
       "  <tbody>\n",
       "    <tr>\n",
       "      <th>1</th>\n",
       "      <td>February 9th, 2015</td>\n",
       "      <td>0.102778</td>\n",
       "      <td>0.999339</td>\n",
       "      <td>0.102778</td>\n",
       "      <td>0.999336</td>\n",
       "      <td>0.102778</td>\n",
       "      <td>0.999343</td>\n",
       "    </tr>\n",
       "    <tr>\n",
       "      <th>2</th>\n",
       "      <td>August 10th, 2015</td>\n",
       "      <td>0.101112</td>\n",
       "      <td>0.998330</td>\n",
       "      <td>0.101617</td>\n",
       "      <td>0.998322</td>\n",
       "      <td>0.100606</td>\n",
       "      <td>0.998338</td>\n",
       "    </tr>\n",
       "    <tr>\n",
       "      <th>3</th>\n",
       "      <td>February 8th, 2016</td>\n",
       "      <td>0.101112</td>\n",
       "      <td>0.997322</td>\n",
       "      <td>0.101617</td>\n",
       "      <td>0.997308</td>\n",
       "      <td>0.100606</td>\n",
       "      <td>0.997335</td>\n",
       "    </tr>\n",
       "    <tr>\n",
       "      <th>4</th>\n",
       "      <td>August 8th, 2016</td>\n",
       "      <td>0.101112</td>\n",
       "      <td>0.996314</td>\n",
       "      <td>0.101617</td>\n",
       "      <td>0.996296</td>\n",
       "      <td>0.100606</td>\n",
       "      <td>0.996333</td>\n",
       "    </tr>\n",
       "    <tr>\n",
       "      <th>5</th>\n",
       "      <td>February 8th, 2017</td>\n",
       "      <td>0.102223</td>\n",
       "      <td>0.995297</td>\n",
       "      <td>0.102734</td>\n",
       "      <td>0.995273</td>\n",
       "      <td>0.101712</td>\n",
       "      <td>0.995320</td>\n",
       "    </tr>\n",
       "    <tr>\n",
       "      <th>6</th>\n",
       "      <td>August 8th, 2017</td>\n",
       "      <td>0.100556</td>\n",
       "      <td>0.994297</td>\n",
       "      <td>0.101059</td>\n",
       "      <td>0.994269</td>\n",
       "      <td>0.100053</td>\n",
       "      <td>0.994325</td>\n",
       "    </tr>\n",
       "    <tr>\n",
       "      <th>7</th>\n",
       "      <td>February 8th, 2018</td>\n",
       "      <td>0.102223</td>\n",
       "      <td>0.993282</td>\n",
       "      <td>0.102734</td>\n",
       "      <td>0.993248</td>\n",
       "      <td>0.101712</td>\n",
       "      <td>0.993315</td>\n",
       "    </tr>\n",
       "    <tr>\n",
       "      <th>8</th>\n",
       "      <td>August 8th, 2018</td>\n",
       "      <td>0.100556</td>\n",
       "      <td>0.992284</td>\n",
       "      <td>0.101059</td>\n",
       "      <td>0.992245</td>\n",
       "      <td>0.100053</td>\n",
       "      <td>0.992322</td>\n",
       "    </tr>\n",
       "    <tr>\n",
       "      <th>9</th>\n",
       "      <td>February 8th, 2019</td>\n",
       "      <td>0.102223</td>\n",
       "      <td>0.991270</td>\n",
       "      <td>0.102734</td>\n",
       "      <td>0.991227</td>\n",
       "      <td>0.101712</td>\n",
       "      <td>0.991314</td>\n",
       "    </tr>\n",
       "    <tr>\n",
       "      <th>10</th>\n",
       "      <td>August 8th, 2019</td>\n",
       "      <td>0.100556</td>\n",
       "      <td>0.990275</td>\n",
       "      <td>0.101059</td>\n",
       "      <td>0.990226</td>\n",
       "      <td>0.100053</td>\n",
       "      <td>0.990323</td>\n",
       "    </tr>\n",
       "    <tr>\n",
       "      <th>11</th>\n",
       "      <td>August 8th, 2019</td>\n",
       "      <td>100.000000</td>\n",
       "      <td>0.990275</td>\n",
       "      <td>100.000000</td>\n",
       "      <td>0.990226</td>\n",
       "      <td>100.000000</td>\n",
       "      <td>0.990323</td>\n",
       "    </tr>\n",
       "  </tbody>\n",
       "</table>\n",
       "</div>"
      ],
      "text/plain": [
       "                  date      amount  discounts  amount (+)  discounts (+)   \n",
       "1   February 9th, 2015    0.102778   0.999339    0.102778       0.999336  \\\n",
       "2    August 10th, 2015    0.101112   0.998330    0.101617       0.998322   \n",
       "3   February 8th, 2016    0.101112   0.997322    0.101617       0.997308   \n",
       "4     August 8th, 2016    0.101112   0.996314    0.101617       0.996296   \n",
       "5   February 8th, 2017    0.102223   0.995297    0.102734       0.995273   \n",
       "6     August 8th, 2017    0.100556   0.994297    0.101059       0.994269   \n",
       "7   February 8th, 2018    0.102223   0.993282    0.102734       0.993248   \n",
       "8     August 8th, 2018    0.100556   0.992284    0.101059       0.992245   \n",
       "9   February 8th, 2019    0.102223   0.991270    0.102734       0.991227   \n",
       "10    August 8th, 2019    0.100556   0.990275    0.101059       0.990226   \n",
       "11    August 8th, 2019  100.000000   0.990275  100.000000       0.990226   \n",
       "\n",
       "    amount (-)  discounts (-)  \n",
       "1     0.102778       0.999343  \n",
       "2     0.100606       0.998338  \n",
       "3     0.100606       0.997335  \n",
       "4     0.100606       0.996333  \n",
       "5     0.101712       0.995320  \n",
       "6     0.100053       0.994325  \n",
       "7     0.101712       0.993315  \n",
       "8     0.100053       0.992322  \n",
       "9     0.101712       0.991314  \n",
       "10    0.100053       0.990323  \n",
       "11  100.000000       0.990323  "
      ]
     },
     "execution_count": 16,
     "metadata": {},
     "output_type": "execute_result"
    }
   ],
   "source": [
    "pd.DataFrame(zip(dates, cfs, discounts, cfs_p, discounts_p, cfs_m, discounts_m),\n",
    "             columns = ('date','amount','discounts', 'amount (+)','discounts (+)','amount (-)','discounts (-)',),\n",
    "             index = range(1,len(dates)+1))"
   ]
  },
  {
   "cell_type": "code",
   "execution_count": 18,
   "id": "141d8eba-ea06-420c-8ce1-9ed39bc3c328",
   "metadata": {
    "tags": []
   },
   "outputs": [
    {
     "name": "stdout",
     "output_type": "stream",
     "text": [
      "0.33022533022465994\n"
     ]
    }
   ],
   "source": [
    "print(-(1/P)*(P_p - P_m)/(2*dy))"
   ]
  },
  {
   "cell_type": "code",
   "execution_count": 19,
   "id": "643b28c4-2871-4b3d-ad38-164028cfacca",
   "metadata": {
    "tags": []
   },
   "outputs": [],
   "source": [
    "discount_curve = ql.ZeroSpreadedTermStructure(forecast_curve,\n",
    "                                              ql.QuoteHandle(ql.SimpleQuote(0.001)))\n",
    "bond.setPricingEngine(ql.DiscountingBondEngine(ql.YieldTermStructureHandle(discount_curve)))"
   ]
  },
  {
   "cell_type": "code",
   "execution_count": 20,
   "id": "4fb1146e-67db-40b2-9915-731dd0cbcffd",
   "metadata": {
    "tags": []
   },
   "outputs": [
    {
     "name": "stdout",
     "output_type": "stream",
     "text": [
      "99.55107926688962\n"
     ]
    }
   ],
   "source": [
    "P = bond.dirtyPrice()\n",
    "cfs = [c.amount() for c in bond.cashflows()]\n",
    "discounts = [discount_curve.discount(d) for d in dates]\n",
    "print(P)"
   ]
  },
  {
   "cell_type": "code",
   "execution_count": 21,
   "id": "d9c635a7-4f8f-4b73-a9f3-139d784c76a5",
   "metadata": {
    "tags": []
   },
   "outputs": [
    {
     "data": {
      "text/html": [
       "<div>\n",
       "<style scoped>\n",
       "    .dataframe tbody tr th:only-of-type {\n",
       "        vertical-align: middle;\n",
       "    }\n",
       "\n",
       "    .dataframe tbody tr th {\n",
       "        vertical-align: top;\n",
       "    }\n",
       "\n",
       "    .dataframe thead th {\n",
       "        text-align: right;\n",
       "    }\n",
       "</style>\n",
       "<table border=\"1\" class=\"dataframe\">\n",
       "  <thead>\n",
       "    <tr style=\"text-align: right;\">\n",
       "      <th></th>\n",
       "      <th>date</th>\n",
       "      <th>amount</th>\n",
       "      <th>discount</th>\n",
       "    </tr>\n",
       "  </thead>\n",
       "  <tbody>\n",
       "    <tr>\n",
       "      <th>1</th>\n",
       "      <td>February 9th, 2015</td>\n",
       "      <td>0.102778</td>\n",
       "      <td>0.999009</td>\n",
       "    </tr>\n",
       "    <tr>\n",
       "      <th>2</th>\n",
       "      <td>August 10th, 2015</td>\n",
       "      <td>0.101112</td>\n",
       "      <td>0.997496</td>\n",
       "    </tr>\n",
       "    <tr>\n",
       "      <th>3</th>\n",
       "      <td>February 8th, 2016</td>\n",
       "      <td>0.101112</td>\n",
       "      <td>0.995984</td>\n",
       "    </tr>\n",
       "    <tr>\n",
       "      <th>4</th>\n",
       "      <td>August 8th, 2016</td>\n",
       "      <td>0.101112</td>\n",
       "      <td>0.994475</td>\n",
       "    </tr>\n",
       "    <tr>\n",
       "      <th>5</th>\n",
       "      <td>February 8th, 2017</td>\n",
       "      <td>0.102223</td>\n",
       "      <td>0.992952</td>\n",
       "    </tr>\n",
       "    <tr>\n",
       "      <th>6</th>\n",
       "      <td>August 8th, 2017</td>\n",
       "      <td>0.100556</td>\n",
       "      <td>0.991456</td>\n",
       "    </tr>\n",
       "    <tr>\n",
       "      <th>7</th>\n",
       "      <td>February 8th, 2018</td>\n",
       "      <td>0.102223</td>\n",
       "      <td>0.989938</td>\n",
       "    </tr>\n",
       "    <tr>\n",
       "      <th>8</th>\n",
       "      <td>August 8th, 2018</td>\n",
       "      <td>0.100556</td>\n",
       "      <td>0.988446</td>\n",
       "    </tr>\n",
       "    <tr>\n",
       "      <th>9</th>\n",
       "      <td>February 8th, 2019</td>\n",
       "      <td>0.102223</td>\n",
       "      <td>0.986932</td>\n",
       "    </tr>\n",
       "    <tr>\n",
       "      <th>10</th>\n",
       "      <td>August 8th, 2019</td>\n",
       "      <td>0.100556</td>\n",
       "      <td>0.985445</td>\n",
       "    </tr>\n",
       "    <tr>\n",
       "      <th>11</th>\n",
       "      <td>August 8th, 2019</td>\n",
       "      <td>100.000000</td>\n",
       "      <td>0.985445</td>\n",
       "    </tr>\n",
       "  </tbody>\n",
       "</table>\n",
       "</div>"
      ],
      "text/plain": [
       "                  date      amount  discount\n",
       "1   February 9th, 2015    0.102778  0.999009\n",
       "2    August 10th, 2015    0.101112  0.997496\n",
       "3   February 8th, 2016    0.101112  0.995984\n",
       "4     August 8th, 2016    0.101112  0.994475\n",
       "5   February 8th, 2017    0.102223  0.992952\n",
       "6     August 8th, 2017    0.100556  0.991456\n",
       "7   February 8th, 2018    0.102223  0.989938\n",
       "8     August 8th, 2018    0.100556  0.988446\n",
       "9   February 8th, 2019    0.102223  0.986932\n",
       "10    August 8th, 2019    0.100556  0.985445\n",
       "11    August 8th, 2019  100.000000  0.985445"
      ]
     },
     "execution_count": 21,
     "metadata": {},
     "output_type": "execute_result"
    }
   ],
   "source": [
    "pd.DataFrame(zip(dates, cfs, discounts),\n",
    "             columns = ('date','amount','discount'),\n",
    "             index = range(1,len(dates)+1))"
   ]
  },
  {
   "cell_type": "code",
   "execution_count": 22,
   "id": "bce33239-378a-46b4-a800-a16536dc859e",
   "metadata": {
    "tags": []
   },
   "outputs": [
    {
     "name": "stdout",
     "output_type": "stream",
     "text": [
      "99.55075966035385\n",
      "99.55139887578544\n"
     ]
    }
   ],
   "source": [
    "y.setValue(0.002 + dy)\n",
    "P_p = bond.dirtyPrice()\n",
    "print(P_p)\n",
    "y.setValue(0.002 - dy)\n",
    "P_m = bond.dirtyPrice()\n",
    "print(P_m)\n",
    "y.setValue(0.002)"
   ]
  },
  {
   "cell_type": "code",
   "execution_count": 23,
   "id": "99ea90d6-af43-4229-b033-fdf66f771c96",
   "metadata": {
    "tags": []
   },
   "outputs": [
    {
     "name": "stdout",
     "output_type": "stream",
     "text": [
      "0.3210489711903113\n"
     ]
    }
   ],
   "source": [
    "print (-(1/P)*(P_p - P_m)/(2*dy))"
   ]
  },
  {
   "cell_type": "code",
   "execution_count": null,
   "id": "00c7823a-d803-4a71-856c-be4694d18cbd",
   "metadata": {},
   "outputs": [],
   "source": []
  }
 ],
 "metadata": {
  "kernelspec": {
   "display_name": "Python 3 (ipykernel)",
   "language": "python",
   "name": "python3"
  },
  "language_info": {
   "codemirror_mode": {
    "name": "ipython",
    "version": 3
   },
   "file_extension": ".py",
   "mimetype": "text/x-python",
   "name": "python",
   "nbconvert_exporter": "python",
   "pygments_lexer": "ipython3",
   "version": "3.10.8"
  },
  "widgets": {
   "application/vnd.jupyter.widget-state+json": {
    "state": {},
    "version_major": 2,
    "version_minor": 0
   }
  }
 },
 "nbformat": 4,
 "nbformat_minor": 5
}
