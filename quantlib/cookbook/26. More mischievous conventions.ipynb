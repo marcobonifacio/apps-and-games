{
 "cells": [
  {
   "cell_type": "markdown",
   "id": "ca41671e-1506-43e0-b9f2-1533802f1859",
   "metadata": {},
   "source": [
    "# Bonds #\n",
    "## 26. More mischievous conventions ##"
   ]
  },
  {
   "cell_type": "code",
   "execution_count": 1,
   "id": "9335146c-34aa-4682-8488-520a4c56eb5f",
   "metadata": {
    "tags": []
   },
   "outputs": [],
   "source": [
    "import QuantLib as ql\n",
    "import pandas as pd"
   ]
  },
  {
   "cell_type": "markdown",
   "id": "119c163d-a297-4bc5-ab52-2f32052ecc99",
   "metadata": {},
   "source": [
    "### The case of the two slightly different prices ###"
   ]
  },
  {
   "cell_type": "code",
   "execution_count": 2,
   "id": "713c0c5e-f479-4837-8da9-3eaaa3dcd03d",
   "metadata": {
    "tags": []
   },
   "outputs": [],
   "source": [
    "today = ql.Date(27, ql.January, 2011)\n",
    "ql.Settings.instance().evaluationDate = today"
   ]
  },
  {
   "cell_type": "code",
   "execution_count": 3,
   "id": "3d7df6bd-ab4a-49f6-a387-c6f1d0731216",
   "metadata": {
    "tags": []
   },
   "outputs": [],
   "source": [
    "issueDate = ql.Date(28, ql.January, 2011)\n",
    "maturity = ql.Date(31, ql.August, 2020)\n",
    "schedule = ql.Schedule(issueDate, maturity, ql.Period(ql.Semiannual),\n",
    "                       ql.UnitedStates(ql.UnitedStates.GovernmentBond),\n",
    "                       ql.Unadjusted, ql.Unadjusted,\n",
    "                       ql.DateGeneration.Backward, False)\n",
    "bond = ql.FixedRateBond(1, 100.0, schedule, [0.03625],\n",
    "                        ql.ActualActual(ql.ActualActual.Bond),\n",
    "                        ql.Unadjusted, 100.0)"
   ]
  },
  {
   "cell_type": "code",
   "execution_count": 4,
   "id": "3a61d971-59f4-4698-bf04-abd21db2c65f",
   "metadata": {
    "tags": []
   },
   "outputs": [],
   "source": [
    "bond_yield = 0.034921\n",
    "P1 = bond.dirtyPrice(bond_yield, bond.dayCounter(), ql.Compounded, ql.Semiannual)"
   ]
  },
  {
   "cell_type": "code",
   "execution_count": 5,
   "id": "2d3a54dc-f78f-45bd-b394-75ae72816f82",
   "metadata": {
    "tags": []
   },
   "outputs": [],
   "source": [
    "flat_curve = ql.FlatForward(bond.settlementDate(), bond_yield,\n",
    "                            ql.ActualActual(ql.ActualActual.Bond),\n",
    "                            ql.Compounded, ql.Semiannual)\n",
    "engine = ql.DiscountingBondEngine(ql.YieldTermStructureHandle(flat_curve))\n",
    "bond.setPricingEngine(engine)\n",
    "P2 = bond.dirtyPrice()"
   ]
  },
  {
   "cell_type": "code",
   "execution_count": 6,
   "id": "6ae831f7-4704-43f1-8f09-dfd39a19bf8a",
   "metadata": {
    "tags": []
   },
   "outputs": [
    {
     "data": {
      "text/html": [
       "<div>\n",
       "<style scoped>\n",
       "    .dataframe tbody tr th:only-of-type {\n",
       "        vertical-align: middle;\n",
       "    }\n",
       "\n",
       "    .dataframe tbody tr th {\n",
       "        vertical-align: top;\n",
       "    }\n",
       "\n",
       "    .dataframe thead th {\n",
       "        text-align: right;\n",
       "    }\n",
       "</style>\n",
       "<table border=\"1\" class=\"dataframe\">\n",
       "  <thead>\n",
       "    <tr style=\"text-align: right;\">\n",
       "      <th></th>\n",
       "      <th>with yield</th>\n",
       "      <th>with curve</th>\n",
       "    </tr>\n",
       "  </thead>\n",
       "  <tbody>\n",
       "    <tr>\n",
       "      <th></th>\n",
       "      <td>101.076816</td>\n",
       "      <td>101.079986</td>\n",
       "    </tr>\n",
       "  </tbody>\n",
       "</table>\n",
       "</div>"
      ],
      "text/plain": [
       "  with yield  with curve\n",
       "  101.076816  101.079986"
      ]
     },
     "execution_count": 6,
     "metadata": {},
     "output_type": "execute_result"
    }
   ],
   "source": [
    "pd.DataFrame([(P1,P2)], columns=['with yield', 'with curve'], index=[''])"
   ]
  },
  {
   "cell_type": "markdown",
   "id": "11acbe96-26ee-4f02-9899-39fabfd42d7b",
   "metadata": {},
   "source": [
    "### What happened? ###"
   ]
  },
  {
   "cell_type": "code",
   "execution_count": 9,
   "id": "bd441b1f-308b-4d29-8920-d4cc2cdce54f",
   "metadata": {
    "tags": []
   },
   "outputs": [
    {
     "data": {
      "text/html": [
       "<div>\n",
       "<style scoped>\n",
       "    .dataframe tbody tr th:only-of-type {\n",
       "        vertical-align: middle;\n",
       "    }\n",
       "\n",
       "    .dataframe tbody tr th {\n",
       "        vertical-align: top;\n",
       "    }\n",
       "\n",
       "    .dataframe thead th {\n",
       "        text-align: right;\n",
       "    }\n",
       "</style>\n",
       "<table border=\"1\" class=\"dataframe\">\n",
       "  <thead>\n",
       "    <tr style=\"text-align: right;\">\n",
       "      <th></th>\n",
       "      <th>start date</th>\n",
       "      <th>end date</th>\n",
       "    </tr>\n",
       "  </thead>\n",
       "  <tbody>\n",
       "    <tr>\n",
       "      <th>1</th>\n",
       "      <td>January 28th, 2011</td>\n",
       "      <td>February 28th, 2011</td>\n",
       "    </tr>\n",
       "    <tr>\n",
       "      <th>2</th>\n",
       "      <td>February 28th, 2011</td>\n",
       "      <td>August 31st, 2011</td>\n",
       "    </tr>\n",
       "    <tr>\n",
       "      <th>3</th>\n",
       "      <td>August 31st, 2011</td>\n",
       "      <td>February 29th, 2012</td>\n",
       "    </tr>\n",
       "    <tr>\n",
       "      <th>4</th>\n",
       "      <td>February 29th, 2012</td>\n",
       "      <td>August 31st, 2012</td>\n",
       "    </tr>\n",
       "    <tr>\n",
       "      <th>5</th>\n",
       "      <td>August 31st, 2012</td>\n",
       "      <td>February 28th, 2013</td>\n",
       "    </tr>\n",
       "    <tr>\n",
       "      <th>6</th>\n",
       "      <td>February 28th, 2013</td>\n",
       "      <td>August 31st, 2013</td>\n",
       "    </tr>\n",
       "    <tr>\n",
       "      <th>7</th>\n",
       "      <td>August 31st, 2013</td>\n",
       "      <td>February 28th, 2014</td>\n",
       "    </tr>\n",
       "    <tr>\n",
       "      <th>8</th>\n",
       "      <td>February 28th, 2014</td>\n",
       "      <td>August 31st, 2014</td>\n",
       "    </tr>\n",
       "    <tr>\n",
       "      <th>9</th>\n",
       "      <td>August 31st, 2014</td>\n",
       "      <td>February 28th, 2015</td>\n",
       "    </tr>\n",
       "    <tr>\n",
       "      <th>10</th>\n",
       "      <td>February 28th, 2015</td>\n",
       "      <td>August 31st, 2015</td>\n",
       "    </tr>\n",
       "    <tr>\n",
       "      <th>11</th>\n",
       "      <td>August 31st, 2015</td>\n",
       "      <td>February 29th, 2016</td>\n",
       "    </tr>\n",
       "    <tr>\n",
       "      <th>12</th>\n",
       "      <td>February 29th, 2016</td>\n",
       "      <td>August 31st, 2016</td>\n",
       "    </tr>\n",
       "    <tr>\n",
       "      <th>13</th>\n",
       "      <td>August 31st, 2016</td>\n",
       "      <td>February 28th, 2017</td>\n",
       "    </tr>\n",
       "    <tr>\n",
       "      <th>14</th>\n",
       "      <td>February 28th, 2017</td>\n",
       "      <td>August 31st, 2017</td>\n",
       "    </tr>\n",
       "    <tr>\n",
       "      <th>15</th>\n",
       "      <td>August 31st, 2017</td>\n",
       "      <td>February 28th, 2018</td>\n",
       "    </tr>\n",
       "    <tr>\n",
       "      <th>16</th>\n",
       "      <td>February 28th, 2018</td>\n",
       "      <td>August 31st, 2018</td>\n",
       "    </tr>\n",
       "    <tr>\n",
       "      <th>17</th>\n",
       "      <td>August 31st, 2018</td>\n",
       "      <td>February 28th, 2019</td>\n",
       "    </tr>\n",
       "    <tr>\n",
       "      <th>18</th>\n",
       "      <td>February 28th, 2019</td>\n",
       "      <td>August 31st, 2019</td>\n",
       "    </tr>\n",
       "    <tr>\n",
       "      <th>19</th>\n",
       "      <td>August 31st, 2019</td>\n",
       "      <td>February 29th, 2020</td>\n",
       "    </tr>\n",
       "    <tr>\n",
       "      <th>20</th>\n",
       "      <td>February 29th, 2020</td>\n",
       "      <td>August 31st, 2020</td>\n",
       "    </tr>\n",
       "  </tbody>\n",
       "</table>\n",
       "</div>"
      ],
      "text/plain": [
       "             start date             end date\n",
       "1    January 28th, 2011  February 28th, 2011\n",
       "2   February 28th, 2011    August 31st, 2011\n",
       "3     August 31st, 2011  February 29th, 2012\n",
       "4   February 29th, 2012    August 31st, 2012\n",
       "5     August 31st, 2012  February 28th, 2013\n",
       "6   February 28th, 2013    August 31st, 2013\n",
       "7     August 31st, 2013  February 28th, 2014\n",
       "8   February 28th, 2014    August 31st, 2014\n",
       "9     August 31st, 2014  February 28th, 2015\n",
       "10  February 28th, 2015    August 31st, 2015\n",
       "11    August 31st, 2015  February 29th, 2016\n",
       "12  February 29th, 2016    August 31st, 2016\n",
       "13    August 31st, 2016  February 28th, 2017\n",
       "14  February 28th, 2017    August 31st, 2017\n",
       "15    August 31st, 2017  February 28th, 2018\n",
       "16  February 28th, 2018    August 31st, 2018\n",
       "17    August 31st, 2018  February 28th, 2019\n",
       "18  February 28th, 2019    August 31st, 2019\n",
       "19    August 31st, 2019  February 29th, 2020\n",
       "20  February 29th, 2020    August 31st, 2020"
      ]
     },
     "execution_count": 9,
     "metadata": {},
     "output_type": "execute_result"
    }
   ],
   "source": [
    "pd.DataFrame([(ql.as_coupon(c).accrualStartDate(), ql.as_coupon(c).accrualEndDate()) for c in bond.cashflows()[:-1]],\n",
    "             columns = ('start date','end date'), index = range(1, len(bond.cashflows())))"
   ]
  },
  {
   "cell_type": "code",
   "execution_count": 10,
   "id": "c5f6b498-d52a-47dd-9228-461d0741a181",
   "metadata": {
    "tags": []
   },
   "outputs": [
    {
     "name": "stdout",
     "output_type": "stream",
     "text": [
      "0.08423913043478261\n"
     ]
    }
   ],
   "source": [
    "dayCounter = ql.ActualActual(ql.ActualActual.Bond)\n",
    "T = dayCounter.yearFraction(ql.Date(28, ql.January, 2011), ql.Date(28, ql.February, 2011),\n",
    "                            ql.Date(28,ql.August,2010), ql.Date(28,ql.February,2011))\n",
    "print(T)"
   ]
  },
  {
   "cell_type": "code",
   "execution_count": 12,
   "id": "a0801cd5-e90e-4398-a964-1f2e48bd09f5",
   "metadata": {
    "tags": []
   },
   "outputs": [
    {
     "name": "stdout",
     "output_type": "stream",
     "text": [
      "0.08493150684931507\n"
     ]
    }
   ],
   "source": [
    "print(dayCounter.yearFraction(ql.Date(28, ql.January, 2011), ql.Date(28, ql.February, 2011),\n",
    "                              ql.Date(28,ql.February,2010), ql.Date(28,ql.February,2011)))"
   ]
  },
  {
   "cell_type": "code",
   "execution_count": 13,
   "id": "89f5f9fb-d218-41a5-9f6e-62f7bdf4c74a",
   "metadata": {
    "tags": []
   },
   "outputs": [
    {
     "name": "stdout",
     "output_type": "stream",
     "text": [
      "0.997087920498809\n"
     ]
    }
   ],
   "source": [
    "y = ql.InterestRate(bond_yield, dayCounter, ql.Compounded, ql.Semiannual)\n",
    "print(y.discountFactor(T))"
   ]
  },
  {
   "cell_type": "markdown",
   "id": "30ea829d-73bb-4efa-a0c0-b1de0165b8c8",
   "metadata": {},
   "source": [
    "### Yield-based calculation ###"
   ]
  },
  {
   "cell_type": "code",
   "execution_count": 15,
   "id": "27c3fff1-8f69-41db-b14a-5260efc0f085",
   "metadata": {
    "tags": []
   },
   "outputs": [
    {
     "data": {
      "text/html": [
       "<div>\n",
       "<style scoped>\n",
       "    .dataframe tbody tr th:only-of-type {\n",
       "        vertical-align: middle;\n",
       "    }\n",
       "\n",
       "    .dataframe tbody tr th {\n",
       "        vertical-align: top;\n",
       "    }\n",
       "\n",
       "    .dataframe thead th {\n",
       "        text-align: right;\n",
       "    }\n",
       "</style>\n",
       "<table border=\"1\" class=\"dataframe\">\n",
       "  <thead>\n",
       "    <tr style=\"text-align: right;\">\n",
       "      <th></th>\n",
       "      <th>amount</th>\n",
       "      <th>T</th>\n",
       "      <th>discount</th>\n",
       "      <th>discount (cum.)</th>\n",
       "      <th>amount(disc.)</th>\n",
       "    </tr>\n",
       "  </thead>\n",
       "  <tbody>\n",
       "    <tr>\n",
       "      <th></th>\n",
       "      <td>0.305367</td>\n",
       "      <td>0.084239</td>\n",
       "      <td>0.997088</td>\n",
       "      <td>0.997088</td>\n",
       "      <td>0.304478</td>\n",
       "    </tr>\n",
       "    <tr>\n",
       "      <th></th>\n",
       "      <td>1.812500</td>\n",
       "      <td>0.5</td>\n",
       "      <td>0.982839</td>\n",
       "      <td>0.979977</td>\n",
       "      <td>1.776208</td>\n",
       "    </tr>\n",
       "    <tr>\n",
       "      <th></th>\n",
       "      <td>1.812500</td>\n",
       "      <td>0.5</td>\n",
       "      <td>0.982839</td>\n",
       "      <td>0.963160</td>\n",
       "      <td>1.745727</td>\n",
       "    </tr>\n",
       "    <tr>\n",
       "      <th></th>\n",
       "      <td>1.812500</td>\n",
       "      <td>0.5</td>\n",
       "      <td>0.982839</td>\n",
       "      <td>0.946631</td>\n",
       "      <td>1.715769</td>\n",
       "    </tr>\n",
       "    <tr>\n",
       "      <th></th>\n",
       "      <td>1.812500</td>\n",
       "      <td>0.5</td>\n",
       "      <td>0.982839</td>\n",
       "      <td>0.930386</td>\n",
       "      <td>1.686325</td>\n",
       "    </tr>\n",
       "    <tr>\n",
       "      <th></th>\n",
       "      <td>1.812500</td>\n",
       "      <td>0.5</td>\n",
       "      <td>0.982839</td>\n",
       "      <td>0.914420</td>\n",
       "      <td>1.657386</td>\n",
       "    </tr>\n",
       "    <tr>\n",
       "      <th></th>\n",
       "      <td>1.812500</td>\n",
       "      <td>0.5</td>\n",
       "      <td>0.982839</td>\n",
       "      <td>0.898728</td>\n",
       "      <td>1.628944</td>\n",
       "    </tr>\n",
       "    <tr>\n",
       "      <th></th>\n",
       "      <td>1.812500</td>\n",
       "      <td>0.5</td>\n",
       "      <td>0.982839</td>\n",
       "      <td>0.883305</td>\n",
       "      <td>1.600990</td>\n",
       "    </tr>\n",
       "    <tr>\n",
       "      <th></th>\n",
       "      <td>1.812500</td>\n",
       "      <td>0.5</td>\n",
       "      <td>0.982839</td>\n",
       "      <td>0.868146</td>\n",
       "      <td>1.573515</td>\n",
       "    </tr>\n",
       "    <tr>\n",
       "      <th></th>\n",
       "      <td>1.812500</td>\n",
       "      <td>0.5</td>\n",
       "      <td>0.982839</td>\n",
       "      <td>0.853248</td>\n",
       "      <td>1.546513</td>\n",
       "    </tr>\n",
       "    <tr>\n",
       "      <th></th>\n",
       "      <td>1.812500</td>\n",
       "      <td>0.5</td>\n",
       "      <td>0.982839</td>\n",
       "      <td>0.838606</td>\n",
       "      <td>1.519973</td>\n",
       "    </tr>\n",
       "    <tr>\n",
       "      <th></th>\n",
       "      <td>1.812500</td>\n",
       "      <td>0.5</td>\n",
       "      <td>0.982839</td>\n",
       "      <td>0.824215</td>\n",
       "      <td>1.493889</td>\n",
       "    </tr>\n",
       "    <tr>\n",
       "      <th></th>\n",
       "      <td>1.812500</td>\n",
       "      <td>0.5</td>\n",
       "      <td>0.982839</td>\n",
       "      <td>0.810070</td>\n",
       "      <td>1.468253</td>\n",
       "    </tr>\n",
       "    <tr>\n",
       "      <th></th>\n",
       "      <td>1.812500</td>\n",
       "      <td>0.5</td>\n",
       "      <td>0.982839</td>\n",
       "      <td>0.796169</td>\n",
       "      <td>1.443056</td>\n",
       "    </tr>\n",
       "    <tr>\n",
       "      <th></th>\n",
       "      <td>1.812500</td>\n",
       "      <td>0.5</td>\n",
       "      <td>0.982839</td>\n",
       "      <td>0.782506</td>\n",
       "      <td>1.418292</td>\n",
       "    </tr>\n",
       "    <tr>\n",
       "      <th></th>\n",
       "      <td>1.812500</td>\n",
       "      <td>0.5</td>\n",
       "      <td>0.982839</td>\n",
       "      <td>0.769077</td>\n",
       "      <td>1.393953</td>\n",
       "    </tr>\n",
       "    <tr>\n",
       "      <th></th>\n",
       "      <td>1.812500</td>\n",
       "      <td>0.5</td>\n",
       "      <td>0.982839</td>\n",
       "      <td>0.755879</td>\n",
       "      <td>1.370031</td>\n",
       "    </tr>\n",
       "    <tr>\n",
       "      <th></th>\n",
       "      <td>1.812500</td>\n",
       "      <td>0.5</td>\n",
       "      <td>0.982839</td>\n",
       "      <td>0.742908</td>\n",
       "      <td>1.346521</td>\n",
       "    </tr>\n",
       "    <tr>\n",
       "      <th></th>\n",
       "      <td>1.812500</td>\n",
       "      <td>0.5</td>\n",
       "      <td>0.982839</td>\n",
       "      <td>0.730159</td>\n",
       "      <td>1.323413</td>\n",
       "    </tr>\n",
       "    <tr>\n",
       "      <th></th>\n",
       "      <td>1.812500</td>\n",
       "      <td>0.5</td>\n",
       "      <td>0.982839</td>\n",
       "      <td>0.717629</td>\n",
       "      <td>1.300702</td>\n",
       "    </tr>\n",
       "    <tr>\n",
       "      <th></th>\n",
       "      <td>100.000000</td>\n",
       "      <td></td>\n",
       "      <td></td>\n",
       "      <td>0.717629</td>\n",
       "      <td>71.762879</td>\n",
       "    </tr>\n",
       "  </tbody>\n",
       "</table>\n",
       "</div>"
      ],
      "text/plain": [
       "      amount         T  discount  discount (cum.)  amount(disc.)\n",
       "    0.305367  0.084239  0.997088         0.997088       0.304478\n",
       "    1.812500       0.5  0.982839         0.979977       1.776208\n",
       "    1.812500       0.5  0.982839         0.963160       1.745727\n",
       "    1.812500       0.5  0.982839         0.946631       1.715769\n",
       "    1.812500       0.5  0.982839         0.930386       1.686325\n",
       "    1.812500       0.5  0.982839         0.914420       1.657386\n",
       "    1.812500       0.5  0.982839         0.898728       1.628944\n",
       "    1.812500       0.5  0.982839         0.883305       1.600990\n",
       "    1.812500       0.5  0.982839         0.868146       1.573515\n",
       "    1.812500       0.5  0.982839         0.853248       1.546513\n",
       "    1.812500       0.5  0.982839         0.838606       1.519973\n",
       "    1.812500       0.5  0.982839         0.824215       1.493889\n",
       "    1.812500       0.5  0.982839         0.810070       1.468253\n",
       "    1.812500       0.5  0.982839         0.796169       1.443056\n",
       "    1.812500       0.5  0.982839         0.782506       1.418292\n",
       "    1.812500       0.5  0.982839         0.769077       1.393953\n",
       "    1.812500       0.5  0.982839         0.755879       1.370031\n",
       "    1.812500       0.5  0.982839         0.742908       1.346521\n",
       "    1.812500       0.5  0.982839         0.730159       1.323413\n",
       "    1.812500       0.5  0.982839         0.717629       1.300702\n",
       "  100.000000                             0.717629      71.762879"
      ]
     },
     "execution_count": 15,
     "metadata": {},
     "output_type": "execute_result"
    }
   ],
   "source": [
    "data = []\n",
    "for i, c in enumerate(bond.cashflows()[:-1]):\n",
    "    c = ql.as_coupon(c)\n",
    "    A = c.amount()\n",
    "    T = c.accrualPeriod()\n",
    "    D = y.discountFactor(T)\n",
    "    D_cumulative = D if i == 0 else D * data[-1][3]\n",
    "    A_discounted = A*D_cumulative\n",
    "    data.append((A,T,D,D_cumulative,A_discounted))\n",
    "data.append((100,'','',D_cumulative,100*D_cumulative))\n",
    "data = pd.DataFrame(data,\n",
    "                    columns = ('amount', 'T', 'discount', 'discount (cum.)', 'amount(disc.)'),\n",
    "                    index = ['']*len(data))\n",
    "data"
   ]
  },
  {
   "cell_type": "code",
   "execution_count": 17,
   "id": "908b4c70-3fe9-465c-8501-e57d33e9f282",
   "metadata": {
    "tags": []
   },
   "outputs": [
    {
     "name": "stdout",
     "output_type": "stream",
     "text": [
      "101.07681646503603\n"
     ]
    }
   ],
   "source": [
    "print(sum(data['amount(disc.)']))"
   ]
  },
  {
   "cell_type": "code",
   "execution_count": 18,
   "id": "9bcfa599-d750-4e02-954c-b6cfdb610581",
   "metadata": {
    "tags": []
   },
   "outputs": [
    {
     "name": "stdout",
     "output_type": "stream",
     "text": [
      "101.07681646503603\n"
     ]
    }
   ],
   "source": [
    "print(bond.dirtyPrice(bond_yield, bond.dayCounter(), ql.Compounded, ql.Semiannual))"
   ]
  },
  {
   "cell_type": "markdown",
   "id": "27219996-f1d9-4b69-9cc2-9470aee2ec09",
   "metadata": {},
   "source": [
    "### Curve-based calculation ###"
   ]
  },
  {
   "cell_type": "code",
   "execution_count": 20,
   "id": "376f695c-4d65-406d-8fba-a815972bc11c",
   "metadata": {
    "tags": []
   },
   "outputs": [
    {
     "data": {
      "text/html": [
       "<div>\n",
       "<style scoped>\n",
       "    .dataframe tbody tr th:only-of-type {\n",
       "        vertical-align: middle;\n",
       "    }\n",
       "\n",
       "    .dataframe tbody tr th {\n",
       "        vertical-align: top;\n",
       "    }\n",
       "\n",
       "    .dataframe thead th {\n",
       "        text-align: right;\n",
       "    }\n",
       "</style>\n",
       "<table border=\"1\" class=\"dataframe\">\n",
       "  <thead>\n",
       "    <tr style=\"text-align: right;\">\n",
       "      <th></th>\n",
       "      <th>amount</th>\n",
       "      <th>discount</th>\n",
       "      <th>amount (disc.)</th>\n",
       "    </tr>\n",
       "  </thead>\n",
       "  <tbody>\n",
       "    <tr>\n",
       "      <th></th>\n",
       "      <td>0.305367</td>\n",
       "      <td>0.997119</td>\n",
       "      <td>0.304487</td>\n",
       "    </tr>\n",
       "    <tr>\n",
       "      <th></th>\n",
       "      <td>1.812500</td>\n",
       "      <td>0.980008</td>\n",
       "      <td>1.776264</td>\n",
       "    </tr>\n",
       "    <tr>\n",
       "      <th></th>\n",
       "      <td>1.812500</td>\n",
       "      <td>0.963190</td>\n",
       "      <td>1.745782</td>\n",
       "    </tr>\n",
       "    <tr>\n",
       "      <th></th>\n",
       "      <td>1.812500</td>\n",
       "      <td>0.946661</td>\n",
       "      <td>1.715823</td>\n",
       "    </tr>\n",
       "    <tr>\n",
       "      <th></th>\n",
       "      <td>1.812500</td>\n",
       "      <td>0.930415</td>\n",
       "      <td>1.686378</td>\n",
       "    </tr>\n",
       "    <tr>\n",
       "      <th></th>\n",
       "      <td>1.812500</td>\n",
       "      <td>0.914449</td>\n",
       "      <td>1.657438</td>\n",
       "    </tr>\n",
       "    <tr>\n",
       "      <th></th>\n",
       "      <td>1.812500</td>\n",
       "      <td>0.898756</td>\n",
       "      <td>1.628995</td>\n",
       "    </tr>\n",
       "    <tr>\n",
       "      <th></th>\n",
       "      <td>1.812500</td>\n",
       "      <td>0.883332</td>\n",
       "      <td>1.601040</td>\n",
       "    </tr>\n",
       "    <tr>\n",
       "      <th></th>\n",
       "      <td>1.812500</td>\n",
       "      <td>0.868174</td>\n",
       "      <td>1.573565</td>\n",
       "    </tr>\n",
       "    <tr>\n",
       "      <th></th>\n",
       "      <td>1.812500</td>\n",
       "      <td>0.853275</td>\n",
       "      <td>1.546561</td>\n",
       "    </tr>\n",
       "    <tr>\n",
       "      <th></th>\n",
       "      <td>1.812500</td>\n",
       "      <td>0.838632</td>\n",
       "      <td>1.520021</td>\n",
       "    </tr>\n",
       "    <tr>\n",
       "      <th></th>\n",
       "      <td>1.812500</td>\n",
       "      <td>0.824240</td>\n",
       "      <td>1.493936</td>\n",
       "    </tr>\n",
       "    <tr>\n",
       "      <th></th>\n",
       "      <td>1.812500</td>\n",
       "      <td>0.810096</td>\n",
       "      <td>1.468299</td>\n",
       "    </tr>\n",
       "    <tr>\n",
       "      <th></th>\n",
       "      <td>1.812500</td>\n",
       "      <td>0.796194</td>\n",
       "      <td>1.443101</td>\n",
       "    </tr>\n",
       "    <tr>\n",
       "      <th></th>\n",
       "      <td>1.812500</td>\n",
       "      <td>0.782530</td>\n",
       "      <td>1.418336</td>\n",
       "    </tr>\n",
       "    <tr>\n",
       "      <th></th>\n",
       "      <td>1.812500</td>\n",
       "      <td>0.769102</td>\n",
       "      <td>1.393997</td>\n",
       "    </tr>\n",
       "    <tr>\n",
       "      <th></th>\n",
       "      <td>1.812500</td>\n",
       "      <td>0.755903</td>\n",
       "      <td>1.370074</td>\n",
       "    </tr>\n",
       "    <tr>\n",
       "      <th></th>\n",
       "      <td>1.812500</td>\n",
       "      <td>0.742931</td>\n",
       "      <td>1.346563</td>\n",
       "    </tr>\n",
       "    <tr>\n",
       "      <th></th>\n",
       "      <td>1.812500</td>\n",
       "      <td>0.730182</td>\n",
       "      <td>1.323455</td>\n",
       "    </tr>\n",
       "    <tr>\n",
       "      <th></th>\n",
       "      <td>1.812500</td>\n",
       "      <td>0.717651</td>\n",
       "      <td>1.300743</td>\n",
       "    </tr>\n",
       "    <tr>\n",
       "      <th></th>\n",
       "      <td>100.000000</td>\n",
       "      <td>0.717651</td>\n",
       "      <td>71.765129</td>\n",
       "    </tr>\n",
       "  </tbody>\n",
       "</table>\n",
       "</div>"
      ],
      "text/plain": [
       "      amount  discount  amount (disc.)\n",
       "    0.305367  0.997119        0.304487\n",
       "    1.812500  0.980008        1.776264\n",
       "    1.812500  0.963190        1.745782\n",
       "    1.812500  0.946661        1.715823\n",
       "    1.812500  0.930415        1.686378\n",
       "    1.812500  0.914449        1.657438\n",
       "    1.812500  0.898756        1.628995\n",
       "    1.812500  0.883332        1.601040\n",
       "    1.812500  0.868174        1.573565\n",
       "    1.812500  0.853275        1.546561\n",
       "    1.812500  0.838632        1.520021\n",
       "    1.812500  0.824240        1.493936\n",
       "    1.812500  0.810096        1.468299\n",
       "    1.812500  0.796194        1.443101\n",
       "    1.812500  0.782530        1.418336\n",
       "    1.812500  0.769102        1.393997\n",
       "    1.812500  0.755903        1.370074\n",
       "    1.812500  0.742931        1.346563\n",
       "    1.812500  0.730182        1.323455\n",
       "    1.812500  0.717651        1.300743\n",
       "  100.000000  0.717651       71.765129"
      ]
     },
     "execution_count": 20,
     "metadata": {},
     "output_type": "execute_result"
    }
   ],
   "source": [
    "data = []\n",
    "for c in bond.cashflows()[:-1]:\n",
    "    A = c.amount()\n",
    "    D = flat_curve.discount(c.date())\n",
    "    A_discounted = A*D\n",
    "    data.append((A,D,A_discounted))\n",
    "data.append((100.0,D,100.0*D))\n",
    "data = pd.DataFrame(data,\n",
    "                    columns = ('amount', 'discount', 'amount (disc.)'),\n",
    "                    index = ['']*len(data))\n",
    "data"
   ]
  },
  {
   "cell_type": "code",
   "execution_count": 22,
   "id": "f634fa93-785a-40df-8a9c-37f7a0ca9cd1",
   "metadata": {
    "tags": []
   },
   "outputs": [
    {
     "name": "stdout",
     "output_type": "stream",
     "text": [
      "101.0799861183387\n"
     ]
    }
   ],
   "source": [
    "print(sum(data['amount (disc.)']))"
   ]
  },
  {
   "cell_type": "code",
   "execution_count": 23,
   "id": "7df40f75-397d-4ff9-a9f6-eee7d13f8056",
   "metadata": {
    "tags": []
   },
   "outputs": [
    {
     "name": "stdout",
     "output_type": "stream",
     "text": [
      "101.0799861183387\n"
     ]
    }
   ],
   "source": [
    "print(bond.dirtyPrice())"
   ]
  },
  {
   "cell_type": "code",
   "execution_count": 25,
   "id": "988e9e07-e578-417d-ae76-c15944eaa4d3",
   "metadata": {
    "tags": []
   },
   "outputs": [
    {
     "data": {
      "text/plain": [
       "0.9971191880350325"
      ]
     },
     "execution_count": 25,
     "metadata": {},
     "output_type": "execute_result"
    }
   ],
   "source": [
    "flat_curve.discount(ql.Date(28, ql.February, 2011))"
   ]
  },
  {
   "cell_type": "code",
   "execution_count": 26,
   "id": "426bcd9d-299d-416b-b4e3-3924f0749577",
   "metadata": {
    "tags": []
   },
   "outputs": [
    {
     "name": "stdout",
     "output_type": "stream",
     "text": [
      "0.08333333333333333\n"
     ]
    }
   ],
   "source": [
    "print(dayCounter.yearFraction(ql.Date(28, ql.January, 2011), ql.Date(28, ql.February, 2011)))"
   ]
  },
  {
   "cell_type": "code",
   "execution_count": 27,
   "id": "41e7b8c1-8311-4127-9361-5659c076809a",
   "metadata": {
    "tags": []
   },
   "outputs": [
    {
     "name": "stdout",
     "output_type": "stream",
     "text": [
      "0.08423913043478261\n"
     ]
    }
   ],
   "source": [
    "T = dayCounter.yearFraction(ql.Date(28, ql.January, 2011), ql.Date(28, ql.February, 2011),\n",
    "                            ql.Date(28,ql.August,2010), ql.Date(28,ql.February,2011))\n",
    "print(T)"
   ]
  },
  {
   "cell_type": "code",
   "execution_count": 28,
   "id": "a38c945a-3acf-4cf0-883b-1188ddbbb087",
   "metadata": {
    "tags": []
   },
   "outputs": [
    {
     "name": "stdout",
     "output_type": "stream",
     "text": [
      "101.07681646503603\n",
      "101.0768164650361\n"
     ]
    }
   ],
   "source": [
    "P_y = bond.dirtyPrice(bond_yield, bond.dayCounter(), ql.Compounded, ql.Semiannual)\n",
    "D_y = y.discountFactor(T)\n",
    "P_c = bond.dirtyPrice()\n",
    "D_c = flat_curve.discount(ql.Date(28, ql.February, 2011))\n",
    "print(P_y)\n",
    "print(P_c*(D_y/D_c))"
   ]
  },
  {
   "cell_type": "code",
   "execution_count": null,
   "id": "2ddd65f7-70ab-471c-8bd9-e4e975aaa5d8",
   "metadata": {},
   "outputs": [],
   "source": []
  }
 ],
 "metadata": {
  "kernelspec": {
   "display_name": "Python 3 (ipykernel)",
   "language": "python",
   "name": "python3"
  },
  "language_info": {
   "codemirror_mode": {
    "name": "ipython",
    "version": 3
   },
   "file_extension": ".py",
   "mimetype": "text/x-python",
   "name": "python",
   "nbconvert_exporter": "python",
   "pygments_lexer": "ipython3",
   "version": "3.10.8"
  },
  "widgets": {
   "application/vnd.jupyter.widget-state+json": {
    "state": {},
    "version_major": 2,
    "version_minor": 0
   }
  }
 },
 "nbformat": 4,
 "nbformat_minor": 5
}
