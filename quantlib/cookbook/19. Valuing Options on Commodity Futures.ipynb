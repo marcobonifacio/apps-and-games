{
 "cells": [
  {
   "cell_type": "markdown",
   "id": "ef6356d7-f031-4c32-a1bc-e9ec5f02794a",
   "metadata": {},
   "source": [
    "# Equity models #\n",
    "## Valuing Options on Commodity Futures Using The Black Formula ##"
   ]
  },
  {
   "cell_type": "code",
   "execution_count": 1,
   "id": "a5420337-556c-4fa2-a4de-32bc1a7f0515",
   "metadata": {
    "tags": []
   },
   "outputs": [],
   "source": [
    "import QuantLib as ql\n",
    "import math"
   ]
  },
  {
   "cell_type": "code",
   "execution_count": 3,
   "id": "2992ed18-e1f1-4e8c-9041-0f8ffb31802b",
   "metadata": {
    "tags": []
   },
   "outputs": [],
   "source": [
    "calendar = ql.UnitedStates(ql.UnitedStates.NYSE)\n",
    "business_convention = ql.ModifiedFollowing\n",
    "settlement_days = 0\n",
    "day_count = ql.ActualActual(ql.ActualActual.Historical)"
   ]
  },
  {
   "cell_type": "markdown",
   "id": "2a9e0752-869c-4c9a-a632-ad3131e45364",
   "metadata": {},
   "source": [
    "### Option on Treasury Futures Contract ###"
   ]
  },
  {
   "cell_type": "code",
   "execution_count": 4,
   "id": "9ba288fd-a850-41f6-83a5-4b4ee9077386",
   "metadata": {
    "tags": []
   },
   "outputs": [],
   "source": [
    "interest_rate = 0.00105\n",
    "calc_date = ql.Date(1,12,2015)\n",
    "yield_curve = ql.FlatForward(calc_date, interest_rate, day_count, ql.Compounded, ql.Continuous)"
   ]
  },
  {
   "cell_type": "code",
   "execution_count": 5,
   "id": "8e88bc38-a665-419e-915d-2fe2a0683e1c",
   "metadata": {
    "tags": []
   },
   "outputs": [],
   "source": [
    "ql.Settings.instance().evaluationDate = calc_date\n",
    "option_maturity_date = ql.Date(24,12,2015)\n",
    "strike = 119\n",
    "spot = 126.953# futures price\n",
    "volatility = 11.567/100.\n",
    "flavor = ql.Option.Call\n",
    "discount = yield_curve.discount(option_maturity_date)\n",
    "strikepayoff = ql.PlainVanillaPayoff(flavor, strike)\n",
    "T = yield_curve.dayCounter().yearFraction(calc_date, option_maturity_date)\n",
    "stddev = volatility*math.sqrt(T)\n",
    "black = ql.BlackCalculator(strikepayoff, spot, stddev, discount)"
   ]
  },
  {
   "cell_type": "code",
   "execution_count": 7,
   "id": "d55a1752-47e8-4606-bbdb-10a0332c2cc6",
   "metadata": {
    "tags": []
   },
   "outputs": [
    {
     "name": "stdout",
     "output_type": "stream",
     "text": [
      "Option Price        : 7.9686\n",
      "Delta               : 0.9875\n",
      "Gamma               : 0.0088\n",
      "Theta               : -0.9356\n",
      "Vega                : 1.0285\n",
      "Rho                 : 7.3974\n"
     ]
    }
   ],
   "source": [
    "print(\"%-20s: %4.4f\" %(\"Option Price\", black.value()))\n",
    "print(\"%-20s: %4.4f\" %(\"Delta\", black.delta(spot)))\n",
    "print(\"%-20s: %4.4f\" %(\"Gamma\", black.gamma(spot)))\n",
    "print(\"%-20s: %4.4f\" %(\"Theta\", black.theta(spot, T)))\n",
    "print(\"%-20s: %4.4f\" %(\"Vega\", black.vega(T)))\n",
    "print(\"%-20s: %4.4f\" %(\"Rho\", black.rho(T)))"
   ]
  },
  {
   "cell_type": "markdown",
   "id": "23c286fb-f08d-474d-a880-265a6fa8e1be",
   "metadata": {},
   "source": [
    "### Natural Gas Futures Option ###"
   ]
  },
  {
   "cell_type": "code",
   "execution_count": 8,
   "id": "be93319e-9029-49ff-951e-83b91d966dd9",
   "metadata": {
    "tags": []
   },
   "outputs": [],
   "source": [
    "interest_rate = 0.0015\n",
    "calc_date = ql.Date(23,9,2015)\n",
    "yield_curve = ql.FlatForward(calc_date, interest_rate, day_count, ql.Compounded, ql.Continuous)"
   ]
  },
  {
   "cell_type": "code",
   "execution_count": 9,
   "id": "7a7e41f2-f041-44b6-a095-b9127bc6884c",
   "metadata": {
    "tags": []
   },
   "outputs": [],
   "source": [
    "ql.Settings.instance().evaluationDate = calc_date\n",
    "T = 96.12/365.\n",
    "strike = 3.5\n",
    "spot = 2.919\n",
    "volatility = 0.4251\n",
    "flavor = ql.Option.Call\n",
    "discount = yield_curve.discount(T)\n",
    "strikepayoff = ql.PlainVanillaPayoff(flavor, strike)\n",
    "stddev = volatility*math.sqrt(T)\n",
    "strikepayoff = ql.PlainVanillaPayoff(flavor, strike)\n",
    "black = ql.BlackCalculator(strikepayoff, spot, stddev, discount)"
   ]
  },
  {
   "cell_type": "code",
   "execution_count": 10,
   "id": "4687803d-5e34-40f5-9b64-7c9159ddcae1",
   "metadata": {
    "tags": []
   },
   "outputs": [
    {
     "name": "stdout",
     "output_type": "stream",
     "text": [
      "Option Price        : 0.0789\n",
      "Delta               : 0.2347\n",
      "Gamma               : 0.4822\n",
      "Theta               : -0.3711\n",
      "Vega                : 0.4600\n",
      "Rho                 : 0.1597\n"
     ]
    }
   ],
   "source": [
    "print(\"%-20s: %4.4f\" %(\"Option Price\", black.value()))\n",
    "print(\"%-20s: %4.4f\" %(\"Delta\", black.delta(spot)))\n",
    "print(\"%-20s: %4.4f\" %(\"Gamma\", black.gamma(spot)))\n",
    "print(\"%-20s: %4.4f\" %(\"Theta\", black.theta(spot, T)))\n",
    "print(\"%-20s: %4.4f\" %(\"Vega\", black.vega(T)))\n",
    "print(\"%-20s: %4.4f\" %(\"Rho\", black.rho(T)))"
   ]
  },
  {
   "cell_type": "code",
   "execution_count": null,
   "id": "30d4cbe0-1361-4467-be0b-aebc546b3893",
   "metadata": {},
   "outputs": [],
   "source": []
  }
 ],
 "metadata": {
  "kernelspec": {
   "display_name": "Python 3 (ipykernel)",
   "language": "python",
   "name": "python3"
  },
  "language_info": {
   "codemirror_mode": {
    "name": "ipython",
    "version": 3
   },
   "file_extension": ".py",
   "mimetype": "text/x-python",
   "name": "python",
   "nbconvert_exporter": "python",
   "pygments_lexer": "ipython3",
   "version": "3.10.8"
  },
  "widgets": {
   "application/vnd.jupyter.widget-state+json": {
    "state": {},
    "version_major": 2,
    "version_minor": 0
   }
  }
 },
 "nbformat": 4,
 "nbformat_minor": 5
}
