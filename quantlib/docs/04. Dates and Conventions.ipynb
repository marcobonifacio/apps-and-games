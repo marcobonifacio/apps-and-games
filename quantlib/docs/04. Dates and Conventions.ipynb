{
 "cells": [
  {
   "cell_type": "markdown",
   "id": "ed94cd6c-3835-40b1-ae2f-1e693367c839",
   "metadata": {},
   "source": [
    "# 04. Dates and Conventions #"
   ]
  },
  {
   "cell_type": "code",
   "execution_count": 1,
   "id": "59777c43-08cb-42e3-a36d-1faa40acc75f",
   "metadata": {
    "tags": []
   },
   "outputs": [],
   "source": [
    "import QuantLib as ql\n",
    "today = ql.Date(15,6,2020)\n",
    "ql.Settings.instance().evaluationDate = today"
   ]
  },
  {
   "cell_type": "markdown",
   "id": "6fa52d9c-14e9-4df1-831a-50001c0894d1",
   "metadata": {},
   "source": [
    "## Conventions ##"
   ]
  },
  {
   "cell_type": "code",
   "execution_count": 2,
   "id": "ab24cf05-4efe-4fe7-9a5c-060cf479f1ff",
   "metadata": {
    "tags": []
   },
   "outputs": [
    {
     "name": "stdout",
     "output_type": "stream",
     "text": [
      "Backward [Date(7,5,2020), Date(15,5,2020), Date(15,6,2020), Date(15,7,2020), Date(15,8,2020)]\n",
      "Forward [Date(7,5,2020), Date(7,6,2020), Date(7,7,2020), Date(7,8,2020), Date(15,8,2020)]\n",
      "Zero [Date(7,5,2020), Date(15,8,2020)]\n",
      "ThirdWednesDay [Date(7,5,2020), Date(17,6,2020), Date(15,7,2020), Date(15,8,2020)]\n",
      "Twentieth [Date(7,5,2020), Date(20,5,2020), Date(20,6,2020), Date(20,7,2020), Date(20,8,2020)]\n",
      "TwentiethIMM [Date(7,5,2020), Date(20,6,2020), Date(20,7,2020), Date(20,9,2020)]\n",
      "CDS [Date(20,3,2020), Date(20,6,2020), Date(20,7,2020), Date(20,9,2020)]\n"
     ]
    }
   ],
   "source": [
    "start = ql.Date(7,5,2020)\n",
    "end = ql.Date(15,8,2020)\n",
    "\n",
    "rules = {\n",
    "    'Backward': ql.DateGeneration.Backward,\n",
    "    'Forward': ql.DateGeneration.Forward,\n",
    "    'Zero': ql.DateGeneration.Zero,\n",
    "    'ThirdWednesDay': ql.DateGeneration.ThirdWednesday,\n",
    "    'Twentieth': ql.DateGeneration.Twentieth,\n",
    "    'TwentiethIMM': ql.DateGeneration.TwentiethIMM,\n",
    "    'CDS': ql.DateGeneration.CDS\n",
    "\n",
    "}\n",
    "\n",
    "for name, rule in rules.items():\n",
    "    schedule = ql.MakeSchedule(start, end, ql.Period('1m'), rule=rule)\n",
    "    print(name, [dt for dt in schedule])"
   ]
  },
  {
   "cell_type": "markdown",
   "id": "847a0c84-6dd3-4cf0-b07a-9bf87179236b",
   "metadata": {},
   "source": [
    "## Date ##"
   ]
  },
  {
   "cell_type": "code",
   "execution_count": 3,
   "id": "1e65ed8a-2772-4f23-8d43-9b94b9629181",
   "metadata": {
    "tags": []
   },
   "outputs": [
    {
     "data": {
      "text/plain": [
       "Date(18,6,2020)"
      ]
     },
     "execution_count": 3,
     "metadata": {},
     "output_type": "execute_result"
    }
   ],
   "source": [
    "ql.Date(44000)"
   ]
  },
  {
   "cell_type": "code",
   "execution_count": 4,
   "id": "554c0b4a-8ae8-470d-812a-760f93430160",
   "metadata": {
    "tags": []
   },
   "outputs": [
    {
     "data": {
      "text/plain": [
       "Date(18,6,2020)"
      ]
     },
     "execution_count": 4,
     "metadata": {},
     "output_type": "execute_result"
    }
   ],
   "source": [
    "ql.Date(18, 6, 2020)\n",
    "ql.Date(18, ql.June, 2020)"
   ]
  },
  {
   "cell_type": "code",
   "execution_count": 5,
   "id": "3e03c478-d905-45f7-a049-9e4d9776bebd",
   "metadata": {
    "tags": []
   },
   "outputs": [
    {
     "data": {
      "text/plain": [
       "Date(18,6,2020)"
      ]
     },
     "execution_count": 5,
     "metadata": {},
     "output_type": "execute_result"
    }
   ],
   "source": [
    "ql.Date('18-06-2020', '%d-%m-%Y')"
   ]
  },
  {
   "cell_type": "code",
   "execution_count": 6,
   "id": "0d4f5b1e-31da-4768-8a5d-b1d73ed2ba75",
   "metadata": {
    "tags": []
   },
   "outputs": [
    {
     "name": "stdout",
     "output_type": "stream",
     "text": [
      "Original Date: June 15th, 2020\n",
      "ISO format: 2020-06-15\n",
      "Weekday: 2\n",
      "Day of Month: 15\n",
      "Day of Year: 167\n",
      "Month: 6\n",
      "Year: 2020\n",
      "Serial Number: 43997\n"
     ]
    }
   ],
   "source": [
    "print('Original Date:', today)\n",
    "print('ISO format:', today.ISO())\n",
    "print('Weekday:', today.weekday())\n",
    "print('Day of Month:', today.dayOfMonth())\n",
    "print('Day of Year:', today.dayOfYear())\n",
    "print('Month:', today.month())\n",
    "print('Year:', today.year())\n",
    "print('Serial Number:', today.serialNumber())"
   ]
  },
  {
   "cell_type": "code",
   "execution_count": 7,
   "id": "4f2fd4b4-5687-4ff6-aeb7-fe1020caccab",
   "metadata": {
    "tags": []
   },
   "outputs": [
    {
     "name": "stdout",
     "output_type": "stream",
     "text": [
      "Today : May 29th, 2023\n",
      "Min Date : January 1st, 1901\n",
      "Max Date : December 31st, 2199\n",
      "Is Leap : False\n",
      "End of Month : August 31st, 2009\n",
      "Is Month End : False\n",
      "Is Month End : True\n",
      "Next WD : September 4th, 2009\n",
      "n-th WD : September 16th, 2009\n"
     ]
    }
   ],
   "source": [
    "print('Today :', ql.Date.todaysDate())\n",
    "print('Min Date :', ql.Date.minDate())\n",
    "print('Max Date :', ql.Date.maxDate())\n",
    "print('Is Leap :', ql.Date.isLeap(2011))\n",
    "print('End of Month :', ql.Date.endOfMonth(ql.Date(4, ql.August, 2009)))\n",
    "print('Is Month End :', ql.Date.isEndOfMonth(ql.Date(29, ql.September, 2009)))\n",
    "print('Is Month End :', ql.Date.isEndOfMonth(ql.Date(30, ql.September, 2009)))\n",
    "print('Next WD :', ql.Date.nextWeekday(ql.Date(1, ql.September, 2009), ql.Friday))\n",
    "print('n-th WD :', ql.Date.nthWeekday(3, ql.Wednesday, ql.September, 2009))"
   ]
  },
  {
   "cell_type": "markdown",
   "id": "111153c1-62eb-4e7d-921c-c4f178b05232",
   "metadata": {},
   "source": [
    "## Period ##"
   ]
  },
  {
   "cell_type": "code",
   "execution_count": 8,
   "id": "6a7f09f0-fd93-4483-b179-b92e818ee10d",
   "metadata": {
    "tags": []
   },
   "outputs": [
    {
     "data": {
      "text/plain": [
       "Period(\"1D\")"
      ]
     },
     "execution_count": 8,
     "metadata": {},
     "output_type": "execute_result"
    }
   ],
   "source": [
    "ql.Period(1, ql.Days)"
   ]
  },
  {
   "cell_type": "code",
   "execution_count": 9,
   "id": "e765481a-7bc9-47f5-b972-77e2add1379f",
   "metadata": {
    "tags": []
   },
   "outputs": [
    {
     "data": {
      "text/plain": [
       "Period(\"1D\")"
      ]
     },
     "execution_count": 9,
     "metadata": {},
     "output_type": "execute_result"
    }
   ],
   "source": [
    "ql.Period('1d')"
   ]
  },
  {
   "cell_type": "code",
   "execution_count": 10,
   "id": "995815de-6149-4e16-8417-ceeadd015a54",
   "metadata": {
    "tags": []
   },
   "outputs": [
    {
     "data": {
      "text/plain": [
       "Period(\"1Y\")"
      ]
     },
     "execution_count": 10,
     "metadata": {},
     "output_type": "execute_result"
    }
   ],
   "source": [
    "ql.Period(ql.Annual)"
   ]
  },
  {
   "cell_type": "markdown",
   "id": "d6eb0a1d-2180-4369-85a8-f144ac9f1caf",
   "metadata": {},
   "source": [
    "## Calendar ##"
   ]
  },
  {
   "cell_type": "code",
   "execution_count": 11,
   "id": "4544def1-f6fa-48f6-b673-a8acf75a79fe",
   "metadata": {
    "tags": []
   },
   "outputs": [],
   "source": [
    "calendar1 = ql.UnitedKingdom()\n",
    "calendar2 = ql.TARGET()"
   ]
  },
  {
   "cell_type": "code",
   "execution_count": 12,
   "id": "d5bdab83-85be-4f74-bc68-ae0dacd89bf1",
   "metadata": {
    "tags": []
   },
   "outputs": [],
   "source": [
    "calendar1 = ql.UnitedKingdom(ql.UnitedKingdom.Metals)\n",
    "calendar2 = ql.UnitedStates(ql.UnitedStates.NYSE)"
   ]
  },
  {
   "cell_type": "code",
   "execution_count": 13,
   "id": "2df6932b-0d99-44ab-93e8-61dc0db1a630",
   "metadata": {
    "tags": []
   },
   "outputs": [
    {
     "name": "stdout",
     "output_type": "stream",
     "text": [
      "Is BD : False\n",
      "Is Holiday : True\n",
      "Is Weekend : False\n",
      "Is Last BD : False\n",
      "Last BD : May 31st, 2017\n"
     ]
    }
   ],
   "source": [
    "cal = ql.TARGET()\n",
    "mydate = ql.Date(1, ql.May, 2017)\n",
    "\n",
    "print('Is BD :', cal.isBusinessDay(mydate))\n",
    "print('Is Holiday :', cal.isHoliday(mydate))\n",
    "print('Is Weekend :', cal.isWeekend(ql.Friday))\n",
    "print('Is Last BD :', cal.isEndOfMonth(ql.Date(5, ql.April, 2018)))\n",
    "print('Last BD :', cal.endOfMonth(mydate))"
   ]
  },
  {
   "cell_type": "code",
   "execution_count": 14,
   "id": "c0a51f42-9832-4075-9455-fdd99aaab290",
   "metadata": {
    "tags": []
   },
   "outputs": [
    {
     "name": "stdout",
     "output_type": "stream",
     "text": [
      "Is Business Day :  True\n",
      "Is Business Day :  False\n",
      "Is Business Day :  False\n",
      "Is Business Day :  True\n"
     ]
    }
   ],
   "source": [
    "cal = ql.TARGET()\n",
    "\n",
    "day1 = ql.Date(26, 2, 2020)\n",
    "day2 = ql.Date(10, 4, 2020)\n",
    "\n",
    "print('Is Business Day : ', cal.isBusinessDay(day1))\n",
    "print('Is Business Day : ', cal.isBusinessDay(day2))\n",
    "\n",
    "cal.addHoliday(day1)\n",
    "cal.removeHoliday(day2)\n",
    "\n",
    "print('Is Business Day : ', cal.isBusinessDay(day1))\n",
    "print('Is Business Day : ', cal.isBusinessDay(day2))"
   ]
  },
  {
   "cell_type": "code",
   "execution_count": 15,
   "id": "e573127b-c650-452b-baeb-71f97056e461",
   "metadata": {
    "tags": []
   },
   "outputs": [],
   "source": [
    "myCalendar = ql.WeekendsOnly()\n",
    "days = [1,14,15,1,21,26,2,16,15,18,19,9,27,1,19,8,17,25,31]\n",
    "months = [1,4,4,5,5,6,8,9,9,10,10,11,12,12,12,12]\n",
    "name = ['Año Nuevo','Viernes Santo','Sabado Santo','Dia del Trabajo','Dia de las Glorias Navales','San Pedro y San Pablo','Elecciones Primarias','Dia de la Virgen del Carmen','Asuncion de la Virgen','Independencia Nacional','Glorias del Ejercito','Encuentro de dos mundos','Día de las Iglesias Evangélicas y Protestantes','Día de todos los Santos','Elecciones Presidenciales y Parlamentarias','Inmaculada Concepción','Segunda vuelta Presidenciales','Navidad','Feriado Bancario']\n",
    "start_year = 2018\n",
    "n_years = 10\n",
    "for i in range(n_years+1):\n",
    "    for x,y in zip(days,months):\n",
    "        date = ql.Date(x,y,start_year+i)\n",
    "        myCalendar.addHoliday(date)"
   ]
  },
  {
   "cell_type": "code",
   "execution_count": 16,
   "id": "04add586-4336-4ce0-aa5e-20d6d6d6035c",
   "metadata": {
    "tags": []
   },
   "outputs": [
    {
     "data": {
      "text/plain": [
       "(Date(25,12,2019), Date(26,12,2019))"
      ]
     },
     "execution_count": 16,
     "metadata": {},
     "output_type": "execute_result"
    }
   ],
   "source": [
    "ql.Calendar.holidayList(ql.TARGET(), ql.Date(1,12,2019), ql.Date(31,12,2019))"
   ]
  },
  {
   "cell_type": "code",
   "execution_count": 17,
   "id": "54c9e814-0ab2-4389-bd54-dff131dfc9e0",
   "metadata": {
    "tags": []
   },
   "outputs": [
    {
     "name": "stdout",
     "output_type": "stream",
     "text": [
      "Date 2 Adj : March 29th, 2018\n",
      "Date 2 Adj : April 3rd, 2018\n",
      "Date 1 Month Adv : April 3rd, 2018\n",
      "Date 1 Month Adv : March 29th, 2018\n",
      "Business Days Between : 19\n"
     ]
    }
   ],
   "source": [
    "cal = ql.TARGET()\n",
    "\n",
    "firstDate = ql.Date(31, ql.January, 2018)\n",
    "secondDate = ql.Date(1, ql.April, 2018)\n",
    "\n",
    "print('Date 2 Adj :', cal.adjust(secondDate, ql.Preceding))\n",
    "print('Date 2 Adj :', cal.adjust(secondDate, ql.ModifiedPreceding))\n",
    "\n",
    "mat = ql.Period(2, ql.Months)\n",
    "\n",
    "print('Date 1 Month Adv :',\n",
    "    cal.advance(firstDate, mat, ql.Following, False))\n",
    "print('Date 1 Month Adv :',\n",
    "    cal.advance(firstDate, mat, ql.ModifiedFollowing, False))\n",
    "\n",
    "print('Business Days Between :',\n",
    "    cal.businessDaysBetween(\n",
    "        ql.Date(5, ql.March, 2018), ql.Date(30, ql.March, 2018),\n",
    "        True, True))"
   ]
  },
  {
   "cell_type": "code",
   "execution_count": 18,
   "id": "b91b3cea-5b16-4919-9fb1-bf0c7b33e7f0",
   "metadata": {
    "tags": []
   },
   "outputs": [],
   "source": [
    "joint_calendar = ql.JointCalendar(ql.TARGET(), ql.Poland())"
   ]
  },
  {
   "cell_type": "markdown",
   "id": "261de064-6dd6-46a7-b963-b804dee78fa5",
   "metadata": {},
   "source": [
    "## DayCounter ##"
   ]
  },
  {
   "cell_type": "code",
   "execution_count": 21,
   "id": "19228b7b-becd-4a4e-9d4b-801d40658479",
   "metadata": {
    "tags": []
   },
   "outputs": [
    {
     "name": "stdout",
     "output_type": "stream",
     "text": [
      "SimpleDayCounter 416,666.67\n",
      "Thirty360 416,666.67\n",
      "Actual360 430,555.56\n",
      "Actual365Fixed 424,657.53\n",
      "Actual365Fixed(Canadian) 416,666.67\n",
      "Actual365FixedNoLeap 424,657.53\n",
      "ActualActual 424,657.53\n",
      "Business252 396,825.40\n"
     ]
    }
   ],
   "source": [
    "dayCounters = {\n",
    "    'SimpleDayCounter': ql.SimpleDayCounter(),\n",
    "    'Thirty360': ql.Thirty360(ql.Thirty360.BondBasis),\n",
    "    'Actual360': ql.Actual360(),\n",
    "    'Actual365Fixed': ql.Actual365Fixed(),\n",
    "    'Actual365Fixed(Canadian)': ql.Actual365Fixed(ql.Actual365Fixed.Canadian),\n",
    "    'Actual365FixedNoLeap': ql.Actual365Fixed(ql.Actual365Fixed.NoLeap),\n",
    "    'ActualActual': ql.ActualActual(ql.ActualActual.Historical),\n",
    "    'Business252': ql.Business252()\n",
    "}\n",
    "\n",
    "\n",
    "startDate = ql.Date(15,5,2015)\n",
    "endDate = ql.Date(15,6,2015)\n",
    "r = 0.05\n",
    "nominal = 100e6\n",
    "\n",
    "for name, dc in dayCounters.items():\n",
    "    amount = ql.FixedRateCoupon(endDate, nominal, r, dc, startDate, endDate).amount()\n",
    "    print(name, f\"{amount:,.2f}\")"
   ]
  },
  {
   "cell_type": "markdown",
   "id": "0a4afb95-38ca-443f-b473-56a9b1a91ff1",
   "metadata": {},
   "source": [
    "## Schedule ##"
   ]
  },
  {
   "cell_type": "code",
   "execution_count": 22,
   "id": "55265e38-fdea-46eb-8823-69f665f41b03",
   "metadata": {
    "tags": []
   },
   "outputs": [],
   "source": [
    "effectiveDate = ql.Date(15,6,2020)\n",
    "terminationDate = ql.Date(15,6,2022)\n",
    "frequency = ql.Period('6M')\n",
    "calendar = ql.TARGET()\n",
    "convention = ql.ModifiedFollowing\n",
    "terminationDateConvention = ql.ModifiedFollowing\n",
    "rule = ql.DateGeneration.Backward\n",
    "endOfMonth = False\n",
    "schedule = ql.Schedule(effectiveDate, terminationDate, frequency, calendar, convention, terminationDateConvention, rule, endOfMonth)"
   ]
  },
  {
   "cell_type": "code",
   "execution_count": 23,
   "id": "e60de551-9dcb-4dfe-8c0d-8dab067a1e60",
   "metadata": {
    "tags": []
   },
   "outputs": [],
   "source": [
    "effectiveDate = ql.Date(15,6,2020)\n",
    "terminationDate = ql.Date(15,6,2022)\n",
    "frequency = ql.Period('6M')\n",
    "schedule = ql.MakeSchedule(effectiveDate, terminationDate, frequency)"
   ]
  },
  {
   "cell_type": "code",
   "execution_count": 24,
   "id": "919f1e91-d26d-473a-bc5e-21165ccd5354",
   "metadata": {
    "tags": []
   },
   "outputs": [
    {
     "data": {
      "text/plain": [
       "2.0"
      ]
     },
     "execution_count": 24,
     "metadata": {},
     "output_type": "execute_result"
    }
   ],
   "source": [
    "t = ql.TimeGrid(10, 5)\n",
    "t.dt(4)"
   ]
  },
  {
   "cell_type": "code",
   "execution_count": 25,
   "id": "eb1f424e-c5fd-4257-86a9-f2c56270eb37",
   "metadata": {
    "tags": []
   },
   "outputs": [
    {
     "data": {
      "text/plain": [
       "[0.0,\n",
       " 0.3333333333333333,\n",
       " 0.6666666666666666,\n",
       " 1.0,\n",
       " 1.375,\n",
       " 1.75,\n",
       " 2.125,\n",
       " 2.5,\n",
       " 2.875,\n",
       " 3.25,\n",
       " 3.625,\n",
       " 4.0]"
      ]
     },
     "execution_count": 25,
     "metadata": {},
     "output_type": "execute_result"
    }
   ],
   "source": [
    "[t for t in ql.TimeGrid([1, 2.5, 4], 10)]"
   ]
  },
  {
   "cell_type": "code",
   "execution_count": null,
   "id": "ad0cc6c4-a5bd-4ed3-ab62-eed2959dfecf",
   "metadata": {},
   "outputs": [],
   "source": []
  }
 ],
 "metadata": {
  "kernelspec": {
   "display_name": "Python 3 (ipykernel)",
   "language": "python",
   "name": "python3"
  },
  "language_info": {
   "codemirror_mode": {
    "name": "ipython",
    "version": 3
   },
   "file_extension": ".py",
   "mimetype": "text/x-python",
   "name": "python",
   "nbconvert_exporter": "python",
   "pygments_lexer": "ipython3",
   "version": "3.10.8"
  },
  "widgets": {
   "application/vnd.jupyter.widget-state+json": {
    "state": {},
    "version_major": 2,
    "version_minor": 0
   }
  }
 },
 "nbformat": 4,
 "nbformat_minor": 5
}
