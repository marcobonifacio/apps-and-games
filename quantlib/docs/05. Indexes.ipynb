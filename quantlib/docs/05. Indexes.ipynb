{
 "cells": [
  {
   "cell_type": "markdown",
   "id": "3062a8ae-73ee-4245-bace-0cf36f06bbd4",
   "metadata": {},
   "source": [
    "# 05. Indexes #"
   ]
  },
  {
   "cell_type": "code",
   "execution_count": 1,
   "id": "3efb6cb7-1c76-42b4-81b5-31c9b1e847a2",
   "metadata": {
    "tags": []
   },
   "outputs": [],
   "source": [
    "import QuantLib as ql\n",
    "today = ql.Date(15,6,2020)\n",
    "ql.Settings.instance().evaluationDate = today"
   ]
  },
  {
   "cell_type": "markdown",
   "id": "54d1bbf4-8a69-42bc-b605-32a37538f706",
   "metadata": {},
   "source": [
    "## Interest Rate ##"
   ]
  },
  {
   "cell_type": "code",
   "execution_count": 2,
   "id": "ea680e03-a4de-49a2-8e46-0b7d33783cf1",
   "metadata": {
    "tags": []
   },
   "outputs": [
    {
     "data": {
      "text/plain": [
       "<QuantLib.QuantLib.Euribor6M; proxy of <Swig Object of type 'ext::shared_ptr< Euribor6M > *' at 0x00000279A6F32280> >"
      ]
     },
     "execution_count": 2,
     "metadata": {},
     "output_type": "execute_result"
    }
   ],
   "source": [
    "ql.IborIndex('MyIndex', ql.Period('6m'), 2, ql.EURCurrency(), ql.TARGET(), ql.ModifiedFollowing, True, ql.Actual360())\n",
    "ql.Libor('MyIndex', ql.Period('6M'), 2, ql.USDCurrency(), ql.TARGET(), ql.Actual360())\n",
    "ql.Euribor(ql.Period('6M'))\n",
    "ql.USDLibor(ql.Period('6M'))\n",
    "ql.Euribor6M()"
   ]
  },
  {
   "cell_type": "code",
   "execution_count": 3,
   "id": "943c4fd3-11e3-4fb4-a9cc-75ab46220b99",
   "metadata": {
    "tags": []
   },
   "outputs": [],
   "source": [
    "name = 'CNYRepo7D'\n",
    "fixingDays = 1\n",
    "currency = ql.CNYCurrency()\n",
    "calendar = ql.China()\n",
    "dayCounter = ql.Actual365Fixed()\n",
    "overnight_index = ql.OvernightIndex(name, fixingDays, currency, calendar, dayCounter)"
   ]
  },
  {
   "cell_type": "markdown",
   "id": "f75b2c23-0499-42cc-b3bb-2667b8418be7",
   "metadata": {},
   "source": [
    "## Inflation ##"
   ]
  },
  {
   "cell_type": "markdown",
   "id": "bf8781c0-d7f9-4c78-983d-cee2a8ca68b3",
   "metadata": {},
   "source": [
    "## Fixings ##"
   ]
  },
  {
   "cell_type": "code",
   "execution_count": 9,
   "id": "f5a8f371-2624-4fca-8e3e-786d6082f201",
   "metadata": {
    "tags": []
   },
   "outputs": [],
   "source": [
    "#fixingDates = [cf.fixingDate() for cf in map(ql.as_floating_rate_coupon, loan)]\n",
    "#euribor3m.clearFixings()\n",
    "\n",
    "#euribor3m.addFixing(ql.Date(17, 7, 2018), -0.3)\n",
    "#euribor3m.addFixings([ql.Date(12, 7, 2018), ql.Date(13, 7, 2018)], [-0.3, -0.3])"
   ]
  },
  {
   "cell_type": "code",
   "execution_count": 10,
   "id": "e0821619-7afd-440d-a34b-0f66c871b07a",
   "metadata": {
    "tags": []
   },
   "outputs": [],
   "source": [
    "#[dt for dt in index.timeSeries().dates()]\n",
    "#[dt for dt in index.timeSeries().values()]"
   ]
  },
  {
   "cell_type": "code",
   "execution_count": 11,
   "id": "dc6a5ffd-d3d4-4b8a-9e51-c7a80167c765",
   "metadata": {
    "tags": []
   },
   "outputs": [],
   "source": [
    "swap3 = ql.MakeVanillaSwap(ql.Period('3y'), ql.Euribor6M(), 0.01, ql.Period(\"-2D\"))\n",
    "fixingDates = [cf.fixingDate() for cf in map(ql.as_floating_rate_coupon, swap3.floatingLeg())]"
   ]
  },
  {
   "cell_type": "code",
   "execution_count": 13,
   "id": "c4b2264b-86f9-493a-9b55-ec4f70976582",
   "metadata": {
    "tags": []
   },
   "outputs": [],
   "source": [
    "#index.isValidFixingDate(ql.Date(25,12,2019))\n",
    "#c = index.fixingCalendar()\n",
    "#c.name()"
   ]
  },
  {
   "cell_type": "markdown",
   "id": "2d6a51e6-4f3c-49a5-8aef-58c3fe5bfcfb",
   "metadata": {},
   "source": [
    "## IndexManager ##"
   ]
  },
  {
   "cell_type": "code",
   "execution_count": 16,
   "id": "488c442a-344c-4425-8a7a-55e623474ee7",
   "metadata": {
    "tags": []
   },
   "outputs": [],
   "source": [
    "#ql.IndexManager.instance().histories()\n",
    "\n",
    "#for dt, value in zip(im.getHistory('EURIBOR6M ACTUAL/360').dates(),im.getHistory('EURIBOR6M ACTUAL/360').values()):\n",
    "#    print(dt, value)\n",
    "\n",
    "\n",
    "#IndexManager.instance().clearHistory(index.name())"
   ]
  },
  {
   "cell_type": "code",
   "execution_count": null,
   "id": "4514ed90-3036-433f-9f10-8dba1b950f67",
   "metadata": {},
   "outputs": [],
   "source": []
  }
 ],
 "metadata": {
  "kernelspec": {
   "display_name": "Python 3 (ipykernel)",
   "language": "python",
   "name": "python3"
  },
  "language_info": {
   "codemirror_mode": {
    "name": "ipython",
    "version": 3
   },
   "file_extension": ".py",
   "mimetype": "text/x-python",
   "name": "python",
   "nbconvert_exporter": "python",
   "pygments_lexer": "ipython3",
   "version": "3.10.8"
  },
  "widgets": {
   "application/vnd.jupyter.widget-state+json": {
    "state": {},
    "version_major": 2,
    "version_minor": 0
   }
  }
 },
 "nbformat": 4,
 "nbformat_minor": 5
}
