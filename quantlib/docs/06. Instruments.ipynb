{
 "cells": [
  {
   "cell_type": "markdown",
   "id": "0f651f50-d711-4df4-bb72-edcada8f4fb7",
   "metadata": {},
   "source": [
    "# 06. Instruments #"
   ]
  },
  {
   "cell_type": "code",
   "execution_count": 1,
   "id": "3e87be27-64fa-46b4-8002-1da8faf2e7cc",
   "metadata": {
    "tags": []
   },
   "outputs": [],
   "source": [
    "import QuantLib as ql\n",
    "today = ql.Date(15,6,2020)\n",
    "ql.Settings.instance().evaluationDate = today"
   ]
  },
  {
   "cell_type": "markdown",
   "id": "bd95cdd1-6397-4bb0-9cb9-bb2fe537c2d7",
   "metadata": {},
   "source": [
    "## Fixed Income ##"
   ]
  },
  {
   "cell_type": "code",
   "execution_count": 3,
   "id": "13fb1625-d935-4d72-9a09-75cb5b962c26",
   "metadata": {
    "tags": []
   },
   "outputs": [],
   "source": [
    "#fra = ql.ForwardRateAgreement(\n",
    "#    ql.Date(15,6,2020),\n",
    "#    ql.Date(15,12,2020),\n",
    "#    ql.Position.Long,\n",
    "#    0.01,\n",
    "#    1e6,\n",
    "#    ql.Euribor6M(yts),\n",
    "#    yts\n",
    "#)"
   ]
  },
  {
   "cell_type": "code",
   "execution_count": 6,
   "id": "d219b3ce-4d3f-4455-8223-58d2b14b3d11",
   "metadata": {
    "tags": []
   },
   "outputs": [],
   "source": [
    "#valueDate = ql.Date(24, 6, 2020)\n",
    "#maturityDate = ql.Date(31, 5, 2032)\n",
    "#position = ql.Position.Long\n",
    "#strike = 100\n",
    "#settlementDays = 2\n",
    "#dayCounter = ql.Actual360()\n",
    "#calendar = ql.TARGET()\n",
    "#businessDayConvention = ql.Following\n",
    "#bond = ql.FixedRateBond(2, ql.TARGET(), 100.0, ql.Date(31, 5, 2032), ql.Date(30, 5, 2035), ql.Period('1Y'), [0.05], ql.ActualActual(ql.ActualActual.Historical))\n",
    "#bond.setPricingEngine(engine)\n",
    "#fwd = ql.FixedRateBondForward(\n",
    "#    valueDate, maturityDate, position, strike, settlementDays,\n",
    "#    dayCounter , calendar, businessDayConvention, bond, yts, yts)"
   ]
  },
  {
   "cell_type": "code",
   "execution_count": 7,
   "id": "00915bdc-b36f-438b-b024-2fa79bb5d87f",
   "metadata": {
    "tags": []
   },
   "outputs": [],
   "source": [
    "start = ql.Date(15,12,2019)\n",
    "maturity = ql.Date(15,12,2020)\n",
    "schedule = ql.MakeSchedule(start, maturity, ql.Period('6M'))\n",
    "\n",
    "interest = ql.FixedRateLeg(schedule, ql.Actual360(), [100.], [0.05])\n",
    "bond = ql.Bond(0, ql.TARGET(), start, interest)"
   ]
  },
  {
   "cell_type": "code",
   "execution_count": 8,
   "id": "838b472a-f4df-4c82-b0ff-3f742b6aa277",
   "metadata": {
    "tags": []
   },
   "outputs": [
    {
     "data": {
      "text/plain": [
       "0.05061440467834472"
      ]
     },
     "execution_count": 8,
     "metadata": {},
     "output_type": "execute_result"
    }
   ],
   "source": [
    "bond.bondYield(100, ql.Actual360(), ql.Compounded, ql.Annual)"
   ]
  },
  {
   "cell_type": "code",
   "execution_count": 10,
   "id": "2c234375-8e70-40ee-b0cd-50defb0abfce",
   "metadata": {
    "tags": []
   },
   "outputs": [],
   "source": [
    "#bond.dirtyPrice()"
   ]
  },
  {
   "cell_type": "code",
   "execution_count": 11,
   "id": "aa246330-8c3e-41a8-a073-b11eb519d315",
   "metadata": {
    "tags": []
   },
   "outputs": [
    {
     "data": {
      "text/plain": [
       "100.02974114869203"
      ]
     },
     "execution_count": 11,
     "metadata": {},
     "output_type": "execute_result"
    }
   ],
   "source": [
    "bond.dirtyPrice(0.05, ql.Actual360(), ql.Compounded, ql.Annual)"
   ]
  },
  {
   "cell_type": "code",
   "execution_count": 12,
   "id": "31f1758a-bb42-47ea-83d8-41da9d15f297",
   "metadata": {
    "tags": []
   },
   "outputs": [],
   "source": [
    "bond = ql.ZeroCouponBond(2, ql.TARGET(), 100, ql.Date(20,6,2020))"
   ]
  },
  {
   "cell_type": "code",
   "execution_count": 13,
   "id": "85af4fd3-2989-43cf-a9f1-9bf9c8a483cd",
   "metadata": {
    "tags": []
   },
   "outputs": [],
   "source": [
    "bond = ql.FixedRateBond(2, ql.TARGET(), 100.0, ql.Date(15,12,2019), ql.Date(15,12,2024), ql.Period('1Y'), [0.05], ql.ActualActual(ql.ActualActual.Bond))"
   ]
  },
  {
   "cell_type": "code",
   "execution_count": 14,
   "id": "8f34f430-b805-4ad2-8d23-79b721918873",
   "metadata": {
    "tags": []
   },
   "outputs": [],
   "source": [
    "notionals = [100,100,100,50]\n",
    "schedule = ql.MakeSchedule(ql.Date(25,1,2018), ql.Date(25,1,2022), ql.Period('1y'))\n",
    "bond = ql.AmortizingFixedRateBond(0, notionals, schedule, [0.03], ql.Thirty360(ql.Thirty360.USA))"
   ]
  },
  {
   "cell_type": "code",
   "execution_count": 15,
   "id": "a2ddf00b-b257-4b00-88e4-21611513edcf",
   "metadata": {
    "tags": []
   },
   "outputs": [],
   "source": [
    "schedule = ql.MakeSchedule(ql.Date(15,6,2020), ql.Date(15,6,2022), ql.Period('6m'))\n",
    "index = ql.Euribor6M()\n",
    "bond = ql.FloatingRateBond(2,100, schedule, index, ql.Actual360(), spreads=[0.01])"
   ]
  },
  {
   "cell_type": "code",
   "execution_count": 16,
   "id": "035da750-4ed6-4f5a-b19a-3d6d48bd286e",
   "metadata": {
    "tags": []
   },
   "outputs": [],
   "source": [
    "notional = [100, 50]\n",
    "schedule = ql.MakeSchedule(ql.Date(15,6,2020), ql.Date(15,6,2022), ql.Period('1Y'))\n",
    "index = ql.Euribor6M()\n",
    "bond = ql.AmortizingFloatingRateBond(2, notional, schedule, index, ql.ActualActual(ql.ActualActual.Bond))"
   ]
  },
  {
   "cell_type": "code",
   "execution_count": 17,
   "id": "6a45ebdb-cd8d-4966-8f57-5d97ba6eb700",
   "metadata": {
    "tags": []
   },
   "outputs": [],
   "source": [
    "schedule = ql.MakeSchedule(ql.Date(15,6,2020), ql.Date(15,6,2022), ql.Period('1Y'))\n",
    "index = ql.EuriborSwapIsdaFixA(ql.Period('10y'))\n",
    "bond = ql.CmsRateBond(2, 100, schedule, index, ql.Actual360(), ql.ModifiedFollowing, fixingDays=2, gearings=[1], spreads=[0], caps=[], floors=[])"
   ]
  },
  {
   "cell_type": "code",
   "execution_count": 18,
   "id": "b62b8f9b-b406-4425-9f55-69b960f19a3b",
   "metadata": {
    "tags": []
   },
   "outputs": [],
   "source": [
    "schedule = ql.MakeSchedule(ql.Date(15,6,2020), ql.Date(15,6,2022), ql.Period('1Y'))\n",
    "putCallSchedule = ql.CallabilitySchedule()\n",
    "\n",
    "my_price  = ql.BondPrice(100, ql.BondPrice.Clean)\n",
    "\n",
    "putCallSchedule.append(\n",
    "    ql.Callability(my_price, ql.Callability.Call, ql.Date(15,6,2021))\n",
    ")\n",
    "\n",
    "bond = ql.CallableFixedRateBond(2, 100, schedule, [0.01], ql.Actual360(), ql.ModifiedFollowing, 100, ql.Date(15,6,2020), putCallSchedule)"
   ]
  },
  {
   "cell_type": "code",
   "execution_count": 19,
   "id": "41b90cc0-f73b-4bdf-8019-9e68df0c8cc6",
   "metadata": {
    "tags": []
   },
   "outputs": [],
   "source": [
    "bond = ql.FixedRateBond(\n",
    "    2, ql.TARGET(), 100.0,\n",
    "    ql.Date(15,12,2019), ql.Date(15,12,2024), ql.Period('1Y'),\n",
    "    [0.05], ql.ActualActual(ql.ActualActual.Bond))"
   ]
  },
  {
   "cell_type": "code",
   "execution_count": 20,
   "id": "898ea0fc-7a72-4edf-96c5-fa9ef6deb041",
   "metadata": {
    "tags": []
   },
   "outputs": [
    {
     "data": {
      "text/plain": [
       "True"
      ]
     },
     "execution_count": 20,
     "metadata": {},
     "output_type": "execute_result"
    }
   ],
   "source": [
    "ql.BondFunctions.startDate(bond)\n",
    "ql.BondFunctions.maturityDate(bond)\n",
    "ql.BondFunctions.isTradable(bond)"
   ]
  },
  {
   "cell_type": "code",
   "execution_count": 21,
   "id": "72937a73-f5bd-4f9c-98d2-ed4e3d3f6ecd",
   "metadata": {
    "tags": []
   },
   "outputs": [
    {
     "data": {
      "text/plain": [
       "5.000000000000004"
      ]
     },
     "execution_count": 21,
     "metadata": {},
     "output_type": "execute_result"
    }
   ],
   "source": [
    "ql.BondFunctions.previousCashFlowDate(bond)\n",
    "ql.BondFunctions.previousCashFlowDate(bond, ql.Date(15,12,2020))\n",
    "ql.BondFunctions.previousCashFlowAmount(bond)\n",
    "ql.BondFunctions.previousCashFlowAmount(bond, ql.Date(15,12,2020))\n",
    "ql.BondFunctions.nextCashFlowDate(bond)\n",
    "ql.BondFunctions.nextCashFlowDate(bond, ql.Date(15,12,2020))\n",
    "ql.BondFunctions.nextCashFlowAmount(bond)\n",
    "ql.BondFunctions.nextCashFlowAmount(bond, ql.Date(15,12,2020))"
   ]
  },
  {
   "cell_type": "code",
   "execution_count": 22,
   "id": "54f38901-6849-444b-8680-be2a3cf4cc9b",
   "metadata": {
    "tags": []
   },
   "outputs": [
    {
     "data": {
      "text/plain": [
       "2.520547945205487"
      ]
     },
     "execution_count": 22,
     "metadata": {},
     "output_type": "execute_result"
    }
   ],
   "source": [
    "ql.BondFunctions.previousCouponRate(bond)\n",
    "ql.BondFunctions.nextCouponRate(bond)\n",
    "ql.BondFunctions.accrualStartDate(bond)\n",
    "ql.BondFunctions.accrualEndDate(bond)\n",
    "ql.BondFunctions.accrualPeriod(bond)\n",
    "ql.BondFunctions.accrualDays(bond)\n",
    "ql.BondFunctions.accruedPeriod(bond)\n",
    "ql.BondFunctions.accruedDays(bond)\n",
    "ql.BondFunctions.accruedAmount(bond)"
   ]
  },
  {
   "cell_type": "code",
   "execution_count": 23,
   "id": "6d33f9c5-9c21-42c6-87b9-728e919e29e5",
   "metadata": {
    "tags": []
   },
   "outputs": [
    {
     "data": {
      "text/plain": [
       "0.05000000000000004"
      ]
     },
     "execution_count": 23,
     "metadata": {},
     "output_type": "execute_result"
    }
   ],
   "source": [
    "crv = ql.FlatForward(2, ql.TARGET(), 0.04, ql.Actual360())\n",
    "ql.BondFunctions.cleanPrice(bond, crv)\n",
    "ql.BondFunctions.bps(bond, crv)\n",
    "ql.BondFunctions.atmRate(bond, crv)"
   ]
  },
  {
   "cell_type": "code",
   "execution_count": 24,
   "id": "62f2a5a9-bca8-4074-8041-500c96ce8142",
   "metadata": {
    "tags": []
   },
   "outputs": [
    {
     "data": {
      "text/plain": [
       "-2.505168140698783e-05"
      ]
     },
     "execution_count": 24,
     "metadata": {},
     "output_type": "execute_result"
    }
   ],
   "source": [
    "rate = ql.InterestRate(0.05, ql.Actual360(), ql.Compounded, ql.Annual)\n",
    "ql.BondFunctions.cleanPrice(bond, rate)\n",
    "ql.BondFunctions.bps(bond, rate)\n",
    "ql.BondFunctions.duration(bond, rate)\n",
    "ql.BondFunctions.convexity(bond, rate)\n",
    "ql.BondFunctions.basisPointValue(bond, rate)\n",
    "ql.BondFunctions.yieldValueBasisPoint(bond, rate)"
   ]
  },
  {
   "cell_type": "code",
   "execution_count": 25,
   "id": "f57edc68-3969-4f76-b116-8aa9f96f0263",
   "metadata": {
    "tags": []
   },
   "outputs": [
    {
     "data": {
      "text/plain": [
       "0.005876795129780158"
      ]
     },
     "execution_count": 25,
     "metadata": {},
     "output_type": "execute_result"
    }
   ],
   "source": [
    "crv = ql.FlatForward(2, ql.TARGET(), 0.04, ql.Actual360())\n",
    "ql.BondFunctions.zSpread(bond, 101, crv, ql.Actual360(), ql.Compounded, ql.Annual)"
   ]
  },
  {
   "cell_type": "code",
   "execution_count": 27,
   "id": "f8cd08f8-8209-45ea-b338-7c9bf87438a6",
   "metadata": {
    "tags": []
   },
   "outputs": [],
   "source": [
    "calendar = ql.TARGET()\n",
    "start = ql.Date(17,6,2019)\n",
    "maturity = calendar.advance(start, ql.Period('5y'))\n",
    "\n",
    "fixedSchedule = ql.MakeSchedule(start, maturity, ql.Period('1Y'))\n",
    "\n",
    "floatSchedule = ql.MakeSchedule(start, maturity, ql.Period('6M'))\n",
    "\n",
    "swap = ql.VanillaSwap(\n",
    "    ql.VanillaSwap.Payer, 100,\n",
    "    fixedSchedule, 0.01, ql.Thirty360(ql.Thirty360.BondBasis),\n",
    "    floatSchedule, ql.Euribor6M(), 0, ql.Actual360()\n",
    ")"
   ]
  },
  {
   "cell_type": "code",
   "execution_count": 28,
   "id": "2b576f4d-38e3-44ce-9e7b-bb53128d5b6b",
   "metadata": {
    "tags": []
   },
   "outputs": [],
   "source": [
    "fixedSchedule = ql.MakeSchedule(start, maturity, ql.Period('1Y'))\n",
    "fixedLeg = ql.FixedRateLeg(fixedSchedule, ql.Actual360(), [100], [0.01])\n",
    "\n",
    "floatSchedule = ql.MakeSchedule(start, maturity, ql.Period('6M'))\n",
    "floatLeg = ql.IborLeg([100], floatSchedule, ql.Euribor6M(), ql.Actual360())\n",
    "\n",
    "swap = ql.Swap(fixedLeg, floatLeg)"
   ]
  },
  {
   "cell_type": "code",
   "execution_count": 29,
   "id": "99b6520e-4f0d-4590-86c6-5cea4eb4fc29",
   "metadata": {
    "tags": []
   },
   "outputs": [],
   "source": [
    "tenor = ql.Period('5y')\n",
    "index = ql.Euribor6M()\n",
    "fixedRate = 0.05\n",
    "forwardStart = ql.Period(\"2D\")\n",
    "\n",
    "swap = ql.MakeVanillaSwap(tenor, index, fixedRate, forwardStart, Nominal=100)\n",
    "swap = ql.MakeVanillaSwap(tenor, index, fixedRate, forwardStart, swapType=ql.VanillaSwap.Payer)"
   ]
  },
  {
   "cell_type": "code",
   "execution_count": 30,
   "id": "e6fb1b99-0cd7-4a1b-ab46-cc68171d45b1",
   "metadata": {
    "tags": []
   },
   "outputs": [],
   "source": [
    "calendar = ql.TARGET()\n",
    "start = ql.Date(17,6,2019)\n",
    "maturity = calendar.advance(start, ql.Period('2y'))\n",
    "\n",
    "\n",
    "fixedSchedule = ql.MakeSchedule(start, maturity, ql.Period('1Y'))\n",
    "fixedLeg = ql.FixedRateLeg(fixedSchedule, ql.Actual360(), [100, 50], [0.01])\n",
    "\n",
    "floatSchedule = ql.MakeSchedule(start, maturity, ql.Period('6M'))\n",
    "floatLeg = ql.IborLeg([100, 100, 50, 50], floatSchedule, ql.Euribor6M(), ql.Actual360())\n",
    "\n",
    "swap = ql.Swap(fixedLeg, floatLeg)"
   ]
  },
  {
   "cell_type": "code",
   "execution_count": 32,
   "id": "ee94710f-7bb1-45ef-83cf-0f6bae80b1e7",
   "metadata": {
    "tags": []
   },
   "outputs": [],
   "source": [
    "#ql.FloatFloatSwap(ql.VanillaSwap.Payer,\n",
    "#                [notional] * (len(float3m)-1),\n",
    "#                [notional] * (len(float6m)-1),\n",
    "#                float3m,\n",
    "#                index3m,\n",
    "#                ql.Actual360(),\n",
    "#                float6m,\n",
    "#                index6m,\n",
    "#                ql.Actual360(), False, False,\n",
    "#                [1] * (len(float3m)-1),\n",
    "#                [spread] * (len(float3m)-1))"
   ]
  },
  {
   "cell_type": "code",
   "execution_count": 34,
   "id": "c2393f90-d0a6-47a6-863a-4249141b385b",
   "metadata": {
    "tags": []
   },
   "outputs": [
    {
     "data": {
      "text/plain": [
       "<QuantLib.QuantLib.AssetSwap; proxy of <Swig Object of type 'ext::shared_ptr< AssetSwap > *' at 0x00000200C5FC0180> >"
      ]
     },
     "execution_count": 34,
     "metadata": {},
     "output_type": "execute_result"
    }
   ],
   "source": [
    "payFixedRate = True\n",
    "bond = ql.FixedRateBond(2, ql.TARGET(), 100.0, ql.Date(15,12,2019), ql.Date(15,12,2024),\n",
    "    ql.Period('1Y'), [0.05], ql.ActualActual(ql.ActualActual.Historical)\n",
    "    )\n",
    "bondCleanPrice = 100\n",
    "index = ql.Euribor6M()\n",
    "spread = 0.0\n",
    "ql.AssetSwap(payFixedRate, bond, bondCleanPrice, index, spread, ql.Schedule(), ql.ActualActual(ql.ActualActual.Historical), True)"
   ]
  },
  {
   "cell_type": "code",
   "execution_count": 35,
   "id": "eaeb2eb6-c5b6-4412-89cb-3e80f47b82c8",
   "metadata": {
    "tags": []
   },
   "outputs": [],
   "source": [
    "swapType = ql.OvernightIndexedSwap.Receiver\n",
    "nominal = 100\n",
    "schedule = ql.MakeSchedule(ql.Date(15,6,2020), ql.Date(15,6,2021), ql.Period('1Y'), calendar=ql.TARGET())\n",
    "fixedRate = 0.01\n",
    "fixedDC = ql.Actual360()\n",
    "overnightIndex = ql.Eonia()\n",
    "ois_swap = ql.OvernightIndexedSwap(swapType, nominal, schedule, fixedRate, fixedDC, overnightIndex)"
   ]
  },
  {
   "cell_type": "code",
   "execution_count": 36,
   "id": "8efaef80-ad44-4f0d-adc3-a1eb5811d56f",
   "metadata": {
    "tags": []
   },
   "outputs": [],
   "source": [
    "swapTenor = ql.Period('1Y')\n",
    "overnightIndex = ql.Eonia()\n",
    "fixedRate = 0.01\n",
    "ois_swap = ql.MakeOIS(swapTenor, overnightIndex, fixedRate)"
   ]
  },
  {
   "cell_type": "code",
   "execution_count": 38,
   "id": "13519e0c-8c3e-4a17-9282-e07f7883fa74",
   "metadata": {
    "tags": []
   },
   "outputs": [],
   "source": [
    "swapType = ql.VanillaSwap.Payer\n",
    "fixedNominal = [100, 100]\n",
    "floatingNominal  = [100] * 4\n",
    "fixedSchedule = ql.MakeSchedule(ql.Date(15,6,2020), ql.Date(15,6,2022), ql.Period('1Y'))\n",
    "fixedRate = [0.02] * 2\n",
    "fixedDayCount = ql.Thirty360(ql.Thirty360.BondBasis)\n",
    "floatingSchedule = ql.MakeSchedule(ql.Date(15,6,2020), ql.Date(15,6,2022), ql.Period('6M'))\n",
    "iborIndex = ql.Euribor6M()\n",
    "gearing = [1.] * 4\n",
    "spread = [0.] * 4\n",
    "floatDayCount = iborIndex.dayCounter()\n",
    "nonstandardSwap = ql.NonstandardSwap(\n",
    "    swapType, fixedNominal, floatingNominal,\n",
    "    fixedSchedule, fixedRate, fixedDayCount,\n",
    "    floatingSchedule, iborIndex, gearing, spread, floatDayCount)"
   ]
  },
  {
   "cell_type": "code",
   "execution_count": 39,
   "id": "78245f0f-c361-4f21-91da-330c9972ffbb",
   "metadata": {
    "tags": []
   },
   "outputs": [],
   "source": [
    "calendar = ql.TARGET()\n",
    "today = ql.Date().todaysDate()\n",
    "exerciseDate = calendar.advance(today, ql.Period('5y'))\n",
    "exercise = ql.EuropeanExercise(exerciseDate)\n",
    "swap = ql.MakeVanillaSwap(ql.Period('5y'), ql.Euribor6M(), 0.05, ql.Period('5y'))\n",
    "swaption = ql.Swaption(swap, exercise)\n",
    "\n",
    "swaption = ql.Swaption(swap, exercise, ql.Settlement.Cash, ql.Settlement.ParYieldCurve)\n",
    "swaption = ql.Swaption(swap, exercise, ql.Settlement.Physical, ql.Settlement.PhysicalCleared)"
   ]
  },
  {
   "cell_type": "code",
   "execution_count": 40,
   "id": "d4ccd617-39f0-46df-98bc-5edc5f57e20d",
   "metadata": {
    "tags": []
   },
   "outputs": [],
   "source": [
    "schedule = ql.MakeSchedule(ql.Date(15,6,2020), ql.Date(16,6,2022), ql.Period('6M'))\n",
    "ibor_leg = ql.IborLeg([100], schedule, ql.Euribor6M())\n",
    "strike = 0.01\n",
    "cap = ql.Cap(ibor_leg, [strike])"
   ]
  },
  {
   "cell_type": "code",
   "execution_count": 41,
   "id": "c8211aa9-449e-452a-bafb-ca26d1e87731",
   "metadata": {
    "tags": []
   },
   "outputs": [],
   "source": [
    "schedule = ql.MakeSchedule(ql.Date(15,6,2020), ql.Date(16,6,2022), ql.Period('6M'))\n",
    "ibor_leg = ql.IborLeg([100], schedule, ql.Euribor6M())\n",
    "strike = 0.00\n",
    "floor = ql.Floor(ibor_leg, [strike])"
   ]
  },
  {
   "cell_type": "code",
   "execution_count": 42,
   "id": "203c7429-4368-4921-bd2c-5fb2046a099d",
   "metadata": {
    "tags": []
   },
   "outputs": [],
   "source": [
    "schedule = ql.MakeSchedule(ql.Date(15,6,2020), ql.Date(16,6,2022), ql.Period('6M'))\n",
    "ibor_leg = ql.IborLeg([100], schedule, ql.Euribor6M())\n",
    "capStrike = 0.02\n",
    "floorStrike = 0.00\n",
    "collar = ql.Collar(ibor_leg, [capStrike], [floorStrike])"
   ]
  },
  {
   "cell_type": "markdown",
   "id": "0c348f6a-3628-42d7-9070-fba0dc8a00c8",
   "metadata": {},
   "source": [
    "## Inflation ##"
   ]
  },
  {
   "cell_type": "code",
   "execution_count": 43,
   "id": "ede46f20-2d52-43da-86a2-154088910cbd",
   "metadata": {
    "tags": []
   },
   "outputs": [],
   "source": [
    "calendar = ql.UnitedKingdom()\n",
    "\n",
    "today = ql.Date(5,3,2008)\n",
    "evaluationDate = calendar.adjust(today)\n",
    "issue_date = calendar.advance(evaluationDate,-1, ql.Years)\n",
    "maturity_date = ql.Date(2,9,2052)\n",
    "\n",
    "settlementDays = 3\n",
    "notional = 1000000\n",
    "growthOnly = False\n",
    "baseCPI = 206.1\n",
    "contractObservationLag = ql.Period(3, ql.Months)\n",
    "inflationIndex = ql.UKRPI(False)\n",
    "observationInterpolation = ql.CPI.Flat\n",
    "fixedSchedule = ql.MakeSchedule(issue_date, maturity_date, ql.Period(ql.Semiannual))\n",
    "fixedRates = [0.1]\n",
    "fixedDayCounter = ql.Actual365Fixed()\n",
    "fixedPaymentConvention = ql.ModifiedFollowing\n",
    "\n",
    "bond = ql.CPIBond(settlementDays,\n",
    "                    notional,\n",
    "                    growthOnly,\n",
    "                    baseCPI,\n",
    "                    contractObservationLag,\n",
    "                    inflationIndex,\n",
    "                    observationInterpolation,\n",
    "                    fixedSchedule,\n",
    "                    fixedRates,\n",
    "                    fixedDayCounter,\n",
    "                    fixedPaymentConvention)"
   ]
  },
  {
   "cell_type": "code",
   "execution_count": 44,
   "id": "c6cd2efc-a2d0-4e7e-8a47-61e2c723dc00",
   "metadata": {
    "tags": []
   },
   "outputs": [],
   "source": [
    "swapType = ql.CPISwap.Payer\n",
    "nominal = 1e6\n",
    "subtractInflationNominal = True\n",
    "spread = 0.0\n",
    "floatDayCount = ql.Actual365Fixed()\n",
    "floatPaymentConvention = ql.ModifiedFollowing\n",
    "fixingDays = 0;\n",
    "floatIndex = ql.GBPLibor(ql.Period('6M'))\n",
    "fixedRate = 0.1;\n",
    "baseCPI = 206.1;\n",
    "fixedDayCount = ql.Actual365Fixed()\n",
    "fixedPaymentConvention = ql.ModifiedFollowing;\n",
    "fixedIndex = ql.UKRPI(False);\n",
    "contractObservationLag = ql.Period('3M')\n",
    "observationInterpolation = ql.CPI.Linear\n",
    "startDate = ql.Date(2,10,2007)\n",
    "endDate = ql.Date(2,10,2052)\n",
    "schedule = ql.MakeSchedule(startDate, endDate, ql.Period('6m'))\n",
    "zisV = ql.CPISwap(\n",
    "    swapType, nominal, subtractInflationNominal, spread,\n",
    "    floatDayCount, schedule, floatPaymentConvention, fixingDays, floatIndex,\n",
    "    fixedRate, baseCPI, fixedDayCount, schedule, fixedPaymentConvention,\n",
    "    contractObservationLag, fixedIndex, observationInterpolation)"
   ]
  },
  {
   "cell_type": "code",
   "execution_count": 47,
   "id": "7ea915db-d0be-4905-b640-f08d27157722",
   "metadata": {
    "tags": []
   },
   "outputs": [],
   "source": [
    "swapType = ql.ZeroCouponInflationSwap.Payer\n",
    "calendar = ql.TARGET()\n",
    "nominal = 1e6\n",
    "startDate = ql.Date(11,1,2022)\n",
    "endDate = ql.Date(11,1,2023)\n",
    "fixedRate = 0.1;\n",
    "dc = ql.Actual365Fixed()\n",
    "inflationIndex = ql.EUHICPXT(True)\n",
    "contractObservationLag = ql.Period(3, ql.Months)\n",
    "bdc = ql.ModifiedFollowing\n",
    "#swap = ql.ZeroCouponInflationSwap(swapType, nominal, startDate, endDate, calendar, bdc, dc, fixedRate, inflationIndex, contractObservationLag)"
   ]
  },
  {
   "cell_type": "code",
   "execution_count": 48,
   "id": "f0ad5ea0-7ae9-45d8-bb0f-a5e44c4f5030",
   "metadata": {
    "tags": []
   },
   "outputs": [],
   "source": [
    "swapType = ql.YearOnYearInflationSwap.Payer\n",
    "nominal = 1e6\n",
    "startDate = ql.Date(2,10,2007)\n",
    "endDate = ql.Date(2,10,2052)\n",
    "\n",
    "fixedSchedule = ql.MakeSchedule(startDate, endDate, ql.Period('6m'))\n",
    "fixedRate = 0.1;\n",
    "fixedDayCounter = ql.Actual365Fixed()\n",
    "yoySchedule = ql.MakeSchedule(startDate, endDate, ql.Period('6m'))\n",
    "index = ql.YYEUHICP(False)\n",
    "lag = ql.Period('3m')\n",
    "spread = 0.0\n",
    "yoyDayCounter = ql.Actual365Fixed()\n",
    "paymentCalendar = ql.TARGET()\n",
    "\n",
    "swap = ql.YearOnYearInflationSwap(swapType, nominal, fixedSchedule, fixedRate, fixedDayCounter, yoySchedule, index, lag, spread, yoyDayCounter, paymentCalendar)"
   ]
  },
  {
   "cell_type": "markdown",
   "id": "c37bc8e3-c2e9-46c3-9f04-73c6ede5ff86",
   "metadata": {},
   "source": [
    "## Credit ##"
   ]
  },
  {
   "cell_type": "code",
   "execution_count": 49,
   "id": "144dcfba-be81-4141-a981-1b85cc89f4b7",
   "metadata": {
    "tags": []
   },
   "outputs": [],
   "source": [
    "side = ql.Protection.Seller\n",
    "nominal = 10e6\n",
    "spread = 34.6 / 10000\n",
    "cdsSchedule = ql.MakeSchedule(ql.Date(20, 12, 2019), ql.Date(20, 12, 2024), ql.Period('3M'),\n",
    "                            ql.Quarterly, ql.TARGET(), ql.Following, ql.Unadjusted, ql.DateGeneration.TwentiethIMM)\n",
    "\n",
    "cds = ql.CreditDefaultSwap(side, nominal, spread, cdsSchedule, ql.Following, ql.Actual360())"
   ]
  },
  {
   "cell_type": "code",
   "execution_count": 50,
   "id": "04c5e598-b5f4-4222-8744-303a2f0cf9e5",
   "metadata": {
    "tags": []
   },
   "outputs": [
    {
     "data": {
      "text/plain": [
       "<QuantLib.QuantLib.CdsOption; proxy of <Swig Object of type 'ext::shared_ptr< CdsOption > *' at 0x00000200C69C53B0> >"
      ]
     },
     "execution_count": 50,
     "metadata": {},
     "output_type": "execute_result"
    }
   ],
   "source": [
    "expiry = ql.Date(15,6,2020)\n",
    "exercise = ql.EuropeanExercise(expiry)\n",
    "ql.CdsOption(cds, exercise, True)"
   ]
  },
  {
   "cell_type": "markdown",
   "id": "af84279f-9cfc-43fc-81cc-73832faec10f",
   "metadata": {},
   "source": [
    "## Options ##"
   ]
  },
  {
   "cell_type": "code",
   "execution_count": 52,
   "id": "2a88be59-6e86-44a3-86bb-a2234052fd14",
   "metadata": {
    "tags": []
   },
   "outputs": [],
   "source": [
    "strike = 100.0\n",
    "maturity = ql.Date(15,6,2025)\n",
    "option_type = ql.Option.Call\n",
    "\n",
    "payoff = ql.PlainVanillaPayoff(option_type, strike)\n",
    "binaryPayoff = ql.CashOrNothingPayoff(option_type, strike, 1)\n",
    "\n",
    "europeanExercise = ql.EuropeanExercise(maturity)\n",
    "europeanOption = ql.VanillaOption(payoff, europeanExercise)\n",
    "\n",
    "americanExercise = ql.AmericanExercise(ql.Date().todaysDate(), maturity)\n",
    "americanOption = ql.VanillaOption(payoff, americanExercise)\n",
    "\n",
    "bermudanExercise = ql.BermudanExercise([ql.Date(15,6,2024), ql.Date(15,6,2025)])\n",
    "bermudanOption = ql.VanillaOption(payoff, bermudanExercise)\n",
    "\n",
    "binaryOption = ql.VanillaOption(binaryPayoff, europeanExercise)"
   ]
  },
  {
   "cell_type": "code",
   "execution_count": 53,
   "id": "01d45044-e189-4ae5-8f41-34a419288cd0",
   "metadata": {
    "tags": []
   },
   "outputs": [],
   "source": [
    "today = ql.Date().todaysDate()\n",
    "periods = [ql.Period(\"6M\"), ql.Period(\"12M\"), ql.Period(\"18M\"), ql.Period(\"24M\")]\n",
    "\n",
    "pastFixings = 0 # Empty because this is a new contract\n",
    "asianFutureFixingDates = [today + period for period in periods]\n",
    "asianExpiryDate = today + periods[-1]\n",
    "\n",
    "strike = 100\n",
    "vanillaPayoff = ql.PlainVanillaPayoff(ql.Option.Call, strike)\n",
    "europeanExercise = ql.EuropeanExercise(asianExpiryDate)\n",
    "\n",
    "arithmeticAverage = ql.Average().Arithmetic\n",
    "arithmeticRunningAccumulator = 0.0\n",
    "discreteArithmeticAsianOption = ql.DiscreteAveragingAsianOption(arithmeticAverage, arithmeticRunningAccumulator, pastFixings, asianFutureFixingDates, vanillaPayoff, europeanExercise)\n",
    "\n",
    "geometricAverage = ql.Average().Geometric\n",
    "geometricRunningAccumulator = 1.0\n",
    "discreteGeometricAsianOption = ql.DiscreteAveragingAsianOption(geometricAverage, geometricRunningAccumulator, pastFixings, asianFutureFixingDates, vanillaPayoff, europeanExercise)\n",
    "\n",
    "continuousGeometricAsianOption = ql.ContinuousAveragingAsianOption(geometricAverage, vanillaPayoff, europeanExercise)"
   ]
  },
  {
   "cell_type": "code",
   "execution_count": 54,
   "id": "90b99995-7855-4810-868e-8b8010e3bf2f",
   "metadata": {
    "tags": []
   },
   "outputs": [],
   "source": [
    "T = 1\n",
    "K = 100.\n",
    "barrier = 110.\n",
    "rebate = 0.\n",
    "barrierType = ql.Barrier.UpOut\n",
    "\n",
    "today = ql.Date().todaysDate()\n",
    "maturity = today + ql.Period(int(T*365), ql.Days)\n",
    "\n",
    "payoff = ql.PlainVanillaPayoff(ql.Option.Call, K)\n",
    "amExercise = ql.AmericanExercise(today, maturity, True)\n",
    "euExercise = ql.EuropeanExercise(maturity)\n",
    "\n",
    "barrierOption = ql.BarrierOption(barrierType, barrier, rebate, payoff, euExercise)"
   ]
  },
  {
   "cell_type": "code",
   "execution_count": 55,
   "id": "c8691b9c-d419-432c-9eb9-e41e1e9228b0",
   "metadata": {
    "tags": []
   },
   "outputs": [],
   "source": [
    "T = 1\n",
    "K = 100.\n",
    "barrier_lo, barrier_hi = 90., 110.\n",
    "rebate = 0.\n",
    "barrierType = ql.DoubleBarrier.KnockOut\n",
    "\n",
    "today = ql.Date().todaysDate()\n",
    "maturity = today + ql.Period(int(T*365), ql.Days)\n",
    "\n",
    "payoff = ql.PlainVanillaPayoff(ql.Option.Call, K)\n",
    "euExercise = ql.EuropeanExercise(maturity)\n",
    "\n",
    "doubleBarrierOption = ql.DoubleBarrierOption(barrierType, barrier_lo, barrier_hi, rebate, payoff, euExercise)"
   ]
  },
  {
   "cell_type": "code",
   "execution_count": 56,
   "id": "1fef574a-7ec6-40e5-8c60-1ed7e986dd68",
   "metadata": {
    "tags": []
   },
   "outputs": [],
   "source": [
    "today = ql.Date().todaysDate()\n",
    "exp_date = today + ql.Period(1, ql.Years)\n",
    "strike = 100\n",
    "number_of_underlyings = 5\n",
    "\n",
    "exercise = ql.EuropeanExercise(exp_date)\n",
    "vanillaPayoff = ql.PlainVanillaPayoff(ql.Option.Call, strike)\n",
    "\n",
    "payoffMin = ql.MinBasketPayoff(vanillaPayoff)\n",
    "basketOptionMin = ql.BasketOption(payoffMin, exercise)\n",
    "\n",
    "payoffAverage = ql.AverageBasketPayoff(vanillaPayoff, number_of_underlyings)\n",
    "basketOptionAverage = ql.BasketOption(payoffAverage, exercise)\n",
    "\n",
    "payoffMax = ql.MaxBasketPayoff(vanillaPayoff)\n",
    "basketOptionMax = ql.BasketOption(payoffMax, exercise)"
   ]
  },
  {
   "cell_type": "code",
   "execution_count": 57,
   "id": "d883a35b-1736-41d5-9cf1-b6f8b144f889",
   "metadata": {
    "tags": []
   },
   "outputs": [],
   "source": [
    "today = ql.Date().todaysDate()\n",
    "resetDate = today + ql.Period(1, ql.Years)\n",
    "expiryDate = today + ql.Period(2, ql.Years)\n",
    "moneyness, strike = 1., 100 # nb. strike is required for the payoff, but ignored in pricing\n",
    "\n",
    "exercise = ql.EuropeanExercise(expiryDate)\n",
    "vanillaPayoff = ql.PlainVanillaPayoff(ql.Option.Call, strike)\n",
    "\n",
    "forwardStartOption = ql.ForwardVanillaOption(moneyness, resetDate, vanillaPayoff, exercise)"
   ]
  },
  {
   "cell_type": "code",
   "execution_count": null,
   "id": "528c9945-dc47-47a7-a45d-109a4a8214d6",
   "metadata": {},
   "outputs": [],
   "source": []
  }
 ],
 "metadata": {
  "kernelspec": {
   "display_name": "Python 3 (ipykernel)",
   "language": "python",
   "name": "python3"
  },
  "language_info": {
   "codemirror_mode": {
    "name": "ipython",
    "version": 3
   },
   "file_extension": ".py",
   "mimetype": "text/x-python",
   "name": "python",
   "nbconvert_exporter": "python",
   "pygments_lexer": "ipython3",
   "version": "3.10.8"
  },
  "widgets": {
   "application/vnd.jupyter.widget-state+json": {
    "state": {},
    "version_major": 2,
    "version_minor": 0
   }
  }
 },
 "nbformat": 4,
 "nbformat_minor": 5
}
