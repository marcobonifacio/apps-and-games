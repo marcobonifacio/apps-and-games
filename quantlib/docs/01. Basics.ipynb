{
 "cells": [
  {
   "cell_type": "markdown",
   "id": "42259b42-de91-4100-ba88-43d8ee4db726",
   "metadata": {},
   "source": [
    "# 01. Basics #"
   ]
  },
  {
   "cell_type": "code",
   "execution_count": 1,
   "id": "3b9ae6ea-72fd-4a95-890c-5d68035300f2",
   "metadata": {
    "tags": []
   },
   "outputs": [
    {
     "name": "stdout",
     "output_type": "stream",
     "text": [
      "June 15th, 2020\n",
      "December 15th, 2021\n"
     ]
    }
   ],
   "source": [
    "#import the Quant Lib\n",
    "import QuantLib as ql\n",
    "\n",
    "# Let the today date whenwe want to value a instrument be\n",
    "today = ql.Date(15,6,2020)\n",
    "\n",
    "# we can set evaluationDate in QL as\n",
    "ql.Settings.instance().evaluationDate = today\n",
    "print(ql.Settings.instance().evaluationDate);\n",
    "# prints..June 15th, 2020\n",
    "\n",
    "# or you can do\n",
    "today = ql.Date(15,12,2021);\n",
    "ql.Settings.instance().setEvaluationDate(today)\n",
    "print(ql.Settings.instance().evaluationDate)\n",
    "# prints..December 15th, 2021"
   ]
  },
  {
   "cell_type": "code",
   "execution_count": 3,
   "id": "a7240abe-4c53-459b-9c45-4286c2527e1a",
   "metadata": {
    "tags": []
   },
   "outputs": [
    {
     "name": "stdout",
     "output_type": "stream",
     "text": [
      "Max Date:  December 31st, 2199\n"
     ]
    }
   ],
   "source": [
    "settlementDays = 2\n",
    "\n",
    "# Holiday calendar of united states\n",
    "calendar = ql.UnitedStates(ql.UnitedStates.FederalReserve)\n",
    "\n",
    "forwardRate = 0.05\n",
    "\n",
    "\"\"\"Day Counter provides methods for determining the length of a time period according to given market convention,\n",
    "both as a number of days and as a year fraction.\"\"\"\n",
    "dayCounter = ql.Actual360()\n",
    "\n",
    "# Construct flat forward rate term structure\n",
    "flatForwardTermStructure = ql.FlatForward(settlementDays, calendar, forwardRate, dayCounter)\n",
    "\n",
    "flatForwardTermStructure.referenceDate()\n",
    "\n",
    "print(\"Max Date: \", flatForwardTermStructure.maxDate())"
   ]
  },
  {
   "cell_type": "code",
   "execution_count": 4,
   "id": "9bfcd67e-1b3b-45d9-af4c-a327052d651f",
   "metadata": {
    "tags": []
   },
   "outputs": [],
   "source": [
    "today = ql.Date(15,6,2020)\n",
    "ql.Settings.instance().evaluationDate = today\n",
    "\n",
    "effectiveDate = ql.Date(15, 6, 2020)\n",
    "terminationDate = ql.Date(15, 6, 2022)"
   ]
  },
  {
   "cell_type": "code",
   "execution_count": 5,
   "id": "9c5571c0-7f95-48d5-861c-6e167fd164ef",
   "metadata": {
    "tags": []
   },
   "outputs": [],
   "source": [
    "schedule = ql.MakeSchedule(effectiveDate, terminationDate, ql.Period('6M'))"
   ]
  },
  {
   "cell_type": "code",
   "execution_count": 6,
   "id": "490d7ecd-c1de-4c33-9611-e30dd461db76",
   "metadata": {
    "tags": []
   },
   "outputs": [],
   "source": [
    "notional = [100.0]\n",
    "rate = [0.05]\n",
    "leg = ql.FixedRateLeg(schedule, dayCounter, notional, rate)"
   ]
  },
  {
   "cell_type": "code",
   "execution_count": 9,
   "id": "8debd6c0-fa77-475f-afcf-8548a96d5c02",
   "metadata": {
    "tags": []
   },
   "outputs": [
    {
     "name": "stdout",
     "output_type": "stream",
     "text": [
      "3.000000 % 30/360 (Bond Basis) Annual compounding\n"
     ]
    }
   ],
   "source": [
    "dayCounter = ql.Thirty360(ql.Thirty360.BondBasis)\n",
    "rate = 0.03\n",
    "\n",
    "\"\"\"\n",
    "ql/Compounding.hpp\n",
    "    //! Interest rate compounding rule\n",
    "    enum Compounding { Simple = 0,          //!< \\f$ 1+rt \\f$\n",
    "                       Compounded = 1,      //!< \\f$ (1+r)^t \\f$\n",
    "                       Continuous = 2,      //!< \\f$ e^{rt} \\f$\n",
    "                       SimpleThenCompounded, //!< Simple up to the first period then Compounded\n",
    "                       CompoundedThenSimple //!< Compounded up to the first period then Simple\n",
    "    };\n",
    "\"\"\"\n",
    "\n",
    "compoundingType = ql.Compounded\n",
    "\n",
    "\"\"\"\n",
    "ql/time/frequency.hpp\n",
    "enum Frequency { NoFrequency = -1,     //!< null frequency\n",
    "                     Once = 0,             //!< only once, e.g., a zero-coupon\n",
    "                     Annual = 1,           //!< once a year\n",
    "                     Semiannual = 2,       //!< twice a year\n",
    "                     EveryFourthMonth = 3, //!< every fourth month\n",
    "                     Quarterly = 4,        //!< every third month\n",
    "                     Bimonthly = 6,        //!< every second month\n",
    "                     Monthly = 12,         //!< once a month\n",
    "                     EveryFourthWeek = 13, //!< every fourth week\n",
    "                     Biweekly = 26,        //!< every second week\n",
    "                     Weekly = 52,          //!< once a week\n",
    "                     Daily = 365,          //!< once a day\n",
    "                     OtherFrequency = 999  //!< some other unknown frequency\n",
    "    };\n",
    "\"\"\"\n",
    "\n",
    "frequency = ql.Annual\n",
    "interestRate = ql.InterestRate(rate, dayCounter, compoundingType, frequency)\n",
    "print(interestRate)"
   ]
  },
  {
   "cell_type": "code",
   "execution_count": 11,
   "id": "314181bf-a0d1-472e-952c-df1ef4734d4c",
   "metadata": {
    "tags": []
   },
   "outputs": [
    {
     "name": "stdout",
     "output_type": "stream",
     "text": [
      "7.376479977219242\n"
     ]
    }
   ],
   "source": [
    "ql.Settings.instance().evaluationDate = ql.Date(15,12,2020)\n",
    "print(ql.CashFlows.npv(leg, interestRate, False))"
   ]
  },
  {
   "cell_type": "markdown",
   "id": "e91c0981-dc77-492a-b6d8-6bcc8d4e32e2",
   "metadata": {},
   "source": [
    "## Array ##"
   ]
  },
  {
   "cell_type": "markdown",
   "id": "265ccd9b-7661-49f4-82de-271dbb0cb3f3",
   "metadata": {},
   "source": [
    "## Matrix ##"
   ]
  },
  {
   "cell_type": "code",
   "execution_count": 15,
   "id": "25eac8dc-9edd-4703-8f46-7fe0adb593de",
   "metadata": {
    "tags": []
   },
   "outputs": [
    {
     "name": "stdout",
     "output_type": "stream",
     "text": [
      "\n",
      "| 2.122e-314 9.97338e-312 |\n",
      "| 4.42683e-321 6.95272e-310 |\n",
      "\n",
      "| 0.5 0.5 |\n",
      "| 0.5 0.5 |\n",
      "\n"
     ]
    }
   ],
   "source": [
    "print(ql.Matrix())\n",
    "print(ql.Matrix(2,2))\n",
    "print(ql.Matrix(2,2,0.5))"
   ]
  },
  {
   "cell_type": "code",
   "execution_count": 14,
   "id": "41bafbd5-f3ab-4159-a602-64e730fb98fa",
   "metadata": {
    "tags": []
   },
   "outputs": [
    {
     "name": "stdout",
     "output_type": "stream",
     "text": [
      "| 0.2 8.4 1.5 |\n",
      "| 0.6 1.4 7.3 |\n",
      "| 0.8 4.4 3.2 |\n",
      "\n"
     ]
    }
   ],
   "source": [
    "A = ql.Matrix(3,3)\n",
    "A[0][0]=0.2\n",
    "A[0][1]=8.4\n",
    "A[0][2]=1.5\n",
    "A[1][0]=0.6\n",
    "A[1][1]=1.4\n",
    "A[1][2]=7.3\n",
    "A[2][0]=0.8\n",
    "A[2][1]=4.4\n",
    "A[2][2]=3.2\n",
    "print(A)"
   ]
  },
  {
   "cell_type": "markdown",
   "id": "0ce79163-7352-4345-966d-32c967674daf",
   "metadata": {},
   "source": [
    "## Observable ##"
   ]
  },
  {
   "cell_type": "code",
   "execution_count": 16,
   "id": "09de5e56-fef5-4b48-b8d5-7dd74e287990",
   "metadata": {
    "tags": []
   },
   "outputs": [
    {
     "name": "stdout",
     "output_type": "stream",
     "text": [
      "Case 2: Observer was not notified of market element change\n"
     ]
    }
   ],
   "source": [
    "flag = None\n",
    "def raiseFlag():\n",
    "    global flag\n",
    "    flag = 1\n",
    "\n",
    "me = ql.SimpleQuote(0.0)\n",
    "obs = ql.Observer(raiseFlag)\n",
    "obs.registerWith(me)\n",
    "me.setValue(3.14)\n",
    "if not flag:\n",
    "    print(\"Case 1: Observer was not notified of market element change\")\n",
    "flag = None\n",
    "obs.unregisterWith(me)\n",
    "me.setValue(3.14)\n",
    "if not flag:\n",
    "    print(\"Case 2: Observer was not notified of market element change\")"
   ]
  },
  {
   "cell_type": "markdown",
   "id": "fc617c48-a049-4c73-be0f-8d1e6859ccf9",
   "metadata": {},
   "source": [
    "## Quotes ##"
   ]
  },
  {
   "cell_type": "code",
   "execution_count": 17,
   "id": "b0b0b670-e0ec-4542-8dcf-e74b1abe4d2f",
   "metadata": {
    "tags": []
   },
   "outputs": [],
   "source": [
    "s = ql.SimpleQuote(0.01)"
   ]
  },
  {
   "cell_type": "code",
   "execution_count": 18,
   "id": "c7703662-fcee-46c5-9c49-39233f0d3e29",
   "metadata": {
    "tags": []
   },
   "outputs": [
    {
     "data": {
      "text/plain": [
       "True"
      ]
     },
     "execution_count": 18,
     "metadata": {},
     "output_type": "execute_result"
    }
   ],
   "source": [
    "s.value()\n",
    "s.setValue(0.05)\n",
    "s.isValid()"
   ]
  },
  {
   "cell_type": "code",
   "execution_count": 19,
   "id": "f14a0cac-dbdd-451c-91bf-adeb0497f4f3",
   "metadata": {
    "tags": []
   },
   "outputs": [],
   "source": [
    "d1 = ql.SimpleQuote(0.06)\n",
    "d2 = ql.DerivedQuote(ql.QuoteHandle(d1),lambda x: 10*x)"
   ]
  },
  {
   "cell_type": "code",
   "execution_count": 20,
   "id": "131bd9e0-4cdd-4d3f-9628-79efdcacf6c7",
   "metadata": {
    "tags": []
   },
   "outputs": [
    {
     "data": {
      "text/plain": [
       "0.05"
      ]
     },
     "execution_count": 20,
     "metadata": {},
     "output_type": "execute_result"
    }
   ],
   "source": [
    "c1 = ql.SimpleQuote(0.02)\n",
    "c2 = ql.SimpleQuote(0.03)\n",
    "\n",
    "def f(x,y):\n",
    "    return x+y\n",
    "\n",
    "c3 = ql.CompositeQuote(ql.QuoteHandle(c1),ql.QuoteHandle(c2), f)\n",
    "c3.value()\n",
    "\n",
    "c4 = ql.CompositeQuote(ql.QuoteHandle(c1),ql.QuoteHandle(c2), lambda x,y:x+y)\n",
    "c4.value()"
   ]
  },
  {
   "cell_type": "code",
   "execution_count": 21,
   "id": "0addf5ba-1694-48ee-94fc-1a2a4f9fcdef",
   "metadata": {
    "tags": []
   },
   "outputs": [],
   "source": [
    "deltaType = ql.DeltaVolQuote.Fwd    # Also supports: Spot, PaSpot, PaFwd\n",
    "atmType = ql.DeltaVolQuote.AtmFwd   # Also supports: AtmSpot, AtmDeltaNeutral, AtmVegaMax, AtmGammaMax, AtmPutCall50\n",
    "\n",
    "maturity = 1.0\n",
    "volAtm, vol25DeltaCall, vol25DeltaPut = 0.08, 0.075, 0.095\n",
    "\n",
    "atmDeltaQuote = ql.DeltaVolQuote(ql.QuoteHandle(ql.SimpleQuote(volAtm)), deltaType, maturity, atmType)\n",
    "vol25DeltaPutQuote = ql.DeltaVolQuote(-0.25, ql.QuoteHandle(ql.SimpleQuote(vol25DeltaPut)), maturity, deltaType)\n",
    "vol25DeltaCallQuote = ql.DeltaVolQuote(0.25, ql.QuoteHandle(ql.SimpleQuote(vol25DeltaCall)), maturity, deltaType)"
   ]
  },
  {
   "cell_type": "code",
   "execution_count": null,
   "id": "498389ee-859b-48c3-ba3e-d1e5c0cf1a16",
   "metadata": {},
   "outputs": [],
   "source": []
  }
 ],
 "metadata": {
  "kernelspec": {
   "display_name": "Python 3 (ipykernel)",
   "language": "python",
   "name": "python3"
  },
  "language_info": {
   "codemirror_mode": {
    "name": "ipython",
    "version": 3
   },
   "file_extension": ".py",
   "mimetype": "text/x-python",
   "name": "python",
   "nbconvert_exporter": "python",
   "pygments_lexer": "ipython3",
   "version": "3.10.8"
  },
  "widgets": {
   "application/vnd.jupyter.widget-state+json": {
    "state": {},
    "version_major": 2,
    "version_minor": 0
   }
  }
 },
 "nbformat": 4,
 "nbformat_minor": 5
}
