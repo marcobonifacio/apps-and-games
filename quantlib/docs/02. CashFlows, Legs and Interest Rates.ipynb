{
 "cells": [
  {
   "cell_type": "markdown",
   "id": "9310edc8-d313-4025-9b3c-5f0d4f02c999",
   "metadata": {},
   "source": [
    "# 02. CashFlows, Legs and Interest Rates #"
   ]
  },
  {
   "cell_type": "code",
   "execution_count": 4,
   "id": "0437c697-32f6-45c2-9284-a76261cd1ea6",
   "metadata": {
    "tags": []
   },
   "outputs": [],
   "source": [
    "import QuantLib as ql\n",
    "today = ql.Date(15,6,2020)\n",
    "ql.Settings.instance().evaluationDate = today"
   ]
  },
  {
   "cell_type": "markdown",
   "id": "208d7ac0-6b88-4ee6-bb2f-7aa2d9f178ab",
   "metadata": {},
   "source": [
    "## Interest Rates ##"
   ]
  },
  {
   "cell_type": "code",
   "execution_count": 5,
   "id": "6a8e9444-ff29-4e5d-b868-56416e4ee76b",
   "metadata": {
    "tags": []
   },
   "outputs": [],
   "source": [
    "rate = ql.InterestRate(0.05, ql.Actual360(), ql.Compounded, ql.Annual)"
   ]
  },
  {
   "cell_type": "code",
   "execution_count": 6,
   "id": "35f321e9-f131-4e5a-b62d-61b320a3ecb7",
   "metadata": {
    "tags": []
   },
   "outputs": [
    {
     "name": "stdout",
     "output_type": "stream",
     "text": [
      "Rate:  0.05\n",
      "DayCount:  Actual/360 day counter\n",
      "DiscountFactor:  0.9523809523809523\n",
      "DiscountFactor:  0.9517357984551467\n",
      "CompoundFactor:  1.050711764360651\n",
      "EquivalentRate:  4.939015 % Actual/360 Semiannual compounding\n",
      "ImpliedRate:  4.879016 % Actual/360 continuous compounding\n"
     ]
    }
   ],
   "source": [
    "print(\"Rate: \", rate.rate())\n",
    "print(\"DayCount: \", rate.dayCounter())\n",
    "print(\"DiscountFactor: \", rate.discountFactor(1))\n",
    "print(\"DiscountFactor: \", rate.discountFactor(ql.Date(15,6,2020), ql.Date(15,6,2021)))\n",
    "print(\"CompoundFactor: \", rate.compoundFactor(ql.Date(15,6,2020), ql.Date(15,6,2021)))\n",
    "print(\"EquivalentRate: \", rate.equivalentRate(ql.Actual360(), ql.Compounded, ql.Semiannual, ql.Date(15,6,2020), ql.Date(15,6,2021)))\n",
    "\n",
    "factor = rate.compoundFactor(ql.Date(15,6,2020), ql.Date(15,6,2021))\n",
    "print(\"ImpliedRate: \", rate.impliedRate(factor, ql.Actual360(), ql.Continuous, ql.Annual, ql.Date(15,6,2020), ql.Date(15,6,2021)))"
   ]
  },
  {
   "cell_type": "markdown",
   "id": "9703b1bf-12eb-4a3e-9091-ce6a67e05759",
   "metadata": {},
   "source": [
    "## CashFlows ##"
   ]
  },
  {
   "cell_type": "code",
   "execution_count": 9,
   "id": "ca9d9da9-661d-4425-9b13-611c4a121da5",
   "metadata": {
    "tags": []
   },
   "outputs": [],
   "source": [
    "amount = 105\n",
    "date = ql.Date(15,6,2020)\n",
    "cf = ql.SimpleCashFlow(amount, date)"
   ]
  },
  {
   "cell_type": "code",
   "execution_count": 10,
   "id": "87ab6f97-84c3-4018-980d-f376553d2476",
   "metadata": {
    "tags": []
   },
   "outputs": [],
   "source": [
    "amount = 100\n",
    "date = ql.Date(15,6,2020)\n",
    "redemption = ql.Redemption(amount, date)"
   ]
  },
  {
   "cell_type": "code",
   "execution_count": 11,
   "id": "c81455a6-e9ad-4831-8bb3-93f054f9ee16",
   "metadata": {
    "tags": []
   },
   "outputs": [
    {
     "data": {
      "text/plain": [
       "<QuantLib.QuantLib.AmortizingPayment; proxy of <Swig Object of type 'ext::shared_ptr< AmortizingPayment > *' at 0x000001B7474485D0> >"
      ]
     },
     "execution_count": 11,
     "metadata": {},
     "output_type": "execute_result"
    }
   ],
   "source": [
    "amount = 100\n",
    "date = ql.Date(15,6,2020)\n",
    "ql.AmortizingPayment(amount, date)"
   ]
  },
  {
   "cell_type": "markdown",
   "id": "f0f0fee0-a051-41d3-8d32-1a1f285ee900",
   "metadata": {},
   "source": [
    "## Coupons ##"
   ]
  },
  {
   "cell_type": "code",
   "execution_count": 13,
   "id": "0135b16c-26ef-4060-9492-62fc4c4a30bc",
   "metadata": {
    "tags": []
   },
   "outputs": [],
   "source": [
    "amount = 105\n",
    "nominal = 100.\n",
    "endDate = ql.Date(15,6,2020)\n",
    "startDate = ql.Date(15,12,2019)\n",
    "rate = .05\n",
    "dayCounter = ql.Actual360()\n",
    "coupon = ql.FixedRateCoupon(endDate, nominal, rate, dayCounter, startDate, endDate)"
   ]
  },
  {
   "cell_type": "code",
   "execution_count": 14,
   "id": "7453d2a4-477e-458b-8415-0451c103cf3a",
   "metadata": {
    "tags": []
   },
   "outputs": [],
   "source": [
    "nominal = 100.\n",
    "startDate = ql.Date(15,12,2020)\n",
    "endDate = ql.Date(15,6,2021)\n",
    "rate = .05\n",
    "dayCounter = ql.Actual360()\n",
    "index = ql.Euribor6M()\n",
    "coupon = ql.IborCoupon(endDate, nominal, startDate, endDate, 2, index)"
   ]
  },
  {
   "cell_type": "code",
   "execution_count": 15,
   "id": "cfdcb719-8547-4a1b-a03d-b1f2b0f93206",
   "metadata": {
    "tags": []
   },
   "outputs": [
    {
     "data": {
      "text/plain": [
       "<QuantLib.QuantLib.OvernightIndexedCoupon; proxy of <Swig Object of type 'ext::shared_ptr< OvernightIndexedCoupon > *' at 0x000001B748E88300> >"
      ]
     },
     "execution_count": 15,
     "metadata": {},
     "output_type": "execute_result"
    }
   ],
   "source": [
    "paymentDate = ql.Date(15, 9, 2020)\n",
    "nominal = 100\n",
    "startDate = ql.Date(15, 6, 2002)\n",
    "endDate = ql.Date(15,9,2020)\n",
    "overnightIndex = ql.Eonia()\n",
    "ql.OvernightIndexedCoupon(paymentDate, nominal, startDate, endDate, overnightIndex)"
   ]
  },
  {
   "cell_type": "code",
   "execution_count": 16,
   "id": "16b4445c-66f3-4de4-95c7-231b8caa97b4",
   "metadata": {
    "tags": []
   },
   "outputs": [],
   "source": [
    "nominal = 100.\n",
    "startDate = ql.Date(15,12,2020)\n",
    "endDate = ql.Date(15,6,2021)\n",
    "rate = .05\n",
    "dayCounter = ql.Actual360()\n",
    "index = ql.Euribor6M()\n",
    "fixingDays = 2\n",
    "swapIndex = ql.EuriborSwapIsdaFixA(ql.Period(\"2Y\"))\n",
    "cms = ql.CmsCoupon(endDate, nominal, startDate, endDate, fixingDays, swapIndex)"
   ]
  },
  {
   "cell_type": "code",
   "execution_count": 17,
   "id": "7d6d706b-1eb7-4f53-9fb5-bb2e32dd7e04",
   "metadata": {
    "tags": []
   },
   "outputs": [
    {
     "data": {
      "text/plain": [
       "<QuantLib.QuantLib.CmsSpreadCoupon; proxy of <Swig Object of type 'ext::shared_ptr< CmsSpreadCoupon > *' at 0x000001B748E88330> >"
      ]
     },
     "execution_count": 17,
     "metadata": {},
     "output_type": "execute_result"
    }
   ],
   "source": [
    "nominal = 100.\n",
    "startDate = ql.Date(15,12,2020)\n",
    "endDate = ql.Date(15,6,2021)\n",
    "fixingDays = 2\n",
    "swapIndex1 = ql.EuriborSwapIsdaFixA(ql.Period(\"10Y\"))\n",
    "swapIndex2 = ql.EuriborSwapIsdaFixA(ql.Period(\"2Y\"))\n",
    "spreadIndex = ql.SwapSpreadIndex(\"CMS 10Y-2Y\", swapIndex1, swapIndex2)\n",
    "ql.CmsSpreadCoupon(endDate, nominal, startDate, endDate, fixingDays, spreadIndex)"
   ]
  },
  {
   "cell_type": "code",
   "execution_count": 18,
   "id": "a6fffe95-b396-44d8-baf3-56dd74fbe5f2",
   "metadata": {
    "tags": []
   },
   "outputs": [
    {
     "data": {
      "text/plain": [
       "<QuantLib.QuantLib.CappedFlooredCmsSpreadCoupon; proxy of <Swig Object of type 'ext::shared_ptr< CappedFlooredCmsSpreadCoupon > *' at 0x000001B748FAFCC0> >"
      ]
     },
     "execution_count": 18,
     "metadata": {},
     "output_type": "execute_result"
    }
   ],
   "source": [
    "nominal = 100.\n",
    "startDate = ql.Date(15,12,2020)\n",
    "endDate = ql.Date(15,6,2021)\n",
    "fixingDays = 2\n",
    "swapIndex1 = ql.EuriborSwapIsdaFixA(ql.Period(\"10Y\"))\n",
    "swapIndex2 = ql.EuriborSwapIsdaFixA(ql.Period(\"2Y\"))\n",
    "spreadIndex = ql.SwapSpreadIndex(\"CMS 10Y-2Y\", swapIndex1, swapIndex2)\n",
    "ql.CappedFlooredCmsSpreadCoupon(endDate, nominal, startDate, endDate, fixingDays, spreadIndex)\n",
    "\n",
    "gearing = 1\n",
    "spread = 0\n",
    "cap=0\n",
    "floor=0\n",
    "\n",
    "ql.CappedFlooredCmsSpreadCoupon(endDate, nominal, startDate, endDate, fixingDays, spreadIndex, gearing, spread, cap, floor)\n",
    "\n",
    "refPeriodStart = ql.Date()\n",
    "refPeriodEnd = ql.Date()\n",
    "dayCounter = ql.Actual360()\n",
    "isInArrears = False\n",
    "exCouponDate = ql.Date()\n",
    "ql.CappedFlooredCmsSpreadCoupon(endDate, nominal, startDate, endDate, fixingDays, spreadIndex, gearing, spread, cap, floor, refPeriodStart, refPeriodEnd, dayCounter, isInArrears, exCouponDate)"
   ]
  },
  {
   "cell_type": "markdown",
   "id": "a0c0e731-29be-433d-a980-2fea229e78f4",
   "metadata": {},
   "source": [
    "## Legs ##"
   ]
  },
  {
   "cell_type": "code",
   "execution_count": 19,
   "id": "ca69b9e8-1932-4882-841f-8e63e5b2b58f",
   "metadata": {
    "tags": []
   },
   "outputs": [],
   "source": [
    "date = ql.Date().todaysDate()\n",
    "cf1 = ql.SimpleCashFlow(5.0, date+365)\n",
    "cf2 = ql.SimpleCashFlow(5.0, date+365*2)\n",
    "cf3 = ql.SimpleCashFlow(105.0, date+365*3)\n",
    "leg = ql.Leg([cf1, cf2, cf3])"
   ]
  },
  {
   "cell_type": "code",
   "execution_count": 20,
   "id": "af07675c-69df-47a6-a780-d194116ff83e",
   "metadata": {
    "tags": []
   },
   "outputs": [],
   "source": [
    "schedule = ql.MakeSchedule(ql.Date(15,6,2020), ql.Date(15,6,2021), ql.Period('6M'))\n",
    "dayCount = ql.Actual360()\n",
    "leg = ql.FixedRateLeg(schedule, dayCount, [100.], [0.05])\n",
    "leg = ql.FixedRateLeg(schedule, ql.Actual360(), [100.], [0.05], ql.Following, ql.Actual360(), ql.Period('3M'), ql.TARGET())"
   ]
  },
  {
   "cell_type": "code",
   "execution_count": 21,
   "id": "1d439789-6d41-4ab4-bc25-8bc714ac8163",
   "metadata": {
    "tags": []
   },
   "outputs": [],
   "source": [
    "schedule = ql.MakeSchedule(ql.Date(15,6,2020), ql.Date(15,6,2021), ql.Period('6M'))\n",
    "index = ql.Euribor3M()\n",
    "leg = ql.IborLeg([100], schedule, index)"
   ]
  },
  {
   "cell_type": "code",
   "execution_count": 22,
   "id": "4345a6ae-be38-4168-aaa0-cb6f8ac4baa5",
   "metadata": {
    "tags": []
   },
   "outputs": [],
   "source": [
    "leg = ql.IborLeg([100], schedule, index, ql.Actual360())\n",
    "leg = ql.IborLeg([100], schedule, index, ql.Actual360(), ql.ModifiedFollowing)\n",
    "leg = ql.IborLeg([100], schedule, index, ql.Actual360(), ql.ModifiedFollowing, [2])\n",
    "leg = ql.IborLeg([100], schedule, index, ql.Actual360(), ql.ModifiedFollowing, fixingDays=[2], gearings=[1])\n",
    "\n",
    "leg = ql.IborLeg([100], schedule, index, ql.Actual360(), ql.ModifiedFollowing, fixingDays=[2], gearings=[1], spreads=[0])\n",
    "leg = ql.IborLeg([100], schedule, index, ql.Actual360(), ql.ModifiedFollowing, fixingDays=[2], gearings=[1], spreads=[0], caps=[0])\n",
    "leg = ql.IborLeg([100], schedule, index, ql.Actual360(), ql.ModifiedFollowing, fixingDays=[2], gearings=[1], spreads=[0], floors=[0])"
   ]
  },
  {
   "cell_type": "code",
   "execution_count": 23,
   "id": "e87423e9-3d93-4258-b553-f2bc188fa75d",
   "metadata": {
    "tags": []
   },
   "outputs": [
    {
     "data": {
      "text/plain": [
       "(<QuantLib.QuantLib.CashFlow; proxy of <Swig Object of type 'ext::shared_ptr< CashFlow > *' at 0x000001B748E82130> >,\n",
       " <QuantLib.QuantLib.CashFlow; proxy of <Swig Object of type 'ext::shared_ptr< CashFlow > *' at 0x000001B748E81320> >,\n",
       " <QuantLib.QuantLib.CashFlow; proxy of <Swig Object of type 'ext::shared_ptr< CashFlow > *' at 0x000001B748E83870> >,\n",
       " <QuantLib.QuantLib.CashFlow; proxy of <Swig Object of type 'ext::shared_ptr< CashFlow > *' at 0x000001B748E88450> >)"
      ]
     },
     "execution_count": 23,
     "metadata": {},
     "output_type": "execute_result"
    }
   ],
   "source": [
    "nominal = 100\n",
    "schedule = ql.MakeSchedule(ql.Date(15,6,2020), ql.Date(15,6,2021), ql.Period('3M'))\n",
    "overnightIndex = ql.OvernightIndex('CNYRepo7D', 1, ql.CNYCurrency(), ql.China(), ql.Actual365Fixed())\n",
    "ql.OvernightLeg([nominal], schedule, overnightIndex, ql.Actual360(), ql.Following, [1],[0], True)"
   ]
  },
  {
   "cell_type": "markdown",
   "id": "754d0e8a-0a27-4157-9861-063e6eeffc01",
   "metadata": {},
   "source": [
    "## Pricers ##"
   ]
  },
  {
   "cell_type": "code",
   "execution_count": 24,
   "id": "c53031ee-cd16-474c-87f2-9b0749d34d6a",
   "metadata": {
    "tags": []
   },
   "outputs": [],
   "source": [
    "volatility = 0.10;\n",
    "vol = ql.ConstantOptionletVolatility(2, ql.TARGET(), ql.Following, volatility, ql.Actual360())\n",
    "pricer = ql.BlackIborCouponPricer(ql.OptionletVolatilityStructureHandle(vol))"
   ]
  },
  {
   "cell_type": "code",
   "execution_count": 25,
   "id": "ffcd653c-270f-4b82-a272-b7175669c45f",
   "metadata": {
    "tags": []
   },
   "outputs": [
    {
     "name": "stdout",
     "output_type": "stream",
     "text": [
      "LEG NPV: -2.07\n"
     ]
    }
   ],
   "source": [
    "crv = ql.FlatForward(0, ql.TARGET(), -0.01, ql.Actual360())\n",
    "yts = ql.YieldTermStructureHandle(crv)\n",
    "index = ql.Euribor3M(yts)\n",
    "\n",
    "schedule = ql.MakeSchedule(ql.Date(15,6,2021), ql.Date(15,6,2023), ql.Period('6M'))\n",
    "\n",
    "leg = ql.IborLeg([100], schedule, index, ql.Actual360(), ql.ModifiedFollowing, isInArrears=True)\n",
    "\n",
    "volatility = 0.10;\n",
    "vol = ql.ConstantOptionletVolatility(2, ql.TARGET(), ql.Following, volatility, ql.Actual360())\n",
    "pricer = ql.BlackIborCouponPricer(ql.OptionletVolatilityStructureHandle(vol))\n",
    "ql.setCouponPricer(leg, pricer)\n",
    "\n",
    "npv = ql.CashFlows.npv(leg, yts, True)\n",
    "print(f\"LEG NPV: {npv:,.2f}\")"
   ]
  },
  {
   "cell_type": "code",
   "execution_count": 26,
   "id": "8cb14b32-d943-4772-972c-655d8ffcb0e3",
   "metadata": {
    "tags": []
   },
   "outputs": [],
   "source": [
    "volQuote = ql.QuoteHandle(ql.SimpleQuote(0.2))\n",
    "swaptionVol = ql.ConstantSwaptionVolatility(0, ql.TARGET(), ql.ModifiedFollowing, volQuote, ql.Actual365Fixed())\n",
    "swvol_handle = ql.SwaptionVolatilityStructureHandle(swaptionVol)\n",
    "\n",
    "mean_reversion = ql.QuoteHandle(ql.SimpleQuote(0.01))\n",
    "cms_pricer = ql.LinearTsrPricer(swvol_handle, mean_reversion)"
   ]
  },
  {
   "cell_type": "markdown",
   "id": "32e2667c-d64e-47e3-b952-9a4a540842f4",
   "metadata": {},
   "source": [
    "## Cashflow Analysis Functions ##"
   ]
  },
  {
   "cell_type": "code",
   "execution_count": 27,
   "id": "a224eb92-d3ed-4d71-a5b6-f6633ca5467f",
   "metadata": {
    "tags": []
   },
   "outputs": [
    {
     "data": {
      "text/plain": [
       "Date()"
      ]
     },
     "execution_count": 27,
     "metadata": {},
     "output_type": "execute_result"
    }
   ],
   "source": [
    "ql.CashFlows.previousCashFlowDate(leg, True)\n",
    "ql.CashFlows.previousCashFlowDate(leg, True, ql.Date(15,12,2020))"
   ]
  },
  {
   "cell_type": "code",
   "execution_count": 28,
   "id": "4479e309-7eb2-422c-97e8-d44690f9b5e1",
   "metadata": {
    "tags": []
   },
   "outputs": [
    {
     "data": {
      "text/plain": [
       "-1.8869463133760949"
      ]
     },
     "execution_count": 28,
     "metadata": {},
     "output_type": "execute_result"
    }
   ],
   "source": [
    "yts = ql.YieldTermStructureHandle(ql.FlatForward(ql.Date(15,1,2020), 0.04, ql.Actual360()))\n",
    "ql.CashFlows.npv(leg, yts, True)\n",
    "ql.CashFlows.npv(leg, yts, True, ql.Date(15,6,2020))\n",
    "ql.CashFlows.npv(leg, yts, True, ql.Date(15,6,2020), ql.Date(15,12,2020))"
   ]
  },
  {
   "cell_type": "code",
   "execution_count": 29,
   "id": "6c421524-345a-4f54-9550-92b6bc9837bb",
   "metadata": {
    "tags": []
   },
   "outputs": [
    {
     "data": {
      "text/plain": [
       "0.018514092793712147"
      ]
     },
     "execution_count": 29,
     "metadata": {},
     "output_type": "execute_result"
    }
   ],
   "source": [
    "yts = ql.YieldTermStructureHandle(ql.FlatForward(ql.Date(15,1,2020), 0.04, ql.Actual360()))\n",
    "ql.CashFlows.bps(leg, yts, True)"
   ]
  },
  {
   "cell_type": "code",
   "execution_count": 30,
   "id": "87877b92-345c-4bef-92b9-58d46fb02d81",
   "metadata": {
    "tags": []
   },
   "outputs": [
    {
     "data": {
      "text/plain": [
       "-0.009986802318065008"
      ]
     },
     "execution_count": 30,
     "metadata": {},
     "output_type": "execute_result"
    }
   ],
   "source": [
    "crv = ql.FlatForward(ql.Date(15,1,2020), 0.04, ql.Actual360())\n",
    "ql.CashFlows.atmRate(leg, crv, True, ql.Date(15,6,2020))"
   ]
  },
  {
   "cell_type": "code",
   "execution_count": 33,
   "id": "4e2d7769-24db-41cd-bc66-0c525ba22683",
   "metadata": {
    "tags": []
   },
   "outputs": [
    {
     "data": {
      "text/plain": [
       "-1.8951405269529016"
      ]
     },
     "execution_count": 33,
     "metadata": {},
     "output_type": "execute_result"
    }
   ],
   "source": [
    "rate = ql.InterestRate(.03, ql.ActualActual(ql.ActualActual.Historical), ql.Compounded, ql.Annual)\n",
    "ql.CashFlows.npv(leg, rate, True)"
   ]
  },
  {
   "cell_type": "code",
   "execution_count": 34,
   "id": "55e33307-1baf-4eaf-bc2c-477f8909c2ab",
   "metadata": {
    "tags": []
   },
   "outputs": [
    {
     "data": {
      "text/plain": [
       "0.0189764522104128"
      ]
     },
     "execution_count": 34,
     "metadata": {},
     "output_type": "execute_result"
    }
   ],
   "source": [
    "rate = ql.InterestRate(.03, ql.ActualActual(ql.ActualActual.Historical), ql.Compounded, ql.Annual)\n",
    "ql.CashFlows.bps(leg, rate, True)"
   ]
  },
  {
   "cell_type": "code",
   "execution_count": 35,
   "id": "688c7072-c270-40d2-85d4-031b9decfb08",
   "metadata": {
    "tags": []
   },
   "outputs": [
    {
     "data": {
      "text/plain": [
       "0.0004120114742128649"
      ]
     },
     "execution_count": 35,
     "metadata": {},
     "output_type": "execute_result"
    }
   ],
   "source": [
    "rate = ql.InterestRate(.03, ql.ActualActual(ql.ActualActual.Historical), ql.Compounded, ql.Annual)\n",
    "ql.CashFlows.basisPointValue(leg, rate, True)"
   ]
  },
  {
   "cell_type": "code",
   "execution_count": 36,
   "id": "65496756-4216-4ef4-85db-4563c2f64ede",
   "metadata": {
    "tags": []
   },
   "outputs": [
    {
     "data": {
      "text/plain": [
       "0.0003910796994989131"
      ]
     },
     "execution_count": 36,
     "metadata": {},
     "output_type": "execute_result"
    }
   ],
   "source": [
    "ql.CashFlows.basisPointValue(leg, 0.05, ql.Actual360(), ql.Compounded, ql.Annual, True)"
   ]
  },
  {
   "cell_type": "code",
   "execution_count": 37,
   "id": "8f7814bb-889d-4c33-bc7a-8004f2df9e23",
   "metadata": {
    "tags": []
   },
   "outputs": [
    {
     "data": {
      "text/plain": [
       "2.1740453760624905"
      ]
     },
     "execution_count": 37,
     "metadata": {},
     "output_type": "execute_result"
    }
   ],
   "source": [
    "rate = ql.InterestRate(.03, ql.ActualActual(ql.ActualActual.Historical), ql.Compounded, ql.Annual)\n",
    "\n",
    "ql.CashFlows.duration(leg, rate, ql.Duration.Simple, False)\n",
    "ql.CashFlows.duration(leg, rate, ql.Duration.Macaulay, False)\n",
    "ql.CashFlows.duration(leg, rate, ql.Duration.Modified, False)"
   ]
  },
  {
   "cell_type": "code",
   "execution_count": 38,
   "id": "b24316e0-eba8-4704-9f83-9cd30261668c",
   "metadata": {
    "tags": []
   },
   "outputs": [
    {
     "data": {
      "text/plain": [
       "2.265586721128828"
      ]
     },
     "execution_count": 38,
     "metadata": {},
     "output_type": "execute_result"
    }
   ],
   "source": [
    "rate = 0.05\n",
    "ql.CashFlows.duration(leg, rate, ql.Actual360(), ql.Compounded, ql.Annual, ql.Duration.Simple, False)"
   ]
  },
  {
   "cell_type": "code",
   "execution_count": 39,
   "id": "8b90dd93-50e5-4a01-9d43-d517c1225419",
   "metadata": {
    "tags": []
   },
   "outputs": [
    {
     "data": {
      "text/plain": [
       "7.131378220183246"
      ]
     },
     "execution_count": 39,
     "metadata": {},
     "output_type": "execute_result"
    }
   ],
   "source": [
    "rate = ql.InterestRate(.03, ql.ActualActual(ql.ActualActual.Historical), ql.Compounded, ql.Annual)\n",
    "ql.CashFlows.convexity(leg, rate, False)"
   ]
  },
  {
   "cell_type": "code",
   "execution_count": 40,
   "id": "ad41d836-dc43-4f4a-8d72-99b8fc3fff27",
   "metadata": {
    "tags": []
   },
   "outputs": [
    {
     "data": {
      "text/plain": [
       "7.001530410527348"
      ]
     },
     "execution_count": 40,
     "metadata": {},
     "output_type": "execute_result"
    }
   ],
   "source": [
    "rate = 0.05\n",
    "ql.CashFlows.convexity(leg, rate, ql.Actual360(), ql.Compounded, ql.Annual, False)"
   ]
  },
  {
   "cell_type": "code",
   "execution_count": 49,
   "id": "4e7363d6-905f-49d5-a95e-1b2f76c46e97",
   "metadata": {
    "tags": []
   },
   "outputs": [
    {
     "data": {
      "text/plain": [
       "-0.38638805189453085"
      ]
     },
     "execution_count": 49,
     "metadata": {},
     "output_type": "execute_result"
    }
   ],
   "source": [
    "ql.CashFlows.yieldRate(leg, -5, ql.Actual360(), ql.Compounded, ql.Annual, True)\n",
    "ql.CashFlows.yieldRate(leg, -5, ql.Actual360(), ql.Compounded, ql.Annual, True, ql.Date(15,6,2020))\n",
    "ql.CashFlows.yieldRate(leg, -5, ql.Actual360(), ql.Compounded, ql.Annual, True, ql.Date(15,6,2020), ql.Date(15,12,2020))\n",
    "ql.CashFlows.yieldRate(leg, -5, ql.Actual360(), ql.Compounded, ql.Annual, True, ql.Date(15,6,2020), ql.Date(15,12,2020), 1e-5)\n",
    "ql.CashFlows.yieldRate(leg, -5, ql.Actual360(), ql.Compounded, ql.Annual, True, ql.Date(15,6,2020), ql.Date(15,12,2020), 1e-5, 100)\n",
    "ql.CashFlows.yieldRate(leg, -5, ql.Actual360(), ql.Compounded, ql.Annual, True, ql.Date(15,6,2020), ql.Date(15,12,2020), 1e-5, 100, 0.04)"
   ]
  },
  {
   "cell_type": "code",
   "execution_count": 53,
   "id": "4b751637-2a6b-445b-9156-8306d4732982",
   "metadata": {
    "tags": []
   },
   "outputs": [
    {
     "data": {
      "text/plain": [
       "-0.38725978011948714"
      ]
     },
     "execution_count": 53,
     "metadata": {},
     "output_type": "execute_result"
    }
   ],
   "source": [
    "crv = ql.FlatForward(ql.Date(15,1,2020), 0.04, ql.Actual360())\n",
    "ql.CashFlows.zSpread(leg, -5.5, crv, ql.Actual360(), ql.Compounded, ql.Annual, True)"
   ]
  },
  {
   "cell_type": "code",
   "execution_count": null,
   "id": "0b80e24d-1357-40e2-b997-f3f0ed481021",
   "metadata": {},
   "outputs": [],
   "source": []
  }
 ],
 "metadata": {
  "kernelspec": {
   "display_name": "Python 3 (ipykernel)",
   "language": "python",
   "name": "python3"
  },
  "language_info": {
   "codemirror_mode": {
    "name": "ipython",
    "version": 3
   },
   "file_extension": ".py",
   "mimetype": "text/x-python",
   "name": "python",
   "nbconvert_exporter": "python",
   "pygments_lexer": "ipython3",
   "version": "3.10.8"
  },
  "widgets": {
   "application/vnd.jupyter.widget-state+json": {
    "state": {},
    "version_major": 2,
    "version_minor": 0
   }
  }
 },
 "nbformat": 4,
 "nbformat_minor": 5
}
