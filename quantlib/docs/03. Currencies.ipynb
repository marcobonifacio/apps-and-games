{
 "cells": [
  {
   "cell_type": "markdown",
   "id": "c179273b-8978-42cb-a50e-cfb915a65819",
   "metadata": {},
   "source": [
    "# 03. Currencies #"
   ]
  },
  {
   "cell_type": "code",
   "execution_count": 1,
   "id": "95376e6a-9dfd-4f53-85a2-10660cca37c4",
   "metadata": {
    "tags": []
   },
   "outputs": [],
   "source": [
    "import QuantLib as ql\n",
    "today = ql.Date(15,6,2020)\n",
    "ql.Settings.instance().evaluationDate = today"
   ]
  },
  {
   "cell_type": "markdown",
   "id": "fd5f1b42-3413-4ef0-af84-9b5d1a79ca5d",
   "metadata": {},
   "source": [
    "## Currency ##"
   ]
  },
  {
   "cell_type": "markdown",
   "id": "8835e7c3-2636-47a4-b663-f409e2b13ae9",
   "metadata": {},
   "source": [
    "## Money ##"
   ]
  },
  {
   "cell_type": "code",
   "execution_count": 2,
   "id": "d736d372-b242-4d65-925f-6362452cf98a",
   "metadata": {
    "tags": []
   },
   "outputs": [],
   "source": [
    "cur = ql.EURCurrency()\n",
    "money1 = ql.Money(cur, 100)\n",
    "money2 = ql.Money(100, cur)"
   ]
  },
  {
   "cell_type": "code",
   "execution_count": 3,
   "id": "2410c26c-a595-4b43-82d8-068d336c97f2",
   "metadata": {
    "tags": []
   },
   "outputs": [
    {
     "data": {
      "text/plain": [
       "100.0"
      ]
     },
     "execution_count": 3,
     "metadata": {},
     "output_type": "execute_result"
    }
   ],
   "source": [
    "money3 = 100 * cur\n",
    "money3.value()"
   ]
  },
  {
   "cell_type": "markdown",
   "id": "3d041d1f-ddfd-41b0-a286-f6c16ac2714d",
   "metadata": {},
   "source": [
    "## ExchangeRate ##"
   ]
  },
  {
   "cell_type": "code",
   "execution_count": 4,
   "id": "2b3284fc-52b3-4ca3-8693-3463d8fd971d",
   "metadata": {
    "tags": []
   },
   "outputs": [
    {
     "name": "stdout",
     "output_type": "stream",
     "text": [
      "Converting from USD:  $ 5.00  =  EUR 4.39\n",
      "Converting from EUR:  EUR 4.39  =  $ 5.00\n",
      "European Euro\n",
      "U.S. dollar\n",
      "1.14\n"
     ]
    }
   ],
   "source": [
    "usd = ql.USDCurrency()\n",
    "eur = ql.EURCurrency()\n",
    "usdToeur = ql.ExchangeRate(eur, usd, 1.14)\n",
    "m_usd = 5 * usd\n",
    "m_eur = 4.39 * eur\n",
    "print( 'Converting from USD: ', m_usd, ' = ', usdToeur.exchange(m_usd))\n",
    "print( 'Converting from EUR: ', m_eur, ' = ', usdToeur.exchange(m_eur))\n",
    "\n",
    "print(usdToeur.source())\n",
    "print(usdToeur.target())\n",
    "print(usdToeur.rate())"
   ]
  },
  {
   "cell_type": "markdown",
   "id": "23e9f48c-bbb8-422f-b4f9-1788911848c4",
   "metadata": {},
   "source": [
    "## ExchangeRateManager ##"
   ]
  },
  {
   "cell_type": "code",
   "execution_count": 5,
   "id": "6fbb9586-048b-4a3a-9735-dae2aff1240e",
   "metadata": {
    "tags": []
   },
   "outputs": [
    {
     "data": {
      "text/plain": [
       "<QuantLib.QuantLib.ExchangeRateManager; proxy of <Swig Object of type 'ExchangeRateManager *' at 0x000001C35BDA2D30> >"
      ]
     },
     "execution_count": 5,
     "metadata": {},
     "output_type": "execute_result"
    }
   ],
   "source": [
    "ql.ExchangeRateManager.instance()"
   ]
  },
  {
   "cell_type": "code",
   "execution_count": null,
   "id": "9147b518-786c-4ab7-9721-87ae57d74400",
   "metadata": {},
   "outputs": [],
   "source": []
  }
 ],
 "metadata": {
  "kernelspec": {
   "display_name": "Python 3 (ipykernel)",
   "language": "python",
   "name": "python3"
  },
  "language_info": {
   "codemirror_mode": {
    "name": "ipython",
    "version": 3
   },
   "file_extension": ".py",
   "mimetype": "text/x-python",
   "name": "python",
   "nbconvert_exporter": "python",
   "pygments_lexer": "ipython3",
   "version": "3.10.8"
  },
  "widgets": {
   "application/vnd.jupyter.widget-state+json": {
    "state": {},
    "version_major": 2,
    "version_minor": 0
   }
  }
 },
 "nbformat": 4,
 "nbformat_minor": 5
}
