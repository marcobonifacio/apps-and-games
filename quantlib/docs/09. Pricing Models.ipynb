{
 "cells": [
  {
   "cell_type": "markdown",
   "id": "1bfb7363-cfa8-4068-9e36-0af73689ccbc",
   "metadata": {},
   "source": [
    "# 09. Pricing Models #"
   ]
  },
  {
   "cell_type": "code",
   "execution_count": 1,
   "id": "4c4068b5-66a8-4ee6-b788-2a094011c858",
   "metadata": {
    "tags": []
   },
   "outputs": [],
   "source": [
    "import QuantLib as ql\n",
    "today = ql.Date(15,6,2020)\n",
    "ql.Settings.instance().evaluationDate = today"
   ]
  },
  {
   "cell_type": "markdown",
   "id": "0fd8da4e-1423-4780-8515-ad01b1962955",
   "metadata": {},
   "source": [
    "## Equity ##"
   ]
  },
  {
   "cell_type": "code",
   "execution_count": 2,
   "id": "68674436-14e7-41ef-aeeb-9ebacdffdace",
   "metadata": {
    "tags": []
   },
   "outputs": [],
   "source": [
    "today = ql.Date().todaysDate()\n",
    "riskFreeTS = ql.YieldTermStructureHandle(ql.FlatForward(today, 0.05, ql.Actual365Fixed()))\n",
    "dividendTS = ql.YieldTermStructureHandle(ql.FlatForward(today, 0.01, ql.Actual365Fixed()))\n",
    "\n",
    "initialValue = ql.QuoteHandle(ql.SimpleQuote(100))\n",
    "\n",
    "v0 = 0.005\n",
    "theta = 0.010\n",
    "kappa = 0.600\n",
    "sigma = 0.400\n",
    "rho = -0.15\n",
    "\n",
    "hestonProcess = ql.HestonProcess(riskFreeTS, dividendTS, initialValue, v0, kappa, theta, sigma, rho)\n",
    "hestonModel = ql.HestonModel(hestonProcess)"
   ]
  },
  {
   "cell_type": "code",
   "execution_count": 3,
   "id": "57b99d04-2406-441f-89b5-941556ee8bab",
   "metadata": {
    "tags": []
   },
   "outputs": [],
   "source": [
    "today = ql.Date().todaysDate()\n",
    "riskFreeTS = ql.YieldTermStructureHandle(ql.FlatForward(today, 0.05, ql.Actual365Fixed()))\n",
    "dividendTS = ql.YieldTermStructureHandle(ql.FlatForward(today, 0.01, ql.Actual365Fixed()))\n",
    "\n",
    "initialValue = ql.QuoteHandle(ql.SimpleQuote(100))\n",
    "\n",
    "times = [1.0, 2.0, 3.0]\n",
    "grid = ql.TimeGrid(times)\n",
    "\n",
    "v0 = 0.005\n",
    "theta = [0.010, 0.015, 0.02]\n",
    "kappa = [0.600, 0.500, 0.400]\n",
    "sigma = [0.400, 0.350, 0.300]\n",
    "rho = [-0.15, -0.10, -0.00]\n",
    "\n",
    "kappaTS = ql.PiecewiseConstantParameter(times[:-1], ql.PositiveConstraint())\n",
    "thetaTS = ql.PiecewiseConstantParameter(times[:-1], ql.PositiveConstraint())\n",
    "rhoTS = ql.PiecewiseConstantParameter(times[:-1], ql.BoundaryConstraint(-1.0, 1.0))\n",
    "sigmaTS = ql.PiecewiseConstantParameter(times[:-1], ql.PositiveConstraint())\n",
    "\n",
    "for i, time in enumerate(times):\n",
    "    kappaTS.setParam(i, kappa[i])\n",
    "    thetaTS.setParam(i, theta[i])\n",
    "    rhoTS.setParam(i, rho[i])\n",
    "    sigmaTS.setParam(i, sigma[i])\n",
    "\n",
    "hestonModelPTD = ql.PiecewiseTimeDependentHestonModel(riskFreeTS, dividendTS, initialValue, v0, thetaTS, kappaTS, sigmaTS, rhoTS, grid)"
   ]
  },
  {
   "cell_type": "markdown",
   "id": "596f60c1-5bb3-4fc3-bc41-433f8b78cd94",
   "metadata": {},
   "source": [
    "## Short Rate Models ##"
   ]
  },
  {
   "cell_type": "code",
   "execution_count": null,
   "id": "c6399e43-8d46-4af8-a90f-cfff1494f0be",
   "metadata": {},
   "outputs": [],
   "source": []
  }
 ],
 "metadata": {
  "kernelspec": {
   "display_name": "Python 3 (ipykernel)",
   "language": "python",
   "name": "python3"
  },
  "language_info": {
   "codemirror_mode": {
    "name": "ipython",
    "version": 3
   },
   "file_extension": ".py",
   "mimetype": "text/x-python",
   "name": "python",
   "nbconvert_exporter": "python",
   "pygments_lexer": "ipython3",
   "version": "3.10.8"
  },
  "widgets": {
   "application/vnd.jupyter.widget-state+json": {
    "state": {},
    "version_major": 2,
    "version_minor": 0
   }
  }
 },
 "nbformat": 4,
 "nbformat_minor": 5
}
