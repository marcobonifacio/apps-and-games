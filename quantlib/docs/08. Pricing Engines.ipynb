{
 "cells": [
  {
   "cell_type": "markdown",
   "id": "6658aac1-9c76-4062-a597-c29493bd3a0e",
   "metadata": {},
   "source": [
    "# 08. Pricing Engines #"
   ]
  },
  {
   "cell_type": "code",
   "execution_count": 1,
   "id": "538e7587-169c-46a2-8570-65de10f92a3f",
   "metadata": {
    "tags": []
   },
   "outputs": [],
   "source": [
    "import QuantLib as ql\n",
    "today = ql.Date(15,6,2020)\n",
    "ql.Settings.instance().evaluationDate = today"
   ]
  },
  {
   "cell_type": "markdown",
   "id": "e78a2fc7-64d3-4e42-95d6-190e333cabdd",
   "metadata": {},
   "source": [
    "## Bond Pricing Engines ##"
   ]
  },
  {
   "cell_type": "code",
   "execution_count": 2,
   "id": "b6199ce2-00d7-4378-a3d6-f20ea5a93d51",
   "metadata": {
    "tags": []
   },
   "outputs": [],
   "source": [
    "crv = ql.FlatForward(ql.Date().todaysDate(),0.04875825,ql.Actual365Fixed())\n",
    "yts = ql.YieldTermStructureHandle(crv)\n",
    "engine = ql.DiscountingBondEngine(yts)"
   ]
  },
  {
   "cell_type": "code",
   "execution_count": 3,
   "id": "9d91f4a8-ed47-4aec-8208-80ad1129966a",
   "metadata": {
    "tags": []
   },
   "outputs": [],
   "source": [
    "crv = ql.FlatForward(ql.Date().todaysDate(),0.04875825,ql.Actual365Fixed())\n",
    "yts = ql.YieldTermStructureHandle(crv)\n",
    "vol = ql.QuoteHandle(ql.SimpleQuote(0.55))\n",
    "engine = ql.BlackCallableFixedRateBondEngine(vol, yts)"
   ]
  },
  {
   "cell_type": "code",
   "execution_count": 4,
   "id": "ebbc6105-294b-4c8e-9d47-10fd394d4e28",
   "metadata": {
    "tags": []
   },
   "outputs": [],
   "source": [
    "crv = ql.FlatForward(ql.Date().todaysDate(),0.04875825,ql.Actual365Fixed())\n",
    "yts = ql.YieldTermStructureHandle(crv)\n",
    "model = ql.Vasicek()\n",
    "engine = ql.TreeCallableFixedRateBondEngine(model, 10, yts)"
   ]
  },
  {
   "cell_type": "code",
   "execution_count": 5,
   "id": "a6695c42-8517-402d-879b-d7577a2ca1ae",
   "metadata": {
    "tags": []
   },
   "outputs": [],
   "source": [
    "model = ql.Vasicek()\n",
    "engine = ql.TreeCallableFixedRateBondEngine(model, 10)"
   ]
  },
  {
   "cell_type": "code",
   "execution_count": 6,
   "id": "d90c3cab-db30-4d19-aecb-53875661a699",
   "metadata": {
    "tags": []
   },
   "outputs": [],
   "source": [
    "crv = ql.FlatForward(ql.Date().todaysDate(),0.04875825,ql.Actual365Fixed())\n",
    "yts = ql.YieldTermStructureHandle(crv)\n",
    "model = ql.Vasicek()\n",
    "grid = ql.TimeGrid(5,10)\n",
    "\n",
    "engine = ql.TreeCallableFixedRateBondEngine(model, grid, yts)"
   ]
  },
  {
   "cell_type": "code",
   "execution_count": 7,
   "id": "21e0f718-e54d-4685-bd9f-ca87d3fd7459",
   "metadata": {
    "tags": []
   },
   "outputs": [],
   "source": [
    "crv = ql.FlatForward(ql.Date().todaysDate(),0.04875825,ql.Actual365Fixed())\n",
    "yts = ql.YieldTermStructureHandle(crv)\n",
    "model = ql.Vasicek()\n",
    "grid = ql.TimeGrid(5,10)\n",
    "\n",
    "engine = ql.TreeCallableFixedRateBondEngine(model, grid)"
   ]
  },
  {
   "cell_type": "markdown",
   "id": "23abf633-3816-43f3-bb36-da1e76135ab1",
   "metadata": {},
   "source": [
    "## Cap Pricing Engines ##"
   ]
  },
  {
   "cell_type": "code",
   "execution_count": 9,
   "id": "0ec7818b-a72a-4e9e-a208-febc2e8c0deb",
   "metadata": {
    "tags": []
   },
   "outputs": [],
   "source": [
    "vols = ql.QuoteHandle(ql.SimpleQuote(0.547295))\n",
    "engine = ql.BlackCapFloorEngine(yts, vols)\n",
    "#cap.setPricingEngine(engine)"
   ]
  },
  {
   "cell_type": "code",
   "execution_count": 10,
   "id": "f49bc6a9-4369-488d-9b68-f9e7b3de08c8",
   "metadata": {
    "tags": []
   },
   "outputs": [],
   "source": [
    "vols = ql.QuoteHandle(ql.SimpleQuote(0.00547295))\n",
    "engine = ql.BachelierCapFloorEngine(yts, vols)"
   ]
  },
  {
   "cell_type": "code",
   "execution_count": 12,
   "id": "139dee76-ec28-4549-8f2d-a7d04bf633c5",
   "metadata": {
    "tags": []
   },
   "outputs": [],
   "source": [
    "yts = ql.YieldTermStructureHandle(ql.FlatForward(ql.Date().todaysDate(), 0.0121, ql.Actual360()))\n",
    "models = [\n",
    "    ql.HullWhite (yts),\n",
    "    ql.Vasicek(r0=0.008),\n",
    "]\n",
    "\n",
    "for model in models:\n",
    "    analyticEngine = ql.AnalyticCapFloorEngine(model, yts)\n",
    "    #cap.setPricingEngine(analyticEngine)\n",
    "    #print(f\"Cap npv is: {cap.NPV():,.2f}\")"
   ]
  },
  {
   "cell_type": "code",
   "execution_count": 14,
   "id": "8940faa3-e67b-4346-a2a4-74c9102894d3",
   "metadata": {
    "tags": []
   },
   "outputs": [],
   "source": [
    "models = [\n",
    "    ql.HullWhite (yts),\n",
    "    ql.BlackKarasinski(yts),\n",
    "    ql.Vasicek(0.0065560),\n",
    "    ql.G2(yts)\n",
    "]\n",
    "\n",
    "for model in models:\n",
    "    treeEngine = ql.TreeCapFloorEngine(model, 60, yts)\n",
    "    #cap.setPricingEngine(treeEngine)\n",
    "    #print(f\"Cap npv is: {cap.NPV():,.2f}\")"
   ]
  },
  {
   "cell_type": "markdown",
   "id": "f500c42d-10ab-4d34-b29f-b96a88b36184",
   "metadata": {},
   "source": [
    "## Swap Pricing Engines ##"
   ]
  },
  {
   "cell_type": "code",
   "execution_count": 15,
   "id": "4eebee5b-1258-455a-a910-aa62de0bc6a5",
   "metadata": {
    "tags": []
   },
   "outputs": [],
   "source": [
    "yts = ql.YieldTermStructureHandle(ql.FlatForward(2, ql.TARGET(), 0.5, ql.Actual360()))\n",
    "engine = ql.DiscountingSwapEngine(yts)"
   ]
  },
  {
   "cell_type": "markdown",
   "id": "7a8a0c22-5efa-4faf-bd4d-fb8b6e3d00fd",
   "metadata": {},
   "source": [
    "## Swaption Pricing Engine ##"
   ]
  },
  {
   "cell_type": "code",
   "execution_count": 17,
   "id": "4e1523c0-4b3d-43d4-8f76-d0b2c3758dea",
   "metadata": {
    "tags": []
   },
   "outputs": [],
   "source": [
    "blackEngine = ql.BlackSwaptionEngine(yts, ql.QuoteHandle(ql.SimpleQuote(0.55)))\n",
    "blackEngine = ql.BlackSwaptionEngine(yts, ql.QuoteHandle(ql.SimpleQuote(0.55)), ql.ActualActual(ql.ActualActual.Historical))\n",
    "blackEngine = ql.BlackSwaptionEngine(yts, ql.QuoteHandle(ql.SimpleQuote(0.55)), ql.ActualActual(ql.ActualActual.Historical), 0.01)"
   ]
  },
  {
   "cell_type": "code",
   "execution_count": 19,
   "id": "9ef348a3-db84-4b2a-b1e6-3cd53ab3aabf",
   "metadata": {
    "tags": []
   },
   "outputs": [],
   "source": [
    "bachelierEngine = ql.BachelierSwaptionEngine(yts, ql.QuoteHandle(ql.SimpleQuote(0.0055)))\n",
    "#swaption.setPricingEngine(bachelierEngine)\n",
    "#swaption.NPV()"
   ]
  },
  {
   "cell_type": "code",
   "execution_count": 20,
   "id": "6b90d836-4a07-4a7e-a6e8-53c812ecac08",
   "metadata": {
    "tags": []
   },
   "outputs": [],
   "source": [
    "model = ql.G2(yts)\n",
    "engine = ql.FdG2SwaptionEngine(model)\n",
    "#swaption.setPricingEngine(engine)\n",
    "#swaption.NPV()"
   ]
  },
  {
   "cell_type": "code",
   "execution_count": 21,
   "id": "d4661e3e-77a1-4464-876c-8f924874575d",
   "metadata": {
    "tags": []
   },
   "outputs": [],
   "source": [
    "model = ql.G2(yts)\n",
    "g2Engine = ql.G2SwaptionEngine(model, 4, 4)\n",
    "#swaption.setPricingEngine(g2Engine)\n",
    "#swaption.NPV()"
   ]
  },
  {
   "cell_type": "code",
   "execution_count": 22,
   "id": "d4041c76-f65b-4849-87e9-1f62a6a3d705",
   "metadata": {
    "tags": []
   },
   "outputs": [],
   "source": [
    "model = ql.HullWhite(yts)\n",
    "engine = ql.JamshidianSwaptionEngine(model, yts)\n",
    "#swaption.setPricingEngine(g2Engine)\n",
    "#swaption.NPV()"
   ]
  },
  {
   "cell_type": "code",
   "execution_count": 23,
   "id": "99d60287-98e2-4ae9-8843-09889dec3270",
   "metadata": {
    "tags": []
   },
   "outputs": [],
   "source": [
    "model = ql.HullWhite(yts)\n",
    "engine = ql.TreeSwaptionEngine(model, 10)\n",
    "#swaption.setPricingEngine(g2Engine)\n",
    "#swaption.NPV()"
   ]
  },
  {
   "cell_type": "markdown",
   "id": "12b154ef-fe81-4b5d-88de-6c3cc9c7c223",
   "metadata": {},
   "source": [
    "## Credit Pricing Engines ##"
   ]
  },
  {
   "cell_type": "code",
   "execution_count": 24,
   "id": "84410014-e62e-4855-8a5b-3126169b9869",
   "metadata": {
    "tags": []
   },
   "outputs": [],
   "source": [
    "today = ql.Date().todaysDate()\n",
    "defaultProbability = ql.DefaultProbabilityTermStructureHandle(\n",
    "    ql.FlatHazardRate(today, ql.QuoteHandle(ql.SimpleQuote(0.01)), ql.Actual360())\n",
    ")\n",
    "yieldTermStructure = ql.YieldTermStructureHandle(ql.FlatForward(today, 0.05, ql.Actual360()))\n",
    "\n",
    "recoveryRate = 0.4\n",
    "engine = ql.IsdaCdsEngine(defaultProbability, recoveryRate, yieldTermStructure)"
   ]
  },
  {
   "cell_type": "code",
   "execution_count": 25,
   "id": "82ec74c8-2c6c-450d-bba8-f9cd3f473cbd",
   "metadata": {
    "tags": []
   },
   "outputs": [],
   "source": [
    "today = ql.Date().todaysDate()\n",
    "defaultProbability = ql.DefaultProbabilityTermStructureHandle(\n",
    "    ql.FlatHazardRate(today, ql.QuoteHandle(ql.SimpleQuote(0.01)), ql.Actual360())\n",
    ")\n",
    "yieldTermStructure = ql.YieldTermStructureHandle(ql.FlatForward(today, 0.05, ql.Actual360()))\n",
    "\n",
    "recoveryRate = 0.4\n",
    "engine = ql.MidPointCdsEngine(defaultProbability, recoveryRate, yieldTermStructure)"
   ]
  },
  {
   "cell_type": "code",
   "execution_count": 26,
   "id": "df28ce70-883c-40ad-8bae-4ebbf94bbddc",
   "metadata": {
    "tags": []
   },
   "outputs": [],
   "source": [
    "today = ql.Date().todaysDate()\n",
    "defaultProbability = ql.DefaultProbabilityTermStructureHandle(\n",
    "    ql.FlatHazardRate(today, ql.QuoteHandle(ql.SimpleQuote(0.01)), ql.Actual360())\n",
    ")\n",
    "yieldTermStructure = ql.YieldTermStructureHandle(ql.FlatForward(today, 0.05, ql.Actual360()))\n",
    "\n",
    "integralStep = ql.Period('1d')\n",
    "engine = ql.IntegralCdsEngine(integralStep, defaultProbability, 0.4, yieldTermStructure, includeSettlementDateFlows=False)"
   ]
  },
  {
   "cell_type": "code",
   "execution_count": 27,
   "id": "41f22a68-3b64-42eb-bd79-fa1c4c18f792",
   "metadata": {
    "tags": []
   },
   "outputs": [],
   "source": [
    "today = ql.Date().todaysDate()\n",
    "defaultProbability = ql.DefaultProbabilityTermStructureHandle(\n",
    "    ql.FlatHazardRate(today, ql.QuoteHandle(ql.SimpleQuote(0.01)), ql.Actual360())\n",
    ")\n",
    "yieldTermStructure = ql.YieldTermStructureHandle(ql.FlatForward(today, 0.05, ql.Actual360()))\n",
    "\n",
    "\n",
    "vol = ql.QuoteHandle(ql.SimpleQuote(0.2))\n",
    "engine = ql.BlackCdsOptionEngine(defaultProbability, 0.4, yieldTermStructure, vol)"
   ]
  },
  {
   "cell_type": "markdown",
   "id": "c0bbdc7e-7d9d-4da6-a7b9-b1332fef30df",
   "metadata": {},
   "source": [
    "## Option Pricing Engines ##"
   ]
  },
  {
   "cell_type": "code",
   "execution_count": 28,
   "id": "931dc392-c121-4b5e-9bb1-606f9b26a799",
   "metadata": {
    "tags": []
   },
   "outputs": [],
   "source": [
    "today = ql.Date().todaysDate()\n",
    "riskFreeTS = ql.YieldTermStructureHandle(ql.FlatForward(today, 0.05, ql.Actual365Fixed()))\n",
    "dividendTS = ql.YieldTermStructureHandle(ql.FlatForward(today, 0.01, ql.Actual365Fixed()))\n",
    "volatility = ql.BlackVolTermStructureHandle(ql.BlackConstantVol(today, ql.NullCalendar(), 0.1, ql.Actual365Fixed()))\n",
    "initialValue = ql.QuoteHandle(ql.SimpleQuote(100))\n",
    "process = ql.BlackScholesMertonProcess(initialValue, dividendTS, riskFreeTS, volatility)\n",
    "\n",
    "engine = ql.AnalyticEuropeanEngine(process)"
   ]
  },
  {
   "cell_type": "code",
   "execution_count": 29,
   "id": "1958f822-41a5-440b-9dab-b02765e52d30",
   "metadata": {
    "tags": []
   },
   "outputs": [],
   "source": [
    "today = ql.Date().todaysDate()\n",
    "riskFreeTS = ql.YieldTermStructureHandle(ql.FlatForward(today, 0.05, ql.Actual365Fixed()))\n",
    "dividendTS = ql.YieldTermStructureHandle(ql.FlatForward(today, 0.01, ql.Actual365Fixed()))\n",
    "volatility = ql.BlackVolTermStructureHandle(ql.BlackConstantVol(today, ql.NullCalendar(), 0.1, ql.Actual365Fixed()))\n",
    "initialValue = ql.QuoteHandle(ql.SimpleQuote(100))\n",
    "process = ql.BlackScholesMertonProcess(initialValue, dividendTS, riskFreeTS, volatility)\n",
    "\n",
    "steps = 2\n",
    "rng = \"pseudorandom\" # could use \"lowdiscrepancy\"\n",
    "numPaths = 100000\n",
    "\n",
    "engine = ql.MCEuropeanEngine(process, rng, steps, requiredSamples=numPaths)"
   ]
  },
  {
   "cell_type": "code",
   "execution_count": 30,
   "id": "52e2650c-94e1-41dd-b62a-9add7ce47f48",
   "metadata": {
    "tags": []
   },
   "outputs": [],
   "source": [
    "today = ql.Date().todaysDate()\n",
    "riskFreeTS = ql.YieldTermStructureHandle(ql.FlatForward(today, 0.05, ql.Actual365Fixed()))\n",
    "dividendTS = ql.YieldTermStructureHandle(ql.FlatForward(today, 0.01, ql.Actual365Fixed()))\n",
    "volatility = ql.BlackVolTermStructureHandle(ql.BlackConstantVol(today, ql.NullCalendar(), 0.1, ql.Actual365Fixed()))\n",
    "initialValue = ql.QuoteHandle(ql.SimpleQuote(100))\n",
    "process = ql.BlackScholesMertonProcess(initialValue, dividendTS, riskFreeTS, volatility)\n",
    "\n",
    "tGrid, xGrid = 2000, 200\n",
    "engine = ql.FdBlackScholesVanillaEngine(process, tGrid, xGrid)"
   ]
  },
  {
   "cell_type": "code",
   "execution_count": 31,
   "id": "010810b3-e81b-4b22-878a-db5d525fffec",
   "metadata": {
    "tags": []
   },
   "outputs": [],
   "source": [
    "today = ql.Date().todaysDate()\n",
    "riskFreeTS = ql.YieldTermStructureHandle(ql.FlatForward(today, 0.05, ql.Actual365Fixed()))\n",
    "dividendTS = ql.YieldTermStructureHandle(ql.FlatForward(today, 0.01, ql.Actual365Fixed()))\n",
    "volatility = ql.BlackVolTermStructureHandle(ql.BlackConstantVol(today, ql.NullCalendar(), 0.1, ql.Actual365Fixed()))\n",
    "initialValue = ql.QuoteHandle(ql.SimpleQuote(100))\n",
    "process = ql.BlackScholesMertonProcess(initialValue, dividendTS, riskFreeTS, volatility)\n",
    "\n",
    "steps = 200\n",
    "rng = \"pseudorandom\" # could use \"lowdiscrepancy\"\n",
    "numPaths = 100000\n",
    "\n",
    "engine = ql.MCAmericanEngine(process, rng, steps, requiredSamples=numPaths)"
   ]
  },
  {
   "cell_type": "code",
   "execution_count": 32,
   "id": "08b92a0f-82bc-4c1d-a532-610b9ce378d3",
   "metadata": {
    "tags": []
   },
   "outputs": [],
   "source": [
    "today = ql.Date().todaysDate()\n",
    "riskFreeTS = ql.YieldTermStructureHandle(ql.FlatForward(today, 0.05, ql.Actual365Fixed()))\n",
    "dividendTS = ql.YieldTermStructureHandle(ql.FlatForward(today, 0.01, ql.Actual365Fixed()))\n",
    "volatility = ql.BlackVolTermStructureHandle(ql.BlackConstantVol(today, ql.NullCalendar(), 0.1, ql.Actual365Fixed()))\n",
    "initialValue = ql.QuoteHandle(ql.SimpleQuote(100))\n",
    "process = ql.BlackScholesMertonProcess(initialValue, dividendTS, riskFreeTS, volatility)\n",
    "\n",
    "steps = 200\n",
    "rng = \"pseudorandom\" # could use \"lowdiscrepancy\"\n",
    "numPaths = 100000\n",
    "\n",
    "engine = ql.MCDigitalEngine(process, rng, steps, requiredSamples=numPaths)"
   ]
  },
  {
   "cell_type": "code",
   "execution_count": 33,
   "id": "a42524c6-4e0f-4994-9459-71705bae03ee",
   "metadata": {
    "tags": []
   },
   "outputs": [],
   "source": [
    "today = ql.Date().todaysDate()\n",
    "riskFreeTS = ql.YieldTermStructureHandle(ql.FlatForward(today, 0.05, ql.Actual365Fixed()))\n",
    "dividendTS = ql.YieldTermStructureHandle(ql.FlatForward(today, 0.01, ql.Actual365Fixed()))\n",
    "\n",
    "initialValue = ql.QuoteHandle(ql.SimpleQuote(100))\n",
    "v0 = 0.005\n",
    "kappa = 0.8\n",
    "theta = 0.008\n",
    "rho = 0.2\n",
    "sigma = 0.1\n",
    "\n",
    "hestonProcess = ql.HestonProcess(riskFreeTS, dividendTS, initialValue, v0, kappa, theta, sigma, rho)\n",
    "hestonModel = ql.HestonModel(hestonProcess)\n",
    "\n",
    "engine = ql.AnalyticHestonEngine(hestonModel)"
   ]
  },
  {
   "cell_type": "code",
   "execution_count": 34,
   "id": "a211904d-0da5-4fd3-887a-5287dc099d05",
   "metadata": {
    "tags": []
   },
   "outputs": [],
   "source": [
    "today = ql.Date().todaysDate()\n",
    "riskFreeTS = ql.YieldTermStructureHandle(ql.FlatForward(today, 0.05, ql.Actual365Fixed()))\n",
    "dividendTS = ql.YieldTermStructureHandle(ql.FlatForward(today, 0.01, ql.Actual365Fixed()))\n",
    "\n",
    "initialValue = ql.QuoteHandle(ql.SimpleQuote(100))\n",
    "v0 = 0.005\n",
    "kappa = 0.8\n",
    "theta = 0.008\n",
    "rho = 0.2\n",
    "sigma = 0.1\n",
    "\n",
    "hestonProcess = ql.HestonProcess(riskFreeTS, dividendTS, initialValue, v0, kappa, theta, sigma, rho)\n",
    "\n",
    "steps = 2\n",
    "rng = \"pseudorandom\" # could use \"lowdiscrepancy\"\n",
    "numPaths = 100000\n",
    "\n",
    "engine = ql.MCEuropeanHestonEngine(hestonProcess, rng, steps, requiredSamples=numPaths)"
   ]
  },
  {
   "cell_type": "code",
   "execution_count": 35,
   "id": "687d4867-73fe-4cdc-bad0-93445f9b77ac",
   "metadata": {
    "tags": []
   },
   "outputs": [],
   "source": [
    "today = ql.Date().todaysDate()\n",
    "riskFreeTS = ql.YieldTermStructureHandle(ql.FlatForward(today, 0.05, ql.Actual365Fixed()))\n",
    "dividendTS = ql.YieldTermStructureHandle(ql.FlatForward(today, 0.01, ql.Actual365Fixed()))\n",
    "\n",
    "initialValue = ql.QuoteHandle(ql.SimpleQuote(100))\n",
    "v0 = 0.005\n",
    "kappa = 0.8\n",
    "theta = 0.008\n",
    "rho = 0.2\n",
    "sigma = 0.1\n",
    "\n",
    "hestonProcess = ql.HestonProcess(riskFreeTS, dividendTS, initialValue, v0, kappa, theta, sigma, rho)\n",
    "hestonModel = ql.HestonModel(hestonProcess)\n",
    "\n",
    "tGrid, xGrid, vGrid = 100, 100, 50\n",
    "dampingSteps = 0\n",
    "fdScheme = ql.FdmSchemeDesc.ModifiedCraigSneyd()\n",
    "\n",
    "engine = ql.FdHestonVanillaEngine(hestonModel, tGrid, xGrid, vGrid, dampingSteps, fdScheme)"
   ]
  },
  {
   "cell_type": "code",
   "execution_count": 36,
   "id": "3cbc8791-d32b-4a67-bd31-f70e47d8242b",
   "metadata": {
    "tags": []
   },
   "outputs": [],
   "source": [
    "today = ql.Date().todaysDate()\n",
    "riskFreeTS = ql.YieldTermStructureHandle(ql.FlatForward(today, 0.05, ql.Actual365Fixed()))\n",
    "dividendTS = ql.YieldTermStructureHandle(ql.FlatForward(today, 0.01, ql.Actual365Fixed()))\n",
    "\n",
    "initialValue = ql.QuoteHandle(ql.SimpleQuote(100))\n",
    "\n",
    "times = [1.0, 2.0, 3.0]\n",
    "grid = ql.TimeGrid(times)\n",
    "\n",
    "v0 = 0.005\n",
    "theta = [0.010, 0.015, 0.02]\n",
    "kappa = [0.600, 0.500, 0.400]\n",
    "sigma = [0.400, 0.350, 0.300]\n",
    "rho = [-0.15, -0.10, -0.00]\n",
    "\n",
    "kappaTS = ql.PiecewiseConstantParameter(times[:-1], ql.PositiveConstraint())\n",
    "thetaTS = ql.PiecewiseConstantParameter(times[:-1], ql.PositiveConstraint())\n",
    "rhoTS = ql.PiecewiseConstantParameter(times[:-1], ql.BoundaryConstraint(-1.0, 1.0))\n",
    "sigmaTS = ql.PiecewiseConstantParameter(times[:-1], ql.PositiveConstraint())\n",
    "\n",
    "for i, time in enumerate(times):\n",
    "    kappaTS.setParam(i, kappa[i])\n",
    "    thetaTS.setParam(i, theta[i])\n",
    "    rhoTS.setParam(i, rho[i])\n",
    "    sigmaTS.setParam(i, sigma[i])\n",
    "\n",
    "hestonModelPTD = ql.PiecewiseTimeDependentHestonModel(riskFreeTS, dividendTS, initialValue, v0, thetaTS, kappaTS, sigmaTS, rhoTS, grid)\n",
    "engine = ql.AnalyticPTDHestonEngine(hestonModelPTD)"
   ]
  },
  {
   "cell_type": "code",
   "execution_count": 37,
   "id": "0fe47dea-d807-4b38-a998-aeaabc6e37da",
   "metadata": {
    "tags": []
   },
   "outputs": [],
   "source": [
    "today = ql.Date().todaysDate()\n",
    "riskFreeTS = ql.YieldTermStructureHandle(ql.FlatForward(today, 0.05, ql.Actual365Fixed()))\n",
    "dividendTS = ql.YieldTermStructureHandle(ql.FlatForward(today, 0.01, ql.Actual365Fixed()))\n",
    "volatility = ql.BlackVolTermStructureHandle(ql.BlackConstantVol(today, ql.NullCalendar(), 0.1, ql.Actual365Fixed()))\n",
    "initialValue = ql.QuoteHandle(ql.SimpleQuote(100))\n",
    "process = ql.BlackScholesMertonProcess(initialValue, dividendTS, riskFreeTS, volatility)\n",
    "\n",
    "engine = ql.AnalyticDiscreteGeometricAveragePriceAsianEngine(process)"
   ]
  },
  {
   "cell_type": "code",
   "execution_count": 38,
   "id": "fc5e6d64-2658-4d29-b85d-5395ac19026c",
   "metadata": {
    "tags": []
   },
   "outputs": [],
   "source": [
    "today = ql.Date().todaysDate()\n",
    "riskFreeTS = ql.YieldTermStructureHandle(ql.FlatForward(today, 0.05, ql.Actual365Fixed()))\n",
    "dividendTS = ql.YieldTermStructureHandle(ql.FlatForward(today, 0.01, ql.Actual365Fixed()))\n",
    "volatility = ql.BlackVolTermStructureHandle(ql.BlackConstantVol(today, ql.NullCalendar(), 0.1, ql.Actual365Fixed()))\n",
    "initialValue = ql.QuoteHandle(ql.SimpleQuote(100))\n",
    "process = ql.BlackScholesMertonProcess(initialValue, dividendTS, riskFreeTS, volatility)\n",
    "\n",
    "engine = ql.AnalyticContinuousGeometricAveragePriceAsianEngine(process)"
   ]
  },
  {
   "cell_type": "code",
   "execution_count": 39,
   "id": "d5848b5d-88ba-43b0-82b6-196756c8fb1d",
   "metadata": {
    "tags": []
   },
   "outputs": [],
   "source": [
    "today = ql.Date().todaysDate()\n",
    "riskFreeTS = ql.YieldTermStructureHandle(ql.FlatForward(today, 0.05, ql.Actual365Fixed()))\n",
    "dividendTS = ql.YieldTermStructureHandle(ql.FlatForward(today, 0.01, ql.Actual365Fixed()))\n",
    "volatility = ql.BlackVolTermStructureHandle(ql.BlackConstantVol(today, ql.NullCalendar(), 0.1, ql.Actual365Fixed()))\n",
    "initialValue = ql.QuoteHandle(ql.SimpleQuote(100))\n",
    "process = ql.BlackScholesMertonProcess(initialValue, dividendTS, riskFreeTS, volatility)\n",
    "\n",
    "rng = \"pseudorandom\" # could use \"lowdiscrepancy\"\n",
    "numPaths = 100000\n",
    "\n",
    "engine = ql.MCDiscreteGeometricAPEngine(process, rng, requiredSamples=numPaths)"
   ]
  },
  {
   "cell_type": "code",
   "execution_count": 40,
   "id": "a87b6ab8-eb2a-4af8-8ea9-f0d556076f2a",
   "metadata": {
    "tags": []
   },
   "outputs": [],
   "source": [
    "today = ql.Date().todaysDate()\n",
    "riskFreeTS = ql.YieldTermStructureHandle(ql.FlatForward(today, 0.05, ql.Actual365Fixed()))\n",
    "dividendTS = ql.YieldTermStructureHandle(ql.FlatForward(today, 0.01, ql.Actual365Fixed()))\n",
    "volatility = ql.BlackVolTermStructureHandle(ql.BlackConstantVol(today, ql.NullCalendar(), 0.1, ql.Actual365Fixed()))\n",
    "initialValue = ql.QuoteHandle(ql.SimpleQuote(100))\n",
    "process = ql.BlackScholesMertonProcess(initialValue, dividendTS, riskFreeTS, volatility)\n",
    "\n",
    "rng = \"pseudorandom\" # could use \"lowdiscrepancy\"\n",
    "numPaths = 100000\n",
    "\n",
    "engine = ql.MCDiscreteArithmeticAPEngine(process, rng, requiredSamples=numPaths)"
   ]
  },
  {
   "cell_type": "code",
   "execution_count": 41,
   "id": "f031f00c-d4b8-4217-af01-b089e8656e23",
   "metadata": {
    "tags": []
   },
   "outputs": [],
   "source": [
    "today = ql.Date().todaysDate()\n",
    "riskFreeTS = ql.YieldTermStructureHandle(ql.FlatForward(today, 0.05, ql.Actual365Fixed()))\n",
    "dividendTS = ql.YieldTermStructureHandle(ql.FlatForward(today, 0.01, ql.Actual365Fixed()))\n",
    "volatility = ql.BlackVolTermStructureHandle(ql.BlackConstantVol(today, ql.NullCalendar(), 0.1, ql.Actual365Fixed()))\n",
    "initialValue = ql.QuoteHandle(ql.SimpleQuote(100))\n",
    "process = ql.BlackScholesMertonProcess(initialValue, dividendTS, riskFreeTS, volatility)\n",
    "\n",
    "tGrid, xGrid, aGrid = 100, 100, 50\n",
    "engine = ql.FdBlackScholesAsianEngine(process, tGrid=tGrid, xGrid=xGrid, aGrid=aGrid)"
   ]
  },
  {
   "cell_type": "code",
   "execution_count": 42,
   "id": "886fe7ba-43f9-450e-bf34-1e88efc352c1",
   "metadata": {
    "tags": []
   },
   "outputs": [],
   "source": [
    "today = ql.Date().todaysDate()\n",
    "riskFreeTS = ql.YieldTermStructureHandle(ql.FlatForward(today, 0.05, ql.Actual365Fixed()))\n",
    "dividendTS = ql.YieldTermStructureHandle(ql.FlatForward(today, 0.01, ql.Actual365Fixed()))\n",
    "initialValue = ql.QuoteHandle(ql.SimpleQuote(100))\n",
    "\n",
    "v0, kappa, theta, rho, sigma = 0.005, 0.8, 0.008, 0.2, 0.1\n",
    "hestonProcess = ql.HestonProcess(riskFreeTS, dividendTS, initialValue, v0, kappa, theta, sigma, rho)\n",
    "\n",
    "engine = ql.AnalyticDiscreteGeometricAveragePriceAsianHestonEngine(hestonProcess)"
   ]
  },
  {
   "cell_type": "code",
   "execution_count": 43,
   "id": "a6b13d98-77e2-4c50-8630-49885885ab44",
   "metadata": {
    "tags": []
   },
   "outputs": [],
   "source": [
    "today = ql.Date().todaysDate()\n",
    "riskFreeTS = ql.YieldTermStructureHandle(ql.FlatForward(today, 0.05, ql.Actual365Fixed()))\n",
    "dividendTS = ql.YieldTermStructureHandle(ql.FlatForward(today, 0.01, ql.Actual365Fixed()))\n",
    "initialValue = ql.QuoteHandle(ql.SimpleQuote(100))\n",
    "\n",
    "v0, kappa, theta, rho, sigma = 0.005, 0.8, 0.008, 0.2, 0.1\n",
    "hestonProcess = ql.HestonProcess(riskFreeTS, dividendTS, initialValue, v0, kappa, theta, sigma, rho)\n",
    "\n",
    "engine = ql.AnalyticContinuousGeometricAveragePriceAsianHestonEngine(hestonProcess)"
   ]
  },
  {
   "cell_type": "code",
   "execution_count": 44,
   "id": "f02b2b89-7891-44fe-9cd8-293ea65fb06f",
   "metadata": {
    "tags": []
   },
   "outputs": [],
   "source": [
    "today = ql.Date().todaysDate()\n",
    "riskFreeTS = ql.YieldTermStructureHandle(ql.FlatForward(today, 0.05, ql.Actual365Fixed()))\n",
    "dividendTS = ql.YieldTermStructureHandle(ql.FlatForward(today, 0.01, ql.Actual365Fixed()))\n",
    "initialValue = ql.QuoteHandle(ql.SimpleQuote(100))\n",
    "\n",
    "v0, kappa, theta, rho, sigma = 0.005, 0.8, 0.008, 0.2, 0.1\n",
    "hestonProcess = ql.HestonProcess(riskFreeTS, dividendTS, initialValue, v0, kappa, theta, sigma, rho)\n",
    "\n",
    "rng = \"pseudorandom\" # could use \"lowdiscrepancy\"\n",
    "numPaths = 100000\n",
    "\n",
    "engine = ql.MCDiscreteGeometricAPHestonEngine(hestonProcess, rng, requiredSamples=numPaths)"
   ]
  },
  {
   "cell_type": "code",
   "execution_count": 45,
   "id": "686f9bca-6c51-4691-9239-a3c96876ef42",
   "metadata": {
    "tags": []
   },
   "outputs": [],
   "source": [
    "today = ql.Date().todaysDate()\n",
    "riskFreeTS = ql.YieldTermStructureHandle(ql.FlatForward(today, 0.05, ql.Actual365Fixed()))\n",
    "dividendTS = ql.YieldTermStructureHandle(ql.FlatForward(today, 0.01, ql.Actual365Fixed()))\n",
    "initialValue = ql.QuoteHandle(ql.SimpleQuote(100))\n",
    "\n",
    "v0, kappa, theta, rho, sigma = 0.005, 0.8, 0.008, 0.2, 0.1\n",
    "hestonProcess = ql.HestonProcess(riskFreeTS, dividendTS, initialValue, v0, kappa, theta, sigma, rho)\n",
    "\n",
    "rng = \"pseudorandom\" # could use \"lowdiscrepancy\"\n",
    "numPaths = 100000\n",
    "\n",
    "engine = ql.MCDiscreteArithmeticAPHestonEngine(hestonProcess, rng, requiredSamples=numPaths)"
   ]
  },
  {
   "cell_type": "code",
   "execution_count": 46,
   "id": "e7fc39c3-7d5b-4062-badb-920f3dca19c7",
   "metadata": {
    "tags": []
   },
   "outputs": [],
   "source": [
    "today = ql.Date().todaysDate()\n",
    "riskFreeTS = ql.YieldTermStructureHandle(ql.FlatForward(today, 0.05, ql.Actual365Fixed()))\n",
    "dividendTS = ql.YieldTermStructureHandle(ql.FlatForward(today, 0.01, ql.Actual365Fixed()))\n",
    "volatility = ql.BlackVolTermStructureHandle(ql.BlackConstantVol(today, ql.NullCalendar(), 0.1, ql.Actual365Fixed()))\n",
    "initialValue = ql.QuoteHandle(ql.SimpleQuote(100))\n",
    "process = ql.BlackScholesMertonProcess(initialValue, dividendTS, riskFreeTS, volatility)\n",
    "\n",
    "engine = ql.TurnbullWakemanAsianEngine(process)"
   ]
  },
  {
   "cell_type": "code",
   "execution_count": 48,
   "id": "fded8c35-e6b4-4a0e-9714-da6dbb7ca474",
   "metadata": {
    "tags": []
   },
   "outputs": [],
   "source": [
    "today = ql.Date().todaysDate()\n",
    "\n",
    "spotHandle = ql.QuoteHandle(ql.SimpleQuote(100))\n",
    "flatRateTs = ql.YieldTermStructureHandle(ql.FlatForward(today, 0.05, ql.Actual365Fixed()))\n",
    "flatVolTs = ql.BlackVolTermStructureHandle(ql.BlackConstantVol(today, ql.UnitedStates(ql.UnitedStates.NYSE), 0.2, ql.Actual365Fixed()))\n",
    "bsm = ql.BlackScholesProcess(spotHandle, flatRateTs, flatVolTs)\n",
    "\n",
    "binomialBarrierEngine = ql.BinomialBarrierEngine(bsm, 'crr', 200)"
   ]
  },
  {
   "cell_type": "code",
   "execution_count": 49,
   "id": "81749879-acfe-4e4e-90d4-ea064bdb2940",
   "metadata": {
    "tags": []
   },
   "outputs": [],
   "source": [
    "today = ql.Date().todaysDate()\n",
    "\n",
    "spotHandle = ql.QuoteHandle(ql.SimpleQuote(100))\n",
    "flatRateTs = ql.YieldTermStructureHandle(ql.FlatForward(today, 0.05, ql.Actual365Fixed()))\n",
    "flatVolTs = ql.BlackVolTermStructureHandle(ql.BlackConstantVol(today, ql.UnitedStates(ql.UnitedStates.NYSE), 0.2, ql.Actual365Fixed()))\n",
    "bsm = ql.BlackScholesProcess(spotHandle, flatRateTs, flatVolTs)\n",
    "\n",
    "analyticBarrierEngine = ql.AnalyticBarrierEngine(bsm)"
   ]
  },
  {
   "cell_type": "code",
   "execution_count": 50,
   "id": "2b95260d-356c-4106-a056-205e534c4ee9",
   "metadata": {
    "tags": []
   },
   "outputs": [],
   "source": [
    "today = ql.Date().todaysDate()\n",
    "\n",
    "spotHandle = ql.QuoteHandle(ql.SimpleQuote(100))\n",
    "flatRateTs = ql.YieldTermStructureHandle(ql.FlatForward(today, 0.05, ql.Actual365Fixed()))\n",
    "flatVolTs = ql.BlackVolTermStructureHandle(ql.BlackConstantVol(today, ql.UnitedStates(ql.UnitedStates.NYSE), 0.2, ql.Actual365Fixed()))\n",
    "bsm = ql.BlackScholesProcess(spotHandle, flatRateTs, flatVolTs)\n",
    "\n",
    "fdBarrierEngine = ql.FdBlackScholesBarrierEngine(bsm)"
   ]
  },
  {
   "cell_type": "code",
   "execution_count": 51,
   "id": "e7d0f64b-3d3f-4c8c-8916-5b337d09545f",
   "metadata": {
    "tags": []
   },
   "outputs": [],
   "source": [
    "today = ql.Date().todaysDate()\n",
    "\n",
    "spotHandle = ql.QuoteHandle(ql.SimpleQuote(100))\n",
    "flatRateTs = ql.YieldTermStructureHandle(ql.FlatForward(today, 0.05, ql.Actual365Fixed()))\n",
    "flatVolTs = ql.BlackVolTermStructureHandle(ql.BlackConstantVol(today, ql.UnitedStates(ql.UnitedStates.NYSE), 0.2, ql.Actual365Fixed()))\n",
    "bsm = ql.BlackScholesProcess(spotHandle, flatRateTs, flatVolTs)\n",
    "\n",
    "fdRebateEngine = ql.FdBlackScholesRebateEngine(bsm)"
   ]
  },
  {
   "cell_type": "code",
   "execution_count": 53,
   "id": "dab05ffa-88b3-462f-a06d-84fec3007035",
   "metadata": {
    "tags": []
   },
   "outputs": [],
   "source": [
    "today = ql.Date().todaysDate()\n",
    "\n",
    "spotHandle = ql.QuoteHandle(ql.SimpleQuote(100))\n",
    "flatRateTs = ql.YieldTermStructureHandle(ql.FlatForward(today, 0.05, ql.Actual365Fixed()))\n",
    "flatVolTs = ql.BlackVolTermStructureHandle(ql.BlackConstantVol(today, ql.UnitedStates(ql.UnitedStates.NYSE), 0.2, ql.Actual365Fixed()))\n",
    "bsm = ql.BlackScholesProcess(spotHandle, flatRateTs, flatVolTs)\n",
    "\n",
    "analyticBinaryBarrierEngine = ql.AnalyticBinaryBarrierEngine(bsm)"
   ]
  },
  {
   "cell_type": "code",
   "execution_count": 54,
   "id": "7b5069c5-fc50-4ed8-a043-d19e6015c065",
   "metadata": {
    "tags": []
   },
   "outputs": [],
   "source": [
    "today = ql.Date().todaysDate()\n",
    "\n",
    "spotHandle = ql.QuoteHandle(ql.SimpleQuote(100))\n",
    "flatRateTs = ql.YieldTermStructureHandle(ql.FlatForward(today, 0.05, ql.Actual365Fixed()))\n",
    "flatDividendTs = ql.YieldTermStructureHandle(ql.FlatForward(today, 0.05, ql.Actual365Fixed()))\n",
    "\n",
    "v0, kappa, theta, sigma, rho = 0.01, 2.0, 0.01, 0.01, 0.0\n",
    "hestonProcess = ql.HestonProcess(flatRateTs, flatDividendTs, spotHandle, v0, kappa, theta, sigma, rho)\n",
    "hestonModel = ql.HestonModel(hestonProcess)\n",
    "\n",
    "hestonBarrierEngine = ql.FdHestonBarrierEngine(hestonModel)"
   ]
  },
  {
   "cell_type": "code",
   "execution_count": 55,
   "id": "5d81767a-f741-4899-a2cd-387cc0285880",
   "metadata": {
    "tags": []
   },
   "outputs": [],
   "source": [
    "today = ql.Date().todaysDate()\n",
    "\n",
    "spotHandle = ql.QuoteHandle(ql.SimpleQuote(100))\n",
    "flatRateTs = ql.YieldTermStructureHandle(ql.FlatForward(today, 0.05, ql.Actual365Fixed()))\n",
    "flatVolTs = ql.BlackVolTermStructureHandle(ql.BlackConstantVol(today, ql.UnitedStates(ql.UnitedStates.NYSE), 0.2, ql.Actual365Fixed()))\n",
    "bsm = ql.BlackScholesProcess(spotHandle, flatRateTs, flatVolTs)\n",
    "\n",
    "analyticDoubleBarrierEngine = ql.AnalyticDoubleBarrierEngine(bsm)"
   ]
  },
  {
   "cell_type": "code",
   "execution_count": 56,
   "id": "9023ffba-aa08-48aa-9be6-fc8664fc0bea",
   "metadata": {
    "tags": []
   },
   "outputs": [],
   "source": [
    "today = ql.Date().todaysDate()\n",
    "\n",
    "spotHandle = ql.QuoteHandle(ql.SimpleQuote(100))\n",
    "flatRateTs = ql.YieldTermStructureHandle(ql.FlatForward(today, 0.05, ql.Actual365Fixed()))\n",
    "flatVolTs = ql.BlackVolTermStructureHandle(ql.BlackConstantVol(today, ql.UnitedStates(ql.UnitedStates.NYSE), 0.2, ql.Actual365Fixed()))\n",
    "bsm = ql.BlackScholesProcess(spotHandle, flatRateTs, flatVolTs)\n",
    "\n",
    "analyticDoubleBinaryBarrierEngine = ql.AnalyticDoubleBarrierBinaryEngine(bsm)"
   ]
  },
  {
   "cell_type": "code",
   "execution_count": 57,
   "id": "5e4b1293-1ede-4d42-b217-6362bf3388e1",
   "metadata": {
    "tags": []
   },
   "outputs": [],
   "source": [
    "today = ql.Date().todaysDate()\n",
    "\n",
    "spotHandle = ql.QuoteHandle(ql.SimpleQuote(100))\n",
    "flatRateTs = ql.YieldTermStructureHandle(ql.FlatForward(today, 0.05, ql.Actual365Fixed()))\n",
    "flatDividendTs = ql.YieldTermStructureHandle(ql.FlatForward(today, 0.05, ql.Actual365Fixed()))\n",
    "\n",
    "v0, kappa, theta, sigma, rho = 0.01, 2.0, 0.01, 0.01, 0.0\n",
    "hestonProcess = ql.HestonProcess(flatRateTs, flatDividendTs, spotHandle, v0, kappa, theta, sigma, rho)\n",
    "hestonModel = ql.HestonModel(hestonProcess)\n",
    "\n",
    "hestonDoubleBarrierEngine = ql.FdHestonDoubleBarrierEngine(hestonModel)"
   ]
  },
  {
   "cell_type": "code",
   "execution_count": 58,
   "id": "d81c6272-e63f-4b8c-ada1-6b9a0896ebca",
   "metadata": {
    "tags": []
   },
   "outputs": [],
   "source": [
    "# Create a StochasticProcessArray for the various underlyings\n",
    "underlying_spots = [100., 100., 100., 100., 100.]\n",
    "underlying_vols = [0.1, 0.12, 0.13, 0.09, 0.11]\n",
    "underlying_corr_mat = [[1, 0.1, -0.1, 0, 0], [0.1, 1, 0, 0, 0.2], [-0.1, 0, 1, 0, 0], [0, 0, 0, 1, 0.15], [0, 0.2, 0, 0.15, 1]]\n",
    "\n",
    "today = ql.Date().todaysDate()\n",
    "day_count = ql.Actual365Fixed()\n",
    "calendar = ql.NullCalendar()\n",
    "\n",
    "riskFreeTS = ql.YieldTermStructureHandle(ql.FlatForward(today, 0.0, day_count))\n",
    "dividendTS = ql.YieldTermStructureHandle(ql.FlatForward(today, 0.0, day_count))\n",
    "\n",
    "processes = [ql.BlackScholesMertonProcess(ql.QuoteHandle(ql.SimpleQuote(x)),\n",
    "                                          dividendTS,\n",
    "                                          riskFreeTS,\n",
    "                                          ql.BlackVolTermStructureHandle(ql.BlackConstantVol(today, calendar, y, day_count)))\n",
    "             for x, y in zip(underlying_spots, underlying_vols)]\n",
    "\n",
    "multiProcess = ql.StochasticProcessArray(processes, underlying_corr_mat)\n",
    "\n",
    "# Create the pricing engine\n",
    "rng = \"pseudorandom\"\n",
    "numSteps = 500000\n",
    "stepsPerYear = 1\n",
    "seed = 43\n",
    "\n",
    "engine = ql.MCEuropeanBasketEngine(multiProcess, rng, timeStepsPerYear=stepsPerYear, requiredSamples=numSteps, seed=seed)"
   ]
  },
  {
   "cell_type": "code",
   "execution_count": 59,
   "id": "db5306ee-3a13-4f5e-a620-5eb4c99018a9",
   "metadata": {
    "tags": []
   },
   "outputs": [],
   "source": [
    "today = ql.Date().todaysDate()\n",
    "riskFreeTS = ql.YieldTermStructureHandle(ql.FlatForward(today, 0.05, ql.Actual365Fixed()))\n",
    "dividendTS = ql.YieldTermStructureHandle(ql.FlatForward(today, 0.01, ql.Actual365Fixed()))\n",
    "volatility = ql.BlackVolTermStructureHandle(ql.BlackConstantVol(today, ql.NullCalendar(), 0.1, ql.Actual365Fixed()))\n",
    "initialValue = ql.QuoteHandle(ql.SimpleQuote(100))\n",
    "process = ql.BlackScholesMertonProcess(initialValue, dividendTS, riskFreeTS, volatility)\n",
    "\n",
    "engine = ql.ForwardEuropeanEngine(process)"
   ]
  },
  {
   "cell_type": "code",
   "execution_count": 60,
   "id": "b7a5cb48-5714-42b3-9d0a-07dd36f43320",
   "metadata": {
    "tags": []
   },
   "outputs": [],
   "source": [
    "today = ql.Date().todaysDate()\n",
    "riskFreeTS = ql.YieldTermStructureHandle(ql.FlatForward(today, 0.05, ql.Actual365Fixed()))\n",
    "dividendTS = ql.YieldTermStructureHandle(ql.FlatForward(today, 0.01, ql.Actual365Fixed()))\n",
    "volatility = ql.BlackVolTermStructureHandle(ql.BlackConstantVol(today, ql.NullCalendar(), 0.1, ql.Actual365Fixed()))\n",
    "initialValue = ql.QuoteHandle(ql.SimpleQuote(100))\n",
    "\n",
    "process = ql.BlackScholesMertonProcess(initialValue, dividendTS, riskFreeTS, volatility)\n",
    "\n",
    "rng = \"pseudorandom\" # could use \"lowdiscrepancy\"\n",
    "numPaths = 100000\n",
    "\n",
    "engine = ql.MCForwardEuropeanBSEngine(process, rng, timeStepsPerYear=12, requiredSamples=numPaths)"
   ]
  },
  {
   "cell_type": "code",
   "execution_count": 61,
   "id": "6c60bc78-265a-4210-97cc-f5fd28bcb3a9",
   "metadata": {
    "tags": []
   },
   "outputs": [],
   "source": [
    "today = ql.Date().todaysDate()\n",
    "riskFreeTS = ql.YieldTermStructureHandle(ql.FlatForward(today, 0.05, ql.Actual365Fixed()))\n",
    "dividendTS = ql.YieldTermStructureHandle(ql.FlatForward(today, 0.01, ql.Actual365Fixed()))\n",
    "initialValue = ql.QuoteHandle(ql.SimpleQuote(100))\n",
    "\n",
    "v0, kappa, theta, rho, sigma = 0.005, 0.8, 0.008, 0.2, 0.2\n",
    "hestonProcess = ql.HestonProcess(riskFreeTS, dividendTS, initialValue, v0, kappa, theta, sigma, rho)\n",
    "\n",
    "engine = ql.AnalyticHestonForwardEuropeanEngine(hestonProcess)"
   ]
  },
  {
   "cell_type": "code",
   "execution_count": 62,
   "id": "ad262199-1940-4cc6-aa80-c3c56928209c",
   "metadata": {
    "tags": []
   },
   "outputs": [],
   "source": [
    "today = ql.Date().todaysDate()\n",
    "riskFreeTS = ql.YieldTermStructureHandle(ql.FlatForward(today, 0.05, ql.Actual365Fixed()))\n",
    "dividendTS = ql.YieldTermStructureHandle(ql.FlatForward(today, 0.01, ql.Actual365Fixed()))\n",
    "initialValue = ql.QuoteHandle(ql.SimpleQuote(100))\n",
    "\n",
    "v0, kappa, theta, rho, sigma = 0.005, 0.8, 0.008, 0.2, 0.2\n",
    "hestonProcess = ql.HestonProcess(riskFreeTS, dividendTS, initialValue, v0, kappa, theta, sigma, rho)\n",
    "\n",
    "rng = \"pseudorandom\" # could use \"lowdiscrepancy\"\n",
    "numPaths = 100000\n",
    "\n",
    "engine = ql.MCForwardEuropeanHestonEngine(hestonProcess, rng, timeStepsPerYear=12, requiredSamples=numPaths)"
   ]
  },
  {
   "cell_type": "code",
   "execution_count": null,
   "id": "7da4ad04-26a1-4f83-8e9b-86cd6a4517b9",
   "metadata": {},
   "outputs": [],
   "source": []
  }
 ],
 "metadata": {
  "kernelspec": {
   "display_name": "Python 3 (ipykernel)",
   "language": "python",
   "name": "python3"
  },
  "language_info": {
   "codemirror_mode": {
    "name": "ipython",
    "version": 3
   },
   "file_extension": ".py",
   "mimetype": "text/x-python",
   "name": "python",
   "nbconvert_exporter": "python",
   "pygments_lexer": "ipython3",
   "version": "3.10.8"
  },
  "widgets": {
   "application/vnd.jupyter.widget-state+json": {
    "state": {},
    "version_major": 2,
    "version_minor": 0
   }
  }
 },
 "nbformat": 4,
 "nbformat_minor": 5
}
